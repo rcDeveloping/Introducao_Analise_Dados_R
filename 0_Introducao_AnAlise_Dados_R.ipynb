{
 "cells": [
  {
   "cell_type": "markdown",
   "id": "35c12fdf",
   "metadata": {},
   "source": [
    "<h1 align=\"center\">Introdução à Análise de Dados com Linguagem R</h1>\n",
    "<p align=\"justify\">Este curso de introdução à linguagem de programação R se destina à capacitação de analistas ambientais no Núcleo de Biodiversidade do IBAMA no estado Pará, visando análise exploratória e visualização de dados ambientais</p>\n",
    "<p align=\"justify\">Neste o aluno dominará os conceitos básicos de codificação visando análise de dados. Existem milhões de usuários de R em todo o mundo, consolidando-a como uma linguagem de programação líder em estatística e ciência de dados.</p>"
   ]
  },
  {
   "cell_type": "markdown",
   "id": "213e885e",
   "metadata": {},
   "source": [
    "## 1. [Introdução à Linguagem R](http://localhost:8888/notebooks/Introducao_Analise_Dados_R/1_Introducao_Linguagem_R.ipynb)\n",
    "### 1.2 Apresentação da Linguagem R e IDE RStudio\n",
    "O aluno se familiarizá com a liguagem através do Ambiente de desenvolvimento integrado (IDE) _RStudio_. Aprenderá funções básicas da própria linguagem e instalação de pacotes e obtenção de ajuda na IDE.\n",
    "\n",
    "### 1.3 Operadores Aritméticos e de Atribuição em R\n",
    "Será demonstrado o uso dos operadores de atribuições à objetos R, operadores aritméticos e aplicação das principais funções nativas do R para operações aritméticas.\n",
    "\n",
    "* Soma, Divisão, Multiplicação, Divisão Inteira, Resto da Divisão\n",
    "* Raízes e logarítmos\n",
    " \n",
    "### 1.4 Estrutura de Dados em R\n",
    "Neste capítulo serão abordados os diferentes tipos de estrutura de dados em R, a saber: vetor, matriz, lista, fator e _dataframe_.\n",
    "\n",
    "* Vetores\n",
    "\t* Tipos: vetor numérico, Vetor lógico e Vetor de caracteres\n",
    "\t* Operações com vetores\n",
    "\t* Funções aplicadas: `class()`, `length()`, `attributes()`, `names()`, `setNames()`, `mean`, `max`, `min`, `seq()`, `rep()`, `any()`, `all()`, `head()`, `tail()`, `is.na()` etc...\n",
    "\t* Coerção de vetores\n",
    "  \n",
    "  \n",
    "* Manipulação de Matrizes\n",
    " * Funções aplicadas: `dimnames()`, `apply()`\n",
    "\n",
    "* Manipulação de Listas\n",
    "    * Funções aplicadas: `lapply()`, `sapply()`, `mapply()`\n",
    "* Criação de Dataframes\n",
    "\n",
    "### 1.5 Estudo de Caso\n",
    "O objetivo do capítulo 1 será a análise de udois vetores, sendo um de inventário florestal e outro de dados meteorológicos, o qual servirá para geração do seguinte produto gráfico:\n",
    "\n",
    "![](grafico_precipitacao.png)\n",
    "\n",
    "### 1.6 Estruturas de Repetição\n",
    "O aluno irá se familiarizar com as estruturas de repetição (_Loop_): _for_ e _while_ para iterar sobre vetores e variáveis de um conjunto de dados.\n",
    "\n",
    "### 1.7 Funções em R\n",
    "Será apresentado uma introdução à sintax para criação de função em R para automatizar rotinas na manipulação de dados."
   ]
  },
  {
   "cell_type": "markdown",
   "id": "ef6121fe",
   "metadata": {},
   "source": [
    "## 2. Introdução à Importação de Dados em R\n",
    "### 2.1 Importação de dados no formato csv, tsv e txt\n",
    "O aluno aprenderá como importar dados nos principais formatos de arquivos utilizados para armanezar conjutos de dados\n",
    "### 2.2 Estatística Descritiva de Dados\n",
    "Será apresentado ao aluno a função `summary()`, utilizada para obteção de estatística descritiva de dados."
   ]
  },
  {
   "cell_type": "markdown",
   "id": "59623624",
   "metadata": {},
   "source": [
    "## 3. Manipulação de Dados\n",
    "Neste módulo o aluno dominará habilidades para manipulação de dataframes utilizando apenas comandos R e os principais verbos do pacote `dplyr`, a saber: _select_, _group_by_, _filter_, _arrange_ e _mutate_.\n",
    "\n",
    "### Exportação de Dados\n",
    "\n",
    "### Limpeza de Dados\n",
    "\n",
    "### Joining Data"
   ]
  },
  {
   "cell_type": "markdown",
   "id": "9980f0aa",
   "metadata": {},
   "source": [
    "## Módulo 4 - Introdução à Visualização Gráfica de Dados\n",
    "Neste módulo o aluno aprenderá que tipo de gráfico utilizar de acordo com o tipo de variáveis de seu conjunto de dados. Será utilizado o pacote _`ggplot2`_ para geração e interpretação de gráficos do tipo:\n",
    "\n",
    "* _Boxplot_\n",
    " \n",
    "* _Histogram_\n",
    "\n",
    "* _Scatterplot_\n",
    " \n",
    "* _Barplot_\n",
    " \n",
    "* _Lineplot_"
   ]
  },
  {
   "cell_type": "markdown",
   "id": "fd18e281",
   "metadata": {},
   "source": [
    "## Módulo 5 - Geração de Relatório de Dados\n",
    "<p style=\"text-align:justify;\">Neste módulo o aluno dominará as técnicas necessárias para gerar um relatório a partir da análise de dados, disponibilizando-o nos formartos <i>.pdf</i> e <i>.html</i>, visando compartilhamento <em>online</em>. Para tal se fará uso da linguagem de marcação de texto <mark style=\"background-color:lightgrey;\">Markdown</mark>.</p>"
   ]
  },
  {
   "cell_type": "code",
   "execution_count": null,
   "id": "d4b09257",
   "metadata": {},
   "outputs": [],
   "source": []
  }
 ],
 "metadata": {
  "kernelspec": {
   "display_name": "R",
   "language": "R",
   "name": "ir"
  },
  "language_info": {
   "codemirror_mode": "r",
   "file_extension": ".r",
   "mimetype": "text/x-r-source",
   "name": "R",
   "pygments_lexer": "r",
   "version": "4.2.0"
  }
 },
 "nbformat": 4,
 "nbformat_minor": 5
}
