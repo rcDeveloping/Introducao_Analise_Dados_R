{
 "cells": [
  {
   "cell_type": "markdown",
   "id": "f2f21ca3",
   "metadata": {},
   "source": [
    "## Exercício Prático - Instalar e Carregar Pacotes"
   ]
  },
  {
   "cell_type": "code",
   "execution_count": null,
   "id": "fb007a7e",
   "metadata": {},
   "outputs": [],
   "source": [
    "# Instalar o pacote dplyr\n",
    "install.packages(\"dplyr\")"
   ]
  },
  {
   "cell_type": "markdown",
   "id": "d7d3ce72",
   "metadata": {},
   "source": [
    "![](./output/RStudio.PNG)\n",
    "\n",
    "1 - Navegue até a janela 6.\n",
    "\n",
    "2 - _Click_ na aba Packages.\n",
    "\n",
    "3 - _Click_ em _install_\n",
    "\n",
    "4 - Digite o nome do pacote e _click_ em _install_"
   ]
  },
  {
   "cell_type": "code",
   "execution_count": null,
   "id": "a7feb01d",
   "metadata": {},
   "outputs": [],
   "source": [
    "# carregar o pacote dplyr\n",
    "library(dplyr)"
   ]
  },
  {
   "cell_type": "markdown",
   "id": "0f0de0e9",
   "metadata": {},
   "source": [
    "## Exercício Prático - Ambiente de trabalho"
   ]
  },
  {
   "cell_type": "code",
   "execution_count": null,
   "id": "79aa9557",
   "metadata": {},
   "outputs": [],
   "source": [
    "getwd()"
   ]
  },
  {
   "cell_type": "code",
   "execution_count": null,
   "id": "7db04309",
   "metadata": {},
   "outputs": [],
   "source": [
    "setwd('C:/Users/Downloads')"
   ]
  },
  {
   "cell_type": "markdown",
   "id": "39e382ca",
   "metadata": {},
   "source": [
    "## Exercício Prático - Operadores Aritméticos e de Atribuição"
   ]
  },
  {
   "cell_type": "code",
   "execution_count": null,
   "id": "2baf680e",
   "metadata": {},
   "outputs": [],
   "source": [
    "10 %% 3"
   ]
  },
  {
   "cell_type": "code",
   "execution_count": null,
   "id": "2df4d95c",
   "metadata": {},
   "outputs": [],
   "source": [
    "10 %/% 3"
   ]
  },
  {
   "cell_type": "code",
   "execution_count": null,
   "id": "89379935",
   "metadata": {},
   "outputs": [],
   "source": [
    "4 ^^ 2\n",
    "# 4 ** 2"
   ]
  },
  {
   "cell_type": "markdown",
   "id": "5fa335aa",
   "metadata": {},
   "source": [
    "## Exercício Pártico - Vetores e Operadores de Comparação"
   ]
  },
  {
   "cell_type": "code",
   "execution_count": null,
   "id": "a95c5d51",
   "metadata": {},
   "outputs": [],
   "source": [
    "temperatura > mean(temperatura, na.rm = TRUE)"
   ]
  },
  {
   "cell_type": "code",
   "execution_count": null,
   "id": "ea665699",
   "metadata": {},
   "outputs": [],
   "source": [
    "temperatura < mean(temperatura, na.rm = TRUE)"
   ]
  },
  {
   "cell_type": "code",
   "execution_count": null,
   "id": "27acfc30",
   "metadata": {},
   "outputs": [],
   "source": [
    "table(c == 'Parkia gigantocarpa')"
   ]
  },
  {
   "cell_type": "code",
   "execution_count": null,
   "id": "3530dbca",
   "metadata": {},
   "outputs": [],
   "source": [
    "# Saída Vetorial\n",
    "!is.na(temperatura)\n",
    "temperatura != is.na(temperatura)\n",
    "\n",
    "# Saída tabular\n",
    "table(!is.na(temperatura))\n",
    "table(temperatura != is.na(temperatura))"
   ]
  },
  {
   "cell_type": "markdown",
   "id": "089e1210",
   "metadata": {},
   "source": [
    "## Exercício Prático - Índice de Vetor"
   ]
  },
  {
   "cell_type": "code",
   "execution_count": null,
   "id": "e5809ca5",
   "metadata": {},
   "outputs": [],
   "source": [
    "length(dap)\n",
    "dap[18587]\n",
    "\n",
    "d[length(d) - 1]"
   ]
  },
  {
   "cell_type": "code",
   "execution_count": null,
   "id": "e943371f",
   "metadata": {},
   "outputs": [],
   "source": [
    "min(dap)"
   ]
  },
  {
   "cell_type": "code",
   "execution_count": null,
   "id": "551f99d9",
   "metadata": {},
   "outputs": [],
   "source": [
    "mean(dap)"
   ]
  },
  {
   "cell_type": "markdown",
   "id": "4c5a3182",
   "metadata": {},
   "source": [
    "## Exercício Prático - Listas"
   ]
  },
  {
   "cell_type": "code",
   "execution_count": null,
   "id": "71112a01",
   "metadata": {},
   "outputs": [],
   "source": [
    "lapply(lista[1:2], mean)\n",
    "sapply(lista[1:2], mean)"
   ]
  },
  {
   "cell_type": "code",
   "execution_count": null,
   "id": "2147c221",
   "metadata": {},
   "outputs": [],
   "source": []
  }
 ],
 "metadata": {
  "kernelspec": {
   "display_name": "R",
   "language": "R",
   "name": "ir"
  },
  "language_info": {
   "codemirror_mode": "r",
   "file_extension": ".r",
   "mimetype": "text/x-r-source",
   "name": "R",
   "pygments_lexer": "r",
   "version": "4.2.0"
  }
 },
 "nbformat": 4,
 "nbformat_minor": 5
}
