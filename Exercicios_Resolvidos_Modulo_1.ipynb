{
 "cells": [
  {
   "cell_type": "markdown",
   "id": "f2f21ca3",
   "metadata": {},
   "source": [
    "## Exercício Prático - Instalar e Carregar Pacotes"
   ]
  },
  {
   "cell_type": "code",
   "execution_count": null,
   "id": "fb007a7e",
   "metadata": {},
   "outputs": [],
   "source": [
    "# Instalar o pacote dplyr\n",
    "install.packages(\"dplyr\")"
   ]
  },
  {
   "cell_type": "markdown",
   "id": "d7d3ce72",
   "metadata": {},
   "source": [
    "![](./output/RStudio.PNG)\n",
    "\n",
    "1 - Navegue até a janela 6.\n",
    "\n",
    "2 - _Click_ na aba Packages.\n",
    "\n",
    "3 - _Click_ em _install_\n",
    "\n",
    "4 - Digite o nome do pacote e _click_ em _install_"
   ]
  },
  {
   "cell_type": "code",
   "execution_count": null,
   "id": "a7feb01d",
   "metadata": {},
   "outputs": [],
   "source": [
    "# carregar o pacote dplyr\n",
    "library(dplyr)"
   ]
  },
  {
   "cell_type": "markdown",
   "id": "0f0de0e9",
   "metadata": {},
   "source": [
    "## Exercício Prático - Ambiente de trabalho"
   ]
  },
  {
   "cell_type": "code",
   "execution_count": null,
   "id": "79aa9557",
   "metadata": {},
   "outputs": [],
   "source": [
    "getwd()"
   ]
  },
  {
   "cell_type": "code",
   "execution_count": null,
   "id": "7db04309",
   "metadata": {},
   "outputs": [],
   "source": [
    "setwd('C:/Users/Downloads')"
   ]
  },
  {
   "cell_type": "markdown",
   "id": "39e382ca",
   "metadata": {},
   "source": [
    "## Exercício Prático - Operadores Aritméticos e de Atribuição"
   ]
  },
  {
   "cell_type": "code",
   "execution_count": null,
   "id": "2baf680e",
   "metadata": {},
   "outputs": [],
   "source": [
    "10 %% 3"
   ]
  },
  {
   "cell_type": "code",
   "execution_count": null,
   "id": "2df4d95c",
   "metadata": {},
   "outputs": [],
   "source": [
    "10 %/% 3"
   ]
  },
  {
   "cell_type": "code",
   "execution_count": null,
   "id": "89379935",
   "metadata": {},
   "outputs": [],
   "source": [
    "4 ^^ 2\n",
    "# 4 ** 2"
   ]
  },
  {
   "cell_type": "markdown",
   "id": "5fa335aa",
   "metadata": {},
   "source": [
    "## Exercício Prático - "
   ]
  },
  {
   "cell_type": "code",
   "execution_count": null,
   "id": "a95c5d51",
   "metadata": {},
   "outputs": [],
   "source": []
  }
 ],
 "metadata": {
  "kernelspec": {
   "display_name": "R",
   "language": "R",
   "name": "ir"
  },
  "language_info": {
   "codemirror_mode": "r",
   "file_extension": ".r",
   "mimetype": "text/x-r-source",
   "name": "R",
   "pygments_lexer": "r",
   "version": "3.6.1"
  }
 },
 "nbformat": 4,
 "nbformat_minor": 5
}
