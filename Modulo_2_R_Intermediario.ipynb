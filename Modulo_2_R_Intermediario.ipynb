{
 "cells": [
  {
   "cell_type": "markdown",
   "id": "1809c739",
   "metadata": {},
   "source": [
    "# 2. R Intermediário\n"
   ]
  },
  {
   "cell_type": "markdown",
   "id": "93046009",
   "metadata": {},
   "source": [
    "## 2.1 Funções em R\n",
    "<p style=\"text-align:justify;\">A definição de uma função em R segue a seguinte sintaxe:"
   ]
  },
  {
   "cell_type": "code",
   "execution_count": 1,
   "id": "676d0c53",
   "metadata": {},
   "outputs": [],
   "source": [
    "nome_da_função <- function (parâmetros) {\n",
    "    return() \n",
    "}"
   ]
  },
  {
   "cell_type": "markdown",
   "id": "c03ae44f",
   "metadata": {},
   "source": [
    "A função definida a seguir, denominada como `duplicar_valor`, recebe como parâmetro um valor `x`, definido por padrão como 2, e retorna o quadrado deste valor."
   ]
  },
  {
   "cell_type": "code",
   "execution_count": 2,
   "id": "8374bc88",
   "metadata": {},
   "outputs": [],
   "source": [
    "duplicar_valor <- function(x = 2) {\n",
    "        return(x ^ 2)\n",
    "}"
   ]
  },
  {
   "cell_type": "markdown",
   "id": "fe6566a1",
   "metadata": {},
   "source": [
    "Após a criação da função devemos invocá-la fornecendo o valor de seu parâmetro para recebermos seu retorno."
   ]
  },
  {
   "cell_type": "code",
   "execution_count": 3,
   "id": "dec8a1c5",
   "metadata": {},
   "outputs": [
    {
     "data": {
      "text/html": [
       "4"
      ],
      "text/latex": [
       "4"
      ],
      "text/markdown": [
       "4"
      ],
      "text/plain": [
       "[1] 4"
      ]
     },
     "metadata": {},
     "output_type": "display_data"
    }
   ],
   "source": [
    "duplicar_valor()"
   ]
  },
  {
   "cell_type": "code",
   "execution_count": 4,
   "id": "9213ab88",
   "metadata": {},
   "outputs": [
    {
     "data": {
      "text/html": [
       "4"
      ],
      "text/latex": [
       "4"
      ],
      "text/markdown": [
       "4"
      ],
      "text/plain": [
       "[1] 4"
      ]
     },
     "metadata": {},
     "output_type": "display_data"
    }
   ],
   "source": [
    "duplicar_valor(2)"
   ]
  },
  {
   "cell_type": "markdown",
   "id": "da8eb24b",
   "metadata": {},
   "source": [
    "### Exercício Prático 1 - Funções\n",
    "O índice de massa corporal (IMC) é uma medida internacional usada para calcular se uma pessoa está no peso ideal. Neste exercício você deverá criar uma função para calcular o IMC e modificá-la para dizer ao usuário de ele está com o peso normal (entre 18,5 e 24,9), sobre peso (25,0 e 29,9), obeso (30,0 e 39,9) ou magro demais (menor que 18,5). O IMC é calculado a partir da seguinte fórmula:\n",
    "\n",
    "$$ IMC = {Peso \\over (Altura) ^ 2} $$\n",
    "\n",
    "**Instrução 1/2**\n",
    "* Crie uma função chamada `imc` para calcular o índice de massa corporal. Esta função deve receber como parâmetros: `peso` (kg) e `altura` (m)."
   ]
  },
  {
   "cell_type": "code",
   "execution_count": null,
   "id": "0d75c3cf",
   "metadata": {},
   "outputs": [],
   "source": []
  },
  {
   "cell_type": "markdown",
   "id": "dc05c7d4",
   "metadata": {},
   "source": [
    "**Instrução 2/2**\n",
    "* Agora melhore a função de forma a informar ao usuário sua situação de acordo com o IMC calculado."
   ]
  },
  {
   "cell_type": "code",
   "execution_count": null,
   "id": "e325117c",
   "metadata": {},
   "outputs": [],
   "source": []
  },
  {
   "cell_type": "markdown",
   "id": "3b08415b",
   "metadata": {},
   "source": [
    "### Exercício Prático 2 - Funções\n",
    "O diâmetro de árvores calculado a partir da circunferência do caule. utilizando-se da seguinte fórmula:\n",
    "$$ diametro = { circumferencia \\times \\pi } $$"
   ]
  },
  {
   "cell_type": "code",
   "execution_count": null,
   "id": "0875eef5",
   "metadata": {},
   "outputs": [],
   "source": []
  },
  {
   "cell_type": "markdown",
   "id": "a5abca4c",
   "metadata": {},
   "source": [
    "**Instrução**\n",
    "* Crie uma função chamada `d` que recebe como parâmetro a circunferência de uma árovre e retorna o seu diâmetro."
   ]
  },
  {
   "cell_type": "code",
   "execution_count": null,
   "id": "216460d1",
   "metadata": {},
   "outputs": [],
   "source": []
  },
  {
   "cell_type": "markdown",
   "id": "88386332",
   "metadata": {},
   "source": [
    "## 2.2 Escopo de variáveis\n",
    "\n",
    "No código a seguir temos a definição da variável `x` recebendo o valor inteiro `4`"
   ]
  },
  {
   "cell_type": "code",
   "execution_count": 5,
   "id": "dd07a18e",
   "metadata": {},
   "outputs": [],
   "source": [
    "x <- 4"
   ]
  },
  {
   "cell_type": "markdown",
   "id": "857eaccf",
   "metadata": {},
   "source": [
    "Agora ao chamarmos a função `duplicar_valor()`, que valor deverá nos retornar, 4 ou 16?"
   ]
  },
  {
   "cell_type": "code",
   "execution_count": 6,
   "id": "14e6b2db",
   "metadata": {},
   "outputs": [
    {
     "data": {
      "text/html": [
       "4"
      ],
      "text/latex": [
       "4"
      ],
      "text/markdown": [
       "4"
      ],
      "text/plain": [
       "[1] 4"
      ]
     },
     "metadata": {},
     "output_type": "display_data"
    }
   ],
   "source": [
    "duplicar_valor()"
   ]
  },
  {
   "cell_type": "markdown",
   "id": "f4a47281",
   "metadata": {},
   "source": [
    "A função retorna 4, pois o valor da variável `x` definida na função é uma variável local e com o valor padrão 2, a qual é restrita ao escopo da função em questão, apesar de ´x´ definido fora da função ser uma variável global.\n",
    "O conceito de variável global fica melhor compreedido com o uso da seguinte função:"
   ]
  },
  {
   "cell_type": "code",
   "execution_count": 7,
   "id": "79d0bd14",
   "metadata": {},
   "outputs": [],
   "source": [
    "txt <- 'Olá R'\n",
    "\n",
    "saida_txt <- function () {\n",
    "    return(txt)\n",
    "}"
   ]
  },
  {
   "cell_type": "markdown",
   "id": "b17dd956",
   "metadata": {},
   "source": [
    "<p style=\"text-align:justify\">Como a função acima não tem a variável <mark style=\"background-color:lightgrey;\">txt</mark> localmente definida em seu escopo, retorna a variável global <mark style=\"background-color:lightgrey;\">txt</mark> definida fora de seu escopo, pois esta é uma variável global a qual está disponível em todo o ambiente de variáveis do R.\n",
    "Podemos definir uma variável local de uma função como global, a qual passará a ser global após a chamada da função. Para tal devemos utilizar o operador de atribuição <mark style=\"background-color:lightgrey;\"> <<- </mark></p>"
   ]
  },
  {
   "cell_type": "code",
   "execution_count": 13,
   "id": "a12f2baa",
   "metadata": {},
   "outputs": [],
   "source": [
    "# variavel global fora da funcao\n",
    "msg <- 'Eu sou global fora e estou fora de função!!'\n",
    "\n",
    "# Funcao com variavel local definida como global\n",
    "f <- function () {\n",
    "        msg <<- 'Eu sou uma variável local e global!! kkkkk'\n",
    "        return(msg)\n",
    "}"
   ]
  },
  {
   "cell_type": "code",
   "execution_count": 14,
   "id": "16c907f7",
   "metadata": {},
   "outputs": [
    {
     "data": {
      "text/html": [
       "'Eu sou global fora e estou fora de função!!'"
      ],
      "text/latex": [
       "'Eu sou global fora e estou fora de função!!'"
      ],
      "text/markdown": [
       "'Eu sou global fora e estou fora de função!!'"
      ],
      "text/plain": [
       "[1] \"Eu sou global fora e estou fora de função!!\""
      ]
     },
     "metadata": {},
     "output_type": "display_data"
    }
   ],
   "source": [
    "msg"
   ]
  },
  {
   "cell_type": "code",
   "execution_count": 15,
   "id": "17eb0bf2",
   "metadata": {},
   "outputs": [
    {
     "data": {
      "text/html": [
       "'Eu sou uma variável local e global!! kkkkk'"
      ],
      "text/latex": [
       "'Eu sou uma variável local e global!! kkkkk'"
      ],
      "text/markdown": [
       "'Eu sou uma variável local e global!! kkkkk'"
      ],
      "text/plain": [
       "[1] \"Eu sou uma variável local e global!! kkkkk\""
      ]
     },
     "metadata": {},
     "output_type": "display_data"
    }
   ],
   "source": [
    "f()"
   ]
  },
  {
   "cell_type": "code",
   "execution_count": 16,
   "id": "243848f2",
   "metadata": {},
   "outputs": [],
   "source": [
    "# Funcao com variavel local definida como global\n",
    "f <- function () {\n",
    "        msg <<- 'Eu sou uma variável local e global!! kkkkk'\n",
    "        return(msg)\n",
    "}"
   ]
  },
  {
   "cell_type": "code",
   "execution_count": 17,
   "id": "529b1609",
   "metadata": {},
   "outputs": [
    {
     "data": {
      "text/html": [
       "'Eu sou uma variável local e global!! kkkkk'"
      ],
      "text/latex": [
       "'Eu sou uma variável local e global!! kkkkk'"
      ],
      "text/markdown": [
       "'Eu sou uma variável local e global!! kkkkk'"
      ],
      "text/plain": [
       "[1] \"Eu sou uma variável local e global!! kkkkk\""
      ]
     },
     "metadata": {},
     "output_type": "display_data"
    }
   ],
   "source": [
    "msg"
   ]
  },
  {
   "cell_type": "code",
   "execution_count": null,
   "id": "0939727b",
   "metadata": {},
   "outputs": [],
   "source": []
  }
 ],
 "metadata": {
  "kernelspec": {
   "display_name": "R",
   "language": "R",
   "name": "ir"
  },
  "language_info": {
   "codemirror_mode": "r",
   "file_extension": ".r",
   "mimetype": "text/x-r-source",
   "name": "R",
   "pygments_lexer": "r",
   "version": "4.2.0"
  }
 },
 "nbformat": 4,
 "nbformat_minor": 5
}
