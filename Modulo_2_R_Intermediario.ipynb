{
 "cells": [
  {
   "cell_type": "markdown",
   "id": "1809c739",
   "metadata": {},
   "source": [
    "# 2. R Intermediário\n"
   ]
  },
  {
   "cell_type": "markdown",
   "id": "9cd25dd9",
   "metadata": {},
   "source": [
    "## 2.1 Pacotes\n",
    "<p style=\"text-align:justify\">Para instalar um determinado pacote (biblioteca) em R, utilizamos a função <i><mark style=\"background-color:#F4F4F4\">install.packages(\"nome_do_pacote\")</mark></i>, a qual recebe como parâmetro o nome do pacote a ser instalado. Utilizaremos como exemplo a instalação do pacote <mark style=\"background-color:#F4F4F4\">dplyr</mark>, o mais importante pacote para manipulação e transformação de <i>dataframes</i> em R.</p>\n",
    "<p style=\"text-align:justify;\">Para carregar um pacote em R fazemos uso da função <mark style=\"background-color:#F4F4F4;\">library()</mark>, fornecendo como parâmetro o nome do pacote</p>"
   ]
  },
  {
   "cell_type": "markdown",
   "id": "e5f23583",
   "metadata": {},
   "source": [
    "## 2.2 Instalar e Carregar Pacotes\n",
    "### Exercício Prático\n",
    "**Instrução 1/3**\n",
    "* Instale o pacote `dplyr` utilizando a janela do console"
   ]
  },
  {
   "cell_type": "code",
   "execution_count": null,
   "id": "aac670cd",
   "metadata": {},
   "outputs": [],
   "source": []
  },
  {
   "cell_type": "markdown",
   "id": "0bac2e54",
   "metadata": {},
   "source": [
    "**Instrução 2/3**\n",
    "* Instale o pacote `readr` utilizando a janela Packages."
   ]
  },
  {
   "cell_type": "code",
   "execution_count": null,
   "id": "cdd0ebc6",
   "metadata": {},
   "outputs": [],
   "source": []
  },
  {
   "cell_type": "markdown",
   "id": "0ac268cb",
   "metadata": {},
   "source": [
    "**Instrução 3/3**\n",
    "* Carregue o pacote `dplyr`"
   ]
  },
  {
   "cell_type": "code",
   "execution_count": null,
   "id": "549ee7ec",
   "metadata": {},
   "outputs": [],
   "source": []
  },
  {
   "cell_type": "markdown",
   "id": "b23e8968",
   "metadata": {},
   "source": [
    "## 3.3 Listar todos os Pacotes instalados"
   ]
  },
  {
   "cell_type": "code",
   "execution_count": null,
   "id": "7cf570f9",
   "metadata": {},
   "outputs": [],
   "source": [
    "available.packages()"
   ]
  },
  {
   "cell_type": "markdown",
   "id": "48cf091a",
   "metadata": {},
   "source": [
    "## 3.4 Mostrar os pacotes carregados na sessão atual"
   ]
  },
  {
   "cell_type": "code",
   "execution_count": null,
   "id": "3ec25242",
   "metadata": {},
   "outputs": [],
   "source": [
    "search()"
   ]
  },
  {
   "cell_type": "markdown",
   "id": "1eab282a",
   "metadata": {},
   "source": [
    "## 4. Datas\n",
    "Neste capítulo entenderemos como as datas e horas são criadas em linguagem R. Este capítulo vai lhe ensinar o suficiente para começar a trabalhar com datas.\n",
    "R tem muito a oferecer em termos de datas e horários. As duas principais classes de dados para isso são _Date_ e _POSIXct_. Date é usado para objetos de data do calendário como \"2015-01-22\". _POSIXct_ é uma maneira de representar objetos de data e hora como \"2015-01-22 08:39:40 EST\", o que significa que são 40 segundos após 8:39 AM Eastern Standard Time.\n",
    "\n",
    "Na prática, a melhor estratégia é usar a classe mais simples que você precisa. Frequentemente, Date será a escolha mais simples. Este curso usará quase exclusivamente a classe Date, mas é importante estar ciente do _POSIXct_ também para armazenar dados financeiros diários."
   ]
  },
  {
   "cell_type": "markdown",
   "id": "1dd0137e",
   "metadata": {},
   "source": [
    "## 4.1 Obter a Data Atual"
   ]
  },
  {
   "cell_type": "code",
   "execution_count": 2,
   "id": "c69ca666",
   "metadata": {},
   "outputs": [
    {
     "data": {
      "text/html": [
       "<time datetime=\"2023-01-15\">2023-01-15</time>"
      ],
      "text/latex": [
       "2023-01-15"
      ],
      "text/markdown": [
       "2023-01-15"
      ],
      "text/plain": [
       "[1] \"2023-01-15\""
      ]
     },
     "metadata": {},
     "output_type": "display_data"
    }
   ],
   "source": [
    "# Data Atual\n",
    "Sys.Date()"
   ]
  },
  {
   "cell_type": "markdown",
   "id": "c321ff07",
   "metadata": {},
   "source": [
    "## 4.2 Obter a Data e Hora Atuais"
   ]
  },
  {
   "cell_type": "code",
   "execution_count": 3,
   "id": "d0381877",
   "metadata": {},
   "outputs": [
    {
     "data": {
      "text/plain": [
       "[1] \"2023-01-15 17:49:45 -03\""
      ]
     },
     "metadata": {},
     "output_type": "display_data"
    }
   ],
   "source": [
    "# Data e Hora\n",
    "Sys.time()"
   ]
  },
  {
   "cell_type": "markdown",
   "id": "9c6bf226",
   "metadata": {},
   "source": [
    "## 4.3 Como  Criar Data\n",
    "Para criarmos um data a partir de um vetor de caracteres, utilizamos a função `as.Date()`"
   ]
  },
  {
   "cell_type": "code",
   "execution_count": 4,
   "id": "ee9d7942",
   "metadata": {},
   "outputs": [],
   "source": [
    "# caracter com dado referente a data da crise de 1929\n",
    "crise_29 <- \"1929-11-29\"\n",
    "\n",
    "data <- as.Date(crise_29)"
   ]
  },
  {
   "cell_type": "code",
   "execution_count": null,
   "id": "fc32cd36",
   "metadata": {},
   "outputs": [],
   "source": []
  },
  {
   "cell_type": "markdown",
   "id": "1cd1eb9b",
   "metadata": {},
   "source": [
    "## 4.4 Várias Datas"
   ]
  },
  {
   "cell_type": "code",
   "execution_count": null,
   "id": "af7ec035",
   "metadata": {},
   "outputs": [],
   "source": []
  },
  {
   "cell_type": "markdown",
   "id": "210972ef",
   "metadata": {},
   "source": [
    "## 4.5 Formatos de Data\n",
    "Como você viu anteriormente, R é exigente sobre como ele lê as datas. Para lembrá-lo, se executarmos o código `as.Date(\"28/09/2008\")`, a saída no terminal será um erro porque não está no formato correto. A correção para isso é especificar o formato que você está usando por meio do argumento de `format`:"
   ]
  },
  {
   "cell_type": "code",
   "execution_count": 6,
   "id": "e26b8d67",
   "metadata": {},
   "outputs": [
    {
     "data": {
      "text/html": [
       "<time datetime=\"2008-09-28\">2008-09-28</time>"
      ],
      "text/latex": [
       "2008-09-28"
      ],
      "text/markdown": [
       "2008-09-28"
      ],
      "text/plain": [
       "[1] \"2008-09-28\""
      ]
     },
     "metadata": {},
     "output_type": "display_data"
    }
   ],
   "source": [
    "as.Date(\"09/28/2008\", format = \"%m/%d/%Y\")"
   ]
  },
  {
   "cell_type": "markdown",
   "id": "03db2148",
   "metadata": {},
   "source": [
    "Existem vários formatos diferentes que você pode especificar quando estiver trabalhando com data, aqui estão alguns deles:\n",
    "\n",
    " * `%Y`: 4-digit year (1982)\",\n",
    " * `%y`: 2-digit year (82),\n",
    " * `%m`: 2-digit month (01),\n",
    " * `%d`: 2-digit day of the month (13),\n",
    " * `%A`: weekday (Wednesday),\n",
    " * `%a`: abbreviated weekday (Wed),\n",
    " * `%B`: month (January),\n",
    " * `%b`: abbreviated month (Jan)"
   ]
  },
  {
   "cell_type": "markdown",
   "id": "09ee5650",
   "metadata": {},
   "source": [
    "## 4.6 Aritimética com Datas\n",
    "Assim como com numérico, aritmética pode ser feita em datas. Em particular, você pode encontrar a diferença entre duas datas, em dias, usando a subtração:"
   ]
  },
  {
   "cell_type": "code",
   "execution_count": 7,
   "id": "584dbc5d",
   "metadata": {},
   "outputs": [
    {
     "data": {
      "text/html": [
       "<time datetime=\"2023-01-15\">2023-01-15</time>"
      ],
      "text/latex": [
       "2023-01-15"
      ],
      "text/markdown": [
       "2023-01-15"
      ],
      "text/plain": [
       "[1] \"2023-01-15\""
      ]
     },
     "metadata": {},
     "output_type": "display_data"
    },
    {
     "data": {
      "text/html": [
       "<time datetime=\"2023-01-16\">2023-01-16</time>"
      ],
      "text/latex": [
       "2023-01-16"
      ],
      "text/markdown": [
       "2023-01-16"
      ],
      "text/plain": [
       "[1] \"2023-01-16\""
      ]
     },
     "metadata": {},
     "output_type": "display_data"
    }
   ],
   "source": [
    "hoje <- Sys.Date()\n",
    "amanha <- hoje + 1\n",
    "hoje\n",
    "amanha"
   ]
  },
  {
   "cell_type": "markdown",
   "id": "d7390270",
   "metadata": {},
   "source": [
    "## 4.6.1 Função `difftime()`"
   ]
  },
  {
   "cell_type": "code",
   "execution_count": null,
   "id": "cafa9033",
   "metadata": {},
   "outputs": [],
   "source": []
  },
  {
   "cell_type": "markdown",
   "id": "47ecf46b",
   "metadata": {},
   "source": [
    "## 4.7 Meses, Semanas e Trimestre"
   ]
  },
  {
   "cell_type": "code",
   "execution_count": null,
   "id": "7266a5dd",
   "metadata": {},
   "outputs": [],
   "source": []
  },
  {
   "cell_type": "markdown",
   "id": "61cf6711",
   "metadata": {},
   "source": [
    "## 5. Operadores Lógicos"
   ]
  },
  {
   "cell_type": "code",
   "execution_count": null,
   "id": "540a44f3",
   "metadata": {},
   "outputs": [],
   "source": []
  },
  {
   "cell_type": "markdown",
   "id": "eb9353a9",
   "metadata": {},
   "source": [
    "## 6. Instruções if, else e else if"
   ]
  },
  {
   "cell_type": "code",
   "execution_count": null,
   "id": "dbd13476",
   "metadata": {},
   "outputs": [],
   "source": []
  },
  {
   "cell_type": "markdown",
   "id": "93a73597",
   "metadata": {},
   "source": [
    "## 7. Loops"
   ]
  },
  {
   "cell_type": "markdown",
   "id": "93046009",
   "metadata": {},
   "source": [
    "## 8 Funções em R\n",
    "<p style=\"text-align:justify;\">A definição de uma função em R segue a seguinte sintaxe:"
   ]
  },
  {
   "cell_type": "code",
   "execution_count": 1,
   "id": "676d0c53",
   "metadata": {},
   "outputs": [],
   "source": [
    "nome_da_função <- function (parâmetros) {\n",
    "    return() \n",
    "}"
   ]
  },
  {
   "cell_type": "markdown",
   "id": "c03ae44f",
   "metadata": {},
   "source": [
    "A função definida a seguir, denominada como `duplicar_valor`, recebe como parâmetro um valor `x`, definido por padrão como 2, e retorna o quadrado deste valor."
   ]
  },
  {
   "cell_type": "code",
   "execution_count": 2,
   "id": "8374bc88",
   "metadata": {},
   "outputs": [],
   "source": [
    "duplicar_valor <- function(x = 2) {\n",
    "        return(x ^ 2)\n",
    "}"
   ]
  },
  {
   "cell_type": "markdown",
   "id": "fe6566a1",
   "metadata": {},
   "source": [
    "Após a criação da função devemos invocá-la fornecendo o valor de seu parâmetro para recebermos seu retorno."
   ]
  },
  {
   "cell_type": "code",
   "execution_count": 3,
   "id": "dec8a1c5",
   "metadata": {},
   "outputs": [
    {
     "data": {
      "text/html": [
       "4"
      ],
      "text/latex": [
       "4"
      ],
      "text/markdown": [
       "4"
      ],
      "text/plain": [
       "[1] 4"
      ]
     },
     "metadata": {},
     "output_type": "display_data"
    }
   ],
   "source": [
    "duplicar_valor()"
   ]
  },
  {
   "cell_type": "code",
   "execution_count": 4,
   "id": "9213ab88",
   "metadata": {},
   "outputs": [
    {
     "data": {
      "text/html": [
       "4"
      ],
      "text/latex": [
       "4"
      ],
      "text/markdown": [
       "4"
      ],
      "text/plain": [
       "[1] 4"
      ]
     },
     "metadata": {},
     "output_type": "display_data"
    }
   ],
   "source": [
    "duplicar_valor(2)"
   ]
  },
  {
   "cell_type": "markdown",
   "id": "da8eb24b",
   "metadata": {},
   "source": [
    "### Exercício Prático 1 - Funções\n",
    "O índice de massa corporal (IMC) é uma medida internacional usada para calcular se uma pessoa está no peso ideal. Neste exercício você deverá criar uma função para calcular o IMC e modificá-la para dizer ao usuário de ele está com o peso normal (entre 18,5 e 24,9), sobre peso (25,0 e 29,9), obeso (30,0 e 39,9) ou magro demais (menor que 18,5). O IMC é calculado a partir da seguinte fórmula:\n",
    "\n",
    "$$ IMC = {Peso \\over (Altura) ^ 2} $$\n",
    "\n",
    "**Instrução 1/2**\n",
    "* Crie uma função chamada `imc` para calcular o índice de massa corporal. Esta função deve receber como parâmetros: `peso` (kg) e `altura` (m)."
   ]
  },
  {
   "cell_type": "code",
   "execution_count": null,
   "id": "0d75c3cf",
   "metadata": {},
   "outputs": [],
   "source": []
  },
  {
   "cell_type": "markdown",
   "id": "dc05c7d4",
   "metadata": {},
   "source": [
    "**Instrução 2/2**\n",
    "* Agora melhore a função de forma a informar ao usuário sua situação de acordo com o IMC calculado."
   ]
  },
  {
   "cell_type": "code",
   "execution_count": null,
   "id": "e325117c",
   "metadata": {},
   "outputs": [],
   "source": []
  },
  {
   "cell_type": "markdown",
   "id": "3b08415b",
   "metadata": {},
   "source": [
    "### Exercício Prático 2 - Funções\n",
    "O diâmetro de árvores calculado a partir da circunferência do caule. utilizando-se da seguinte fórmula:\n",
    "$$ diametro = { circumferencia \\times \\pi } $$"
   ]
  },
  {
   "cell_type": "code",
   "execution_count": null,
   "id": "0875eef5",
   "metadata": {},
   "outputs": [],
   "source": []
  },
  {
   "cell_type": "markdown",
   "id": "a5abca4c",
   "metadata": {},
   "source": [
    "**Instrução**\n",
    "* Crie uma função chamada `d` que recebe como parâmetro a circunferência de uma árovre e retorna o seu diâmetro."
   ]
  },
  {
   "cell_type": "code",
   "execution_count": null,
   "id": "216460d1",
   "metadata": {},
   "outputs": [],
   "source": []
  },
  {
   "cell_type": "markdown",
   "id": "88386332",
   "metadata": {},
   "source": [
    "## 5.1 Escopo de variáveis\n",
    "\n",
    "No código a seguir temos a definição da variável `x` recebendo o valor inteiro `4`"
   ]
  },
  {
   "cell_type": "code",
   "execution_count": 5,
   "id": "dd07a18e",
   "metadata": {},
   "outputs": [],
   "source": [
    "x <- 4"
   ]
  },
  {
   "cell_type": "markdown",
   "id": "857eaccf",
   "metadata": {},
   "source": [
    "Agora ao chamarmos a função `duplicar_valor()`, que valor deverá nos retornar, 4 ou 16?"
   ]
  },
  {
   "cell_type": "code",
   "execution_count": 6,
   "id": "14e6b2db",
   "metadata": {},
   "outputs": [
    {
     "data": {
      "text/html": [
       "4"
      ],
      "text/latex": [
       "4"
      ],
      "text/markdown": [
       "4"
      ],
      "text/plain": [
       "[1] 4"
      ]
     },
     "metadata": {},
     "output_type": "display_data"
    }
   ],
   "source": [
    "duplicar_valor()"
   ]
  },
  {
   "cell_type": "markdown",
   "id": "f4a47281",
   "metadata": {},
   "source": [
    "A função retorna 4, pois o valor da variável `x` definida na função é uma variável local e com o valor padrão 2, a qual é restrita ao escopo da função em questão, apesar de ´x´ definido fora da função ser uma variável global.\n",
    "O conceito de variável global fica melhor compreedido com o uso da seguinte função:"
   ]
  },
  {
   "cell_type": "code",
   "execution_count": 7,
   "id": "79d0bd14",
   "metadata": {},
   "outputs": [],
   "source": [
    "txt <- 'Olá R'\n",
    "\n",
    "saida_txt <- function () {\n",
    "    return(txt)\n",
    "}"
   ]
  },
  {
   "cell_type": "markdown",
   "id": "b17dd956",
   "metadata": {},
   "source": [
    "<p style=\"text-align:justify\">Como a função acima não tem a variável <mark style=\"background-color:lightgrey;\">txt</mark> localmente definida em seu escopo, retorna a variável global <mark style=\"background-color:lightgrey;\">txt</mark> definida fora de seu escopo, pois esta é uma variável global a qual está disponível em todo o ambiente de variáveis do R.\n",
    "Podemos definir uma variável local de uma função como global, a qual passará a ser global após a chamada da função. Para tal devemos utilizar o operador de atribuição <mark style=\"background-color:lightgrey;\"> <<- </mark></p>"
   ]
  },
  {
   "cell_type": "code",
   "execution_count": 13,
   "id": "a12f2baa",
   "metadata": {},
   "outputs": [],
   "source": [
    "# variavel global fora da funcao\n",
    "msg <- 'Eu sou global fora e estou fora de função!!'\n",
    "\n",
    "# Funcao com variavel local definida como global\n",
    "f <- function () {\n",
    "        msg <<- 'Eu sou uma variável local e global!! kkkkk'\n",
    "        return(msg)\n",
    "}"
   ]
  },
  {
   "cell_type": "code",
   "execution_count": 14,
   "id": "16c907f7",
   "metadata": {},
   "outputs": [
    {
     "data": {
      "text/html": [
       "'Eu sou global fora e estou fora de função!!'"
      ],
      "text/latex": [
       "'Eu sou global fora e estou fora de função!!'"
      ],
      "text/markdown": [
       "'Eu sou global fora e estou fora de função!!'"
      ],
      "text/plain": [
       "[1] \"Eu sou global fora e estou fora de função!!\""
      ]
     },
     "metadata": {},
     "output_type": "display_data"
    }
   ],
   "source": [
    "msg"
   ]
  },
  {
   "cell_type": "code",
   "execution_count": 15,
   "id": "17eb0bf2",
   "metadata": {},
   "outputs": [
    {
     "data": {
      "text/html": [
       "'Eu sou uma variável local e global!! kkkkk'"
      ],
      "text/latex": [
       "'Eu sou uma variável local e global!! kkkkk'"
      ],
      "text/markdown": [
       "'Eu sou uma variável local e global!! kkkkk'"
      ],
      "text/plain": [
       "[1] \"Eu sou uma variável local e global!! kkkkk\""
      ]
     },
     "metadata": {},
     "output_type": "display_data"
    }
   ],
   "source": [
    "f()"
   ]
  },
  {
   "cell_type": "code",
   "execution_count": 16,
   "id": "243848f2",
   "metadata": {},
   "outputs": [],
   "source": [
    "# Funcao com variavel local definida como global\n",
    "f <- function () {\n",
    "        msg <<- 'Eu sou uma variável local e global!! kkkkk'\n",
    "        return(msg)\n",
    "}"
   ]
  },
  {
   "cell_type": "code",
   "execution_count": 17,
   "id": "529b1609",
   "metadata": {},
   "outputs": [
    {
     "data": {
      "text/html": [
       "'Eu sou uma variável local e global!! kkkkk'"
      ],
      "text/latex": [
       "'Eu sou uma variável local e global!! kkkkk'"
      ],
      "text/markdown": [
       "'Eu sou uma variável local e global!! kkkkk'"
      ],
      "text/plain": [
       "[1] \"Eu sou uma variável local e global!! kkkkk\""
      ]
     },
     "metadata": {},
     "output_type": "display_data"
    }
   ],
   "source": [
    "msg"
   ]
  },
  {
   "cell_type": "code",
   "execution_count": null,
   "id": "0939727b",
   "metadata": {},
   "outputs": [],
   "source": []
  }
 ],
 "metadata": {
  "kernelspec": {
   "display_name": "R",
   "language": "R",
   "name": "ir"
  },
  "language_info": {
   "codemirror_mode": "r",
   "file_extension": ".r",
   "mimetype": "text/x-r-source",
   "name": "R",
   "pygments_lexer": "r",
   "version": "4.2.0"
  }
 },
 "nbformat": 4,
 "nbformat_minor": 5
}
