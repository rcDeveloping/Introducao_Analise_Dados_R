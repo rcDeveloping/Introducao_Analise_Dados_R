{
 "cells": [
  {
   "cell_type": "markdown",
   "id": "f2f21ca3",
   "metadata": {},
   "source": [
    "## Exercício Prático - Instalar e Carregar Pacotes"
   ]
  },
  {
   "cell_type": "markdown",
   "id": "0f0de0e9",
   "metadata": {},
   "source": [
    "## Exercício Prático - Ambiente de trabalho"
   ]
  },
  {
   "cell_type": "code",
   "execution_count": null,
   "id": "79aa9557",
   "metadata": {},
   "outputs": [],
   "source": [
    "getwd()"
   ]
  },
  {
   "cell_type": "code",
   "execution_count": null,
   "id": "7db04309",
   "metadata": {},
   "outputs": [],
   "source": [
    "setwd('C:/Users/Downloads')"
   ]
  },
  {
   "cell_type": "markdown",
   "id": "39e382ca",
   "metadata": {},
   "source": [
    "## Exercício Prático - Operadores Aritméticos e de Atribuição"
   ]
  },
  {
   "cell_type": "code",
   "execution_count": 8,
   "id": "2baf680e",
   "metadata": {},
   "outputs": [
    {
     "data": {
      "text/html": [
       "1"
      ],
      "text/latex": [
       "1"
      ],
      "text/markdown": [
       "1"
      ],
      "text/plain": [
       "[1] 1"
      ]
     },
     "metadata": {},
     "output_type": "display_data"
    }
   ],
   "source": [
    "10 %% 3"
   ]
  },
  {
   "cell_type": "code",
   "execution_count": 9,
   "id": "2df4d95c",
   "metadata": {},
   "outputs": [
    {
     "data": {
      "text/html": [
       "3"
      ],
      "text/latex": [
       "3"
      ],
      "text/markdown": [
       "3"
      ],
      "text/plain": [
       "[1] 3"
      ]
     },
     "metadata": {},
     "output_type": "display_data"
    }
   ],
   "source": [
    "10 %/% 3"
   ]
  },
  {
   "cell_type": "code",
   "execution_count": 11,
   "id": "89379935",
   "metadata": {},
   "outputs": [
    {
     "data": {
      "text/html": [
       "16"
      ],
      "text/latex": [
       "16"
      ],
      "text/markdown": [
       "16"
      ],
      "text/plain": [
       "[1] 16"
      ]
     },
     "metadata": {},
     "output_type": "display_data"
    }
   ],
   "source": [
    "4 ^ 2\n",
    "# 4 ** 2"
   ]
  },
  {
   "cell_type": "markdown",
   "id": "5fa335aa",
   "metadata": {},
   "source": [
    "## Exercício Pártico - Vetores e Operadores de Comparação"
   ]
  },
  {
   "cell_type": "code",
   "execution_count": 1,
   "id": "ac5da648",
   "metadata": {},
   "outputs": [],
   "source": [
    "temperatura <- c(26.38452, 26.90357, 27.04064, 27.42467, \n",
    "                 28.53548, 28.90000, NA, 29.73818, \n",
    "                 30.54667, 27.21652, 27.28800, 27.84000)"
   ]
  },
  {
   "cell_type": "code",
   "execution_count": 5,
   "id": "a95c5d51",
   "metadata": {},
   "outputs": [],
   "source": [
    "# 1-4\n",
    "media <- mean(temperatura, na.rm = TRUE)"
   ]
  },
  {
   "cell_type": "code",
   "execution_count": 25,
   "id": "ea665699",
   "metadata": {},
   "outputs": [
    {
     "data": {
      "text/html": [
       "<ol class=list-inline>\n",
       "\t<li>FALSE</li>\n",
       "\t<li>FALSE</li>\n",
       "\t<li>FALSE</li>\n",
       "\t<li>FALSE</li>\n",
       "\t<li>TRUE</li>\n",
       "\t<li>TRUE</li>\n",
       "\t<li>&lt;NA&gt;</li>\n",
       "\t<li>TRUE</li>\n",
       "\t<li>TRUE</li>\n",
       "\t<li>FALSE</li>\n",
       "\t<li>FALSE</li>\n",
       "\t<li>FALSE</li>\n",
       "</ol>\n"
      ],
      "text/latex": [
       "\\begin{enumerate*}\n",
       "\\item FALSE\n",
       "\\item FALSE\n",
       "\\item FALSE\n",
       "\\item FALSE\n",
       "\\item TRUE\n",
       "\\item TRUE\n",
       "\\item <NA>\n",
       "\\item TRUE\n",
       "\\item TRUE\n",
       "\\item FALSE\n",
       "\\item FALSE\n",
       "\\item FALSE\n",
       "\\end{enumerate*}\n"
      ],
      "text/markdown": [
       "1. FALSE\n",
       "2. FALSE\n",
       "3. FALSE\n",
       "4. FALSE\n",
       "5. TRUE\n",
       "6. TRUE\n",
       "7. &lt;NA&gt;\n",
       "8. TRUE\n",
       "9. TRUE\n",
       "10. FALSE\n",
       "11. FALSE\n",
       "12. FALSE\n",
       "\n",
       "\n"
      ],
      "text/plain": [
       " [1] FALSE FALSE FALSE FALSE  TRUE  TRUE    NA  TRUE  TRUE FALSE FALSE FALSE"
      ]
     },
     "metadata": {},
     "output_type": "display_data"
    },
    {
     "data": {
      "text/html": [
       "<ol class=list-inline>\n",
       "\t<li>28.53548</li>\n",
       "\t<li>28.9</li>\n",
       "\t<li>&lt;NA&gt;</li>\n",
       "\t<li>29.73818</li>\n",
       "\t<li>30.54667</li>\n",
       "</ol>\n"
      ],
      "text/latex": [
       "\\begin{enumerate*}\n",
       "\\item 28.53548\n",
       "\\item 28.9\n",
       "\\item <NA>\n",
       "\\item 29.73818\n",
       "\\item 30.54667\n",
       "\\end{enumerate*}\n"
      ],
      "text/markdown": [
       "1. 28.53548\n",
       "2. 28.9\n",
       "3. &lt;NA&gt;\n",
       "4. 29.73818\n",
       "5. 30.54667\n",
       "\n",
       "\n"
      ],
      "text/plain": [
       "[1] 28.53548 28.90000       NA 29.73818 30.54667"
      ]
     },
     "metadata": {},
     "output_type": "display_data"
    },
    {
     "data": {
      "text/html": [
       "<ol class=list-inline>\n",
       "\t<li>28.53548</li>\n",
       "\t<li>28.9</li>\n",
       "\t<li>29.73818</li>\n",
       "\t<li>30.54667</li>\n",
       "</ol>\n"
      ],
      "text/latex": [
       "\\begin{enumerate*}\n",
       "\\item 28.53548\n",
       "\\item 28.9\n",
       "\\item 29.73818\n",
       "\\item 30.54667\n",
       "\\end{enumerate*}\n"
      ],
      "text/markdown": [
       "1. 28.53548\n",
       "2. 28.9\n",
       "3. 29.73818\n",
       "4. 30.54667\n",
       "\n",
       "\n"
      ],
      "text/plain": [
       "[1] 28.53548 28.90000 29.73818 30.54667"
      ]
     },
     "metadata": {},
     "output_type": "display_data"
    }
   ],
   "source": [
    "# 2-4\n",
    "# Saída lógica\n",
    "temperatura > media\n",
    "\n",
    "# Saída vetorial\n",
    "temperatura[temperatura > media]\n",
    "\n",
    "# Saída vetorial sem valores NA\n",
    "temperatura_sem_na <- temperatura[complete.cases(temperatura)]\n",
    "temperatura_sem_na[temperatura_sem_na > media]"
   ]
  },
  {
   "cell_type": "code",
   "execution_count": 26,
   "id": "3530dbca",
   "metadata": {},
   "outputs": [
    {
     "data": {
      "text/html": [
       "<ol class=list-inline>\n",
       "\t<li>TRUE</li>\n",
       "\t<li>TRUE</li>\n",
       "\t<li>TRUE</li>\n",
       "\t<li>TRUE</li>\n",
       "\t<li>TRUE</li>\n",
       "\t<li>TRUE</li>\n",
       "\t<li>FALSE</li>\n",
       "\t<li>TRUE</li>\n",
       "\t<li>TRUE</li>\n",
       "\t<li>TRUE</li>\n",
       "\t<li>TRUE</li>\n",
       "\t<li>TRUE</li>\n",
       "</ol>\n"
      ],
      "text/latex": [
       "\\begin{enumerate*}\n",
       "\\item TRUE\n",
       "\\item TRUE\n",
       "\\item TRUE\n",
       "\\item TRUE\n",
       "\\item TRUE\n",
       "\\item TRUE\n",
       "\\item FALSE\n",
       "\\item TRUE\n",
       "\\item TRUE\n",
       "\\item TRUE\n",
       "\\item TRUE\n",
       "\\item TRUE\n",
       "\\end{enumerate*}\n"
      ],
      "text/markdown": [
       "1. TRUE\n",
       "2. TRUE\n",
       "3. TRUE\n",
       "4. TRUE\n",
       "5. TRUE\n",
       "6. TRUE\n",
       "7. FALSE\n",
       "8. TRUE\n",
       "9. TRUE\n",
       "10. TRUE\n",
       "11. TRUE\n",
       "12. TRUE\n",
       "\n",
       "\n"
      ],
      "text/plain": [
       " [1]  TRUE  TRUE  TRUE  TRUE  TRUE  TRUE FALSE  TRUE  TRUE  TRUE  TRUE  TRUE"
      ]
     },
     "metadata": {},
     "output_type": "display_data"
    },
    {
     "data": {
      "text/html": [
       "<ol class=list-inline>\n",
       "\t<li>TRUE</li>\n",
       "\t<li>TRUE</li>\n",
       "\t<li>TRUE</li>\n",
       "\t<li>TRUE</li>\n",
       "\t<li>TRUE</li>\n",
       "\t<li>TRUE</li>\n",
       "\t<li>&lt;NA&gt;</li>\n",
       "\t<li>TRUE</li>\n",
       "\t<li>TRUE</li>\n",
       "\t<li>TRUE</li>\n",
       "\t<li>TRUE</li>\n",
       "\t<li>TRUE</li>\n",
       "</ol>\n"
      ],
      "text/latex": [
       "\\begin{enumerate*}\n",
       "\\item TRUE\n",
       "\\item TRUE\n",
       "\\item TRUE\n",
       "\\item TRUE\n",
       "\\item TRUE\n",
       "\\item TRUE\n",
       "\\item <NA>\n",
       "\\item TRUE\n",
       "\\item TRUE\n",
       "\\item TRUE\n",
       "\\item TRUE\n",
       "\\item TRUE\n",
       "\\end{enumerate*}\n"
      ],
      "text/markdown": [
       "1. TRUE\n",
       "2. TRUE\n",
       "3. TRUE\n",
       "4. TRUE\n",
       "5. TRUE\n",
       "6. TRUE\n",
       "7. &lt;NA&gt;\n",
       "8. TRUE\n",
       "9. TRUE\n",
       "10. TRUE\n",
       "11. TRUE\n",
       "12. TRUE\n",
       "\n",
       "\n"
      ],
      "text/plain": [
       " [1] TRUE TRUE TRUE TRUE TRUE TRUE   NA TRUE TRUE TRUE TRUE TRUE"
      ]
     },
     "metadata": {},
     "output_type": "display_data"
    },
    {
     "data": {
      "text/html": [
       "<ol class=list-inline>\n",
       "\t<li>26.38452</li>\n",
       "\t<li>26.90357</li>\n",
       "\t<li>27.04064</li>\n",
       "\t<li>27.42467</li>\n",
       "\t<li>28.53548</li>\n",
       "\t<li>28.9</li>\n",
       "\t<li>29.73818</li>\n",
       "\t<li>30.54667</li>\n",
       "\t<li>27.21652</li>\n",
       "\t<li>27.288</li>\n",
       "\t<li>27.84</li>\n",
       "</ol>\n"
      ],
      "text/latex": [
       "\\begin{enumerate*}\n",
       "\\item 26.38452\n",
       "\\item 26.90357\n",
       "\\item 27.04064\n",
       "\\item 27.42467\n",
       "\\item 28.53548\n",
       "\\item 28.9\n",
       "\\item 29.73818\n",
       "\\item 30.54667\n",
       "\\item 27.21652\n",
       "\\item 27.288\n",
       "\\item 27.84\n",
       "\\end{enumerate*}\n"
      ],
      "text/markdown": [
       "1. 26.38452\n",
       "2. 26.90357\n",
       "3. 27.04064\n",
       "4. 27.42467\n",
       "5. 28.53548\n",
       "6. 28.9\n",
       "7. 29.73818\n",
       "8. 30.54667\n",
       "9. 27.21652\n",
       "10. 27.288\n",
       "11. 27.84\n",
       "\n",
       "\n"
      ],
      "text/plain": [
       " [1] 26.38452 26.90357 27.04064 27.42467 28.53548 28.90000 29.73818 30.54667\n",
       " [9] 27.21652 27.28800 27.84000"
      ]
     },
     "metadata": {},
     "output_type": "display_data"
    },
    {
     "data": {
      "text/plain": [
       "\n",
       "FALSE  TRUE \n",
       "   11     1 "
      ]
     },
     "metadata": {},
     "output_type": "display_data"
    }
   ],
   "source": [
    "# 3-4\n",
    "# Saídas lógicas\n",
    "!is.na(temperatura)\n",
    "temperatura != is.na(temperatura)\n",
    "\n",
    "# Saída Vetorial\n",
    "temperatura[!is.na(temperatura)]\n",
    "\n",
    "# Saída tabular\n",
    "table(is.na(temperatura))"
   ]
  },
  {
   "cell_type": "code",
   "execution_count": 27,
   "id": "19419a46",
   "metadata": {},
   "outputs": [
    {
     "data": {
      "text/html": [
       "7"
      ],
      "text/latex": [
       "7"
      ],
      "text/markdown": [
       "7"
      ],
      "text/plain": [
       "[1] 7"
      ]
     },
     "metadata": {},
     "output_type": "display_data"
    }
   ],
   "source": [
    "# 4-4\n",
    "which(is.na(temperatura))"
   ]
  },
  {
   "cell_type": "code",
   "execution_count": null,
   "id": "f03e17d5",
   "metadata": {},
   "outputs": [],
   "source": []
  }
 ],
 "metadata": {
  "kernelspec": {
   "display_name": "R",
   "language": "R",
   "name": "ir"
  },
  "language_info": {
   "codemirror_mode": "r",
   "file_extension": ".r",
   "mimetype": "text/x-r-source",
   "name": "R",
   "pygments_lexer": "r",
   "version": "3.6.1"
  }
 },
 "nbformat": 4,
 "nbformat_minor": 5
}
