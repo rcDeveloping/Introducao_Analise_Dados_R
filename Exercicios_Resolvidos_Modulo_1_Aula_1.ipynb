{
 "cells": [
  {
   "cell_type": "markdown",
   "id": "f2f21ca3",
   "metadata": {},
   "source": [
    "## Exercício Prático - Instalar e Carregar Pacotes"
   ]
  },
  {
   "cell_type": "markdown",
   "id": "0f0de0e9",
   "metadata": {},
   "source": [
    "## Exercício Prático - Ambiente de trabalho"
   ]
  },
  {
   "cell_type": "code",
   "execution_count": null,
   "id": "79aa9557",
   "metadata": {},
   "outputs": [],
   "source": [
    "getwd()"
   ]
  },
  {
   "cell_type": "code",
   "execution_count": null,
   "id": "7db04309",
   "metadata": {},
   "outputs": [],
   "source": [
    "setwd('C:/Users/Downloads')"
   ]
  },
  {
   "cell_type": "markdown",
   "id": "39e382ca",
   "metadata": {},
   "source": [
    "## Exercício Prático - Operadores Aritméticos e de Atribuição"
   ]
  },
  {
   "cell_type": "code",
   "execution_count": null,
   "id": "2baf680e",
   "metadata": {},
   "outputs": [],
   "source": [
    "10 %% 3"
   ]
  },
  {
   "cell_type": "code",
   "execution_count": null,
   "id": "2df4d95c",
   "metadata": {},
   "outputs": [],
   "source": [
    "10 %/% 3"
   ]
  },
  {
   "cell_type": "code",
   "execution_count": null,
   "id": "89379935",
   "metadata": {},
   "outputs": [],
   "source": [
    "4 ^^ 2\n",
    "# 4 ** 2"
   ]
  },
  {
   "cell_type": "markdown",
   "id": "5fa335aa",
   "metadata": {},
   "source": [
    "## Exercício Pártico - Vetores e Operadores de Comparação"
   ]
  },
  {
   "cell_type": "code",
   "execution_count": null,
   "id": "ac5da648",
   "metadata": {},
   "outputs": [],
   "source": [
    "temperatura <- c(26.38452, 26.90357, 27.04064, 27.42467, \n",
    "                 28.53548, 28.90000, NA, 29.73818, \n",
    "                 30.54667, 27.21652, 27.28800, 27.84000)"
   ]
  },
  {
   "cell_type": "code",
   "execution_count": null,
   "id": "a95c5d51",
   "metadata": {},
   "outputs": [],
   "source": [
    "# 1-4\n",
    "media > mean(temperatura, na.rm = TRUE)"
   ]
  },
  {
   "cell_type": "code",
   "execution_count": null,
   "id": "ea665699",
   "metadata": {},
   "outputs": [],
   "source": [
    "# 2-4\n",
    "# Saída lógica\n",
    "temperatura > media\n",
    "\n",
    "# Saída vetorial\n",
    "temperatura[temperatura > media]"
   ]
  },
  {
   "cell_type": "code",
   "execution_count": null,
   "id": "3530dbca",
   "metadata": {},
   "outputs": [],
   "source": [
    "# 3-4\n",
    "# Saídas lógicas\n",
    "!is.na(temperatura)\n",
    "temperatura != is.na(temperatura)\n",
    "\n",
    "# Saída Vetorial\n",
    "temperatura[!is.na(temperatura)],\n",
    "\n",
    "# 4-4\n",
    "# Saída tabular\n",
    "table(is.na(temperatura))"
   ]
  }
 ],
 "metadata": {
  "kernelspec": {
   "display_name": "R",
   "language": "R",
   "name": "ir"
  },
  "language_info": {
   "codemirror_mode": "r",
   "file_extension": ".r",
   "mimetype": "text/x-r-source",
   "name": "R",
   "pygments_lexer": "r",
   "version": "4.2.0"
  }
 },
 "nbformat": 4,
 "nbformat_minor": 5
}
