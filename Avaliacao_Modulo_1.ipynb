{
 "cells": [
  {
   "cell_type": "markdown",
   "id": "1aa57cd7",
   "metadata": {},
   "source": [
    "## Avaliação Prática - Módulo 1 - Introdução à Análise de Dados com Liguagem R."
   ]
  },
  {
   "cell_type": "markdown",
   "id": "de0328ad",
   "metadata": {},
   "source": [
    "### Questão 1\n",
    "Qual dos caracteres a seguir é utilizado para inserir comentários simples em R:"
   ]
  },
  {
   "cell_type": "markdown",
   "id": "759372c0",
   "metadata": {},
   "source": [
    "a)  //\n",
    "\n",
    "b)  /\n",
    "\n",
    "c)  --\n",
    "\n",
    "d)  #"
   ]
  },
  {
   "cell_type": "markdown",
   "id": "62c0c4dc",
   "metadata": {},
   "source": [
    "### Questão 2"
   ]
  },
  {
   "cell_type": "code",
   "execution_count": 12,
   "id": "1adea2fd",
   "metadata": {},
   "outputs": [
    {
     "data": {
      "text/html": [
       "<table class=\"dataframe\">\n",
       "<caption>A matrix: 3 × 3 of type int</caption>\n",
       "<tbody>\n",
       "\t<tr><td>1</td><td>4</td><td>7</td></tr>\n",
       "\t<tr><td>2</td><td>5</td><td>8</td></tr>\n",
       "\t<tr><td>3</td><td>6</td><td>9</td></tr>\n",
       "</tbody>\n",
       "</table>\n"
      ],
      "text/latex": [
       "A matrix: 3 × 3 of type int\n",
       "\\begin{tabular}{lll}\n",
       "\t 1 & 4 & 7\\\\\n",
       "\t 2 & 5 & 8\\\\\n",
       "\t 3 & 6 & 9\\\\\n",
       "\\end{tabular}\n"
      ],
      "text/markdown": [
       "\n",
       "A matrix: 3 × 3 of type int\n",
       "\n",
       "| 1 | 4 | 7 |\n",
       "| 2 | 5 | 8 |\n",
       "| 3 | 6 | 9 |\n",
       "\n"
      ],
      "text/plain": [
       "     [,1] [,2] [,3]\n",
       "[1,] 1    4    7   \n",
       "[2,] 2    5    8   \n",
       "[3,] 3    6    9   "
      ]
     },
     "metadata": {},
     "output_type": "display_data"
    }
   ],
   "source": [
    "x <- matrix(1:9, nrow = 3)\n",
    "x"
   ]
  },
  {
   "cell_type": "markdown",
   "id": "83fdfefa",
   "metadata": {},
   "source": [
    "Considerando a matriz \"x\" anterior, marque a solução que, sem ter que digitar todo o comando de criação da matrix, mostre a seguinte saída."
   ]
  },
  {
   "cell_type": "code",
   "execution_count": 14,
   "id": "a7fde99e",
   "metadata": {},
   "outputs": [
    {
     "data": {
      "text/html": [
       "<table class=\"dataframe\">\n",
       "<caption>A matrix: 3 × 3 of type dbl</caption>\n",
       "<tbody>\n",
       "\t<tr><td>1</td><td>2</td><td>7</td></tr>\n",
       "\t<tr><td>2</td><td>5</td><td>8</td></tr>\n",
       "\t<tr><td>3</td><td>6</td><td>9</td></tr>\n",
       "</tbody>\n",
       "</table>\n"
      ],
      "text/latex": [
       "A matrix: 3 × 3 of type dbl\n",
       "\\begin{tabular}{lll}\n",
       "\t 1 & 2 & 7\\\\\n",
       "\t 2 & 5 & 8\\\\\n",
       "\t 3 & 6 & 9\\\\\n",
       "\\end{tabular}\n"
      ],
      "text/markdown": [
       "\n",
       "A matrix: 3 × 3 of type dbl\n",
       "\n",
       "| 1 | 2 | 7 |\n",
       "| 2 | 5 | 8 |\n",
       "| 3 | 6 | 9 |\n",
       "\n"
      ],
      "text/plain": [
       "     [,1] [,2] [,3]\n",
       "[1,] 1    2    7   \n",
       "[2,] 2    5    8   \n",
       "[3,] 3    6    9   "
      ]
     },
     "metadata": {},
     "output_type": "display_data"
    }
   ],
   "source": []
  },
  {
   "cell_type": "markdown",
   "id": "cf9458b1",
   "metadata": {},
   "source": [
    "a) \n",
    "\n",
    "x[1,  2] <- 2\n",
    "\n",
    "x\n",
    "\n",
    "b) \n",
    "\n",
    "x[2,  1] <- 2\n",
    "\n",
    "x\n",
    "\n",
    "c)\n",
    "\n",
    "x[1,  2] - 2\n",
    "\n",
    "x"
   ]
  },
  {
   "cell_type": "markdown",
   "id": "3ddade7c",
   "metadata": {},
   "source": [
    "### Questão 3"
   ]
  },
  {
   "cell_type": "code",
   "execution_count": 7,
   "id": "5d05be07",
   "metadata": {},
   "outputs": [],
   "source": [
    "numeros <- list(\n",
    "        x = c(1, 2, 3), \n",
    "        y = c('one', 'two', 'three'),\n",
    "        z = c('uno', 'dos', 'tres')\n",
    ")"
   ]
  },
  {
   "cell_type": "markdown",
   "id": "5ff82aaf",
   "metadata": {},
   "source": [
    "O código acima é referente a definição de uma lista denominada numeros. Mostre o uso de uma função do R que mostre saída a seguir:"
   ]
  },
  {
   "cell_type": "code",
   "execution_count": 8,
   "id": "66109e1d",
   "metadata": {},
   "outputs": [
    {
     "data": {
      "text/html": [
       "<style>\n",
       ".list-inline {list-style: none; margin:0; padding: 0}\n",
       ".list-inline>li {display: inline-block}\n",
       ".list-inline>li:not(:last-child)::after {content: \"\\00b7\"; padding: 0 .5ex}\n",
       "</style>\n",
       "<ol class=list-inline><li>'x'</li><li>'y'</li><li>'z'</li></ol>\n"
      ],
      "text/latex": [
       "\\begin{enumerate*}\n",
       "\\item 'x'\n",
       "\\item 'y'\n",
       "\\item 'z'\n",
       "\\end{enumerate*}\n"
      ],
      "text/markdown": [
       "1. 'x'\n",
       "2. 'y'\n",
       "3. 'z'\n",
       "\n",
       "\n"
      ],
      "text/plain": [
       "[1] \"x\" \"y\" \"z\""
      ]
     },
     "metadata": {},
     "output_type": "display_data"
    }
   ],
   "source": []
  },
  {
   "cell_type": "markdown",
   "id": "01e60aaa",
   "metadata": {},
   "source": [
    "a) numeros$names\n",
    "\n",
    "b) names(numeros)\n",
    "\n",
    "c) numeros[names]"
   ]
  },
  {
   "cell_type": "markdown",
   "id": "f0947d5b",
   "metadata": {},
   "source": [
    "### Questão 4"
   ]
  },
  {
   "cell_type": "code",
   "execution_count": null,
   "id": "47106ffa",
   "metadata": {},
   "outputs": [],
   "source": [
    "x <- c(4, 5, 6)\n",
    "x --- 5"
   ]
  },
  {
   "cell_type": "markdown",
   "id": "59adb30d",
   "metadata": {},
   "source": [
    "Substitua os hífens la linha de código acima para que produza a seguinte saída:"
   ]
  },
  {
   "cell_type": "markdown",
   "id": "c21bca84",
   "metadata": {},
   "source": [
    "FALSE FALSE  TRUE"
   ]
  },
  {
   "cell_type": "markdown",
   "id": "1046abec",
   "metadata": {},
   "source": [
    "a) x + 1\n",
    "\n",
    "b) x == 0\n",
    "\n",
    "c) x > 5\n",
    "\n",
    "d) x < 10"
   ]
  },
  {
   "cell_type": "markdown",
   "id": "9f3e61a6",
   "metadata": {},
   "source": [
    "### Questão 5\n",
    "Qual destes é um valor lógico em R?\n",
    "\n",
    "a) True\n",
    "\n",
    "b) true\n",
    "\n",
    "c) TRUE"
   ]
  },
  {
   "cell_type": "markdown",
   "id": "0351dd39",
   "metadata": {},
   "source": [
    "### Questão 6\n",
    "Qual a saída deste código:"
   ]
  },
  {
   "cell_type": "code",
   "execution_count": null,
   "id": "a2eeea67",
   "metadata": {},
   "outputs": [],
   "source": [
    "x <- class(6)\n",
    "x"
   ]
  },
  {
   "cell_type": "markdown",
   "id": "57d76426",
   "metadata": {},
   "source": [
    "a) \"Logical\"\n",
    "\n",
    "b) \"numeric\"\n",
    "\n",
    "c) \"character\""
   ]
  },
  {
   "cell_type": "markdown",
   "id": "3240ec30",
   "metadata": {},
   "source": [
    "### Questão 7\n",
    "Complete o código para que produza a saída"
   ]
  },
  {
   "cell_type": "code",
   "execution_count": null,
   "id": "b3a0893f",
   "metadata": {},
   "outputs": [],
   "source": [
    "x <- c(1, 1, 1)\n",
    "\n",
    "# soma todos os elementos do vetor x\n",
    "--- (x)"
   ]
  },
  {
   "cell_type": "markdown",
   "id": "d4dcafc1",
   "metadata": {},
   "source": [
    "a) x * 3\n",
    "\n",
    "b) x + 2\n",
    "\n",
    "c) x - 4\n",
    "\n",
    "d) sum(x)"
   ]
  },
  {
   "cell_type": "markdown",
   "id": "4f2b0c05",
   "metadata": {},
   "source": [
    "### Questão 8\n",
    "Considere um dataframe definido como `df`. Qual comando você utilizaria em R para mostrar o número de `linhas` e `colunas` deste `dataframe`?\n",
    "\n",
    "a) summary(df)\n",
    "\n",
    "b) dim(df)\n",
    "\n",
    "c) attributes(df)\n",
    "\n",
    "d) head(df)"
   ]
  },
  {
   "cell_type": "markdown",
   "id": "f337c0e3",
   "metadata": {},
   "source": [
    "### Questão 9 \n",
    "Considere um dataframe definido como `df`. Qual comando você utilizaria em R para mostrar a estatística descritiva para as colunas (variáveis) deste dataframe?\n",
    "\n",
    "a) dim(df)\n",
    "\n",
    "b) sd(df)\n",
    "\n",
    "c) tail(df)\n",
    "\n",
    "d) summary(df)"
   ]
  },
  {
   "cell_type": "markdown",
   "id": "8f6952f4",
   "metadata": {},
   "source": [
    "### Questão 10\n",
    "Considere um dataframe definido como `df`. Qual comando você utilizaria em R para mostrar as 6 primeiras linhas deste dataframe?\n",
    "\n",
    "a) tail(df)\n",
    "\n",
    "b) cat(df)\n",
    "\n",
    "c) head(df)\n",
    "\n",
    "d) View(df)"
   ]
  },
  {
   "cell_type": "markdown",
   "id": "e498f888",
   "metadata": {},
   "source": [
    "### Questão 11\n",
    "Qual função pode ser utilizada para visualização geral da estrutura dos dados de um `DataFrame`?\n",
    "\n",
    "a) subset( )\n",
    "\n",
    "b) str( )\n",
    "\n",
    "c) frame( )\n",
    "\n",
    "d) struct( )"
   ]
  },
  {
   "cell_type": "code",
   "execution_count": null,
   "id": "c5a961b1",
   "metadata": {},
   "outputs": [],
   "source": []
  }
 ],
 "metadata": {
  "kernelspec": {
   "display_name": "R",
   "language": "R",
   "name": "ir"
  },
  "language_info": {
   "codemirror_mode": "r",
   "file_extension": ".r",
   "mimetype": "text/x-r-source",
   "name": "R",
   "pygments_lexer": "r",
   "version": "4.2.0"
  }
 },
 "nbformat": 4,
 "nbformat_minor": 5
}
