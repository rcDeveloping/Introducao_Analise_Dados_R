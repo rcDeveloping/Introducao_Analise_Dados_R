{
 "cells": [
  {
   "cell_type": "markdown",
   "id": "1aa57cd7",
   "metadata": {},
   "source": [
    "## Avaliação Prática"
   ]
  },
  {
   "cell_type": "markdown",
   "id": "62c0c4dc",
   "metadata": {},
   "source": [
    "### Questão 1"
   ]
  },
  {
   "cell_type": "code",
   "execution_count": null,
   "id": "1adea2fd",
   "metadata": {},
   "outputs": [],
   "source": [
    "x <- matrix(c(3, 2, 8, 12), nrow = 2)\n",
    "x"
   ]
  },
  {
   "cell_type": "markdown",
   "id": "83fdfefa",
   "metadata": {},
   "source": [
    "Considerando a matriz \"x\" anterior, mostre uma solução que, sem ter que digitar todo o comando de criação da matrix, mostre a seguinte saída."
   ]
  },
  {
   "cell_type": "code",
   "execution_count": null,
   "id": "a7fde99e",
   "metadata": {},
   "outputs": [],
   "source": [
    "x[1, 2] <- 4\n",
    "x"
   ]
  },
  {
   "cell_type": "markdown",
   "id": "3ddade7c",
   "metadata": {},
   "source": [
    "### Questão 2"
   ]
  },
  {
   "cell_type": "code",
   "execution_count": null,
   "id": "5d05be07",
   "metadata": {},
   "outputs": [],
   "source": [
    "numeros <- list(\n",
    "        x = c(1, 2, 3), \n",
    "        y = c('one', 'two', 'three'),\n",
    "        z = c('uno', 'dos', 'tres')\n",
    ")"
   ]
  },
  {
   "cell_type": "markdown",
   "id": "5ff82aaf",
   "metadata": {},
   "source": [
    "A saída acima é referente a lista denominada numeros. Mostre o uso de uma função do R que mostre saída a seguir:"
   ]
  },
  {
   "cell_type": "code",
   "execution_count": null,
   "id": "66109e1d",
   "metadata": {},
   "outputs": [],
   "source": [
    "names(numeros)"
   ]
  },
  {
   "cell_type": "markdown",
   "id": "f0947d5b",
   "metadata": {},
   "source": [
    "### Questão 3"
   ]
  },
  {
   "cell_type": "code",
   "execution_count": null,
   "id": "47106ffa",
   "metadata": {},
   "outputs": [],
   "source": []
  }
 ],
 "metadata": {
  "kernelspec": {
   "display_name": "Python 3 (ipykernel)",
   "language": "python",
   "name": "python3"
  },
  "language_info": {
   "codemirror_mode": {
    "name": "ipython",
    "version": 3
   },
   "file_extension": ".py",
   "mimetype": "text/x-python",
   "name": "python",
   "nbconvert_exporter": "python",
   "pygments_lexer": "ipython3",
   "version": "3.9.15"
  }
 },
 "nbformat": 4,
 "nbformat_minor": 5
}
