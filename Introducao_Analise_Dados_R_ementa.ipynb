{
 "cells": [
  {
   "cell_type": "markdown",
   "id": "35c12fdf",
   "metadata": {},
   "source": [
    "<h1 align=\"left\">Introdução à Análise de Dados com Linguagem R</h1>\n",
    "<p style=\"text-align:justify;\">Este curso de introdução à análise de dados com linguagem de programação R se destina à capacitação de analistas ambientais no Núcleo de Biodiversidade do IBAMA no estado Pará, visando análise exploratória e visualização de dados ambientais.</p>\n",
    "<p style=\"text-align:justify\">Neste módulo o aluno dominará os conceitos básicos de codificação visando análise de dados com linguagem R. A escolha da linguagem se dá pelo fato de existirem milhões de usuários de R em todo o mundo, consolidando-a como uma linguagem de programação de destaque na área da estatística e ciência de dados.</p> \n",
    "<p style=\"text-align:justify;\">A importância do uso de uma linguagem de programação para análise de dados no IBAMA se dá pelo seguinte fato: O IBAMA dispõe de mais de uma dezena de sistemas que geram um volume de dados que impede o uso de planilhas para processamento e análise de dados. Ao final do curso espera-se que os analistas melhorem a qualidade e tempo de analises de dados, assim como consigam obter dados de diferentes fontes.</p>\n",
    "<p style=\"text-align:justify\">O curso está estruturado em três módulos: 1 - Introdução à Linguagem R; 2 - R Intermediário e 3 - Importação, Exportação e Manipulação de Dados em R e 4 - Visualização Gráfica de Dados com o pacote ggplot2.</p>"
   ]
  },
  {
   "cell_type": "markdown",
   "id": "213e885e",
   "metadata": {},
   "source": [
    "## Módulo 1 - [Introdução à Linguagem R](https://github.com/rcDeveloping/Introducao_Analise_Dados_R/blob/main/1_Introducao_Linguagem_R.ipynb)\n",
    "### 1.2 Apresentação da Linguagem R e IDE RStudio\n",
    "<p style=\"text-align:justify;\">O aluno se familiarizá com a liguagem através do Ambiente de desenvolvimento integrado (IDE) <i>RStudio</i>. Aprenderá funções básicas da própria linguagem e instalação de pacotes e obtenção de ajuda na IDE.</p>\n",
    "\n",
    "### 1.3 Objetos, Operadores de Atribuição, Operadores Aritméticos e Lógicos em R\n",
    "<p style=\"text-align:justify;\">Será demonstrado o uso dos operadores de atribuições à objetos R, operadores aritméticos e aplicação das principais funções nativas do R para operações aritméticas e lógicas.</p>\n",
    "\n",
    "* Soma, Divisão, Multiplicação, Divisão Inteira, Resto da Divisão\n",
    "* Raízes e logarítmos\n",
    "\n",
    "### 1.4 Estrutura de Dados em R\n",
    "<p style=\"text-align:justify;\">Neste capítulo serão abordados os diferentes tipos de estrutura de dados em R, a saber: vetor, matriz, lista, fator e <i>dataframe</i>.</p>\n",
    "\n",
    "* Vetores\n",
    "    * Tipos: vetor numérico, Vetor lógico e Vetor de caracteres\n",
    "\t* Operações com vetores\n",
    "\t* Funções aplicadas: `class()`, `length()`, `attributes()`, `names()`, `setNames()`, `mean()`, `max()`, `min()`, `seq()`, `rep()`, `any()`, `all()`, `head()`, `tail()`, `is.na()` etc...\n",
    "\t* Coerção de vetores\n",
    "  \n",
    "  \n",
    "* Manipulação de Matrizes\n",
    " * Funções aplicadas: `dimnames()`, `apply()`\n",
    "\n",
    "* Manipulação de Listas\n",
    "    * Funções aplicadas: `lapply()`, `sapply()`, `mapply()`\n",
    "* Criação, importação e manipulação de Dataframes\n",
    "\n",
    "### 1.6 Estudo de Caso\n",
    "<p style=\"text-align:justify;\">O objetivo do módulo 1 será a análise de dois vetores, sendo um contendo dados de um inventário florestal e outro com dados meteorológicos."
   ]
  },
  {
   "cell_type": "markdown",
   "id": "ef6121fe",
   "metadata": {},
   "source": [
    "## Módulo 2 - R Intermediário\n",
    "<p style=\"text-align:justify;\">Neste módulo o aluno irá se familiarizar com o uso de operadores lógicos e com as estruturas de decisão <mark style=\"background-color:lightgrey\">if</mark>, <mark style=\"background-color:lightgrey\">if else</mark> e <mark style=\"background-color:lightgrey\">else</mark>; e as estruturas de repetição ou fluxo de controle (<i>Loop</i>): <i>for</i> e <i>while</i> para iterar sobre vetores e outros objetos em R visando análise de dados. Também será apresentado o uso de função para otimizar rotinas repeitivas, assim como a definição e manipulação de objetos do tipo data.</p>"
   ]
  },
  {
   "cell_type": "markdown",
   "id": "34787cdd",
   "metadata": {},
   "source": [
    "### 2.1 Operadores Lógicos em R\n",
    "\n",
    "| Operador | Descrição | Explicação |\n",
    "|:--------:|:---------:|:------:|\n",
    "| & |AND lógico| Comparação pareada de todos os elementos de dois ou mais vetores | \n",
    "| && |AND lógico| Compara apenas os doi primeiros elemetos de vetores |\n",
    "| \\| | OR lógico | |\n",
    "| \\|\\| | OR lógico |\n",
    "| ! | NOT lógico | Negação lógica.  |\n",
    "| xor | OR exclusivo | Ou Exclusivo. Retorna valor lógico TRUE se ambos os valores de entrada forem diferentes entre si, e retorna FALSE se os valores forem iguais. |"
   ]
  },
  {
   "cell_type": "markdown",
   "id": "728f0602",
   "metadata": {},
   "source": [
    "###  2.2 Uso do if, ifelse e else\n",
    "O aluno irá aprender sobre o uso das instruções `if`, `ifelse` e `else` para adicionar fluxo lógico extra à análise de dados."
   ]
  },
  {
   "cell_type": "markdown",
   "id": "59623624",
   "metadata": {},
   "source": [
    "## 2.3 Loops - Fluxos de Controle\n",
    "Os _loops_ são úteis para fazer a mesma operação em cada elemento de sua estrutura de dados. Neste capítulo, o aluno aprenderá os _loops_ `while` e `for`."
   ]
  },
  {
   "cell_type": "markdown",
   "id": "402fb692",
   "metadata": {},
   "source": [
    "### 2.4 Funções em R\n",
    "<p style=\"text-align:justify;\">Será apresentado uma introdução à sintax para criação de função em R para automatizar rotinas na manipulação de dados.</p>"
   ]
  },
  {
   "cell_type": "markdown",
   "id": "49eb9503",
   "metadata": {},
   "source": [
    "## Módulo 3 - Importação, Exportação e Manipulação de Dados em R\n",
    "O aluno aprenderá como importar dados nos principais formatos de arquivos utilizados para armanezar conjutos de dados, a exemplo de: `.xlsx`, `.csv`, `tsv`, `.txt`, `.RDS`, `.RData`, `.fst`, `.dbf`, `.sas7bdat`, `.dta`  e `.sav`; além de dominar habilidades para processamento e manipulação de _dataframes_ utilizando apenas comandos R e os principais verbos dos pacotes `dplyr`, `tidyverse` e `lubridate`.\n",
    "O aluno aprenderá a ler dados diretamente de _sites_ que dispôe dados, facilitando a atualização destes quando da análise. Será dado ênfase em como acessar dados do <a heref=\"https://dados.gov.br/dataset\">Portal Brasileiro de Dados Abertos</a>, o qual possui dados do IBAMA, dentre outros órgãos públicos."
   ]
  },
  {
   "cell_type": "markdown",
   "id": "9867d249",
   "metadata": {},
   "source": [
    "### 3.1 Limpeza de Dados\n",
    "<p style=\"text-align:justify\">Dados apesar de muitas proverem de bases de dados, os as tabelas possuem estrutaração de seus dados, algumas vezes essas informações são alimentadas de forma que necessitem de algum processamento para permitir análise. Outros dados provém de fontes não estruturadas como simples planilhas ou mesmo conjuto de dados de <a href=\"https://aws.amazon.com/pt/big-data/datalakes-and-analytics/what-is-a-data-lake/\"><i>datalake</i></a>, o que não exige uma formatação de dados rigorosamente padronizada, necessitando de uma processamento de dados maior para análise dos dados.</p>"
   ]
  },
  {
   "cell_type": "markdown",
   "id": "0e289dc5",
   "metadata": {},
   "source": [
    "### 3.2 Joining Data\n",
    "O aluno aprenderá como juntar diferentes conjutos de dados visando cruzamento de informações de interesse."
   ]
  },
  {
   "cell_type": "markdown",
   "id": "9980f0aa",
   "metadata": {},
   "source": [
    "### 4 Visualização Gráfica de Dados com o pacote ggplot2\n",
    "<p style=\"text-align:justify\">Neste módulo o aluno aprenderá que tipo de gráfico utilizar de acordo com o tipo de variáveis de seu conjunto de dados. Será utilizado o pacote <mark style=\"background-color:lightgrey;\"><i>ggplot2</i></mark> para geração e interpretação de gráficos do tipo:</p>\n",
    "\n",
    "* _Boxplot_ - Utilizado para interpretar resultdo de estatística descritiva de conjuto de dados.\n",
    " \n",
    "* _Histogram_ - Utilizado para conhecer a distribuição de uma variável de interesse.\n",
    " \n",
    "* _Scatterplot_ - Utilizado para avaliar a correlação entre duas variáveis.\n",
    " \n",
    "* _Barplot_ - Utilizado para analisar analisar variáveis discretas.\n",
    " \n",
    "* _Lineplot_ - Utilizado para analisar o comportamento de uma varipavel ao longo de um determinado intervalo de tempo."
   ]
  },
  {
   "cell_type": "code",
   "execution_count": null,
   "id": "c5cf4c79",
   "metadata": {},
   "outputs": [],
   "source": []
  }
 ],
 "metadata": {
  "kernelspec": {
   "display_name": "R",
   "language": "R",
   "name": "ir"
  },
  "language_info": {
   "codemirror_mode": "r",
   "file_extension": ".r",
   "mimetype": "text/x-r-source",
   "name": "R",
   "pygments_lexer": "r",
   "version": "4.2.0"
  }
 },
 "nbformat": 4,
 "nbformat_minor": 5
}
