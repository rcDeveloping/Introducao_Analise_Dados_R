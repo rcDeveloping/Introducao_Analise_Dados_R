{
 "cells": [
  {
   "cell_type": "markdown",
   "id": "f61c2141",
   "metadata": {},
   "source": [
    "<h1 align=\"center\">Introdução à Análise de Dados com Linguagem R</h1>"
   ]
  },
  {
   "cell_type": "markdown",
   "id": "7988d566",
   "metadata": {},
   "source": [
    "## Aula 5"
   ]
  },
  {
   "cell_type": "markdown",
   "id": "d453e297",
   "metadata": {},
   "source": [
    "## Salvar Data Frame"
   ]
  },
  {
   "cell_type": "markdown",
   "id": "3389db6c",
   "metadata": {},
   "source": [
    "### .csv"
   ]
  },
  {
   "cell_type": "code",
   "execution_count": null,
   "id": "e817fdee",
   "metadata": {},
   "outputs": [],
   "source": [
    "# criar um data frame\n",
    "df <- data.frame(\n",
    "    id = c(1, 2, 3, 4, 5),\n",
    "    nome = c('Mezilaurus itauba', 'Apuleia leiocarpa', 'Cedrela odorata', \n",
    "             'Amburana acreana', 'Hymenolobium excelsum'),\n",
    "    volume = c(3.25, 6.51, 7.45, 8.81, 4.35)\n",
    ")"
   ]
  },
  {
   "cell_type": "code",
   "execution_count": null,
   "id": "6be3e0d2",
   "metadata": {},
   "outputs": [],
   "source": [
    "# Salvar no disco como arquivo .csv\n",
    "write.csv2(df, './output/data_frame.csv')"
   ]
  },
  {
   "cell_type": "markdown",
   "id": "a571d298",
   "metadata": {},
   "source": [
    "### .txt"
   ]
  },
  {
   "cell_type": "code",
   "execution_count": null,
   "id": "9987f318",
   "metadata": {},
   "outputs": [],
   "source": [
    "# Salvar no disco como arquivo .txt\n",
    "write.table(df, './data_frame.txt', row.names = FALSE)"
   ]
  },
  {
   "cell_type": "markdown",
   "id": "e72a31b9",
   "metadata": {},
   "source": [
    "## 2. Fatores\n",
    "<p style=\"text-align:justify;\">Em R as variáveis categóricas podem ser classificadas e ordenadas através da função <mark style=\"background-color:#F4F4F4\">factor( )</mark>. Ao converter ordenar categoricamente um vetor através desta função, nosso vetor passa a ser denominado de fator.</p> "
   ]
  },
  {
   "cell_type": "code",
   "execution_count": 4,
   "id": "c8609fa0",
   "metadata": {},
   "outputs": [],
   "source": [
    "# Definir o vetor de dados categóricos \"sexo\"\n",
    "sexo <- c(\"macho\", \"femea\", \"femea\", \"macho\", \n",
    "          \"macho\", \"macho\", \"femea\", \"macho\")"
   ]
  },
  {
   "cell_type": "markdown",
   "id": "b6017e48",
   "metadata": {},
   "source": [
    "<p style=\"text-align:justify;\">O trecho de código a seguir mostra a estrutura do vetor <mark style=\"background-color:#F4F4F4\">sexo</mark>, obtida através da função <mark style=\"background-color:#F4F4F4\">str( )</mark>, o retorno desta função nos diz que o tipo de vetor em questão é caracteres e possui oito elementos.</p>\n",
    "<p style=\"text-align:justify;\">A função <mark style=\"background-color:#F4F4F4\">levels( )</mark> é utilizada para inspecionar os níveis de um fator, como nosso vetor não foi definido como fator retorna <mark style=\"background-color:#F4F4F4\">NULL,</mark>.</p>"
   ]
  },
  {
   "cell_type": "code",
   "execution_count": 5,
   "id": "ee34e078",
   "metadata": {},
   "outputs": [
    {
     "name": "stdout",
     "output_type": "stream",
     "text": [
      " chr [1:8] \"macho\" \"femea\" \"femea\" \"macho\" \"macho\" \"macho\" \"femea\" \"macho\"\n"
     ]
    }
   ],
   "source": [
    "# Checar a estrutura do vetor\n",
    "str(sexo)"
   ]
  },
  {
   "cell_type": "code",
   "execution_count": 6,
   "id": "a6ea72a8",
   "metadata": {},
   "outputs": [
    {
     "data": {
      "text/plain": [
       "   Length     Class      Mode \n",
       "        8 character character "
      ]
     },
     "metadata": {},
     "output_type": "display_data"
    }
   ],
   "source": [
    "# Resumir os dados do vetor sexo\n",
    "summary(sexo)"
   ]
  },
  {
   "cell_type": "code",
   "execution_count": 7,
   "id": "e868e00e",
   "metadata": {},
   "outputs": [
    {
     "data": {
      "text/plain": [
       "NULL"
      ]
     },
     "metadata": {},
     "output_type": "display_data"
    }
   ],
   "source": [
    "# checar os níveis do vetor\n",
    "levels(sexo)"
   ]
  },
  {
   "cell_type": "markdown",
   "id": "a742cc90",
   "metadata": {},
   "source": [
    "<p style=\"text-align:justify;\">Outra forma de verificar se um vetor de variáveis categóricas possui fatores é através da função <mark style=\"background-color:#F4F4F4\">is.factor( )</mark>. Esta função retorna TRUE em caso do vetor possuir fatores definidos, caso contrário retorna FALSE.</p>"
   ]
  },
  {
   "cell_type": "code",
   "execution_count": 8,
   "id": "7a143bd7",
   "metadata": {},
   "outputs": [
    {
     "data": {
      "text/html": [
       "FALSE"
      ],
      "text/latex": [
       "FALSE"
      ],
      "text/markdown": [
       "FALSE"
      ],
      "text/plain": [
       "[1] FALSE"
      ]
     },
     "metadata": {},
     "output_type": "display_data"
    }
   ],
   "source": [
    "# Checar se uma vetor é um fator\n",
    "is.factor(sexo)"
   ]
  },
  {
   "cell_type": "markdown",
   "id": "a88b26d1",
   "metadata": {},
   "source": [
    "A seguir definimos o vetor sexo como fator"
   ]
  },
  {
   "cell_type": "code",
   "execution_count": 9,
   "id": "5b0904b5",
   "metadata": {},
   "outputs": [],
   "source": [
    "# Converter o vetor sexo para fator\n",
    "sexo_fator <- factor(sexo, levels = c(\"macho\", \"femea\"))"
   ]
  },
  {
   "cell_type": "code",
   "execution_count": 10,
   "id": "f9944c73",
   "metadata": {},
   "outputs": [
    {
     "name": "stdout",
     "output_type": "stream",
     "text": [
      " Factor w/ 2 levels \"macho\",\"femea\": 1 2 2 1 1 1 2 1\n"
     ]
    }
   ],
   "source": [
    "# checar a estrutura do fator\n",
    "str(sexo_fator)"
   ]
  },
  {
   "cell_type": "code",
   "execution_count": 11,
   "id": "056631c9",
   "metadata": {
    "scrolled": true
   },
   "outputs": [
    {
     "data": {
      "text/html": [
       "<ol class=list-inline>\n",
       "\t<li>'macho'</li>\n",
       "\t<li>'femea'</li>\n",
       "</ol>\n"
      ],
      "text/latex": [
       "\\begin{enumerate*}\n",
       "\\item 'macho'\n",
       "\\item 'femea'\n",
       "\\end{enumerate*}\n"
      ],
      "text/markdown": [
       "1. 'macho'\n",
       "2. 'femea'\n",
       "\n",
       "\n"
      ],
      "text/plain": [
       "[1] \"macho\" \"femea\""
      ]
     },
     "metadata": {},
     "output_type": "display_data"
    }
   ],
   "source": [
    "# checar os níveis do fator\n",
    "levels(sexo_fator)"
   ]
  },
  {
   "cell_type": "code",
   "execution_count": 18,
   "id": "fbc81236",
   "metadata": {},
   "outputs": [
    {
     "data": {
      "image/png": "[encoded data removed]",
      "text/plain": [
       "plot without title"
      ]
     },
     "metadata": {},
     "output_type": "display_data"
    }
   ],
   "source": [
    "# Resumir os dados do fator sexo através de um gráfico\n",
    "plot(sexo_fator)"
   ]
  },
  {
   "cell_type": "markdown",
   "id": "e4b0323e",
   "metadata": {},
   "source": [
    "O código abaixo mostra como atribuir rótulos ao níveis do fatores:"
   ]
  },
  {
   "cell_type": "code",
   "execution_count": null,
   "id": "f9dea4e4",
   "metadata": {},
   "outputs": [],
   "source": [
    "sexo_fator <- factor(sexo, levels = c(\"macho\", \"femea\"), \n",
    "                     labels = c(\"M\", \"F\"))\n",
    "\n",
    "str(sexo_fator)\n",
    "levels(sexo_fator)"
   ]
  },
  {
   "cell_type": "markdown",
   "id": "db90ad74",
   "metadata": {},
   "source": [
    "## 3. Listas"
   ]
  },
  {
   "cell_type": "markdown",
   "id": "9795aeb9",
   "metadata": {},
   "source": [
    "<p style=\"text-align:justify\">Imagine que você precisa ir ao supermercado, para se manter organizado e lembrar o que comprar, você provavelmente fará uma lista de compras. Pense no que pode haver nessa lista: Cereais, papel toalha, frutas, detergente... Vários tipos de coisas com formas e estruturas diferentes. Não importa o que seja, se você puder lembar, poderá colocá-los em sua lista. Assim como sua lista de compras, em R, existe um tipo de superestrutura de dados, também chamada de Lista, que permite agrupar outras estruturas de dados em, digamos, uma lista.</p>\n",
    "<p style=\"text-align:justify\">Para criar uma lista é simples, basta usar a função <b><mark style=\"background-color:#F4F4F4\">list( )</b></mark> e passar todas as estruturas de dados que você deseja dentro de sua lista.</p>"
   ]
  },
  {
   "cell_type": "code",
   "execution_count": 30,
   "id": "70fc76c6",
   "metadata": {},
   "outputs": [
    {
     "name": "stdout",
     "output_type": "stream",
     "text": [
      "[[1]]\n",
      "[1] \"Portaria MMA nº 300/2022\"                                      \n",
      "[2] \"Publicado em: 14/12/2022 | Edição: 234 | Seção: 1 | Página: 75\"\n",
      "\n",
      "[[2]]\n",
      "[1] \"Apuleia leiocarpa\" \"Cedrela odorata\"   \"Mezilaurus itauba\"\n",
      "\n",
      "[[3]]\n",
      "[1] 35255.456     8.000    12.525    32.000\n",
      "\n",
      "[[4]]\n",
      "[1] \"Harpia harpyja\"           \"Circus cinereus\"         \n",
      "[3] \"Amadonastur lacernulatus\"\n",
      "\n",
      "[[5]]\n",
      "[1] 2 5 1\n",
      "\n"
     ]
    }
   ],
   "source": [
    "lista <- list(c('Portaria MMA nº 300/2022', 'Publicado em: 14/12/2022 | Edição: 234 | Seção: 1 | Página: 75'), \n",
    "              c('Apuleia leiocarpa', 'Cedrela odorata', 'Mezilaurus itauba'),\n",
    "              c(35255.456, 8.000, 12.525,32),\n",
    "             c('Harpia harpyja', 'Circus cinereus', 'Amadonastur lacernulatus'),\n",
    "             c(2, 5, 1))\n",
    "\n",
    "print(lista)"
   ]
  },
  {
   "cell_type": "markdown",
   "id": "54ea1498",
   "metadata": {},
   "source": [
    "## Acessando elementos em uma lista"
   ]
  },
  {
   "cell_type": "code",
   "execution_count": 32,
   "id": "dff311de",
   "metadata": {},
   "outputs": [
    {
     "name": "stdout",
     "output_type": "stream",
     "text": [
      "[1] \"Portaria MMA nº 300/2022\"\n"
     ]
    }
   ],
   "source": [
    "# Primeiro valor do primeiro objeto da lista (vetor)\n",
    "print(lista[[1]][[1]])"
   ]
  },
  {
   "cell_type": "code",
   "execution_count": 33,
   "id": "f8ae5658",
   "metadata": {},
   "outputs": [
    {
     "name": "stdout",
     "output_type": "stream",
     "text": [
      "[1] \"Apuleia leiocarpa\"\n"
     ]
    }
   ],
   "source": [
    "# Primeiro valor do segundo vetor da lista\n",
    "print(lista[[2]][[1]])"
   ]
  },
  {
   "cell_type": "code",
   "execution_count": 34,
   "id": "accb5ba2",
   "metadata": {},
   "outputs": [
    {
     "name": "stdout",
     "output_type": "stream",
     "text": [
      "[[1]]\n",
      "[1] 35255.456     8.000    12.525    32.000\n",
      "\n"
     ]
    }
   ],
   "source": [
    "# Todos os elementos do terceiro vetor da lista\n",
    "print(lista[3])"
   ]
  },
  {
   "cell_type": "code",
   "execution_count": 35,
   "id": "702ad7f2",
   "metadata": {},
   "outputs": [
    {
     "name": "stdout",
     "output_type": "stream",
     "text": [
      "[[1]]\n",
      "[1] \"Apuleia leiocarpa\" \"Cedrela odorata\"   \"Mezilaurus itauba\"\n",
      "\n",
      "[[2]]\n",
      "[1] \"Harpia harpyja\"           \"Circus cinereus\"         \n",
      "[3] \"Amadonastur lacernulatus\"\n",
      "\n"
     ]
    }
   ],
   "source": [
    "# Segundo e quarto elementos da lista\n",
    "print(lista[c(2, 4)])"
   ]
  },
  {
   "cell_type": "markdown",
   "id": "d9371b2b",
   "metadata": {},
   "source": [
    "## Nomear os elementos de uma lista"
   ]
  },
  {
   "cell_type": "code",
   "execution_count": 36,
   "id": "e69d4941",
   "metadata": {},
   "outputs": [],
   "source": [
    "names(lista) <- c('dispositivo_legal', 'flora', 'volume_madeira_serrada',\n",
    "                  'fauna', 'apreenssão_ibama')"
   ]
  },
  {
   "cell_type": "code",
   "execution_count": 39,
   "id": "8f1d399c",
   "metadata": {},
   "outputs": [
    {
     "data": {
      "text/html": [
       "'Portaria MMA nº 300/2022'"
      ],
      "text/latex": [
       "'Portaria MMA nº 300/2022'"
      ],
      "text/markdown": [
       "'Portaria MMA nº 300/2022'"
      ],
      "text/plain": [
       "[1] \"Portaria MMA nº 300/2022\""
      ]
     },
     "metadata": {},
     "output_type": "display_data"
    }
   ],
   "source": [
    "# No primeiro elemento da lista, filtrar o primeiro sub-elemento\n",
    "lista$dispositivo_legal[[1]]"
   ]
  },
  {
   "cell_type": "code",
   "execution_count": 40,
   "id": "9b0db944",
   "metadata": {},
   "outputs": [
    {
     "data": {
      "text/html": [
       "'Apuleia leiocarpa'"
      ],
      "text/latex": [
       "'Apuleia leiocarpa'"
      ],
      "text/markdown": [
       "'Apuleia leiocarpa'"
      ],
      "text/plain": [
       "[1] \"Apuleia leiocarpa\""
      ]
     },
     "metadata": {},
     "output_type": "display_data"
    }
   ],
   "source": [
    "# No segundo elemento da lista, filtar o primeiro sub-elemento\n",
    "# No elemento flora, filtrar a primeira espécie\n",
    "lista$flora[[1]]"
   ]
  },
  {
   "cell_type": "code",
   "execution_count": 43,
   "id": "69c0d3d4",
   "metadata": {},
   "outputs": [
    {
     "name": "stdout",
     "output_type": "stream",
     "text": [
      "[1] 35255.456     8.000    12.525    32.000\n"
     ]
    }
   ],
   "source": [
    "# Todos os sub-elementos do elemento \"volume_madeira_serrada\"\n",
    "print(lista$volume_madeira_serrada)"
   ]
  },
  {
   "cell_type": "markdown",
   "id": "b6d34a13",
   "metadata": {},
   "source": [
    "## Funções Aplicadas à lista"
   ]
  },
  {
   "cell_type": "markdown",
   "id": "28abab40",
   "metadata": {},
   "source": [
    "* `str` e `summary`"
   ]
  },
  {
   "cell_type": "code",
   "execution_count": 44,
   "id": "2a3d1cd9",
   "metadata": {},
   "outputs": [
    {
     "name": "stdout",
     "output_type": "stream",
     "text": [
      "List of 5\n",
      " $ dispositivo_legal     : chr [1:2] \"Portaria MMA nº 300/2022\" \"Publicado em: 14/12/2022 | Edição: 234 | Seção: 1 | Página: 75\"\n",
      " $ flora                 : chr [1:3] \"Apuleia leiocarpa\" \"Cedrela odorata\" \"Mezilaurus itauba\"\n",
      " $ volume_madeira_serrada: num [1:4] 35255.5 8 12.5 32\n",
      " $ fauna                 : chr [1:3] \"Harpia harpyja\" \"Circus cinereus\" \"Amadonastur lacernulatus\"\n",
      " $ apreenssão_ibama      : num [1:3] 2 5 1\n"
     ]
    }
   ],
   "source": [
    "# Verificar a estrutua da lista\n",
    "str(lista)"
   ]
  },
  {
   "cell_type": "code",
   "execution_count": 45,
   "id": "af23314c",
   "metadata": {},
   "outputs": [
    {
     "data": {
      "text/plain": [
       "                       Length Class  Mode     \n",
       "dispositivo_legal      2      -none- character\n",
       "flora                  3      -none- character\n",
       "volume_madeira_serrada 4      -none- numeric  \n",
       "fauna                  3      -none- character\n",
       "apreenssão_ibama       3      -none- numeric  "
      ]
     },
     "metadata": {},
     "output_type": "display_data"
    }
   ],
   "source": [
    "# Obter um resumo dos dados armazenados na lista\n",
    "summary(lista)"
   ]
  },
  {
   "cell_type": "code",
   "execution_count": 46,
   "id": "38984a32",
   "metadata": {},
   "outputs": [
    {
     "data": {
      "text/plain": [
       "    Min.  1st Qu.   Median     Mean  3rd Qu.     Max. \n",
       "    8.00    11.39    22.26  8827.00  8837.86 35255.46 "
      ]
     },
     "metadata": {},
     "output_type": "display_data"
    }
   ],
   "source": [
    "# Obter um resumo dos dados armazenados apenas no elemento \"volume_madeira_serrada\" da lista\n",
    "summary(lista$volume_madeira_serrada)"
   ]
  },
  {
   "cell_type": "markdown",
   "id": "3334fd7e",
   "metadata": {},
   "source": [
    "* lapply e sapply\n",
    "\n",
    "As funções `lapply` e `sapply` são uma variação da função `apply` para iterar sobre aos elementos de uma lista. Esta funções diferem somente na forma como os resultados são mostrados na tela. Para a função `lapply` a saída é na forma de lista, enquanto `sapply` apresenta uma saída vetorial."
   ]
  },
  {
   "cell_type": "code",
   "execution_count": 50,
   "id": "a840773d",
   "metadata": {},
   "outputs": [
    {
     "name": "stdout",
     "output_type": "stream",
     "text": [
      "[[1]]\n",
      "[1] 1.565\n",
      "\n",
      "[[2]]\n",
      "[1] 15.142\n",
      "\n"
     ]
    }
   ],
   "source": [
    "lista = list(x = c(1.55, 1.15, 1.71, 1.89, 1.65, 1.44), \n",
    "             y = c(12.51, 9.89, 21.22, 22.11, 9.98))\n",
    "\n",
    "print(lapply(lista, mean))"
   ]
  },
  {
   "cell_type": "code",
   "execution_count": 22,
   "id": "539e160f",
   "metadata": {},
   "outputs": [
    {
     "name": "stdout",
     "output_type": "stream",
     "text": [
      "     x      y \n",
      " 1.565 15.142 \n"
     ]
    }
   ],
   "source": [
    "# Média para cada elemento da lista\n",
    "print(sapply(lista, mean))"
   ]
  },
  {
   "cell_type": "code",
   "execution_count": 51,
   "id": "c3ecf58f",
   "metadata": {},
   "outputs": [
    {
     "name": "stdout",
     "output_type": "stream",
     "text": [
      "[1] 1.565\n"
     ]
    }
   ],
   "source": [
    "# Média apenas do elemento x da lista\n",
    "print(mean(lista[[1]]))"
   ]
  },
  {
   "cell_type": "markdown",
   "id": "c8ae0c62",
   "metadata": {},
   "source": [
    "* **`toString()`**"
   ]
  },
  {
   "cell_type": "code",
   "execution_count": 25,
   "id": "76065ef5",
   "metadata": {},
   "outputs": [
    {
     "name": "stdout",
     "output_type": "stream",
     "text": [
      "[1] \"c(1.55, 1.15, 1.71, 1.89, 1.65, 1.44), c(12.51, 9.89, 21.22, 22.11, 9.98)\"\n"
     ]
    }
   ],
   "source": [
    "print(toString(lista))"
   ]
  },
  {
   "cell_type": "markdown",
   "id": "8780cdea",
   "metadata": {},
   "source": [
    "## Converter Vetor para Lista\n",
    "Há duas maneiras de converter um vetor para lista, uma delas é usar a função `list()` e passar como parâmetro o nome do vetor, a outra forma é usar a função `as.list()`. A diferença entre essas essas função é que `list()` produzirá uma lista formada pelos várias elementos do vetor, ao passo que a função `as.list()` irá gerar uma lista para cada elemento do vetor, coforme demonstrado no código a seguir."
   ]
  },
  {
   "cell_type": "code",
   "execution_count": 61,
   "id": "57d316fc",
   "metadata": {
    "scrolled": false
   },
   "outputs": [
    {
     "name": "stdout",
     "output_type": "stream",
     "text": [
      "[[1]]\n",
      " [1]  1  2  3  4  5  6  7  8  9 10 11 12 13 14 15 16 17 18 19 20 21 22 23 24 25\n",
      "[26] 26\n",
      "\n",
      "[[2]]\n",
      " [1] \"a\" \"b\" \"c\" \"d\" \"e\" \"f\" \"g\" \"h\" \"i\" \"j\" \"k\" \"l\" \"m\" \"n\" \"o\" \"p\" \"q\" \"r\" \"s\"\n",
      "[20] \"t\" \"u\" \"v\" \"w\" \"x\" \"y\" \"z\"\n",
      "\n"
     ]
    }
   ],
   "source": [
    "# Definição do vetor \"numeros\"\n",
    "numeros <- c(1:26)\n",
    "\n",
    "# Definição do vetor \"letas\"\n",
    "letras <- letters\n",
    "\n",
    "lista <- list(numeros, letras)\n",
    "\n",
    "print(lista)"
   ]
  },
  {
   "cell_type": "markdown",
   "id": "e340f6c4",
   "metadata": {},
   "source": [
    "* **`as.list()`**"
   ]
  },
  {
   "cell_type": "code",
   "execution_count": 15,
   "id": "14034fd8",
   "metadata": {},
   "outputs": [
    {
     "name": "stdout",
     "output_type": "stream",
     "text": [
      "[[1]]\n",
      "[1] 1\n",
      "\n",
      "[[2]]\n",
      "[1] 2\n",
      "\n",
      "[[3]]\n",
      "[1] 3\n",
      "\n",
      "[[4]]\n",
      "[1] 4\n",
      "\n",
      "[[5]]\n",
      "[1] 5\n",
      "\n"
     ]
    }
   ],
   "source": [
    "lista2 <- as.list(numeros, letras)\n",
    "\n",
    "print(head(lista2))"
   ]
  },
  {
   "cell_type": "code",
   "execution_count": 8,
   "id": "46423076",
   "metadata": {},
   "outputs": [],
   "source": [
    "# Definir o vetor \"numeros\"\n",
    "numeros <- c(1:5)"
   ]
  },
  {
   "cell_type": "code",
   "execution_count": 13,
   "id": "7fd19df5",
   "metadata": {},
   "outputs": [
    {
     "name": "stdout",
     "output_type": "stream",
     "text": [
      "[[1]]\n",
      "[1] 1 2 3 4 5\n",
      "\n"
     ]
    }
   ],
   "source": [
    "# Convter o vetor \"numeros\" para lista usando a função list()\n",
    "print(list(numeros))"
   ]
  },
  {
   "cell_type": "code",
   "execution_count": 11,
   "id": "fb28fd6b",
   "metadata": {},
   "outputs": [
    {
     "name": "stdout",
     "output_type": "stream",
     "text": [
      "[[1]]\n",
      "[1] 1\n",
      "\n",
      "[[2]]\n",
      "[1] 2\n",
      "\n",
      "[[3]]\n",
      "[1] 3\n",
      "\n",
      "[[4]]\n",
      "[1] 4\n",
      "\n",
      "[[5]]\n",
      "[1] 5\n",
      "\n"
     ]
    }
   ],
   "source": [
    "# Convter o vetor \"numeros\" para lista usando a função as.list()\n",
    "print(as.list(numeros))"
   ]
  },
  {
   "cell_type": "markdown",
   "id": "1843887e",
   "metadata": {},
   "source": [
    "## Converter Dataframe para Lista"
   ]
  },
  {
   "cell_type": "code",
   "execution_count": 17,
   "id": "898fd8ac",
   "metadata": {},
   "outputs": [
    {
     "data": {
      "text/html": [
       "<table class=\"dataframe\">\n",
       "<caption>A data.frame: 5 × 2</caption>\n",
       "<thead>\n",
       "\t<tr><th scope=col>a</th><th scope=col>b</th></tr>\n",
       "\t<tr><th scope=col>&lt;int&gt;</th><th scope=col>&lt;int&gt;</th></tr>\n",
       "</thead>\n",
       "<tbody>\n",
       "\t<tr><td>1</td><td> 6</td></tr>\n",
       "\t<tr><td>2</td><td> 7</td></tr>\n",
       "\t<tr><td>3</td><td> 8</td></tr>\n",
       "\t<tr><td>4</td><td> 9</td></tr>\n",
       "\t<tr><td>5</td><td>10</td></tr>\n",
       "</tbody>\n",
       "</table>\n"
      ],
      "text/latex": [
       "A data.frame: 5 × 2\n",
       "\\begin{tabular}{ll}\n",
       " a & b\\\\\n",
       " <int> & <int>\\\\\n",
       "\\hline\n",
       "\t 1 &  6\\\\\n",
       "\t 2 &  7\\\\\n",
       "\t 3 &  8\\\\\n",
       "\t 4 &  9\\\\\n",
       "\t 5 & 10\\\\\n",
       "\\end{tabular}\n"
      ],
      "text/markdown": [
       "\n",
       "A data.frame: 5 × 2\n",
       "\n",
       "| a &lt;int&gt; | b &lt;int&gt; |\n",
       "|---|---|\n",
       "| 1 |  6 |\n",
       "| 2 |  7 |\n",
       "| 3 |  8 |\n",
       "| 4 |  9 |\n",
       "| 5 | 10 |\n",
       "\n"
      ],
      "text/plain": [
       "  a b \n",
       "1 1  6\n",
       "2 2  7\n",
       "3 3  8\n",
       "4 4  9\n",
       "5 5 10"
      ]
     },
     "metadata": {},
     "output_type": "display_data"
    }
   ],
   "source": [
    "# definir o dataframe \n",
    "df <- data.frame(a = c(1:5), b = c(6:10))\n",
    "\n",
    "# Mostrar os dados do dataframe\n",
    "df"
   ]
  },
  {
   "cell_type": "code",
   "execution_count": 18,
   "id": "14a5b06c",
   "metadata": {},
   "outputs": [
    {
     "name": "stdout",
     "output_type": "stream",
     "text": [
      "[[1]]\n",
      "  a  b\n",
      "1 1  6\n",
      "2 2  7\n",
      "3 3  8\n",
      "4 4  9\n",
      "5 5 10\n",
      "\n"
     ]
    }
   ],
   "source": [
    "# converter o dataframe para lista utilizando a função list()\n",
    "lista_df <- list(df)\n",
    "print(lista_df)"
   ]
  },
  {
   "cell_type": "code",
   "execution_count": 10,
   "id": "33b7753c",
   "metadata": {},
   "outputs": [
    {
     "data": {
      "text/html": [
       "<dl>\n",
       "\t<dt>$a</dt>\n",
       "\t\t<dd><style>\n",
       ".list-inline {list-style: none; margin:0; padding: 0}\n",
       ".list-inline>li {display: inline-block}\n",
       ".list-inline>li:not(:last-child)::after {content: \"\\00b7\"; padding: 0 .5ex}\n",
       "</style>\n",
       "<ol class=list-inline><li>1</li><li>2</li><li>3</li><li>4</li><li>5</li></ol>\n",
       "</dd>\n",
       "\t<dt>$b</dt>\n",
       "\t\t<dd><style>\n",
       ".list-inline {list-style: none; margin:0; padding: 0}\n",
       ".list-inline>li {display: inline-block}\n",
       ".list-inline>li:not(:last-child)::after {content: \"\\00b7\"; padding: 0 .5ex}\n",
       "</style>\n",
       "<ol class=list-inline><li>6</li><li>7</li><li>8</li><li>9</li><li>10</li></ol>\n",
       "</dd>\n",
       "</dl>\n"
      ],
      "text/latex": [
       "\\begin{description}\n",
       "\\item[\\$a] \\begin{enumerate*}\n",
       "\\item 1\n",
       "\\item 2\n",
       "\\item 3\n",
       "\\item 4\n",
       "\\item 5\n",
       "\\end{enumerate*}\n",
       "\n",
       "\\item[\\$b] \\begin{enumerate*}\n",
       "\\item 6\n",
       "\\item 7\n",
       "\\item 8\n",
       "\\item 9\n",
       "\\item 10\n",
       "\\end{enumerate*}\n",
       "\n",
       "\\end{description}\n"
      ],
      "text/markdown": [
       "$a\n",
       ":   1. 1\n",
       "2. 2\n",
       "3. 3\n",
       "4. 4\n",
       "5. 5\n",
       "\n",
       "\n",
       "\n",
       "$b\n",
       ":   1. 6\n",
       "2. 7\n",
       "3. 8\n",
       "4. 9\n",
       "5. 10\n",
       "\n",
       "\n",
       "\n",
       "\n",
       "\n"
      ],
      "text/plain": [
       "$a\n",
       "[1] 1 2 3 4 5\n",
       "\n",
       "$b\n",
       "[1]  6  7  8  9 10\n"
      ]
     },
     "metadata": {},
     "output_type": "display_data"
    }
   ],
   "source": [
    "# converter o dataframe para lista utilizando a função as.list()\n",
    "lista_df <- as.list(df)\n",
    "lista_df"
   ]
  },
  {
   "cell_type": "code",
   "execution_count": null,
   "id": "2d6e01d7",
   "metadata": {},
   "outputs": [],
   "source": []
  }
 ],
 "metadata": {
  "kernelspec": {
   "display_name": "R",
   "language": "R",
   "name": "ir"
  },
  "language_info": {
   "codemirror_mode": "r",
   "file_extension": ".r",
   "mimetype": "text/x-r-source",
   "name": "R",
   "pygments_lexer": "r",
   "version": "3.6.1"
  }
 },
 "nbformat": 4,
 "nbformat_minor": 5
}
