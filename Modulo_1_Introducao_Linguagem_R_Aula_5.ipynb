{
 "cells": [
  {
   "cell_type": "markdown",
   "id": "f61c2141",
   "metadata": {},
   "source": [
    "<h1 align=\"center\">Introdução à Análise de Dados com Linguagem R</h1>"
   ]
  },
  {
   "cell_type": "markdown",
   "id": "7988d566",
   "metadata": {},
   "source": [
    "## Aula 5"
   ]
  },
  {
   "cell_type": "markdown",
   "id": "d453e297",
   "metadata": {},
   "source": [
    "## Salvar Data Frame"
   ]
  },
  {
   "cell_type": "markdown",
   "id": "3389db6c",
   "metadata": {},
   "source": [
    "### .csv"
   ]
  },
  {
   "cell_type": "code",
   "execution_count": null,
   "id": "e817fdee",
   "metadata": {},
   "outputs": [],
   "source": [
    "# criar um data frame\n",
    "df <- data.frame(\n",
    "    # Definir a coluna id\n",
    "    id = c(1, 2, 3, 4, 5),\n",
    "    # Definir a coluna nome\n",
    "    nome = c('Mezilaurus itauba', 'Apuleia leiocarpa', 'Cedrela odorata', \n",
    "             'Amburana acreana', 'Hymenolobium excelsum'),\n",
    "    # Definir a coluna volume\n",
    "    volume = c(3.25, 6.51, 7.45, 8.81, 4.35)\n",
    ")"
   ]
  },
  {
   "cell_type": "code",
   "execution_count": null,
   "id": "6be3e0d2",
   "metadata": {},
   "outputs": [],
   "source": [
    "# Salvar no disco como arquivo .csv\n",
    "write.csv2(df, './output/data_frame.csv')"
   ]
  },
  {
   "cell_type": "markdown",
   "id": "a571d298",
   "metadata": {},
   "source": [
    "### .txt"
   ]
  },
  {
   "cell_type": "code",
   "execution_count": null,
   "id": "9987f318",
   "metadata": {},
   "outputs": [],
   "source": [
    "# Salvar no disco como arquivo .txt\n",
    "write.table(df, './data_frame.txt', row.names = FALSE)"
   ]
  },
  {
   "cell_type": "markdown",
   "id": "e72a31b9",
   "metadata": {},
   "source": [
    "## 2. Fatores\n",
    "<p style=\"text-align:justify;\">Em R as variáveis categóricas podem ser classificadas e ordenadas através da função <mark style=\"background-color:#F4F4F4\">factor( )</mark>. Ao converter ordenar categoricamente um vetor através desta função, nosso vetor passa a ser denominado de fator.</p> "
   ]
  },
  {
   "cell_type": "code",
   "execution_count": 1,
   "id": "c8609fa0",
   "metadata": {},
   "outputs": [],
   "source": [
    "# Definir o vetor de dados categóricos \"sexo\"\n",
    "sexo <- c(\"macho\", \"femea\", \"femea\", \"macho\", \n",
    "          \"macho\", \"macho\", \"femea\", \"macho\")"
   ]
  },
  {
   "cell_type": "markdown",
   "id": "b6017e48",
   "metadata": {},
   "source": [
    "<p style=\"text-align:justify;\">O trecho de código a seguir mostra a estrutura do vetor <mark style=\"background-color:#F4F4F4\">sexo</mark>, obtida através da função <mark style=\"background-color:#F4F4F4\">str( )</mark>, o retorno desta função nos diz que o tipo de vetor em questão é caracteres e possui oito elementos.</p>"
   ]
  },
  {
   "cell_type": "code",
   "execution_count": 3,
   "id": "ee34e078",
   "metadata": {},
   "outputs": [
    {
     "name": "stdout",
     "output_type": "stream",
     "text": [
      " chr [1:8] \"macho\" \"femea\" \"femea\" \"macho\" \"macho\" \"macho\" \"femea\" \"macho\"\n"
     ]
    }
   ],
   "source": [
    "# Checar a estrutura do vetor\n",
    "str(sexo)"
   ]
  },
  {
   "cell_type": "code",
   "execution_count": 4,
   "id": "a6ea72a8",
   "metadata": {},
   "outputs": [
    {
     "data": {
      "text/plain": [
       "   Length     Class      Mode \n",
       "        8 character character "
      ]
     },
     "metadata": {},
     "output_type": "display_data"
    }
   ],
   "source": [
    "# Resumir os dados do vetor sexo\n",
    "summary(sexo)"
   ]
  },
  {
   "cell_type": "markdown",
   "id": "f6003c48",
   "metadata": {},
   "source": [
    "<p style=\"text-align:justify;\">A função <mark style=\"background-color:#F4F4F4\">levels( )</mark> é utilizada para inspecionar os níveis de um fator, como nosso vetor não foi definido como fator retorna <mark style=\"background-color:#F4F4F4\">NULL</mark>.</p>"
   ]
  },
  {
   "cell_type": "code",
   "execution_count": 5,
   "id": "e868e00e",
   "metadata": {},
   "outputs": [
    {
     "data": {
      "text/plain": [
       "NULL"
      ]
     },
     "metadata": {},
     "output_type": "display_data"
    }
   ],
   "source": [
    "# checar os níveis do vetor\n",
    "levels(sexo)"
   ]
  },
  {
   "cell_type": "markdown",
   "id": "a742cc90",
   "metadata": {},
   "source": [
    "<p style=\"text-align:justify;\">Outra forma de verificar se um vetor de variáveis categóricas possui fatores é através da função <mark style=\"background-color:#F4F4F4\">is.factor( )</mark>. Esta função retorna TRUE em caso do vetor possuir fatores definidos, caso contrário retorna FALSE.</p>"
   ]
  },
  {
   "cell_type": "code",
   "execution_count": 6,
   "id": "7a143bd7",
   "metadata": {},
   "outputs": [
    {
     "data": {
      "text/html": [
       "FALSE"
      ],
      "text/latex": [
       "FALSE"
      ],
      "text/markdown": [
       "FALSE"
      ],
      "text/plain": [
       "[1] FALSE"
      ]
     },
     "metadata": {},
     "output_type": "display_data"
    }
   ],
   "source": [
    "# Checar se uma vetor é um fator\n",
    "is.factor(sexo)"
   ]
  },
  {
   "cell_type": "markdown",
   "id": "a88b26d1",
   "metadata": {},
   "source": [
    "A seguir definimos o vetor sexo como fator"
   ]
  },
  {
   "cell_type": "code",
   "execution_count": 2,
   "id": "5b0904b5",
   "metadata": {},
   "outputs": [],
   "source": [
    "# Converter o vetor sexo para fator\n",
    "sexo_fator <- factor(sexo, levels = c(\"macho\", \"femea\"))"
   ]
  },
  {
   "cell_type": "code",
   "execution_count": 8,
   "id": "f9944c73",
   "metadata": {},
   "outputs": [
    {
     "name": "stdout",
     "output_type": "stream",
     "text": [
      " Factor w/ 2 levels \"macho\",\"femea\": 1 2 2 1 1 1 2 1\n"
     ]
    }
   ],
   "source": [
    "# checar a estrutura do fator\n",
    "str(sexo_fator)"
   ]
  },
  {
   "cell_type": "code",
   "execution_count": 9,
   "id": "056631c9",
   "metadata": {
    "scrolled": true
   },
   "outputs": [
    {
     "data": {
      "text/html": [
       "<ol class=list-inline>\n",
       "\t<li>'macho'</li>\n",
       "\t<li>'femea'</li>\n",
       "</ol>\n"
      ],
      "text/latex": [
       "\\begin{enumerate*}\n",
       "\\item 'macho'\n",
       "\\item 'femea'\n",
       "\\end{enumerate*}\n"
      ],
      "text/markdown": [
       "1. 'macho'\n",
       "2. 'femea'\n",
       "\n",
       "\n"
      ],
      "text/plain": [
       "[1] \"macho\" \"femea\""
      ]
     },
     "metadata": {},
     "output_type": "display_data"
    }
   ],
   "source": [
    "# checar os níveis do fator\n",
    "levels(sexo_fator)"
   ]
  },
  {
   "cell_type": "code",
   "execution_count": 18,
   "id": "fbc81236",
   "metadata": {},
   "outputs": [
    {
     "data": {
      "image/png": "[encoded data removed]",
      "text/plain": [
       "plot without title"
      ]
     },
     "metadata": {},
     "output_type": "display_data"
    }
   ],
   "source": [
    "# Resumir os dados do fator sexo através de um gráfico\n",
    "plot(sexo_fator)"
   ]
  },
  {
   "cell_type": "markdown",
   "id": "e4b0323e",
   "metadata": {},
   "source": [
    "O código abaixo mostra como atribuir rótulos ao níveis do fatores:"
   ]
  },
  {
   "cell_type": "code",
   "execution_count": 10,
   "id": "f9dea4e4",
   "metadata": {},
   "outputs": [
    {
     "name": "stdout",
     "output_type": "stream",
     "text": [
      " Factor w/ 2 levels \"M\",\"F\": 1 2 2 1 1 1 2 1\n"
     ]
    },
    {
     "data": {
      "text/html": [
       "<ol class=list-inline>\n",
       "\t<li>'M'</li>\n",
       "\t<li>'F'</li>\n",
       "</ol>\n"
      ],
      "text/latex": [
       "\\begin{enumerate*}\n",
       "\\item 'M'\n",
       "\\item 'F'\n",
       "\\end{enumerate*}\n"
      ],
      "text/markdown": [
       "1. 'M'\n",
       "2. 'F'\n",
       "\n",
       "\n"
      ],
      "text/plain": [
       "[1] \"M\" \"F\""
      ]
     },
     "metadata": {},
     "output_type": "display_data"
    }
   ],
   "source": [
    "sexo_fator <- factor(sexo, levels = c(\"macho\", \"femea\"), \n",
    "                     labels = c(\"M\", \"F\"))\n",
    "\n",
    "str(sexo_fator)\n",
    "levels(sexo_fator)"
   ]
  },
  {
   "cell_type": "code",
   "execution_count": 11,
   "id": "0ff738e1",
   "metadata": {},
   "outputs": [
    {
     "data": {
      "text/html": [
       "<ol class=list-inline>\n",
       "\t<li>M</li>\n",
       "\t<li>F</li>\n",
       "\t<li>F</li>\n",
       "\t<li>M</li>\n",
       "\t<li>M</li>\n",
       "\t<li>M</li>\n",
       "\t<li>F</li>\n",
       "\t<li>M</li>\n",
       "</ol>\n",
       "\n",
       "<details>\n",
       "\t<summary style=display:list-item;cursor:pointer>\n",
       "\t\t<strong>Levels</strong>:\n",
       "\t</summary>\n",
       "\t<ol class=list-inline>\n",
       "\t\t<li>'M'</li>\n",
       "\t\t<li>'F'</li>\n",
       "\t</ol>\n",
       "</details>"
      ],
      "text/latex": [
       "\\begin{enumerate*}\n",
       "\\item M\n",
       "\\item F\n",
       "\\item F\n",
       "\\item M\n",
       "\\item M\n",
       "\\item M\n",
       "\\item F\n",
       "\\item M\n",
       "\\end{enumerate*}\n",
       "\n",
       "\\emph{Levels}: \\begin{enumerate*}\n",
       "\\item 'M'\n",
       "\\item 'F'\n",
       "\\end{enumerate*}\n"
      ],
      "text/markdown": [
       "1. M\n",
       "2. F\n",
       "3. F\n",
       "4. M\n",
       "5. M\n",
       "6. M\n",
       "7. F\n",
       "8. M\n",
       "\n",
       "\n",
       "\n",
       "**Levels**: 1. 'M'\n",
       "2. 'F'\n",
       "\n",
       "\n"
      ],
      "text/plain": [
       "[1] M F F M M M F M\n",
       "Levels: M F"
      ]
     },
     "metadata": {},
     "output_type": "display_data"
    }
   ],
   "source": [
    "sexo_fator"
   ]
  },
  {
   "cell_type": "markdown",
   "id": "72df7bdf",
   "metadata": {},
   "source": [
    "## Converter colunas de uma data frame para `factor`"
   ]
  },
  {
   "cell_type": "markdown",
   "id": "6d345266",
   "metadata": {},
   "source": [
    "### Fatores em Inventário Florestal"
   ]
  },
  {
   "cell_type": "code",
   "execution_count": 3,
   "id": "320c8cfb",
   "metadata": {},
   "outputs": [],
   "source": [
    "# Lê uma planilha csv com dados de inventário florestal\n",
    "inventario <- read.csv2('./data/UMF_4_UPA_4F_SINAFLOR_v03.csv',\n",
    "                encoding = 'latin1')"
   ]
  },
  {
   "cell_type": "code",
   "execution_count": 13,
   "id": "eac81b5e",
   "metadata": {},
   "outputs": [],
   "source": [
    "# Converter a coluna \"QF\" (qualidade do fuste) para fatores\n",
    "inventario$QF <- factor(inventario$QF, \n",
    "                        levels = c(1, 2, 3), \n",
    "                        ordered = TRUE)"
   ]
  },
  {
   "cell_type": "code",
   "execution_count": 14,
   "id": "df4a0ca3",
   "metadata": {},
   "outputs": [
    {
     "data": {
      "text/html": [
       "<dl class=dl-horizontal>\n",
       "\t<dt>1</dt>\n",
       "\t\t<dd>13761</dd>\n",
       "\t<dt>2</dt>\n",
       "\t\t<dd>4403</dd>\n",
       "\t<dt>3</dt>\n",
       "\t\t<dd>424</dd>\n",
       "</dl>\n"
      ],
      "text/latex": [
       "\\begin{description*}\n",
       "\\item[1] 13761\n",
       "\\item[2] 4403\n",
       "\\item[3] 424\n",
       "\\end{description*}\n"
      ],
      "text/markdown": [
       "1\n",
       ":   137612\n",
       ":   44033\n",
       ":   424\n",
       "\n"
      ],
      "text/plain": [
       "    1     2     3 \n",
       "13761  4403   424 "
      ]
     },
     "metadata": {},
     "output_type": "display_data"
    }
   ],
   "source": [
    "# Resumo da coluna QF\n",
    "summary(inventario$QF)"
   ]
  },
  {
   "cell_type": "code",
   "execution_count": 15,
   "id": "aaac5d66",
   "metadata": {},
   "outputs": [
    {
     "data": {
      "image/png": "[encoded data removed]",
      "text/plain": [
       "plot without title"
      ]
     },
     "metadata": {},
     "output_type": "display_data"
    }
   ],
   "source": [
    "# Visualização gráfica dos fatores\n",
    "plot(inventario$QF)"
   ]
  },
  {
   "cell_type": "markdown",
   "id": "f944e89b",
   "metadata": {},
   "source": [
    "### Atribuir Rótulos ao Fator\n",
    "Agora iremos atribuir rótulos ao nosso fator, os rótulos serão: Fuste 1, Fuste 2 e Fuste 3."
   ]
  },
  {
   "cell_type": "code",
   "execution_count": 16,
   "id": "c44f8407",
   "metadata": {},
   "outputs": [],
   "source": [
    "# Converter a coluna \"QF\" (qualidade do fuste) para fatores e atribuir rótulos\n",
    "inventario$QF <- factor(\n",
    "    inventario$QF, \n",
    "    levels = c(1, 2, 3), \n",
    "    label = c('Fuste 1', 'Fuste 2', 'Fuste 3'),\n",
    "    ordered = TRUE\n",
    ")"
   ]
  },
  {
   "cell_type": "code",
   "execution_count": 17,
   "id": "a25f669e",
   "metadata": {},
   "outputs": [
    {
     "data": {
      "text/html": [
       "<dl class=dl-horizontal>\n",
       "\t<dt>Fuste 1</dt>\n",
       "\t\t<dd>13761</dd>\n",
       "\t<dt>Fuste 2</dt>\n",
       "\t\t<dd>4403</dd>\n",
       "\t<dt>Fuste 3</dt>\n",
       "\t\t<dd>424</dd>\n",
       "</dl>\n"
      ],
      "text/latex": [
       "\\begin{description*}\n",
       "\\item[Fuste 1] 13761\n",
       "\\item[Fuste 2] 4403\n",
       "\\item[Fuste 3] 424\n",
       "\\end{description*}\n"
      ],
      "text/markdown": [
       "Fuste 1\n",
       ":   13761Fuste 2\n",
       ":   4403Fuste 3\n",
       ":   424\n",
       "\n"
      ],
      "text/plain": [
       "Fuste 1 Fuste 2 Fuste 3 \n",
       "  13761    4403     424 "
      ]
     },
     "metadata": {},
     "output_type": "display_data"
    }
   ],
   "source": [
    "# Resumo da coluna QF\n",
    "summary(inventario$QF)"
   ]
  },
  {
   "cell_type": "code",
   "execution_count": 18,
   "id": "f43b54b6",
   "metadata": {},
   "outputs": [
    {
     "data": {
      "text/html": [
       "<table>\n",
       "<thead><tr><th scope=col>N_arv</th><th scope=col>UPA</th><th scope=col>UT</th><th scope=col>Nome_Cientifico</th><th scope=col>Nome_Popular</th><th scope=col>DAP_cm</th><th scope=col>Alt</th><th scope=col>Categoria</th><th scope=col>QF</th><th scope=col>Vol</th><th scope=col>g</th><th scope=col>lat</th><th scope=col>lon</th></tr></thead>\n",
       "<tbody>\n",
       "\t<tr><td>10001              </td><td>6                  </td><td>1                  </td><td>Parkia gigantocarpa</td><td>Fava-atanã         </td><td>114.59             </td><td>19                 </td><td>Remanescente       </td><td>Fuste 1            </td><td>12.4891            </td><td>1.0313             </td><td>-5.907904          </td><td>-54.96910          </td></tr>\n",
       "\t<tr><td>10002              </td><td>6                  </td><td>1                  </td><td>Bagassa guianensis </td><td>Tatajuba           </td><td> 67.48             </td><td>17                 </td><td>Remanescente       </td><td>Fuste 1            </td><td> 4.3893            </td><td>0.3577             </td><td>-5.907938          </td><td>-54.96912          </td></tr>\n",
       "\t<tr><td>10003              </td><td>6                  </td><td>1                  </td><td>Castilla ulei      </td><td>Caucho             </td><td> 52.52             </td><td>11                 </td><td>Explorar           </td><td>Fuste 1            </td><td> 1.8263            </td><td>0.2166             </td><td>-5.907999          </td><td>-54.96991          </td></tr>\n",
       "\t<tr><td>10004              </td><td>6                  </td><td>1                  </td><td>Castilla ulei      </td><td>Caucho             </td><td> 40.74             </td><td>13                 </td><td>Remanescente       </td><td>Fuste 1            </td><td> 1.1068            </td><td>0.1304             </td><td>-5.906353          </td><td>-54.96999          </td></tr>\n",
       "\t<tr><td>10005              </td><td>6                  </td><td>1                  </td><td>Vochysia maxima    </td><td>Quaruba            </td><td> 47.75             </td><td>15                 </td><td>Remanescente       </td><td>Fuste 2            </td><td> 1.8325            </td><td>0.1790             </td><td>-5.906086          </td><td>-54.97024          </td></tr>\n",
       "\t<tr><td>10006              </td><td>6                  </td><td>1                  </td><td>Copaifera duckei   </td><td>Copaíba            </td><td> 43.93             </td><td>18                 </td><td>Remanescente       </td><td>Fuste 1            </td><td> 1.7038            </td><td>0.1515             </td><td>-5.905871          </td><td>-54.97024          </td></tr>\n",
       "</tbody>\n",
       "</table>\n"
      ],
      "text/latex": [
       "\\begin{tabular}{r|lllllllllllll}\n",
       " N\\_arv & UPA & UT & Nome\\_Cientifico & Nome\\_Popular & DAP\\_cm & Alt & Categoria & QF & Vol & g & lat & lon\\\\\n",
       "\\hline\n",
       "\t 10001               & 6                   & 1                   & Parkia gigantocarpa & Fava-atanã          & 114.59              & 19                  & Remanescente        & Fuste 1             & 12.4891             & 1.0313              & -5.907904           & -54.96910          \\\\\n",
       "\t 10002               & 6                   & 1                   & Bagassa guianensis  & Tatajuba            &  67.48              & 17                  & Remanescente        & Fuste 1             &  4.3893             & 0.3577              & -5.907938           & -54.96912          \\\\\n",
       "\t 10003               & 6                   & 1                   & Castilla ulei       & Caucho              &  52.52              & 11                  & Explorar            & Fuste 1             &  1.8263             & 0.2166              & -5.907999           & -54.96991          \\\\\n",
       "\t 10004               & 6                   & 1                   & Castilla ulei       & Caucho              &  40.74              & 13                  & Remanescente        & Fuste 1             &  1.1068             & 0.1304              & -5.906353           & -54.96999          \\\\\n",
       "\t 10005               & 6                   & 1                   & Vochysia maxima     & Quaruba             &  47.75              & 15                  & Remanescente        & Fuste 2             &  1.8325             & 0.1790              & -5.906086           & -54.97024          \\\\\n",
       "\t 10006               & 6                   & 1                   & Copaifera duckei    & Copaíba             &  43.93              & 18                  & Remanescente        & Fuste 1             &  1.7038             & 0.1515              & -5.905871           & -54.97024          \\\\\n",
       "\\end{tabular}\n"
      ],
      "text/markdown": [
       "\n",
       "| N_arv | UPA | UT | Nome_Cientifico | Nome_Popular | DAP_cm | Alt | Categoria | QF | Vol | g | lat | lon |\n",
       "|---|---|---|---|---|---|---|---|---|---|---|---|---|\n",
       "| 10001               | 6                   | 1                   | Parkia gigantocarpa | Fava-atanã          | 114.59              | 19                  | Remanescente        | Fuste 1             | 12.4891             | 1.0313              | -5.907904           | -54.96910           |\n",
       "| 10002               | 6                   | 1                   | Bagassa guianensis  | Tatajuba            |  67.48              | 17                  | Remanescente        | Fuste 1             |  4.3893             | 0.3577              | -5.907938           | -54.96912           |\n",
       "| 10003               | 6                   | 1                   | Castilla ulei       | Caucho              |  52.52              | 11                  | Explorar            | Fuste 1             |  1.8263             | 0.2166              | -5.907999           | -54.96991           |\n",
       "| 10004               | 6                   | 1                   | Castilla ulei       | Caucho              |  40.74              | 13                  | Remanescente        | Fuste 1             |  1.1068             | 0.1304              | -5.906353           | -54.96999           |\n",
       "| 10005               | 6                   | 1                   | Vochysia maxima     | Quaruba             |  47.75              | 15                  | Remanescente        | Fuste 2             |  1.8325             | 0.1790              | -5.906086           | -54.97024           |\n",
       "| 10006               | 6                   | 1                   | Copaifera duckei    | Copaíba             |  43.93              | 18                  | Remanescente        | Fuste 1             |  1.7038             | 0.1515              | -5.905871           | -54.97024           |\n",
       "\n"
      ],
      "text/plain": [
       "  N_arv UPA UT Nome_Cientifico     Nome_Popular DAP_cm Alt Categoria    QF     \n",
       "1 10001 6   1  Parkia gigantocarpa Fava-atanã   114.59 19  Remanescente Fuste 1\n",
       "2 10002 6   1  Bagassa guianensis  Tatajuba      67.48 17  Remanescente Fuste 1\n",
       "3 10003 6   1  Castilla ulei       Caucho        52.52 11  Explorar     Fuste 1\n",
       "4 10004 6   1  Castilla ulei       Caucho        40.74 13  Remanescente Fuste 1\n",
       "5 10005 6   1  Vochysia maxima     Quaruba       47.75 15  Remanescente Fuste 2\n",
       "6 10006 6   1  Copaifera duckei    Copaíba       43.93 18  Remanescente Fuste 1\n",
       "  Vol     g      lat       lon      \n",
       "1 12.4891 1.0313 -5.907904 -54.96910\n",
       "2  4.3893 0.3577 -5.907938 -54.96912\n",
       "3  1.8263 0.2166 -5.907999 -54.96991\n",
       "4  1.1068 0.1304 -5.906353 -54.96999\n",
       "5  1.8325 0.1790 -5.906086 -54.97024\n",
       "6  1.7038 0.1515 -5.905871 -54.97024"
      ]
     },
     "metadata": {},
     "output_type": "display_data"
    }
   ],
   "source": [
    "# Mostrar os dados com a inserção de rótulos aos fatores\n",
    "head(inventario)"
   ]
  },
  {
   "cell_type": "code",
   "execution_count": 19,
   "id": "891ab1b0",
   "metadata": {},
   "outputs": [
    {
     "data": {
      "image/png": "[encoded data removed]",
      "text/plain": [
       "plot without title"
      ]
     },
     "metadata": {},
     "output_type": "display_data"
    }
   ],
   "source": [
    "# Visualização gráfica dos fatores\n",
    "plot(inventario$QF)"
   ]
  },
  {
   "cell_type": "markdown",
   "id": "d6a13481",
   "metadata": {},
   "source": [
    "### Fatores - Lista Espécies Fauna Ameaçada de Extinção"
   ]
  },
  {
   "cell_type": "code",
   "execution_count": 26,
   "id": "02654bd6",
   "metadata": {},
   "outputs": [
    {
     "data": {
      "text/html": [
       "<table>\n",
       "<thead><tr><th scope=col>n</th><th scope=col>port443</th><th scope=col>classe</th><th scope=col>ordem</th><th scope=col>familia</th><th scope=col>especie_subespecie</th><th scope=col>categoria</th></tr></thead>\n",
       "<tbody>\n",
       "\t<tr><td>1                       </td><td>*                       </td><td>Aves                    </td><td>Accipitriformes         </td><td>Accipitridae            </td><td>Amadonastur lacernulatus</td><td>VU                      </td></tr>\n",
       "\t<tr><td>2                       </td><td>*                       </td><td>Aves                    </td><td>Accipitriformes         </td><td>Accipitridae            </td><td>Circus cinereus         </td><td>VU                      </td></tr>\n",
       "\t<tr><td>3                       </td><td>*                       </td><td>Aves                    </td><td>Accipitriformes         </td><td>Accipitridae            </td><td>Harpia harpyja          </td><td>VU                      </td></tr>\n",
       "\t<tr><td>4                       </td><td>*                       </td><td>Aves                    </td><td>Accipitriformes         </td><td>Accipitridae            </td><td>Leptodon forbesi        </td><td>EN                      </td></tr>\n",
       "\t<tr><td>5                       </td><td>*                       </td><td>Aves                    </td><td>Accipitriformes         </td><td>Accipitridae            </td><td>Morphnus guianensis     </td><td>VU                      </td></tr>\n",
       "\t<tr><td>6                       </td><td>*                       </td><td>Aves                    </td><td>Accipitriformes         </td><td>Accipitridae            </td><td>Urubitinga coronata     </td><td>EN                      </td></tr>\n",
       "</tbody>\n",
       "</table>\n"
      ],
      "text/latex": [
       "\\begin{tabular}{r|lllllll}\n",
       " n & port443 & classe & ordem & familia & especie\\_subespecie & categoria\\\\\n",
       "\\hline\n",
       "\t 1                        & *                        & Aves                     & Accipitriformes          & Accipitridae             & Amadonastur lacernulatus & VU                      \\\\\n",
       "\t 2                        & *                        & Aves                     & Accipitriformes          & Accipitridae             & Circus cinereus          & VU                      \\\\\n",
       "\t 3                        & *                        & Aves                     & Accipitriformes          & Accipitridae             & Harpia harpyja           & VU                      \\\\\n",
       "\t 4                        & *                        & Aves                     & Accipitriformes          & Accipitridae             & Leptodon forbesi         & EN                      \\\\\n",
       "\t 5                        & *                        & Aves                     & Accipitriformes          & Accipitridae             & Morphnus guianensis      & VU                      \\\\\n",
       "\t 6                        & *                        & Aves                     & Accipitriformes          & Accipitridae             & Urubitinga coronata      & EN                      \\\\\n",
       "\\end{tabular}\n"
      ],
      "text/markdown": [
       "\n",
       "| n | port443 | classe | ordem | familia | especie_subespecie | categoria |\n",
       "|---|---|---|---|---|---|---|\n",
       "| 1                        | *                        | Aves                     | Accipitriformes          | Accipitridae             | Amadonastur lacernulatus | VU                       |\n",
       "| 2                        | *                        | Aves                     | Accipitriformes          | Accipitridae             | Circus cinereus          | VU                       |\n",
       "| 3                        | *                        | Aves                     | Accipitriformes          | Accipitridae             | Harpia harpyja           | VU                       |\n",
       "| 4                        | *                        | Aves                     | Accipitriformes          | Accipitridae             | Leptodon forbesi         | EN                       |\n",
       "| 5                        | *                        | Aves                     | Accipitriformes          | Accipitridae             | Morphnus guianensis      | VU                       |\n",
       "| 6                        | *                        | Aves                     | Accipitriformes          | Accipitridae             | Urubitinga coronata      | EN                       |\n",
       "\n"
      ],
      "text/plain": [
       "  n port443 classe ordem           familia      especie_subespecie      \n",
       "1 1 *       Aves   Accipitriformes Accipitridae Amadonastur lacernulatus\n",
       "2 2 *       Aves   Accipitriformes Accipitridae Circus cinereus         \n",
       "3 3 *       Aves   Accipitriformes Accipitridae Harpia harpyja          \n",
       "4 4 *       Aves   Accipitriformes Accipitridae Leptodon forbesi        \n",
       "5 5 *       Aves   Accipitriformes Accipitridae Morphnus guianensis     \n",
       "6 6 *       Aves   Accipitriformes Accipitridae Urubitinga coronata     \n",
       "  categoria\n",
       "1 VU       \n",
       "2 VU       \n",
       "3 VU       \n",
       "4 EN       \n",
       "5 VU       \n",
       "6 EN       "
      ]
     },
     "metadata": {},
     "output_type": "display_data"
    }
   ],
   "source": [
    "# Leitura dos dados\n",
    "fauna <- read.csv2('./data/DF_port_MMA_300-2022_fauna.csv')\n",
    "\n",
    "# Mostrar as seis primeiras linhas dos dados\n",
    "head(fauna)"
   ]
  },
  {
   "cell_type": "code",
   "execution_count": 27,
   "id": "fefadd7a",
   "metadata": {},
   "outputs": [
    {
     "data": {
      "text/html": [
       "<ol class=list-inline>\n",
       "\t<li>'VU'</li>\n",
       "\t<li>'EN'</li>\n",
       "\t<li>'CR'</li>\n",
       "\t<li>'CR (PEX)'</li>\n",
       "\t<li>'EX'</li>\n",
       "\t<li>'RE'</li>\n",
       "\t<li>'EW'</li>\n",
       "</ol>\n"
      ],
      "text/latex": [
       "\\begin{enumerate*}\n",
       "\\item 'VU'\n",
       "\\item 'EN'\n",
       "\\item 'CR'\n",
       "\\item 'CR (PEX)'\n",
       "\\item 'EX'\n",
       "\\item 'RE'\n",
       "\\item 'EW'\n",
       "\\end{enumerate*}\n"
      ],
      "text/markdown": [
       "1. 'VU'\n",
       "2. 'EN'\n",
       "3. 'CR'\n",
       "4. 'CR (PEX)'\n",
       "5. 'EX'\n",
       "6. 'RE'\n",
       "7. 'EW'\n",
       "\n",
       "\n"
      ],
      "text/plain": [
       "[1] \"VU\"       \"EN\"       \"CR\"       \"CR (PEX)\" \"EX\"       \"RE\"       \"EW\"      "
      ]
     },
     "metadata": {},
     "output_type": "display_data"
    }
   ],
   "source": [
    "# Valores únicos para categoria de ameaça\n",
    "unique(fauna$categoria)"
   ]
  },
  {
   "cell_type": "code",
   "execution_count": 28,
   "id": "cc3b2bb7",
   "metadata": {},
   "outputs": [
    {
     "data": {
      "text/plain": [
       "   Length     Class      Mode \n",
       "     1266 character character "
      ]
     },
     "metadata": {},
     "output_type": "display_data"
    }
   ],
   "source": [
    "# Resumo da coluna categoria\n",
    "summary(fauna$categoria)"
   ]
  },
  {
   "cell_type": "code",
   "execution_count": 30,
   "id": "3ee95a45",
   "metadata": {},
   "outputs": [],
   "source": [
    "# Converter os dados da coluna categoria para fatores\n",
    "fauna$categoria <- factor(\n",
    "    fauna$categoria, \n",
    "    levels = c('VU', 'EN', 'CR', 'CR (PEX)', 'EX', 'RE', 'EW'),\n",
    "    ordered = TRUE\n",
    ")"
   ]
  },
  {
   "cell_type": "code",
   "execution_count": 31,
   "id": "7024571b",
   "metadata": {},
   "outputs": [
    {
     "data": {
      "text/html": [
       "<dl class=dl-horizontal>\n",
       "\t<dt>VU</dt>\n",
       "\t\t<dd>470</dd>\n",
       "\t<dt>EN</dt>\n",
       "\t\t<dd>425</dd>\n",
       "\t<dt>CR</dt>\n",
       "\t\t<dd>325</dd>\n",
       "\t<dt>CR (PEX)</dt>\n",
       "\t\t<dd>36</dd>\n",
       "\t<dt>EX</dt>\n",
       "\t\t<dd>6</dd>\n",
       "\t<dt>RE</dt>\n",
       "\t\t<dd>3</dd>\n",
       "\t<dt>EW</dt>\n",
       "\t\t<dd>1</dd>\n",
       "</dl>\n"
      ],
      "text/latex": [
       "\\begin{description*}\n",
       "\\item[VU] 470\n",
       "\\item[EN] 425\n",
       "\\item[CR] 325\n",
       "\\item[CR (PEX)] 36\n",
       "\\item[EX] 6\n",
       "\\item[RE] 3\n",
       "\\item[EW] 1\n",
       "\\end{description*}\n"
      ],
      "text/markdown": [
       "VU\n",
       ":   470EN\n",
       ":   425CR\n",
       ":   325CR (PEX)\n",
       ":   36EX\n",
       ":   6RE\n",
       ":   3EW\n",
       ":   1\n",
       "\n"
      ],
      "text/plain": [
       "      VU       EN       CR CR (PEX)       EX       RE       EW \n",
       "     470      425      325       36        6        3        1 "
      ]
     },
     "metadata": {},
     "output_type": "display_data"
    }
   ],
   "source": [
    "# Resumo da coluna categoria\n",
    "summary(fauna$categoria)"
   ]
  },
  {
   "cell_type": "code",
   "execution_count": 32,
   "id": "f0807a85",
   "metadata": {},
   "outputs": [
    {
     "data": {
      "image/png": "[encoded data removed]",
      "text/plain": [
       "plot without title"
      ]
     },
     "metadata": {},
     "output_type": "display_data"
    }
   ],
   "source": [
    "# Visualização Gráfica dos Fatores\n",
    "plot(fauna$categoria)"
   ]
  },
  {
   "cell_type": "markdown",
   "id": "db90ad74",
   "metadata": {},
   "source": [
    "## 3. Listas"
   ]
  },
  {
   "cell_type": "markdown",
   "id": "9795aeb9",
   "metadata": {},
   "source": [
    "<p style=\"text-align:justify\">Imagine que você precisa ir ao supermercado, para se manter organizado e lembrar o que comprar, você provavelmente fará uma lista de compras. Pense no que pode haver nessa lista: Cereais, papel toalha, frutas, detergente... Vários tipos de coisas com formas e estruturas diferentes. Não importa o que seja, se você puder lembar, poderá colocá-los em sua lista. Assim como sua lista de compras, em R, existe um tipo de superestrutura de dados, também chamada de Lista, que permite agrupar outras estruturas de dados em, digamos, uma lista.</p>\n",
    "<p style=\"text-align:justify\">Para criar uma lista é simples, basta usar a função <b><mark style=\"background-color:#F4F4F4\">list( )</b></mark> e passar todas as estruturas de dados que você deseja dentro de sua lista.</p>\n",
    "<p style=\"text-align:justify\">Agora iremos criar a seguinte lista em R:</p>\n",
    "\n",
    " * farinha de trigo\n",
    " * farinha de mandioca\n",
    " * farinha de milho\n",
    " * creme dental\n",
    " * papel higiênico\n",
    " * sabonete\n",
    " * água sanitária\n",
    " * detergente\n",
    " * carne\n",
    " * frango\n",
    " * peixe\n",
    " * cerveja\n",
    " * sonrisal\n",
    " * eparema"
   ]
  },
  {
   "cell_type": "code",
   "execution_count": 6,
   "id": "70fc76c6",
   "metadata": {},
   "outputs": [
    {
     "name": "stdout",
     "output_type": "stream",
     "text": [
      "[[1]]\n",
      "[1] \"farinha de trigo\"    \"farinha de mandioca\" \"farinha de milho\"   \n",
      "\n",
      "[[2]]\n",
      "[1] \"creme dental\"    \"papel higiênico\" \"sabonete\"       \n",
      "\n",
      "[[3]]\n",
      "[1] \"água sanitária\" \"detergente\"    \n",
      "\n",
      "[[4]]\n",
      "[1] \"carne\"  \"frango\" \"peixe\" \n",
      "\n",
      "[[5]]\n",
      "[1] \"cerveja\"  \"sonrisal\" \"eparema\" \n",
      "\n"
     ]
    }
   ],
   "source": [
    "lista <- list(c('farinha de trigo', 'farinha de mandioca', 'farinha de milho'), \n",
    "              c('creme dental', 'papel higiênico', 'sabonete'),\n",
    "              c('água sanitária', 'detergente'),\n",
    "              c('carne', 'frango', 'peixe'),\n",
    "              c('cerveja', 'sonrisal', 'eparema'))\n",
    "\n",
    "print(lista)"
   ]
  },
  {
   "cell_type": "markdown",
   "id": "54ea1498",
   "metadata": {},
   "source": [
    "## Acessando elementos em uma lista"
   ]
  },
  {
   "cell_type": "code",
   "execution_count": 7,
   "id": "dff311de",
   "metadata": {},
   "outputs": [
    {
     "name": "stdout",
     "output_type": "stream",
     "text": [
      "[1] \"farinha de trigo\"    \"farinha de mandioca\" \"farinha de milho\"   \n"
     ]
    }
   ],
   "source": [
    "# Selecionar todos os valores do primeiro ítem da lista\n",
    "print(lista[[1]])"
   ]
  },
  {
   "cell_type": "code",
   "execution_count": 8,
   "id": "accb5ba2",
   "metadata": {},
   "outputs": [
    {
     "name": "stdout",
     "output_type": "stream",
     "text": [
      "[1] \"água sanitária\" \"detergente\"    \n"
     ]
    }
   ],
   "source": [
    "# Todos os elementos do terceiro vetor da lista\n",
    "print(lista[[3]])"
   ]
  },
  {
   "cell_type": "code",
   "execution_count": 11,
   "id": "f8ae5658",
   "metadata": {},
   "outputs": [
    {
     "name": "stdout",
     "output_type": "stream",
     "text": [
      "[1] \"farinha de trigo\"\n"
     ]
    }
   ],
   "source": [
    "# Primeiro valor do primeiro da lista\n",
    "print(lista[[1]][[1]])"
   ]
  },
  {
   "cell_type": "code",
   "execution_count": 40,
   "id": "702ad7f2",
   "metadata": {},
   "outputs": [
    {
     "name": "stdout",
     "output_type": "stream",
     "text": [
      "[[1]]\n",
      "[1] \"carne\"  \"frango\" \"peixe\" \n",
      "\n",
      "[[2]]\n",
      "[1] \"cerveja\"  \"sonrisal\" \"eparema\" \n",
      "\n"
     ]
    }
   ],
   "source": [
    "# Quarto e Quinto ítens da lista\n",
    "nao_esquecer <- lista[c(4, 5)]\n",
    "print(nao_esquecer)"
   ]
  },
  {
   "cell_type": "markdown",
   "id": "d9371b2b",
   "metadata": {},
   "source": [
    "## Nomear os elementos de uma lista"
   ]
  },
  {
   "cell_type": "code",
   "execution_count": 13,
   "id": "e69d4941",
   "metadata": {},
   "outputs": [],
   "source": [
    "# Definir nomes para os elementos da lista\n",
    "names(lista) <- c('cereais', 'higiene', 'limpeza',\n",
    "                  'proteína', 'birita')"
   ]
  },
  {
   "cell_type": "code",
   "execution_count": 16,
   "id": "8f1d399c",
   "metadata": {},
   "outputs": [
    {
     "data": {
      "text/html": [
       "'farinha de trigo'"
      ],
      "text/latex": [
       "'farinha de trigo'"
      ],
      "text/markdown": [
       "'farinha de trigo'"
      ],
      "text/plain": [
       "[1] \"farinha de trigo\""
      ]
     },
     "metadata": {},
     "output_type": "display_data"
    }
   ],
   "source": [
    "# No primeiro ítem da lista, filtrar apenas o primeiro sub-ítem\n",
    "lista$cereais[[1]]"
   ]
  },
  {
   "cell_type": "code",
   "execution_count": 43,
   "id": "9b0db944",
   "metadata": {},
   "outputs": [
    {
     "data": {
      "text/html": [
       "'creme dental'"
      ],
      "text/latex": [
       "'creme dental'"
      ],
      "text/markdown": [
       "'creme dental'"
      ],
      "text/plain": [
       "[1] \"creme dental\""
      ]
     },
     "metadata": {},
     "output_type": "display_data"
    }
   ],
   "source": [
    "# No segundo ítem da lista, filtar o primeiro sub-ítem\n",
    "# No elemento flora, filtrar a primeira espécie\n",
    "lista$higiene[[1]]"
   ]
  },
  {
   "cell_type": "markdown",
   "id": "b6d34a13",
   "metadata": {},
   "source": [
    "## Funções Aplicadas à lista"
   ]
  },
  {
   "cell_type": "markdown",
   "id": "28abab40",
   "metadata": {},
   "source": [
    "* `str` e `summary`"
   ]
  },
  {
   "cell_type": "code",
   "execution_count": 44,
   "id": "2a3d1cd9",
   "metadata": {},
   "outputs": [
    {
     "name": "stdout",
     "output_type": "stream",
     "text": [
      "List of 5\n",
      " $ cereais : chr [1:3] \"farinha de trigo\" \"farinha de mandioca\" \"farinha de milho\"\n",
      " $ higiene : chr [1:3] \"creme dental\" \"papel higiênico\" \"sabonete\"\n",
      " $ limpeza : chr [1:2] \"água sanitária\" \"detergente\"\n",
      " $ proteína: chr [1:3] \"carne\" \"frango\" \"peixe\"\n",
      " $ birita  : chr [1:3] \"cerveja\" \"sonrisal\" \"eparema\"\n"
     ]
    }
   ],
   "source": [
    "# Verificar a estrutua da lista\n",
    "str(lista)"
   ]
  },
  {
   "cell_type": "code",
   "execution_count": 45,
   "id": "af23314c",
   "metadata": {},
   "outputs": [
    {
     "data": {
      "text/plain": [
       "         Length Class  Mode     \n",
       "cereais  3      -none- character\n",
       "higiene  3      -none- character\n",
       "limpeza  2      -none- character\n",
       "proteína 3      -none- character\n",
       "birita   3      -none- character"
      ]
     },
     "metadata": {},
     "output_type": "display_data"
    }
   ],
   "source": [
    "# Obter um resumo dos dados armazenados na lista\n",
    "summary(lista)"
   ]
  },
  {
   "cell_type": "markdown",
   "id": "3334fd7e",
   "metadata": {},
   "source": [
    "* lapply e sapply\n",
    "\n",
    "As funções `lapply` e `sapply` são uma variação da função `apply` para iterar sobre aos elementos de uma lista. Esta funções diferem somente na forma como os resultados são mostrados na tela. Para a função `lapply` a saída é na forma de lista, enquanto `sapply` apresenta uma saída vetorial."
   ]
  },
  {
   "cell_type": "code",
   "execution_count": 19,
   "id": "a840773d",
   "metadata": {},
   "outputs": [
    {
     "name": "stdout",
     "output_type": "stream",
     "text": [
      "$x\n",
      "[1] 1.565\n",
      "\n",
      "$y\n",
      "[1] 15.142\n",
      "\n"
     ]
    }
   ],
   "source": [
    "lista = list(x = c(1.55, 1.15, 1.71, 1.89, 1.65, 1.44), \n",
    "             y = c(12.51, 9.89, 21.22, 22.11, 9.98))\n",
    "\n",
    "print(lapply(lista, mean))"
   ]
  },
  {
   "cell_type": "code",
   "execution_count": 22,
   "id": "539e160f",
   "metadata": {},
   "outputs": [
    {
     "name": "stdout",
     "output_type": "stream",
     "text": [
      "     x      y \n",
      " 1.565 15.142 \n"
     ]
    }
   ],
   "source": [
    "# Média para cada elemento da lista\n",
    "print(sapply(lista, mean))"
   ]
  },
  {
   "cell_type": "code",
   "execution_count": 51,
   "id": "c3ecf58f",
   "metadata": {},
   "outputs": [
    {
     "name": "stdout",
     "output_type": "stream",
     "text": [
      "[1] 1.565\n"
     ]
    }
   ],
   "source": [
    "# Média apenas do elemento x da lista\n",
    "print(mean(lista[[1]]))"
   ]
  },
  {
   "cell_type": "markdown",
   "id": "c8ae0c62",
   "metadata": {},
   "source": [
    "* **`toString()`**"
   ]
  },
  {
   "cell_type": "code",
   "execution_count": 25,
   "id": "76065ef5",
   "metadata": {},
   "outputs": [
    {
     "name": "stdout",
     "output_type": "stream",
     "text": [
      "[1] \"c(1.55, 1.15, 1.71, 1.89, 1.65, 1.44), c(12.51, 9.89, 21.22, 22.11, 9.98)\"\n"
     ]
    }
   ],
   "source": [
    "print(toString(lista))"
   ]
  },
  {
   "cell_type": "markdown",
   "id": "8780cdea",
   "metadata": {},
   "source": [
    "## Converter Vetor para Lista\n",
    "Há duas maneiras de converter um vetor para lista, uma delas é usar a função `list()` e passar como parâmetro o nome do vetor, a outra forma é usar a função `as.list()`. A diferença entre essas essas função é que `list()` produzirá uma lista formada pelos várias elementos do vetor, ao passo que a função `as.list()` irá gerar uma lista para cada elemento do vetor, coforme demonstrado no código a seguir."
   ]
  },
  {
   "cell_type": "markdown",
   "id": "e340f6c4",
   "metadata": {},
   "source": [
    "* **`as.list()`** - Converte cada elemento do vetor em um elemento de lista, no caso de data frame cada coluna será uma elemento de lista."
   ]
  },
  {
   "cell_type": "code",
   "execution_count": 21,
   "id": "14034fd8",
   "metadata": {
    "scrolled": true
   },
   "outputs": [
    {
     "name": "stdout",
     "output_type": "stream",
     "text": [
      "[[1]]\n",
      "[1] 1.55\n",
      "\n",
      "[[2]]\n",
      "[1] 1.15\n",
      "\n",
      "[[3]]\n",
      "[1] 1.71\n",
      "\n",
      "[[4]]\n",
      "[1] 1.89\n",
      "\n",
      "[[5]]\n",
      "[1] 1.65\n",
      "\n",
      "[[6]]\n",
      "[1] 1.44\n",
      "\n"
     ]
    }
   ],
   "source": [
    "x = c(1.55, 1.15, 1.71, 1.89, 1.65, 1.44)\n",
    "\n",
    "lista2 <- as.list(x)\n",
    "\n",
    "print(head(lista2))"
   ]
  },
  {
   "cell_type": "code",
   "execution_count": 22,
   "id": "7fd19df5",
   "metadata": {
    "scrolled": true
   },
   "outputs": [
    {
     "name": "stdout",
     "output_type": "stream",
     "text": [
      "[[1]]\n",
      "[1] 1.55 1.15 1.71 1.89 1.65 1.44\n",
      "\n"
     ]
    }
   ],
   "source": [
    "# Convter o vetor \"numeros\" para lista usando a função list()\n",
    "print(list(x))"
   ]
  },
  {
   "cell_type": "code",
   "execution_count": 18,
   "id": "57d316fc",
   "metadata": {
    "scrolled": false
   },
   "outputs": [
    {
     "name": "stdout",
     "output_type": "stream",
     "text": [
      "[[1]]\n",
      " [1]  1  2  3  4  5  6  7  8  9 10 11 12 13 14 15 16 17 18 19 20 21 22 23 24 25\n",
      "[26] 26\n",
      "\n",
      "[[2]]\n",
      " [1] \"A\" \"B\" \"C\" \"D\" \"E\" \"F\" \"G\" \"H\" \"I\" \"J\" \"K\" \"L\" \"M\" \"N\" \"O\" \"P\" \"Q\" \"R\" \"S\"\n",
      "[20] \"T\" \"U\" \"V\" \"W\" \"X\" \"Y\" \"Z\"\n",
      "\n"
     ]
    }
   ],
   "source": [
    "# Definição do vetor \"numeros\"\n",
    "numeros <- c(1:26)\n",
    "\n",
    "# Definição do vetor \"letas\"\n",
    "letras <- letters\n",
    "\n",
    "lista <- list(numeros, toupper(letras))\n",
    "\n",
    "print(lista)"
   ]
  },
  {
   "cell_type": "markdown",
   "id": "1843887e",
   "metadata": {},
   "source": [
    "## Converter Dataframe para Lista"
   ]
  },
  {
   "cell_type": "code",
   "execution_count": 49,
   "id": "898fd8ac",
   "metadata": {},
   "outputs": [
    {
     "data": {
      "text/html": [
       "<table>\n",
       "<thead><tr><th scope=col>a</th><th scope=col>b</th></tr></thead>\n",
       "<tbody>\n",
       "\t<tr><td>1 </td><td> 6</td></tr>\n",
       "\t<tr><td>2 </td><td> 7</td></tr>\n",
       "\t<tr><td>3 </td><td> 8</td></tr>\n",
       "\t<tr><td>4 </td><td> 9</td></tr>\n",
       "\t<tr><td>5 </td><td>10</td></tr>\n",
       "</tbody>\n",
       "</table>\n"
      ],
      "text/latex": [
       "\\begin{tabular}{r|ll}\n",
       " a & b\\\\\n",
       "\\hline\n",
       "\t 1  &  6\\\\\n",
       "\t 2  &  7\\\\\n",
       "\t 3  &  8\\\\\n",
       "\t 4  &  9\\\\\n",
       "\t 5  & 10\\\\\n",
       "\\end{tabular}\n"
      ],
      "text/markdown": [
       "\n",
       "| a | b |\n",
       "|---|---|\n",
       "| 1  |  6 |\n",
       "| 2  |  7 |\n",
       "| 3  |  8 |\n",
       "| 4  |  9 |\n",
       "| 5  | 10 |\n",
       "\n"
      ],
      "text/plain": [
       "  a b \n",
       "1 1  6\n",
       "2 2  7\n",
       "3 3  8\n",
       "4 4  9\n",
       "5 5 10"
      ]
     },
     "metadata": {},
     "output_type": "display_data"
    }
   ],
   "source": [
    "# definir o dataframe \n",
    "df <- data.frame(a = c(1:5), b = c(6:10))\n",
    "\n",
    "# Mostrar os dados do dataframe\n",
    "df"
   ]
  },
  {
   "cell_type": "code",
   "execution_count": 50,
   "id": "14a5b06c",
   "metadata": {},
   "outputs": [
    {
     "name": "stdout",
     "output_type": "stream",
     "text": [
      "[[1]]\n",
      "  a  b\n",
      "1 1  6\n",
      "2 2  7\n",
      "3 3  8\n",
      "4 4  9\n",
      "5 5 10\n",
      "\n"
     ]
    }
   ],
   "source": [
    "# converter o dataframe para lista utilizando a função list()\n",
    "lista_df <- list(df)\n",
    "print(lista_df)"
   ]
  },
  {
   "cell_type": "code",
   "execution_count": 52,
   "id": "33b7753c",
   "metadata": {},
   "outputs": [
    {
     "name": "stdout",
     "output_type": "stream",
     "text": [
      "$a\n",
      "[1] 1 2 3 4 5\n",
      "\n",
      "$b\n",
      "[1]  6  7  8  9 10\n",
      "\n"
     ]
    }
   ],
   "source": [
    "# converter o dataframe para lista utilizando a função as.list()\n",
    "lista_df <- as.list(df)\n",
    "print(lista_df)"
   ]
  },
  {
   "cell_type": "markdown",
   "id": "3b4e0693",
   "metadata": {},
   "source": [
    "## Conhecendo a Versatilidade de uma lista\n",
    "A lista a seguir contém todas as estruturas de dados que conhecemos neste curso, e formada pelo vetor de diâmetros de árvores (dap), uma matriz, um _array_, um _data frame_ e uma lista. Observe que podemos inserir lista dentro de lista."
   ]
  },
  {
   "cell_type": "code",
   "execution_count": 1,
   "id": "f65e4f3b",
   "metadata": {},
   "outputs": [],
   "source": [
    "li <- readRDS('./data/lista_exemplo.rds')"
   ]
  },
  {
   "cell_type": "code",
   "execution_count": 2,
   "id": "edfd46bf",
   "metadata": {},
   "outputs": [
    {
     "name": "stdout",
     "output_type": "stream",
     "text": [
      "List of 5\n",
      " $ Vetor     : num [1:18406] 114.6 67.5 52.5 40.7 47.8 ...\n",
      "  ..- attr(*, \"Diâmetro de Árvores\")= chr \"Vetor de diâmetros\"\n",
      " $ Matriz    : int [1:3, 1:3] 1 2 3 4 5 6 7 8 9\n",
      "  ..- attr(*, \"Observação\")= chr \"Exemplo de Matriz criada no curso\"\n",
      " $ Array     : int [1:3, 1:3, 1:2] 1 2 3 4 5 6 7 8 9 10 ...\n",
      "  ..- attr(*, \"Observação\")= chr \"Exemplo de Array criado no curso\"\n",
      " $ Data frame:'data.frame':\t5 obs. of  3 variables:\n",
      "  ..$ id    : num [1:5] 1 2 3 4 5\n",
      "  ..$ nome  : chr [1:5] \"Mezilaurus itauba\" \"Apuleia leiocarpa\" \"Cedrela odorata\" \"Amburana acreana\" ...\n",
      "  ..$ volume: num [1:5] 3.25 6.51 7.45 8.81 4.35\n",
      "  ..- attr(*, \"Observação\")= chr \"Primeiro data frame criado no curso\"\n",
      " $ Lista     :List of 5\n",
      "  ..$ cereais : chr [1:3] \"farinha de trigo\" \"farinha de mandioca\" \"farinha de milho\"\n",
      "  ..$ higiene : chr [1:3] \"creme dental\" \"papel higiênico\" \"sabonete\"\n",
      "  ..$ limpeza : chr [1:2] \"água sanitária\" \"detergente\"\n",
      "  ..$ proteína: chr [1:3] \"carne\" \"frango\" \"peixe\"\n",
      "  ..$ birita  : chr [1:3] \"cerveja\" \"sonrisal\" \"eparema\"\n",
      "  ..- attr(*, \"Observação\")= chr \"Primeira lista criado no curso\"\n"
     ]
    }
   ],
   "source": [
    "str(li)"
   ]
  },
  {
   "cell_type": "markdown",
   "id": "4aaa97d9",
   "metadata": {},
   "source": [
    "### Mostrar o Vetor Presente na lista"
   ]
  },
  {
   "cell_type": "code",
   "execution_count": 12,
   "id": "856e08d6",
   "metadata": {},
   "outputs": [
    {
     "name": "stdout",
     "output_type": "stream",
     "text": [
      "[1] 114.59  67.48  52.52  40.74  47.75  43.93\n"
     ]
    }
   ],
   "source": [
    "print(head(li$Vetor))"
   ]
  },
  {
   "cell_type": "markdown",
   "id": "7a2ce5d1",
   "metadata": {},
   "source": [
    "### Extraindo a Matriz Presente na Lista"
   ]
  },
  {
   "cell_type": "code",
   "execution_count": 11,
   "id": "78e076ee",
   "metadata": {},
   "outputs": [
    {
     "name": "stdout",
     "output_type": "stream",
     "text": [
      "     [,1] [,2] [,3]\n",
      "[1,]    1    4    7\n",
      "[2,]    2    5    8\n",
      "[3,]    3    6    9\n",
      "attr(,\"Observação\")\n",
      "[1] \"Exemplo de Matriz criada no curso\"\n"
     ]
    }
   ],
   "source": [
    "print(li$Matriz)"
   ]
  },
  {
   "cell_type": "markdown",
   "id": "c39b70a7",
   "metadata": {},
   "source": [
    "### Extraindo a Array Presente na Lista"
   ]
  },
  {
   "cell_type": "code",
   "execution_count": 10,
   "id": "acc63e3b",
   "metadata": {},
   "outputs": [
    {
     "name": "stdout",
     "output_type": "stream",
     "text": [
      ", , 1\n",
      "\n",
      "     [,1] [,2] [,3]\n",
      "[1,]    1    4    7\n",
      "[2,]    2    5    8\n",
      "[3,]    3    6    9\n",
      "\n",
      ", , 2\n",
      "\n",
      "     [,1] [,2] [,3]\n",
      "[1,]   10   13   16\n",
      "[2,]   11   14   17\n",
      "[3,]   12   15   18\n",
      "\n",
      "attr(,\"Observação\")\n",
      "[1] \"Exemplo de Array criado no curso\"\n"
     ]
    }
   ],
   "source": [
    "print(li$Array)"
   ]
  },
  {
   "cell_type": "markdown",
   "id": "190e257c",
   "metadata": {},
   "source": [
    "### Extraindo o Data Frame Presente na Lista"
   ]
  },
  {
   "cell_type": "code",
   "execution_count": 15,
   "id": "e9261fe4",
   "metadata": {},
   "outputs": [
    {
     "data": {
      "text/html": [
       "<table class=\"dataframe\">\n",
       "<caption>A data.frame: 5 × 3</caption>\n",
       "<thead>\n",
       "\t<tr><th scope=col>id</th><th scope=col>nome</th><th scope=col>volume</th></tr>\n",
       "\t<tr><th scope=col>&lt;dbl&gt;</th><th scope=col>&lt;chr&gt;</th><th scope=col>&lt;dbl&gt;</th></tr>\n",
       "</thead>\n",
       "<tbody>\n",
       "\t<tr><td>1</td><td>Mezilaurus itauba    </td><td>3.25</td></tr>\n",
       "\t<tr><td>2</td><td>Apuleia leiocarpa    </td><td>6.51</td></tr>\n",
       "\t<tr><td>3</td><td>Cedrela odorata      </td><td>7.45</td></tr>\n",
       "\t<tr><td>4</td><td>Amburana acreana     </td><td>8.81</td></tr>\n",
       "\t<tr><td>5</td><td>Hymenolobium excelsum</td><td>4.35</td></tr>\n",
       "</tbody>\n",
       "</table>\n"
      ],
      "text/latex": [
       "A data.frame: 5 × 3\n",
       "\\begin{tabular}{lll}\n",
       " id & nome & volume\\\\\n",
       " <dbl> & <chr> & <dbl>\\\\\n",
       "\\hline\n",
       "\t 1 & Mezilaurus itauba     & 3.25\\\\\n",
       "\t 2 & Apuleia leiocarpa     & 6.51\\\\\n",
       "\t 3 & Cedrela odorata       & 7.45\\\\\n",
       "\t 4 & Amburana acreana      & 8.81\\\\\n",
       "\t 5 & Hymenolobium excelsum & 4.35\\\\\n",
       "\\end{tabular}\n"
      ],
      "text/markdown": [
       "\n",
       "A data.frame: 5 × 3\n",
       "\n",
       "| id &lt;dbl&gt; | nome &lt;chr&gt; | volume &lt;dbl&gt; |\n",
       "|---|---|---|\n",
       "| 1 | Mezilaurus itauba     | 3.25 |\n",
       "| 2 | Apuleia leiocarpa     | 6.51 |\n",
       "| 3 | Cedrela odorata       | 7.45 |\n",
       "| 4 | Amburana acreana      | 8.81 |\n",
       "| 5 | Hymenolobium excelsum | 4.35 |\n",
       "\n"
      ],
      "text/plain": [
       "  id nome                  volume\n",
       "1 1  Mezilaurus itauba     3.25  \n",
       "2 2  Apuleia leiocarpa     6.51  \n",
       "3 3  Cedrela odorata       7.45  \n",
       "4 4  Amburana acreana      8.81  \n",
       "5 5  Hymenolobium excelsum 4.35  "
      ]
     },
     "metadata": {},
     "output_type": "display_data"
    }
   ],
   "source": [
    "li$`Data frame`"
   ]
  },
  {
   "cell_type": "markdown",
   "id": "f6de2b95",
   "metadata": {},
   "source": [
    "### Extraindo a Lista Presente na Lista"
   ]
  },
  {
   "cell_type": "code",
   "execution_count": 17,
   "id": "74f408be",
   "metadata": {},
   "outputs": [
    {
     "name": "stdout",
     "output_type": "stream",
     "text": [
      "$cereais\n",
      "[1] \"farinha de trigo\"    \"farinha de mandioca\" \"farinha de milho\"   \n",
      "\n",
      "$higiene\n",
      "[1] \"creme dental\"    \"papel higiênico\" \"sabonete\"       \n",
      "\n",
      "$limpeza\n",
      "[1] \"água sanitária\" \"detergente\"    \n",
      "\n",
      "$proteína\n",
      "[1] \"carne\"  \"frango\" \"peixe\" \n",
      "\n",
      "$birita\n",
      "[1] \"cerveja\"  \"sonrisal\" \"eparema\" \n",
      "\n",
      "attr(,\"Observação\")\n",
      "[1] \"Primeira lista criado no curso\"\n"
     ]
    }
   ],
   "source": [
    "print(li$Lista)"
   ]
  },
  {
   "cell_type": "markdown",
   "id": "da61c54f",
   "metadata": {},
   "source": [
    "## Aplicação do uso de lista em R\n",
    "<p style=\"text-align:justify\">A seguir conheceremos uma lista gerada através de <i><a href=\"https://www.in.gov.br/en/web/dou/-/portaria-gm/mma-n-300-de-13-de-dezembro-de-2022-450425464\">webscraping</a></i> na página da Impresa Nacional, utilizando o pacote R <mark style=\"background-color:#F4F4F4\">Rvest</mark>. O objetivo foi extrair os dados das espécies da flora e fauna ameaçadas de extinção.</p>"
   ]
  },
  {
   "cell_type": "code",
   "execution_count": 54,
   "id": "c372bb44",
   "metadata": {},
   "outputs": [
    {
     "name": "stdout",
     "output_type": "stream",
     "text": [
      "List of 28\n",
      " $ Actinopterygii:'data.frame':\t329 obs. of  7 variables:\n",
      "  ..$ n                 : int [1:329] 129 191 192 193 194 195 196 197 198 199 ...\n",
      "  ..$ port443           : chr [1:329] \"*\" \"*\" \"*\" \"*\" ...\n",
      "  ..$ classe            : chr [1:329] \"Actinopterygii\" \"Actinopterygii\" \"Actinopterygii\" \"Actinopterygii\" ...\n",
      "  ..$ ordem             : chr [1:329] \"Atheriniformes\" \"Characiformes\" \"Characiformes\" \"Characiformes\" ...\n",
      "  ..$ familia           : chr [1:329] \"Atherinopsidae\" \"Anostomidae\" \"Anostomidae\" \"Anostomidae\" ...\n",
      "  ..$ especie_subespecie: chr [1:329] \"Odontesthes bicudo\" \"Hypomasticus thayeri\" \"Leporinus guttatus\" \"Leporinus pitingai\" ...\n",
      "  ..$ categoria         : chr [1:329] \"EN\" \"VU\" \"VU\" \"CR\" ...\n",
      " $ Amphibia      :'data.frame':\t59 obs. of  7 variables:\n",
      "  ..$ n                 : int [1:59] 33 34 37 38 39 40 41 42 43 44 ...\n",
      "  ..$ port443           : chr [1:59] \"\" \"*\" \"\" \"*\" ...\n",
      "  ..$ classe            : chr [1:59] \"Amphibia\" \"Amphibia\" \"Amphibia\" \"Amphibia\" ...\n",
      "  ..$ ordem             : chr [1:59] \"Anura\" \"Anura\" \"Anura\" \"Anura\" ...\n",
      "  ..$ familia           : chr [1:59] \"Hylidae\" \"Phyllomedusidae\" \"Brachycephalidae\" \"Brachycephalidae\" ...\n",
      "  ..$ especie_subespecie: chr [1:59] \"Boana cymbalum\" \"Phrynomedusa fimbriata\" \"Brachycephalus mirissimus\" \"Brachycephalus pernix\" ...\n",
      "  ..$ categoria         : chr [1:59] \"EX\" \"EX\" \"VU\" \"CR\" ...\n",
      " $ Anthozoa      :'data.frame':\t3 obs. of  7 variables:\n",
      "  ..$ n                 : int [1:3] 7 1065 1066\n",
      "  ..$ port443           : chr [1:3] \"*\" \"*\" \"*\"\n",
      "  ..$ classe            : chr [1:3] \"Anthozoa\" \"Anthozoa\" \"Anthozoa\"\n",
      "  ..$ ordem             : chr [1:3] \"Actiniaria\" \"Scleractinia\" \"Scleractinia\"\n",
      "  ..$ familia           : chr [1:3] \"Actiniidae\" \"Mussidae\" \"Mussidae\"\n",
      "  ..$ especie_subespecie: chr [1:3] \"Condylactis gigantea\" \"Mussismilia braziliensis\" \"Mussismilia harttii\"\n",
      "  ..$ categoria         : chr [1:3] \"EN\" \"VU\" \"EN\"\n",
      " $ Arachnida     :'data.frame':\t69 obs. of  7 variables:\n",
      "  ..$ n                 : int [1:69] 8 9 10 11 12 13 14 15 16 105 ...\n",
      "  ..$ port443           : chr [1:69] \"*\" \"*\" \"\" \"*\" ...\n",
      "  ..$ classe            : chr [1:69] \"Arachnida\" \"Arachnida\" \"Arachnida\" \"Arachnida\" ...\n",
      "  ..$ ordem             : chr [1:69] \"Amblypygi\" \"Amblypygi\" \"Amblypygi\" \"Amblypygi\" ...\n",
      "  ..$ familia           : chr [1:69] \"Charinidae\" \"Charinidae\" \"Charinidae\" \"Charinidae\" ...\n",
      "  ..$ especie_subespecie: chr [1:69] \"Charinus acaraje\" \"Charinus asturius\" \"Charinus caatingae\" \"Charinus eleonorae\" ...\n",
      "  ..$ categoria         : chr [1:69] \"VU\" \"EN\" \"CR\" \"EN\" ...\n",
      " $ Asteroidea    :'data.frame':\t7 obs. of  7 variables:\n",
      "  ..$ n                 : int [1:7] 499 845 846 847 848 1277 1278\n",
      "  ..$ port443           : chr [1:7] \"*\" \"*\" \"*\" \"*\" ...\n",
      "  ..$ classe            : chr [1:7] \"Asteroidea\" \"Asteroidea\" \"Asteroidea\" \"Asteroidea\" ...\n",
      "  ..$ ordem             : chr [1:7] \"Forcipulatida\" \"Paxillosida\" \"Paxillosida\" \"Paxillosida\" ...\n",
      "  ..$ familia           : chr [1:7] \"Asteriidae\" \"Astropectinidae\" \"Astropectinidae\" \"Astropectinidae\" ...\n",
      "  ..$ especie_subespecie: chr [1:7] \"Coscinasterias tenuispina\" \"Astropecten articulatus\" \"Astropecten brasiliensis\" \"Astropecten marginatus\" ...\n",
      "  ..$ categoria         : chr [1:7] \"VU\" \"VU\" \"VU\" \"VU\" ...\n",
      " $ Atheriniformes:'data.frame':\t3 obs. of  7 variables:\n",
      "  ..$ n                 : int [1:3] 862 863 864\n",
      "  ..$ port443           : chr [1:3] \"*\" \"*\" \"*\"\n",
      "  ..$ classe            : chr [1:3] \"Atheriniformes\" \"Atheriniformes\" \"Atheriniformes\"\n",
      "  ..$ ordem             : chr [1:3] \"Perciformes\" \"Perciformes\" \"Perciformes\"\n",
      "  ..$ familia           : chr [1:3] \"Epinephelidae\" \"Epinephelidae\" \"Epinephelidae\"\n",
      "  ..$ especie_subespecie: chr [1:3] \"Epinephelus itajara\" \"Epinephelus marginatus\" \"Epinephelus morio\"\n",
      "  ..$ categoria         : chr [1:3] \"CR\" \"VU\" \"VU\"\n",
      " $ Aves          :'data.frame':\t263 obs. of  7 variables:\n",
      "  ..$ n                 : int [1:263] 1 2 3 4 5 6 31 95 96 97 ...\n",
      "  ..$ port443           : chr [1:263] \"*\" \"*\" \"*\" \"*\" ...\n",
      "  ..$ classe            : chr [1:263] \"Aves\" \"Aves\" \"Aves\" \"Aves\" ...\n",
      "  ..$ ordem             : chr [1:263] \"Accipitriformes\" \"Accipitriformes\" \"Accipitriformes\" \"Accipitriformes\" ...\n",
      "  ..$ familia           : chr [1:263] \"Accipitridae\" \"Accipitridae\" \"Accipitridae\" \"Accipitridae\" ...\n",
      "  ..$ especie_subespecie: chr [1:263] \"Amadonastur lacernulatus\" \"Circus cinereus\" \"Harpia harpyja\" \"Leptodon forbesi\" ...\n",
      "  ..$ categoria         : chr [1:263] \"VU\" \"VU\" \"VU\" \"EN\" ...\n",
      " $ Bivalvia      :'data.frame':\t3 obs. of  7 variables:\n",
      "  ..$ n                 : int [1:3] 679 1275 1276\n",
      "  ..$ port443           : chr [1:3] \"*\" \"*\" \"*\"\n",
      "  ..$ classe            : chr [1:3] \"Bivalvia\" \"Bivalvia\" \"Bivalvia\"\n",
      "  ..$ ordem             : chr [1:3] \"Ostreoida\" \"Unionoida\" \"Unionoida\"\n",
      "  ..$ familia           : chr [1:3] \"Pectinidae\" \"Hyriidae\" \"Mycetopodidae\"\n",
      "  ..$ especie_subespecie: chr [1:3] \"Euvola ziczac\" \"Diplodon koseritzi\" \"Mycetopoda legumen\"\n",
      "  ..$ categoria         : chr [1:3] \"EN\" \"EN\" \"EN\"\n",
      " $ Chilopoda     :'data.frame':\t6 obs. of  7 variables:\n",
      "  ..$ n                 : int [1:6] 1067 1068 1069 1070 1071 1072\n",
      "  ..$ port443           : chr [1:6] \"*\" \"*\" \"*\" \"\" ...\n",
      "  ..$ classe            : chr [1:6] \"Chilopoda\" \"Chilopoda\" \"Chilopoda\" \"Chilopoda\" ...\n",
      "  ..$ ordem             : chr [1:6] \"Scolopendromorpha\" \"Scolopendromorpha\" \"Scolopendromorpha\" \"Scolopendromorpha\" ...\n",
      "  ..$ familia           : chr [1:6] \"Cryptopidae\" \"Cryptopidae\" \"Scolopendridae\" \"Scolopocryptopidae\" ...\n",
      "  ..$ especie_subespecie: chr [1:6] \"Cryptopsiporangensis\" \"Cryptopsspelaeoraptor\" \"Scolopendropsisduplicata\" \"Newportia potiguar\" ...\n",
      "  ..$ categoria         : chr [1:6] \"EN\" \"CR\" \"CR\" \"VU\" ...\n",
      " $ Chondrichthyes:'data.frame':\t61 obs. of  7 variables:\n",
      "  ..$ n                 : int [1:61] 137 138 139 140 141 142 143 144 145 146 ...\n",
      "  ..$ port443           : chr [1:61] \"\" \"\" \"\" \"\" ...\n",
      "  ..$ classe            : chr [1:61] \"Chondrichthyes\" \"Chondrichthyes\" \"Chondrichthyes\" \"Chondrichthyes\" ...\n",
      "  ..$ ordem             : chr [1:61] \"Carcharhiniformes\" \"Carcharhiniformes\" \"Carcharhiniformes\" \"Carcharhiniformes\" ...\n",
      "  ..$ familia           : chr [1:61] \"Carcharhinidae\" \"Carcharhinidae\" \"Carcharhinidae\" \"Carcharhinidae\" ...\n",
      "  ..$ especie_subespecie: chr [1:61] \"Carcharhinus acronotus\" \"Carcharhinus brevipinna\" \"Carcharhinus falciformis\" \"Carcharhinus leucas\" ...\n",
      "  ..$ categoria         : chr [1:61] \"VU\" \"VU\" \"CR\" \"VU\" ...\n",
      " $ Collembola    :'data.frame':\t39 obs. of  7 variables:\n",
      "  ..$ n                 : int [1:39] 293 294 295 296 297 298 299 300 301 302 ...\n",
      "  ..$ port443           : chr [1:39] \"*\" \"\" \"\" \"\" ...\n",
      "  ..$ classe            : chr [1:39] \"Collembola\" \"Collembola\" \"Collembola\" \"Collembola\" ...\n",
      "  ..$ ordem             : chr [1:39] \"Collembola\" \"Collembola\" \"Collembola\" \"Collembola\" ...\n",
      "  ..$ familia           : chr [1:39] \"Arrhopalitidae\" \"Arrhopalitidae\" \"Entomobryidae\" \"Entomobryidae\" ...\n",
      "  ..$ especie_subespecie: chr [1:39] \"Arrhopalites amorimi\" \"Arrhopalites glabrofasciatus\" \"Pseudosinella ambigua\" \"Pseudosinella guanhaensis\" ...\n",
      "  ..$ categoria         : chr [1:39] \"VU\" \"EN\" \"VU\" \"CR\" ...\n",
      " $ Demospongea   :'data.frame':\t5 obs. of  7 variables:\n",
      "  ..$ n                 : int [1:5] 916 1166 1167 1243 1244\n",
      "  ..$ port443           : chr [1:5] \"*\" \"*\" \"*\" \"*\" ...\n",
      "  ..$ classe            : chr [1:5] \"Demospongea\" \"Demospongea\" \"Demospongea\" \"Demospongea\" ...\n",
      "  ..$ ordem             : chr [1:5] \"Poecilosclerida\" \"Spongillida\" \"Spongillida\" \"Suberitida\" ...\n",
      "  ..$ familia           : chr [1:5] \"Latrunculiidae\" \"Spongillidae\" \"Metaniidae\" \"Halichondriidae\" ...\n",
      "  ..$ especie_subespecie: chr [1:5] \"Latrunculia janeirensis\" \"Racekiela cavernicola\" \"Corvomeyenia epilithosa\" \"Halichondria cebimarensis\" ...\n",
      "  ..$ categoria         : chr [1:5] \"VU\" \"VU\" \"VU\" \"VU\" ...\n",
      " $ Diplopoda     :'data.frame':\t14 obs. of  7 variables:\n",
      "  ..$ n                 : int [1:14] 35 36 513 917 918 919 920 921 922 1161 ...\n",
      "  ..$ port443           : chr [1:14] \"\" \"\" \"*\" \"*\" ...\n",
      "  ..$ classe            : chr [1:14] \"Diplopoda\" \"Diplopoda\" \"Diplopoda\" \"Diplopoda\" ...\n",
      "  ..$ ordem             : chr [1:14] \"Anura\" \"Anura\" \"Glomeridesmida\" \"Polydesmida\" ...\n",
      "  ..$ familia           : chr [1:14] \"Aromobatidae\" \"Aromobatidae\" \"Glomerodesmidae\" \"Chelodesmidae\" ...\n",
      "  ..$ especie_subespecie: chr [1:14] \"Anomaloglossus apiau\" \"Anomaloglossus tepequem\" \"Glomeridesmus spelaeus\" \"Dioplosternus salvatrix\" ...\n",
      "  ..$ categoria         : chr [1:14] \"EN\" \"CR (PEX)\" \"EN\" \"VU\" ...\n",
      " $ Diplura       :'data.frame':\t1 obs. of  7 variables:\n",
      "  ..$ n                 : int 471\n",
      "  ..$ port443           : chr \"\"\n",
      "  ..$ classe            : chr \"Diplura\"\n",
      "  ..$ ordem             : chr \"Diplura\"\n",
      "  ..$ familia           : chr \"Campodeidae\"\n",
      "  ..$ especie_subespecie: chr \"Oncinocampa trajanoae\"\n",
      "  ..$ categoria         : chr \"CR\"\n",
      " $ Echinoidea    :'data.frame':\t2 obs. of  7 variables:\n",
      "  ..$ n                 : int [1:2] 134 176\n",
      "  ..$ port443           : chr [1:2] \"*\" \"*\"\n",
      "  ..$ classe            : chr [1:2] \"Echinoidea\" \"Echinoidea\"\n",
      "  ..$ ordem             : chr [1:2] \"Camarodonta\" \"Cassiduloida\"\n",
      "  ..$ familia           : chr [1:2] \"Toxopneustidae\" \"Cassidulidae\"\n",
      "  ..$ especie_subespecie: chr [1:2] \"Lytechinus variegatus\" \"Cassidulus mitis\"\n",
      "  ..$ categoria         : chr [1:2] \"VU\" \"EN\"\n",
      " $ Enteropneusta :'data.frame':\t1 obs. of  7 variables:\n",
      "  ..$ n                 : int 473\n",
      "  ..$ port443           : chr \"*\"\n",
      "  ..$ classe            : chr \"Enteropneusta\"\n",
      "  ..$ ordem             : chr \"Enteropneusta\"\n",
      "  ..$ familia           : chr \"Spengelidae\"\n",
      "  ..$ especie_subespecie: chr \"Willeya loya\"\n",
      "  ..$ categoria         : chr \"CR\"\n",
      " $ Gastropoda    :'data.frame':\t18 obs. of  7 variables:\n",
      "  ..$ n                 : int [1:18] 131 132 133 520 641 642 643 644 1003 1004 ...\n",
      "  ..$ port443           : chr [1:18] \"*\" \"*\" \"*\" \"*\" ...\n",
      "  ..$ classe            : chr [1:18] \"Gastropoda\" \"Gastropoda\" \"Gastropoda\" \"Gastropoda\" ...\n",
      "  ..$ ordem             : chr [1:18] \"Caenogastropoda\" \"Caenogastropoda\" \"Caenogastropoda\" \"Gymnomorpha\" ...\n",
      "  ..$ familia           : chr [1:18] \"Hydrobiidae\" \"Ampullariidae\" \"Hydrobiidae\" \"Veronicellidae\" ...\n",
      "  ..$ especie_subespecie: chr [1:18] \"Potamolithus troglobius\" \"Pomacea sordida\" \"Potamolithus karsticus\" \"Phyllocaulis renschi\" ...\n",
      "  ..$ categoria         : chr [1:18] \"CR\" \"EN\" \"CR\" \"CR\" ...\n",
      " $ Holothuroidea :'data.frame':\t1 obs. of  7 variables:\n",
      "  ..$ n                 : int 94\n",
      "  ..$ port443           : chr \"*\"\n",
      "  ..$ classe            : chr \"Holothuroidea\"\n",
      "  ..$ ordem             : chr \"Apodida\"\n",
      "  ..$ familia           : chr \"Synaptidae\"\n",
      "  ..$ especie_subespecie: chr \"Synaptula secreta\"\n",
      "  ..$ categoria         : chr \"CR\"\n",
      " $ Hydrozoa      :'data.frame':\t1 obs. of  7 variables:\n",
      "  ..$ n                 : int 32\n",
      "  ..$ port443           : chr \"*\"\n",
      "  ..$ classe            : chr \"Hydrozoa\"\n",
      "  ..$ ordem             : chr \"Anthoathecata\"\n",
      "  ..$ familia           : chr \"Milleporidae\"\n",
      "  ..$ especie_subespecie: chr \"Millepora laboreli\"\n",
      "  ..$ categoria         : chr \"VU\"\n",
      " $ Insecta       :'data.frame':\t146 obs. of  7 variables:\n",
      "  ..$ n                 : int [1:146] 130 261 262 263 264 265 266 267 268 269 ...\n",
      "  ..$ port443           : chr [1:146] \"\" \"*\" \"\" \"*\" ...\n",
      "  ..$ classe            : chr [1:146] \"Insecta\" \"Insecta\" \"Insecta\" \"Insecta\" ...\n",
      "  ..$ ordem             : chr [1:146] \"Blattodea\" \"Coleoptera\" \"Coleoptera\" \"Coleoptera\" ...\n",
      "  ..$ familia           : chr [1:146] \"Blattellidae\" \"Dytiscidae\" \"Carabidae\" \"Carabidae\" ...\n",
      "  ..$ especie_subespecie: chr [1:146] \"Litoblatta camargoi\" \"Copelatus cessaima\" \"Coarazuphium amazonicum\" \"Coarazuphium caatinga\" ...\n",
      "  ..$ categoria         : chr [1:146] \"EN\" \"EN\" \"CR\" \"EN\" ...\n",
      " $ Malacostraca  :'data.frame':\t46 obs. of  7 variables:\n",
      "  ..$ n                 : int [1:46] 17 18 19 20 21 22 23 24 25 26 ...\n",
      "  ..$ port443           : chr [1:46] \"\" \"\" \"\" \"\" ...\n",
      "  ..$ classe            : chr [1:46] \"Malacostraca\" \"Malacostraca\" \"Malacostraca\" \"Malacostraca\" ...\n",
      "  ..$ ordem             : chr [1:46] \"Amphipoda\" \"Amphipoda\" \"Amphipoda\" \"Amphipoda\" ...\n",
      "  ..$ familia           : chr [1:46] \"Artesiidae\" \"Artesiidae\" \"Artesiidae\" \"Artesiidae\" ...\n",
      "  ..$ especie_subespecie: chr [1:46] \"Spelaeogammarus bahiensis\" \"Spelaeogammarus sanctus\" \"Spelaeogammarus santanensis\" \"Spelaeogammarus spinilacertus\" ...\n",
      "  ..$ categoria         : chr [1:46] \"VU\" \"CR\" \"CR\" \"EN\" ...\n",
      " $ Mammalia      :'data.frame':\t104 obs. of  7 variables:\n",
      "  ..$ n                 : int [1:104] 160 161 162 163 164 168 169 170 171 172 ...\n",
      "  ..$ port443           : chr [1:104] \"*\" \"*\" \"*\" \"*\" ...\n",
      "  ..$ classe            : chr [1:104] \"Mammalia\" \"Mammalia\" \"Mammalia\" \"Mammalia\" ...\n",
      "  ..$ ordem             : chr [1:104] \"Carnivora\" \"Carnivora\" \"Carnivora\" \"Carnivora\" ...\n",
      "  ..$ familia           : chr [1:104] \"Canidae\" \"Canidae\" \"Canidae\" \"Canidae\" ...\n",
      "  ..$ especie_subespecie: chr [1:104] \"Atelocynus microtis\" \"Chrysocyon brachyurus\" \"Lycalopex vetulus\" \"Speothos venaticus\" ...\n",
      "  ..$ categoria         : chr [1:104] \"VU\" \"VU\" \"VU\" \"VU\" ...\n",
      " $ Oligochaeta   :'data.frame':\t1 obs. of  7 variables:\n",
      "  ..$ n                 : int 536\n",
      "  ..$ port443           : chr \"*\"\n",
      "  ..$ classe            : chr \"Oligochaeta\"\n",
      "  ..$ ordem             : chr \"Haplotaxida\"\n",
      "  ..$ familia           : chr \"Glossoscolecidae\"\n",
      "  ..$ especie_subespecie: chr \"Fimoscolex sporadochaetus\"\n",
      "  ..$ categoria         : chr \"EN\"\n",
      " $ Polychaeta    :'data.frame':\t2 obs. of  7 variables:\n",
      "  ..$ n                 : int [1:2] 493 494\n",
      "  ..$ port443           : chr [1:2] \"*\" \"*\"\n",
      "  ..$ classe            : chr [1:2] \"Polychaeta\" \"Polychaeta\"\n",
      "  ..$ ordem             : chr [1:2] \"Eunicida\" \"Eunicida\"\n",
      "  ..$ familia           : chr [1:2] \"Eunicidae\" \"Onuphidae\"\n",
      "  ..$ especie_subespecie: chr [1:2] \"Eunice sebastiani\" \"Diopatra cuprea\"\n",
      "  ..$ categoria         : chr [1:2] \"EN\" \"VU\"\n",
      " $ Reptilia      :'data.frame':\t71 obs. of  7 variables:\n",
      "  ..$ n                 : int [1:71] 1168 1169 1170 1171 1172 1173 1174 1175 1176 1177 ...\n",
      "  ..$ port443           : chr [1:71] \"*\" \"*\" \"*\" \"*\" ...\n",
      "  ..$ classe            : chr [1:71] \"Reptilia\" \"Reptilia\" \"Reptilia\" \"Reptilia\" ...\n",
      "  ..$ ordem             : chr [1:71] \"Squamata\" \"Squamata\" \"Squamata\" \"Squamata\" ...\n",
      "  ..$ familia           : chr [1:71] \"Amphisbaenidae\" \"Amphisbaenidae\" \"Amphisbaenidae\" \"Amphisbaenidae\" ...\n",
      "  ..$ especie_subespecie: chr [1:71] \"Amphisbaena arda\" \"Amphisbaena frontalis\" \"Amphisbaena nigricauda\" \"Amphisbaena supernumeraria\" ...\n",
      "  ..$ categoria         : chr [1:71] \"EN\" \"EN\" \"EN\" \"EN\" ...\n",
      " $ Rhynchonellata:'data.frame':\t1 obs. of  7 variables:\n",
      "  ..$ n                 : int 1257\n",
      "  ..$ port443           : chr \"*\"\n",
      "  ..$ classe            : chr \"Rhynchonellata\"\n",
      "  ..$ ordem             : chr \"Terebratulida\"\n",
      "  ..$ familia           : chr \"Bouchardiidae\"\n",
      "  ..$ especie_subespecie: chr \"Bouchardia rosea\"\n",
      "  ..$ categoria         : chr \"EN\"\n",
      " $ Turbellaria   :'data.frame':\t6 obs. of  7 variables:\n",
      "  ..$ n                 : int [1:6] 1268 1269 1270 1271 1272 1273\n",
      "  ..$ port443           : chr [1:6] \"\" \"\" \"\" \"\" ...\n",
      "  ..$ classe            : chr [1:6] \"Turbellaria\" \"Turbellaria\" \"Turbellaria\" \"Turbellaria\" ...\n",
      "  ..$ ordem             : chr [1:6] \"Tricladida\" \"Tricladida\" \"Tricladida\" \"Tricladida\" ...\n",
      "  ..$ familia           : chr [1:6] \"Dimarcusidae\" \"Dugesiidae\" \"Dugesiidae\" \"Dugesiidae\" ...\n",
      "  ..$ especie_subespecie: chr [1:6] \"Hausera hauseri\" \"Girardia arenicola\" \"Girardia desiderensis\" \"Girardia multidiverticulata\" ...\n",
      "  ..$ categoria         : chr [1:6] \"VU\" \"CR\" \"CR\" \"CR\" ...\n",
      " $ Udeonychophora:'data.frame':\t4 obs. of  7 variables:\n",
      "  ..$ n                 : int [1:4] 495 496 497 498\n",
      "  ..$ port443           : chr [1:4] \"*\" \"*\" \"*\" \"*\"\n",
      "  ..$ classe            : chr [1:4] \"Udeonychophora\" \"Udeonychophora\" \"Udeonychophora\" \"Udeonychophora\"\n",
      "  ..$ ordem             : chr [1:4] \"Euonychophora\" \"Euonychophora\" \"Euonychophora\" \"Euonychophora\"\n",
      "  ..$ familia           : chr [1:4] \"Peripatidae\" \"Peripatidae\" \"Peripatidae\" \"Peripatidae\"\n",
      "  ..$ especie_subespecie: chr [1:4] \"Epiperipatus adenocryptus\" \"Epiperipatus diadenoproctus\" \"Epiperipatus ohausi\" \"Epiperipatus paurognostus\"\n",
      "  ..$ categoria         : chr [1:4] \"CR\" \"VU\" \"EN\" \"CR\"\n"
     ]
    }
   ],
   "source": [
    "# carregar a lista das espécies da fauna\n",
    "lista_fauna <- readRDS('./data/lista_classes_fauna_ameacada.rds')\n",
    "\n",
    "# Resumir os dados da lista\n",
    "str(lista_fauna)"
   ]
  },
  {
   "cell_type": "code",
   "execution_count": 62,
   "id": "7fe2c05e",
   "metadata": {},
   "outputs": [
    {
     "data": {
      "text/html": [
       "<table>\n",
       "<thead><tr><th scope=col>n</th><th scope=col>port443</th><th scope=col>classe</th><th scope=col>ordem</th><th scope=col>familia</th><th scope=col>especie_subespecie</th><th scope=col>categoria</th></tr></thead>\n",
       "<tbody>\n",
       "\t<tr><td>1                       </td><td>*                       </td><td>Aves                    </td><td>Accipitriformes         </td><td>Accipitridae            </td><td>Amadonastur lacernulatus</td><td>VU                      </td></tr>\n",
       "\t<tr><td>2                       </td><td>*                       </td><td>Aves                    </td><td>Accipitriformes         </td><td>Accipitridae            </td><td>Circus cinereus         </td><td>VU                      </td></tr>\n",
       "\t<tr><td>3                       </td><td>*                       </td><td>Aves                    </td><td>Accipitriformes         </td><td>Accipitridae            </td><td>Harpia harpyja          </td><td>VU                      </td></tr>\n",
       "\t<tr><td>4                       </td><td>*                       </td><td>Aves                    </td><td>Accipitriformes         </td><td>Accipitridae            </td><td>Leptodon forbesi        </td><td>EN                      </td></tr>\n",
       "\t<tr><td>5                       </td><td>*                       </td><td>Aves                    </td><td>Accipitriformes         </td><td>Accipitridae            </td><td>Morphnus guianensis     </td><td>VU                      </td></tr>\n",
       "\t<tr><td>6                       </td><td>*                       </td><td>Aves                    </td><td>Accipitriformes         </td><td>Accipitridae            </td><td>Urubitinga coronata     </td><td>EN                      </td></tr>\n",
       "</tbody>\n",
       "</table>\n"
      ],
      "text/latex": [
       "\\begin{tabular}{r|lllllll}\n",
       " n & port443 & classe & ordem & familia & especie\\_subespecie & categoria\\\\\n",
       "\\hline\n",
       "\t 1                        & *                        & Aves                     & Accipitriformes          & Accipitridae             & Amadonastur lacernulatus & VU                      \\\\\n",
       "\t 2                        & *                        & Aves                     & Accipitriformes          & Accipitridae             & Circus cinereus          & VU                      \\\\\n",
       "\t 3                        & *                        & Aves                     & Accipitriformes          & Accipitridae             & Harpia harpyja           & VU                      \\\\\n",
       "\t 4                        & *                        & Aves                     & Accipitriformes          & Accipitridae             & Leptodon forbesi         & EN                      \\\\\n",
       "\t 5                        & *                        & Aves                     & Accipitriformes          & Accipitridae             & Morphnus guianensis      & VU                      \\\\\n",
       "\t 6                        & *                        & Aves                     & Accipitriformes          & Accipitridae             & Urubitinga coronata      & EN                      \\\\\n",
       "\\end{tabular}\n"
      ],
      "text/markdown": [
       "\n",
       "| n | port443 | classe | ordem | familia | especie_subespecie | categoria |\n",
       "|---|---|---|---|---|---|---|\n",
       "| 1                        | *                        | Aves                     | Accipitriformes          | Accipitridae             | Amadonastur lacernulatus | VU                       |\n",
       "| 2                        | *                        | Aves                     | Accipitriformes          | Accipitridae             | Circus cinereus          | VU                       |\n",
       "| 3                        | *                        | Aves                     | Accipitriformes          | Accipitridae             | Harpia harpyja           | VU                       |\n",
       "| 4                        | *                        | Aves                     | Accipitriformes          | Accipitridae             | Leptodon forbesi         | EN                       |\n",
       "| 5                        | *                        | Aves                     | Accipitriformes          | Accipitridae             | Morphnus guianensis      | VU                       |\n",
       "| 6                        | *                        | Aves                     | Accipitriformes          | Accipitridae             | Urubitinga coronata      | EN                       |\n",
       "\n"
      ],
      "text/plain": [
       "  n port443 classe ordem           familia      especie_subespecie      \n",
       "1 1 *       Aves   Accipitriformes Accipitridae Amadonastur lacernulatus\n",
       "2 2 *       Aves   Accipitriformes Accipitridae Circus cinereus         \n",
       "3 3 *       Aves   Accipitriformes Accipitridae Harpia harpyja          \n",
       "4 4 *       Aves   Accipitriformes Accipitridae Leptodon forbesi        \n",
       "5 5 *       Aves   Accipitriformes Accipitridae Morphnus guianensis     \n",
       "6 6 *       Aves   Accipitriformes Accipitridae Urubitinga coronata     \n",
       "  categoria\n",
       "1 VU       \n",
       "2 VU       \n",
       "3 VU       \n",
       "4 EN       \n",
       "5 VU       \n",
       "6 EN       "
      ]
     },
     "metadata": {},
     "output_type": "display_data"
    },
    {
     "data": {
      "text/html": [
       "<table>\n",
       "<thead><tr><th></th><th scope=col>n</th><th scope=col>port443</th><th scope=col>classe</th><th scope=col>ordem</th><th scope=col>familia</th><th scope=col>especie_subespecie</th><th scope=col>categoria</th></tr></thead>\n",
       "<tbody>\n",
       "\t<tr><th scope=row>1231</th><td>1247                  </td><td>*                     </td><td>Aves                  </td><td>Suliformes            </td><td>Sulidae               </td><td>Sula sula             </td><td>EN                    </td></tr>\n",
       "\t<tr><th scope=row>1247</th><td>1263                  </td><td>*                     </td><td>Aves                  </td><td>Tinamiformes          </td><td>Tinamidae             </td><td>Crypturellus zabele   </td><td>VU                    </td></tr>\n",
       "\t<tr><th scope=row>1248</th><td>1264                  </td><td>*                     </td><td>Aves                  </td><td>Tinamiformes          </td><td>Tinamidae             </td><td>Nothura minor         </td><td>EN                    </td></tr>\n",
       "\t<tr><th scope=row>1249</th><td>1265                  </td><td>*                     </td><td>Aves                  </td><td>Tinamiformes          </td><td>Tinamidae             </td><td>Taoniscus nanus       </td><td>EN                    </td></tr>\n",
       "\t<tr><th scope=row>1250</th><td>1266                  </td><td>*                     </td><td>Aves                  </td><td>Tinamiformes          </td><td>Tinamidae             </td><td>Tinamus tao           </td><td>VU                    </td></tr>\n",
       "\t<tr><th scope=row>1258</th><td>1274                  </td><td>*                     </td><td>Aves                  </td><td>Trogoniformes         </td><td>Trogonidae            </td><td>Trogon collaris eytoni</td><td>EN                    </td></tr>\n",
       "</tbody>\n",
       "</table>\n"
      ],
      "text/latex": [
       "\\begin{tabular}{r|lllllll}\n",
       "  & n & port443 & classe & ordem & familia & especie\\_subespecie & categoria\\\\\n",
       "\\hline\n",
       "\t1231 & 1247                   & *                      & Aves                   & Suliformes             & Sulidae                & Sula sula              & EN                    \\\\\n",
       "\t1247 & 1263                   & *                      & Aves                   & Tinamiformes           & Tinamidae              & Crypturellus zabele    & VU                    \\\\\n",
       "\t1248 & 1264                   & *                      & Aves                   & Tinamiformes           & Tinamidae              & Nothura minor          & EN                    \\\\\n",
       "\t1249 & 1265                   & *                      & Aves                   & Tinamiformes           & Tinamidae              & Taoniscus nanus        & EN                    \\\\\n",
       "\t1250 & 1266                   & *                      & Aves                   & Tinamiformes           & Tinamidae              & Tinamus tao            & VU                    \\\\\n",
       "\t1258 & 1274                   & *                      & Aves                   & Trogoniformes          & Trogonidae             & Trogon collaris eytoni & EN                    \\\\\n",
       "\\end{tabular}\n"
      ],
      "text/markdown": [
       "\n",
       "| <!--/--> | n | port443 | classe | ordem | familia | especie_subespecie | categoria |\n",
       "|---|---|---|---|---|---|---|---|\n",
       "| 1231 | 1247                   | *                      | Aves                   | Suliformes             | Sulidae                | Sula sula              | EN                     |\n",
       "| 1247 | 1263                   | *                      | Aves                   | Tinamiformes           | Tinamidae              | Crypturellus zabele    | VU                     |\n",
       "| 1248 | 1264                   | *                      | Aves                   | Tinamiformes           | Tinamidae              | Nothura minor          | EN                     |\n",
       "| 1249 | 1265                   | *                      | Aves                   | Tinamiformes           | Tinamidae              | Taoniscus nanus        | EN                     |\n",
       "| 1250 | 1266                   | *                      | Aves                   | Tinamiformes           | Tinamidae              | Tinamus tao            | VU                     |\n",
       "| 1258 | 1274                   | *                      | Aves                   | Trogoniformes          | Trogonidae             | Trogon collaris eytoni | EN                     |\n",
       "\n"
      ],
      "text/plain": [
       "     n    port443 classe ordem         familia    especie_subespecie    \n",
       "1231 1247 *       Aves   Suliformes    Sulidae    Sula sula             \n",
       "1247 1263 *       Aves   Tinamiformes  Tinamidae  Crypturellus zabele   \n",
       "1248 1264 *       Aves   Tinamiformes  Tinamidae  Nothura minor         \n",
       "1249 1265 *       Aves   Tinamiformes  Tinamidae  Taoniscus nanus       \n",
       "1250 1266 *       Aves   Tinamiformes  Tinamidae  Tinamus tao           \n",
       "1258 1274 *       Aves   Trogoniformes Trogonidae Trogon collaris eytoni\n",
       "     categoria\n",
       "1231 EN       \n",
       "1247 VU       \n",
       "1248 EN       \n",
       "1249 EN       \n",
       "1250 VU       \n",
       "1258 EN       "
      ]
     },
     "metadata": {},
     "output_type": "display_data"
    }
   ],
   "source": [
    "#  Selecionar e mostrar a classe das aves\n",
    "head(lista_fauna$Aves)\n",
    "tail(lista_fauna$Aves)"
   ]
  },
  {
   "cell_type": "code",
   "execution_count": null,
   "id": "a4eb56ad",
   "metadata": {},
   "outputs": [],
   "source": []
  }
 ],
 "metadata": {
  "kernelspec": {
   "display_name": "R",
   "language": "R",
   "name": "ir"
  },
  "language_info": {
   "codemirror_mode": "r",
   "file_extension": ".r",
   "mimetype": "text/x-r-source",
   "name": "R",
   "pygments_lexer": "r",
   "version": "4.2.0"
  }
 },
 "nbformat": 4,
 "nbformat_minor": 5
}
