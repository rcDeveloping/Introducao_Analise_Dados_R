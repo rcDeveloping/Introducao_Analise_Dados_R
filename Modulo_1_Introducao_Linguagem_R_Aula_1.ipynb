{
 "cells": [
  {
   "cell_type": "markdown",
   "id": "f61c2141",
   "metadata": {},
   "source": [
    "<h1 align=\"center\">Introdução à Análise de Dados com Linguagem R</h1>"
   ]
  },
  {
   "cell_type": "markdown",
   "id": "186ce1a6",
   "metadata": {},
   "source": [
    "## 1. Introdução\n",
    "<p style=\"text-align:justify\">R é uma linguagem de programação gratuita de código aberto usada principalmente para computação estatística e gráficos. R é uma linguagem interpretada semelhante a Python, onde você não precisa compilar primeiro para executar seu programa. Depois de criar seu programa, você pode executá-lo em uma ampla variedade de plataformas UNIX, Windows e macOS.</p>\n",
    "\n",
    "<p style=\"text-align:justify\">R foi inicialmente utilizado por estatísticos para facilitar o processamento estatísticos, mas posteriormente outros programadores se envolveram com o projeto e desenvolveram a linguagem para uma ampla variedade de tarefas não estatísticas, incluindo processamento de dados, visualização gráfica e processamento analítico.</p>\n",
    "\n",
    "<p style=\"text-align:justify\">Como qualquer outra linguagem de programação, R também suporta extensão na forma de pacotes, portanto, os desenvolvedores podem criar seus próprios pacotes e reutilizá-los quando necessário.</p>"
   ]
  },
  {
   "cell_type": "markdown",
   "id": "c6f6c448",
   "metadata": {},
   "source": [
    "## 2 Instalação do R\n",
    "<p style=\"text-align:justify\">A instalação padrão da linguagem R é feita a partir do <a href=\"https://cran.r-project.org/\">CRAN</a>, uma rede formada de servidores espalhadod pelo mundo que armazena versões atualizadas do código fonte e executável (Windows), assim como a documentação da linguagem R.</p>"
   ]
  },
  {
   "cell_type": "markdown",
   "id": "895753de",
   "metadata": {},
   "source": [
    "## 3 Instalação do RStudio\n",
    "<p style=\"text-align:justify\">RStudio é um ambiente de desenvolvimento integrado para linguagem R (IDE - <i>integrated development environment</i>), porém pode rodar <i>scripts</i> SQL, C, C++ e Python. A vantagem se se poder trabalhar com IDE é que ela disponibiliza ferramentas de apoio ao desenvolvimento de códigos em linguagem de programção. Para <i>download</i> do RStudio acesse o endereço <a href=\"https://www.rstudio.com/products/rstudio/download/#download\">https://www.rstudio.com/,</a> e escolha a opção <i>RStudio Desktop</i></p>"
   ]
  },
  {
   "cell_type": "markdown",
   "id": "1eef1e00",
   "metadata": {},
   "source": [
    "## 3.1 Conhecendo a Interface Gráfica do RStudio"
   ]
  },
  {
   "cell_type": "markdown",
   "id": "d6455fcb",
   "metadata": {},
   "source": [
    "![](./output/RStudio.PNG)"
   ]
  },
  {
   "cell_type": "markdown",
   "id": "26ed39a4",
   "metadata": {},
   "source": [
    "A interface do RStudio é divida em 4 painés, e duas barras:\n",
    "* 1 - Barra de _menu_\n",
    "* 2 - Barra de ferramentas\n",
    "* 3 - Painel de _scripts_ e arquivos\n",
    "* 4 - Painel de variáveis de Ambiente/Histórico/Conexões/Tutorial\n",
    "* 5 - Painel de _Console/Terminal_ \n",
    "* 6 - Painel de Árvore de Arquivos/Gráficos/Pacotes/Ajuda/Visualizador"
   ]
  },
  {
   "cell_type": "markdown",
   "id": "6c47be6a",
   "metadata": {},
   "source": [
    "## 4. Obter e Configurar o ambiente de trabalho"
   ]
  },
  {
   "cell_type": "markdown",
   "id": "0316acdd",
   "metadata": {},
   "source": [
    "<p style=\"text-align:justify\">Para obter o ambiente de trabalho atualmente em uso pelo RStudio utilizamos a função <mark style=\"background-color:#F4F4F4;\">getwd()</mark>; esta função vem do termo em inglês: <i>Get Working Directory</i>, traduzido para o portugês como \"Obter Ambiente de Trabalho\". No sistema operacional Windows, por padrão, o RStudio configura o ambiente de trabalho em \"C:/Usuários/Nome_do_Usuário/Documentos\"</p>.\n",
    "<p style=\"text-align:justify\">Para configurar um ambiente de trabalho diferente do padrão utilizamos a função <mark style=\"background-color:#F4F4F4\">setwd()</mark>. Esta função tem nome bem sugestivo na lingua inglesa, a saber: <i>Set Working Directory</i>, \"Configurar Ambiente de Trabalho\".</p>"
   ]
  },
  {
   "cell_type": "code",
   "execution_count": null,
   "id": "1defdf28",
   "metadata": {},
   "outputs": [],
   "source": []
  },
  {
   "cell_type": "markdown",
   "id": "0416b9f6",
   "metadata": {},
   "source": [
    "### Exercício Prático - Ambiente de trabalho\n",
    "**Instrução 1/2**\n",
    "* Use a janela console do RStudio para obter o atual diretório de trabalho em uso no seu computador."
   ]
  },
  {
   "cell_type": "code",
   "execution_count": null,
   "id": "97c91fe7",
   "metadata": {},
   "outputs": [],
   "source": []
  },
  {
   "cell_type": "markdown",
   "id": "555ab1e2",
   "metadata": {},
   "source": [
    "**Instrução 2/2**\n",
    "* Configure seu ambiente de trabalho para `'C:/Users/Downloads'`"
   ]
  },
  {
   "cell_type": "code",
   "execution_count": null,
   "id": "5064407a",
   "metadata": {},
   "outputs": [],
   "source": []
  },
  {
   "cell_type": "markdown",
   "id": "786785c3",
   "metadata": {},
   "source": [
    "## 4.1 Operadores Aritméticos e de Atribuição em R"
   ]
  },
  {
   "cell_type": "markdown",
   "id": "0cc1b425",
   "metadata": {},
   "source": [
    "|Operador|Função|\n",
    "|:------:|:----:|\n",
    "| +      | Soma |\n",
    "| -      | Subtração |\n",
    "| /      | Divisão |\n",
    "| *      | Multiplicação |\n",
    "|   %%   | Resto da divisão |\n",
    "| %/%    | Parte inteira divisão |\n",
    "| ^      | Potenciação |\n",
    "| **     | Potenciação |\n",
    "| <-     | Atribuição |\n",
    "| =      | Atribuição |"
   ]
  },
  {
   "cell_type": "markdown",
   "id": "ea30bd84",
   "metadata": {},
   "source": [
    "### Exercício Prático - Operadores Aritméticos e de Atribuição\n",
    "\n",
    "**Instrução 1/3**\n",
    "* Obter o resto da divisão entre os números inteiros 10 e 3."
   ]
  },
  {
   "cell_type": "code",
   "execution_count": null,
   "id": "b3f71f79",
   "metadata": {},
   "outputs": [],
   "source": []
  },
  {
   "cell_type": "markdown",
   "id": "3cfa9b60",
   "metadata": {},
   "source": [
    "**Instrução 2/3**\n",
    "* Obter a parte interira da divisão de 10 por 3."
   ]
  },
  {
   "cell_type": "code",
   "execution_count": null,
   "id": "6270dc4c",
   "metadata": {},
   "outputs": [],
   "source": []
  },
  {
   "cell_type": "markdown",
   "id": "959b7c1a",
   "metadata": {},
   "source": [
    "**Instrução 3/3**\n",
    "* Obter o quadrado de um número inteiro qualquer."
   ]
  },
  {
   "cell_type": "code",
   "execution_count": null,
   "id": "9af4f837",
   "metadata": {},
   "outputs": [],
   "source": []
  },
  {
   "cell_type": "markdown",
   "id": "6bc0e758",
   "metadata": {},
   "source": [
    "## 5 Operadores de Comparação em R"
   ]
  },
  {
   "cell_type": "markdown",
   "id": "d6a49174",
   "metadata": {},
   "source": [
    "| Operador | Significado |\n",
    "|:--------:|:-----------:|\n",
    "| == | igual a |\n",
    "| != | diferente de |\n",
    "| >  | maior que |\n",
    "| <  | menor que |\n",
    "| >= | maior ou igual a |\n",
    "| <= |menor ou igual a |"
   ]
  },
  {
   "cell_type": "markdown",
   "id": "514c5f66",
   "metadata": {},
   "source": [
    "## 6 Objeto em R\n",
    "Um objeto é simplesmente qualquer variável que armaneza um caractere numérico, alfabético ou uma cadeia de carateres (_string_). Em R temos objetos especiais para manipulação de grande volume de dados, a exemplo de vetores, listas e dataframes.\n",
    "Para criação de um objeto se utiliza o operador de atribuição `<-`. Nos exemplos a seguir são criados os objetos `x`, `y` e `z` para armazenar um número inteiro, uma letra e uma frase."
   ]
  },
  {
   "cell_type": "code",
   "execution_count": null,
   "id": "cc9d02b6",
   "metadata": {},
   "outputs": [],
   "source": [
    "# definição de um objeto do tipo inteiro\n",
    "int <- 42\n",
    "\n",
    "# definição de um objeto do tipo caractere\n",
    "letra <- \"R\"\n",
    "\n",
    "# # definição de um objeto do tipo string (cadeia de caracteres)\n",
    "string <- \"R é massa\""
   ]
  },
  {
   "cell_type": "markdown",
   "id": "f6550824",
   "metadata": {},
   "source": [
    "<p style=\"text-align:justify\">Em ambos os trechos de código acima se observa o uso do caractere `#`, em R e python este caractere é utilizado para fazer comentário no código, portanto, toda linha que contém este caractere é ignorada na execução do programa.</p>\n",
    "A seguir é mostrado como fazer comentário com várias linhas."
   ]
  },
  {
   "cell_type": "code",
   "execution_count": null,
   "id": "2321966d",
   "metadata": {},
   "outputs": [],
   "source": [
    "\"\n",
    "Este é um comentário em R utilizando \n",
    "várias linhas para documentação de\n",
    "códigos.\n",
    "\""
   ]
  },
  {
   "cell_type": "markdown",
   "id": "e06550ff",
   "metadata": {},
   "source": [
    "## 6.1 Conferindo o contéudo de um objeto\n",
    "Para conferir o conteúdo de um objeto em R, fazemos uma chamada diretamento pelo nome do objeto de interesse ou através do uso da função _`print()`_"
   ]
  },
  {
   "cell_type": "code",
   "execution_count": null,
   "id": "8badf767",
   "metadata": {},
   "outputs": [],
   "source": [
    "int\n",
    "print(int)\n",
    "cat(int)"
   ]
  },
  {
   "cell_type": "markdown",
   "id": "7ce78d2f",
   "metadata": {},
   "source": [
    "## 6.2 Descobrindo o tipo de dados armazenado em um objeto R\n",
    "Para descobrir o tipo de dados armazenado em um objeto, podemos utilizar a função _`class`_"
   ]
  },
  {
   "cell_type": "code",
   "execution_count": null,
   "id": "28ee1e4b",
   "metadata": {},
   "outputs": [],
   "source": [
    "class(int)\n",
    "class(letra)\n",
    "class(string)"
   ]
  },
  {
   "cell_type": "markdown",
   "id": "d24ef17e",
   "metadata": {},
   "source": [
    "## 7 Estrutura de Dados em R\n",
    "### 7.1 Vetores\n",
    "Vetor em R é um objeto R que armazena um ou mais elementos de valores indexados, ou seja, cada elemento dentro do vetor possui uma posição específica. Para criação de um vetor basta colocar os valores dentro de `c()`. Vetor é uma estrutura de dados especialmente importante em análise de dados. A seguir temos um exemplo de como criar um vetor de inteiros."
   ]
  },
  {
   "cell_type": "code",
   "execution_count": null,
   "id": "4fedd6c5",
   "metadata": {},
   "outputs": [],
   "source": [
    "inteiros <- c(42, 33, 0, -1, 5)"
   ]
  },
  {
   "cell_type": "markdown",
   "id": "a0d8cddb",
   "metadata": {},
   "source": [
    "Para acessar o primeiro elemento do vetor `inteiros` usamos o comando _`vetor[x]`_, onde _vetor_ é nome atribuido ao vetor e _x_ é o índice do elemento a ser buscado no vetor. Se quisermos mostrar apenas o elemento de índice 1 do vetor `inteiros`, ou seja o primeiro elemento, basta usar _`inteiros[1]`_"
   ]
  },
  {
   "cell_type": "code",
   "execution_count": null,
   "id": "43cbb782",
   "metadata": {},
   "outputs": [],
   "source": []
  },
  {
   "cell_type": "markdown",
   "id": "cfd6d2f0",
   "metadata": {},
   "source": [
    "## 7.1.2 Substituição de elementos de um vetor"
   ]
  },
  {
   "cell_type": "code",
   "execution_count": null,
   "id": "298bfb6f",
   "metadata": {},
   "outputs": [],
   "source": [
    "inteiros[1] <- 2\n",
    "inteiros"
   ]
  },
  {
   "cell_type": "markdown",
   "id": "ec071739",
   "metadata": {},
   "source": [
    "## 7.2 Funções básicas aplicadas a vetores\n",
    "\n",
    "* _`length()`_ Retorna o tamanho de um vetor, ou seja, o núemro de elementos armazenados no vetor."
   ]
  },
  {
   "cell_type": "code",
   "execution_count": null,
   "id": "c7415430",
   "metadata": {},
   "outputs": [],
   "source": [
    "length(inteiros)"
   ]
  },
  {
   "cell_type": "markdown",
   "id": "9eeb44c3",
   "metadata": {},
   "source": [
    "* _`names()`_ Retorna os nomes atribuídos a cada elemento de um vetor"
   ]
  },
  {
   "cell_type": "code",
   "execution_count": null,
   "id": "5e207013",
   "metadata": {},
   "outputs": [],
   "source": [
    "dias_semana <- c(1:7)\n",
    "names(dias_semana)"
   ]
  },
  {
   "cell_type": "code",
   "execution_count": 41,
   "id": "9e8e25cd",
   "metadata": {},
   "outputs": [],
   "source": [
    "names(dias_semana) <- c('Domingo', 'Segunda', 'Terça', 'Quarta', 'Quinta', 'Sexta', 'Sábado')"
   ]
  },
  {
   "cell_type": "code",
   "execution_count": 42,
   "id": "d11469c1",
   "metadata": {},
   "outputs": [
    {
     "data": {
      "text/html": [
       "<style>\n",
       ".list-inline {list-style: none; margin:0; padding: 0}\n",
       ".list-inline>li {display: inline-block}\n",
       ".list-inline>li:not(:last-child)::after {content: \"\\00b7\"; padding: 0 .5ex}\n",
       "</style>\n",
       "<ol class=list-inline><li>'Domingo'</li><li>'Segunda'</li><li>'Terça'</li><li>'Quarta'</li><li>'Quinta'</li><li>'Sexta'</li><li>'Sábado'</li></ol>\n"
      ],
      "text/latex": [
       "\\begin{enumerate*}\n",
       "\\item 'Domingo'\n",
       "\\item 'Segunda'\n",
       "\\item 'Terça'\n",
       "\\item 'Quarta'\n",
       "\\item 'Quinta'\n",
       "\\item 'Sexta'\n",
       "\\item 'Sábado'\n",
       "\\end{enumerate*}\n"
      ],
      "text/markdown": [
       "1. 'Domingo'\n",
       "2. 'Segunda'\n",
       "3. 'Terça'\n",
       "4. 'Quarta'\n",
       "5. 'Quinta'\n",
       "6. 'Sexta'\n",
       "7. 'Sábado'\n",
       "\n",
       "\n"
      ],
      "text/plain": [
       "[1] \"Domingo\" \"Segunda\" \"Terça\"   \"Quarta\"  \"Quinta\"  \"Sexta\"   \"Sábado\" "
      ]
     },
     "metadata": {},
     "output_type": "display_data"
    }
   ],
   "source": [
    "names(dias_semana)"
   ]
  },
  {
   "cell_type": "code",
   "execution_count": null,
   "id": "773b8499",
   "metadata": {},
   "outputs": [],
   "source": [
    "dias_semana"
   ]
  },
  {
   "cell_type": "markdown",
   "id": "4fb5fcae",
   "metadata": {},
   "source": [
    "* _`attributes()`_ Retorna uma lista com os atributos associados a um vetor."
   ]
  },
  {
   "cell_type": "code",
   "execution_count": null,
   "id": "3d8effbd",
   "metadata": {},
   "outputs": [],
   "source": [
    "attributes(inteiros)\n",
    "attributes(dias_semana)"
   ]
  },
  {
   "cell_type": "markdown",
   "id": "4365f079",
   "metadata": {},
   "source": [
    "* _`seq()`_ Cria uma sequência dentro de um vetor\n"
   ]
  },
  {
   "cell_type": "code",
   "execution_count": null,
   "id": "249cbb31",
   "metadata": {},
   "outputs": [],
   "source": [
    "sequencia <- seq(0, 10, 2)\n",
    "print(sequencia)"
   ]
  },
  {
   "cell_type": "markdown",
   "id": "20cd8276",
   "metadata": {},
   "source": [
    "* _`rep()`_ Cria uma repetição de um vetor"
   ]
  },
  {
   "cell_type": "code",
   "execution_count": null,
   "id": "4dd83fa7",
   "metadata": {},
   "outputs": [],
   "source": [
    "rep(1:4, 3)"
   ]
  },
  {
   "cell_type": "markdown",
   "id": "002ea6b0",
   "metadata": {},
   "source": [
    "* `duplicated()` Remove elementos duplicados."
   ]
  },
  {
   "cell_type": "code",
   "execution_count": null,
   "id": "14904cd1",
   "metadata": {},
   "outputs": [],
   "source": []
  },
  {
   "cell_type": "markdown",
   "id": "ff279966",
   "metadata": {},
   "source": [
    "## 7.3 Funções Estatísticas Aplicadas a Vetores"
   ]
  },
  {
   "cell_type": "markdown",
   "id": "b06ae377",
   "metadata": {},
   "source": [
    "* _`mean( )`_ Retorna a média aritmética\n",
    "\n",
    "* _`median( )`_ Retorna a mediana\n",
    "\n",
    "* _`min( )`_ Retorna o menor valor\n",
    "\n",
    "* _`max( )`_ Retorna o maior valor\n",
    "\n",
    "* _`sd( )`_ Retorna o desvio padrão\n",
    "\n",
    "* _`summary( )`_ Retorna a estatístiva descritiva.\n",
    "\n",
    "* _`cor( )`_ Retorna a correlação entre dois vetores."
   ]
  },
  {
   "cell_type": "code",
   "execution_count": 68,
   "id": "3666ccc0",
   "metadata": {},
   "outputs": [
    {
     "data": {
      "text/html": [
       "<style>\n",
       ".list-inline {list-style: none; margin:0; padding: 0}\n",
       ".list-inline>li {display: inline-block}\n",
       ".list-inline>li:not(:last-child)::after {content: \"\\00b7\"; padding: 0 .5ex}\n",
       "</style>\n",
       "<ol class=list-inline><li>'altura'</li><li>'categoria'</li><li>'dap'</li><li>'dias_semana'</li><li>'int'</li><li>'inteiros'</li><li>'letra'</li><li>'nomes_cientificos'</li><li>'sequencia'</li><li>'string'</li><li>'x'</li><li>'y'</li><li>'z'</li></ol>\n"
      ],
      "text/latex": [
       "\\begin{enumerate*}\n",
       "\\item 'altura'\n",
       "\\item 'categoria'\n",
       "\\item 'dap'\n",
       "\\item 'dias\\_semana'\n",
       "\\item 'int'\n",
       "\\item 'inteiros'\n",
       "\\item 'letra'\n",
       "\\item 'nomes\\_cientificos'\n",
       "\\item 'sequencia'\n",
       "\\item 'string'\n",
       "\\item 'x'\n",
       "\\item 'y'\n",
       "\\item 'z'\n",
       "\\end{enumerate*}\n"
      ],
      "text/markdown": [
       "1. 'altura'\n",
       "2. 'categoria'\n",
       "3. 'dap'\n",
       "4. 'dias_semana'\n",
       "5. 'int'\n",
       "6. 'inteiros'\n",
       "7. 'letra'\n",
       "8. 'nomes_cientificos'\n",
       "9. 'sequencia'\n",
       "10. 'string'\n",
       "11. 'x'\n",
       "12. 'y'\n",
       "13. 'z'\n",
       "\n",
       "\n"
      ],
      "text/plain": [
       " [1] \"altura\"            \"categoria\"         \"dap\"              \n",
       " [4] \"dias_semana\"       \"int\"               \"inteiros\"         \n",
       " [7] \"letra\"             \"nomes_cientificos\" \"sequencia\"        \n",
       "[10] \"string\"            \"x\"                 \"y\"                \n",
       "[13] \"z\"                "
      ]
     },
     "metadata": {},
     "output_type": "display_data"
    }
   ],
   "source": [
    "# Leitura dos dados\n",
    "load('./data/dados_modulo_1.rda')\n",
    "\n",
    "# Mostrar os objetos atualmente disponíveis no ambiente R\n",
    "ls()"
   ]
  },
  {
   "cell_type": "markdown",
   "id": "c3be5ff4",
   "metadata": {},
   "source": [
    "### Calcular a média do vetor _dap_ (diâmetro médio das árvores)"
   ]
  },
  {
   "cell_type": "code",
   "execution_count": null,
   "id": "b7eb97e9",
   "metadata": {},
   "outputs": [],
   "source": [
    "# média do vetor dap (diânetro médio das árvores)\n",
    "mean(dap)"
   ]
  },
  {
   "cell_type": "markdown",
   "id": "9495e5f5",
   "metadata": {},
   "source": [
    "### Calcular a mediana do vetor _altura_ (altura comercial das árvores)"
   ]
  },
  {
   "cell_type": "code",
   "execution_count": null,
   "id": "2967404d",
   "metadata": {},
   "outputs": [],
   "source": [
    "### Calcular a mediana do vetor _altura_ (altura comercial das árvores)\n",
    "median(altura)"
   ]
  },
  {
   "cell_type": "markdown",
   "id": "49911d98",
   "metadata": {},
   "source": [
    "### Mostrar os valores mínimo e máximo do vetor dap"
   ]
  },
  {
   "cell_type": "code",
   "execution_count": null,
   "id": "0d858b5c",
   "metadata": {},
   "outputs": [],
   "source": [
    "# valor mínimo de dap\n",
    "min(dap)"
   ]
  },
  {
   "cell_type": "code",
   "execution_count": null,
   "id": "57eaaf36",
   "metadata": {},
   "outputs": [],
   "source": [
    "# dap Máximo\n",
    "max(dap)"
   ]
  },
  {
   "cell_type": "markdown",
   "id": "7a05d17a",
   "metadata": {},
   "source": [
    "### Calcular o desvio padrão do vetor dap"
   ]
  },
  {
   "cell_type": "code",
   "execution_count": null,
   "id": "f3601ade",
   "metadata": {},
   "outputs": [],
   "source": [
    "# desvio padrão para o vetor dap\n",
    "sd(dap)"
   ]
  },
  {
   "cell_type": "markdown",
   "id": "6f7515dd",
   "metadata": {},
   "source": [
    "### Mostrar a estatística Descritiva do Vetor altura"
   ]
  },
  {
   "cell_type": "code",
   "execution_count": null,
   "id": "d3692356",
   "metadata": {
    "scrolled": true
   },
   "outputs": [],
   "source": [
    "summary(altura)"
   ]
  },
  {
   "cell_type": "markdown",
   "id": "0e19e3a4",
   "metadata": {},
   "source": [
    "## Calcular a correlação linear entre diâmetro e altura das árvores"
   ]
  },
  {
   "cell_type": "code",
   "execution_count": null,
   "id": "ffb6308d",
   "metadata": {},
   "outputs": [],
   "source": [
    "cor(dap, altura)"
   ]
  },
  {
   "cell_type": "markdown",
   "id": "45347704",
   "metadata": {},
   "source": [
    "## 7.4 Função `lapply()` aplicada a vetores\n",
    "A função lapply, parte do pacote base do R, no caso específico de vetores, recebe 2 argumentos como parâmetro: o vetor contendo de dados e uma função a ser aplicada aos elementos do vetor."
   ]
  },
  {
   "cell_type": "code",
   "execution_count": 73,
   "id": "a8b85fbb",
   "metadata": {},
   "outputs": [
    {
     "data": {
      "text/html": [
       "<style>\n",
       ".list-inline {list-style: none; margin:0; padding: 0}\n",
       ".list-inline>li {display: inline-block}\n",
       ".list-inline>li:not(:last-child)::after {content: \"\\00b7\"; padding: 0 .5ex}\n",
       "</style>\n",
       "<ol class=list-inline><li>'MASSARANDUBA'</li><li>'IPÊ'</li><li>'GARAPEIRA'</li><li>'JATOBÁ'</li></ol>\n"
      ],
      "text/latex": [
       "\\begin{enumerate*}\n",
       "\\item 'MASSARANDUBA'\n",
       "\\item 'IPÊ'\n",
       "\\item 'GARAPEIRA'\n",
       "\\item 'JATOBÁ'\n",
       "\\end{enumerate*}\n"
      ],
      "text/markdown": [
       "1. 'MASSARANDUBA'\n",
       "2. 'IPÊ'\n",
       "3. 'GARAPEIRA'\n",
       "4. 'JATOBÁ'\n",
       "\n",
       "\n"
      ],
      "text/plain": [
       "[1] \"MASSARANDUBA\" \"IPÊ\"          \"GARAPEIRA\"    \"JATOBÁ\"      "
      ]
     },
     "metadata": {},
     "output_type": "display_data"
    }
   ],
   "source": [
    "nomes <- c('MASSARANDUBA', 'IPÊ', 'GARAPEIRA', 'JATOBÁ')\n",
    "nomes"
   ]
  },
  {
   "cell_type": "code",
   "execution_count": null,
   "id": "99c8357a",
   "metadata": {},
   "outputs": [],
   "source": [
    "lapply(nomes, tolower)"
   ]
  },
  {
   "cell_type": "markdown",
   "id": "8f66ca3a",
   "metadata": {},
   "source": [
    "## 7.5 Função `sapply()`"
   ]
  },
  {
   "cell_type": "code",
   "execution_count": null,
   "id": "63e89ced",
   "metadata": {},
   "outputs": [],
   "source": [
    "sapply(nomes, tolower)"
   ]
  },
  {
   "cell_type": "markdown",
   "id": "0f5a3b88",
   "metadata": {},
   "source": [
    "## 7.6 Função `mapply()`\n",
    "Versão multivariada das funções lapply e sapply, utilizada para iterar entre elementos de vetores ou listas."
   ]
  },
  {
   "cell_type": "code",
   "execution_count": null,
   "id": "d4eb29f8",
   "metadata": {},
   "outputs": [],
   "source": [
    "# Definição dos Vetores a e b\n",
    "a <- c(7, 12, 5, 2, 1) \n",
    "b <- c(4, 2, 3, 5, 1)\n",
    "\n",
    "# Nomes para os vetores\n",
    "dias_semana <- c('Segunda', 'Terça', 'Quarta', 'Quinta', 'Sexta')\n",
    "\n",
    "# Atribuir nome aos vetores\n",
    "names(a) <- dias_semana\n",
    "names(b) <- dias_semana\n",
    "\n",
    "# Uso da função mapply() para retornar a soma\n",
    "# entre os elementos dos vetores a e b\n",
    "mapply(max, a, b)"
   ]
  },
  {
   "cell_type": "markdown",
   "id": "e537ef0a",
   "metadata": {},
   "source": [
    "## 7.7 Função _`tapply()`_\n",
    "Aplica uma função sobre um vetor com agrupamento em outro vetor categórico. Recebe como parâmetros: um vetor numérico, um vetor categórico e uma função.\n",
    "O código a seguir aplica a função média sobre o vetor `volume` agrupado ao vetor `ut` (unidades de trabalho)"
   ]
  },
  {
   "cell_type": "code",
   "execution_count": null,
   "id": "943f8d8b",
   "metadata": {},
   "outputs": [],
   "source": [
    "# Calcular o volume médio por unidade de trabalho\n",
    "tapply(dap, categoria, mean)"
   ]
  },
  {
   "cell_type": "markdown",
   "id": "ff91ff40",
   "metadata": {},
   "source": [
    "## 8 Valores Ausentes (NA)\n",
    "Em R valores ausentes são conhecidos como `NA`, uma sigla em inglês que significa _Not Available_, ou seja, valores nãop disponíceis. Na literatura técnica e também em outras linguagens de programação esta sigla é definida como `Nan` (_Not available number_)"
   ]
  },
  {
   "cell_type": "code",
   "execution_count": null,
   "id": "b1ec848c",
   "metadata": {},
   "outputs": [],
   "source": []
  },
  {
   "cell_type": "code",
   "execution_count": null,
   "id": "7f5adb7f",
   "metadata": {},
   "outputs": [],
   "source": []
  },
  {
   "cell_type": "markdown",
   "id": "c752b487",
   "metadata": {},
   "source": [
    "## Como Saber se Há Valores Ausentes (NA) nos Dados?\n",
    "Para conferir a presença de valores NA nos dados utilizamos a função `is.na()`, a qual recebe como parâmetro de entrada apenas o vetor de dados."
   ]
  },
  {
   "cell_type": "code",
   "execution_count": null,
   "id": "fc5af9a6",
   "metadata": {},
   "outputs": [],
   "source": []
  },
  {
   "cell_type": "markdown",
   "id": "e1bfcd57",
   "metadata": {},
   "source": [
    "## Exercício Prático - Vetores e Operadores de Comparação\n",
    "<p style=\"text-align:justify\">Para este exercício, considere o vetor <mark style=\"background-color:#F4F4F4\">temperatura</mark>. Esse vetor possui dados de temperatura média mensal da Estação Meteorológica Manual INMET 82861, localizada no município de Conceição do Araguaia.</p>"
   ]
  },
  {
   "cell_type": "code",
   "execution_count": null,
   "id": "1f64eb17",
   "metadata": {},
   "outputs": [],
   "source": [
    "temperatura <- c(26.38452, 26.90357, 27.04064, 27.42467, 28.53548, 28.90000,\n",
    "                 NA, 29.73818, 30.54667, 27.21652, 27.28800, 27.84000)"
   ]
  },
  {
   "cell_type": "markdown",
   "id": "b426ef38",
   "metadata": {},
   "source": [
    "**Instrução 1/4**\n",
    "* Obter a temperatura média do vetor `temperatura`"
   ]
  },
  {
   "cell_type": "code",
   "execution_count": null,
   "id": "c19a9295",
   "metadata": {},
   "outputs": [],
   "source": []
  },
  {
   "cell_type": "markdown",
   "id": "28b6f024",
   "metadata": {},
   "source": [
    "**Instrução 2/4**\n",
    "* Obter as temperaturas que estão acima da média do vetor `temperatura`"
   ]
  },
  {
   "cell_type": "code",
   "execution_count": null,
   "id": "3f26d784",
   "metadata": {},
   "outputs": [],
   "source": []
  },
  {
   "cell_type": "markdown",
   "id": "1c1ff4de",
   "metadata": {},
   "source": [
    "**Instrução 3/4**\n",
    "* Mostre quanto dos dados do vetor de temperaturas apresentam valores `NA`"
   ]
  },
  {
   "cell_type": "code",
   "execution_count": null,
   "id": "dbf51a18",
   "metadata": {},
   "outputs": [],
   "source": []
  },
  {
   "cell_type": "markdown",
   "id": "b7fa6de3",
   "metadata": {},
   "source": [
    "**Instrução 4/4**\n",
    "* Mostre onde os dados do vetor de temperaturas apresenta valores `NA`"
   ]
  },
  {
   "cell_type": "code",
   "execution_count": null,
   "id": "ac4eeea8",
   "metadata": {},
   "outputs": [],
   "source": []
  },
  {
   "cell_type": "markdown",
   "id": "8cfab8d8",
   "metadata": {},
   "source": [
    "## 9 Testes Lógicos com Vetores\n",
    "* _`any()`_ Testa se algum elemento do vetor atende a uma condição específica\n",
    "\n",
    "**Exemplo**: Dado o vetor de nome `dap`, o qual armaneza dados de mensuração de diâmetro de milhares de árvores na Floresta Nacional de Altamira, teste se algum elemento é menor ou igual a 40."
   ]
  },
  {
   "cell_type": "code",
   "execution_count": null,
   "id": "eb90010e",
   "metadata": {},
   "outputs": [],
   "source": [
    "any(dap >= 40)"
   ]
  },
  {
   "cell_type": "markdown",
   "id": "f67a598c",
   "metadata": {},
   "source": [
    "* _`all()`_ Testa se todos os elementos de um vetor atendem a uma condição.\n",
    "\n",
    "**Exemplo:** Dado o vetor de nome `dap`, testar se algum elemento é menor do que 0:"
   ]
  },
  {
   "cell_type": "code",
   "execution_count": null,
   "id": "975cdf7c",
   "metadata": {},
   "outputs": [],
   "source": [
    "all(dap < 40)"
   ]
  },
  {
   "cell_type": "markdown",
   "id": "cd1c8b17",
   "metadata": {},
   "source": [
    "* `is.na( )` Testa se o vetor contém valores ausentes (_Not Availables_)"
   ]
  },
  {
   "cell_type": "code",
   "execution_count": null,
   "id": "8fce6a0b",
   "metadata": {},
   "outputs": [],
   "source": [
    "vetor <- c(NA, 2, 3, 6)\n",
    "is.na(vetor)"
   ]
  },
  {
   "cell_type": "markdown",
   "id": "d1a270c8",
   "metadata": {},
   "source": [
    "## Exercício Prático - Índice de Vetor"
   ]
  },
  {
   "cell_type": "markdown",
   "id": "302d63b9",
   "metadata": {},
   "source": [
    "Considerando o vetor de nome `dap`, o qual armaneza dados de mensuração de diâmetro de milhares de árvores na Floresta Nacional de Altamira, mostre: \n",
    "\n",
    "**Instrução 1/5**\n",
    "* Quantas árvores foram inventariadas."
   ]
  },
  {
   "cell_type": "code",
   "execution_count": null,
   "id": "1073d3aa",
   "metadata": {},
   "outputs": [],
   "source": []
  },
  {
   "cell_type": "markdown",
   "id": "2b4bdf4e",
   "metadata": {},
   "source": [
    "**Instrução 2/5**\n",
    "* **Apenas** o penúltimo elemento desse vetor."
   ]
  },
  {
   "cell_type": "markdown",
   "id": "1b5973f1",
   "metadata": {},
   "source": [
    "**Instrução 3/5**\n",
    "* O diâmetro mínimo de medição"
   ]
  },
  {
   "cell_type": "code",
   "execution_count": null,
   "id": "d6a8b52c",
   "metadata": {},
   "outputs": [],
   "source": []
  },
  {
   "cell_type": "markdown",
   "id": "7e3443d5",
   "metadata": {},
   "source": [
    "**Instrução 4/5**\n",
    "* O diâmetro máximo mensurado"
   ]
  },
  {
   "cell_type": "code",
   "execution_count": null,
   "id": "486d2e67",
   "metadata": {},
   "outputs": [],
   "source": []
  },
  {
   "cell_type": "markdown",
   "id": "4f074428",
   "metadata": {},
   "source": [
    "**Instrução 5/5**\n",
    "* O diâmetro médio mensurado"
   ]
  },
  {
   "cell_type": "code",
   "execution_count": null,
   "id": "b4a3fa4d",
   "metadata": {},
   "outputs": [],
   "source": []
  }
 ],
 "metadata": {
  "kernelspec": {
   "display_name": "R",
   "language": "R",
   "name": "ir"
  },
  "language_info": {
   "codemirror_mode": "r",
   "file_extension": ".r",
   "mimetype": "text/x-r-source",
   "name": "R",
   "pygments_lexer": "r",
   "version": "4.2.0"
  }
 },
 "nbformat": 4,
 "nbformat_minor": 5
}
