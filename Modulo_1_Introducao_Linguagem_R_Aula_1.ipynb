{
 "cells": [
  {
   "cell_type": "markdown",
   "id": "f61c2141",
   "metadata": {},
   "source": [
    "<h1 align=\"center\">Introdução à Análise de Dados com Linguagem R</h1>"
   ]
  },
  {
   "cell_type": "markdown",
   "id": "186ce1a6",
   "metadata": {},
   "source": [
    "## 1. Introdução\n",
    "<p style=\"text-align:justify\">R é uma linguagem de programação gratuita de código aberto usada principalmente para computação estatística e gráficos. R é uma linguagem interpretada semelhante a Python, onde você não precisa compilar primeiro para executar seu programa. Depois de criar seu programa, você pode executá-lo em uma ampla variedade de plataformas UNIX, Windows e MacOS.</p>\n",
    "\n",
    "<p style=\"text-align:justify\">R é uma linguagem específica de domínio de código aberto, explicitamente projetada para ciência de dados. Muito popular em finanças e academia, R é uma linguagem perfeita para manipulação, processamento e visualização de dados, bem como computação estatística e aprendizado de máquina.</p>\n",
    "\n",
    "<p style=\"text-align:justify\">Como qualquer outra linguagem de programação, R também suporta extensão na forma de pacotes, portanto, os desenvolvedores podem criar seus próprios pacotes e reutilizá-los quando necessário.</p>"
   ]
  },
  {
   "cell_type": "markdown",
   "id": "c6f6c448",
   "metadata": {},
   "source": [
    "## 2 Instalação do R\n",
    "<p style=\"text-align:justify\">A instalação padrão da linguagem R é feita a partir do <a href=\"https://cran.r-project.org/\">CRAN</a>, uma rede formada de servidores espalhadod pelo mundo que armazena versões atualizadas do código fonte e executável (Windows), assim como a documentação da linguagem R.</p>"
   ]
  },
  {
   "cell_type": "markdown",
   "id": "895753de",
   "metadata": {},
   "source": [
    "## 3 Instalação do RStudio\n",
    "<p style=\"text-align:justify\">RStudio é um ambiente de desenvolvimento integrado para linguagem R (IDE - <i>integrated development environment</i>), porém pode rodar <i>scripts</i> SQL, C, C++ e Python. A vantagem se se poder trabalhar com IDE é que ela disponibiliza ferramentas de apoio ao desenvolvimento de códigos em linguagem de programção. Para <i>download</i> do RStudio acesse o endereço <a href=\"https://www.rstudio.com/products/rstudio/download/#download\">https://www.rstudio.com/,</a> e escolha a opção <i>RStudio Desktop</i></p>"
   ]
  },
  {
   "cell_type": "markdown",
   "id": "1eef1e00",
   "metadata": {},
   "source": [
    "## 3.1 Conhecendo a Interface Gráfica do RStudio"
   ]
  },
  {
   "cell_type": "markdown",
   "id": "d6455fcb",
   "metadata": {},
   "source": [
    "![](./output/RStudio.PNG)"
   ]
  },
  {
   "cell_type": "markdown",
   "id": "26ed39a4",
   "metadata": {},
   "source": [
    "A interface do RStudio é divida em 4 painés, e duas barras:\n",
    "* 1 - Barra de _menu_\n",
    "* 2 - Barra de ferramentas\n",
    "* 3 - Painel de _scripts_ e arquivos\n",
    "* 4 - Painel de variáveis de Ambiente/Histórico/Conexões/Tutorial\n",
    "* 5 - Painel de _Console/Terminal_ \n",
    "* 6 - Painel de Árvore de Arquivos/Gráficos/Pacotes/Ajuda/Visualizador"
   ]
  },
  {
   "cell_type": "markdown",
   "id": "6c47be6a",
   "metadata": {},
   "source": [
    "## 4. Obter e Configurar o ambiente de trabalho"
   ]
  },
  {
   "cell_type": "markdown",
   "id": "0316acdd",
   "metadata": {},
   "source": [
    "<p style=\"text-align:justify\">Para obter o ambiente de trabalho atualmente em uso pelo RStudio utilizamos a função <mark style=\"background-color:#F4F4F4;\">getwd()</mark>; esta função vem do termo em inglês: <i>Get Working Directory</i>, traduzido para o portugês como \"Obter Ambiente de Trabalho\". No sistema operacional Windows, por padrão, o RStudio configura o ambiente de trabalho em \"C:/Usuários/Nome_do_Usuário/Documentos\"</p>.\n",
    "<p style=\"text-align:justify\">Para configurar um ambiente de trabalho diferente do padrão utilizamos a função <mark style=\"background-color:#F4F4F4\">setwd()</mark>. Esta função tem nome bem sugestivo na lingua inglesa, a saber: <i>Set Working Directory</i>, \"Configurar Ambiente de Trabalho\".</p>"
   ]
  },
  {
   "cell_type": "code",
   "execution_count": null,
   "id": "1defdf28",
   "metadata": {},
   "outputs": [],
   "source": []
  },
  {
   "cell_type": "markdown",
   "id": "0416b9f6",
   "metadata": {},
   "source": [
    "### Exercício Prático - Ambiente de trabalho\n",
    "**Instrução 1/2**\n",
    "* Use a janela console do RStudio para obter o atual diretório de trabalho em uso no seu computador."
   ]
  },
  {
   "cell_type": "code",
   "execution_count": null,
   "id": "97c91fe7",
   "metadata": {},
   "outputs": [],
   "source": []
  },
  {
   "cell_type": "markdown",
   "id": "555ab1e2",
   "metadata": {},
   "source": [
    "**Instrução 2/2**\n",
    "* Configure seu ambiente de trabalho para `'C:/Users/Seu_nome_de_usario/Downloads'`\n",
    "\n",
    "_Atenção: Em seu nome_de_usuario insira seu nome de usuário._"
   ]
  },
  {
   "cell_type": "code",
   "execution_count": 3,
   "id": "5064407a",
   "metadata": {},
   "outputs": [],
   "source": []
  },
  {
   "cell_type": "code",
   "execution_count": null,
   "id": "f6a2ab66",
   "metadata": {
    "scrolled": true
   },
   "outputs": [],
   "source": []
  },
  {
   "cell_type": "markdown",
   "id": "786785c3",
   "metadata": {},
   "source": [
    "## 4.1 Operadores Aritméticos e de Atribuição em R"
   ]
  },
  {
   "cell_type": "markdown",
   "id": "0cc1b425",
   "metadata": {},
   "source": [
    "|Operador|Função|\n",
    "|:------:|:----:|\n",
    "| +      | Soma |\n",
    "| -      | Subtração |\n",
    "| /      | Divisão |\n",
    "| *      | Multiplicação |\n",
    "|   %%   | Resto da divisão |\n",
    "| %/%    | Parte inteira divisão |\n",
    "| ^      | Potenciação |\n",
    "| **     | Potenciação |\n",
    "| <-     | Atribuição |\n",
    "| =      | Atribuição |"
   ]
  },
  {
   "cell_type": "markdown",
   "id": "ea30bd84",
   "metadata": {},
   "source": [
    "### Exercício Prático - Operadores Aritméticos e de Atribuição\n",
    "\n",
    "**Instrução 1/3**\n",
    "* Obter o resto da divisão entre os números inteiros 10 e 3."
   ]
  },
  {
   "cell_type": "code",
   "execution_count": null,
   "id": "b3f71f79",
   "metadata": {},
   "outputs": [],
   "source": []
  },
  {
   "cell_type": "markdown",
   "id": "3cfa9b60",
   "metadata": {},
   "source": [
    "**Instrução 2/3**\n",
    "* Obter a parte interira da divisão de 10 por 3."
   ]
  },
  {
   "cell_type": "code",
   "execution_count": null,
   "id": "6270dc4c",
   "metadata": {},
   "outputs": [],
   "source": []
  },
  {
   "cell_type": "markdown",
   "id": "959b7c1a",
   "metadata": {},
   "source": [
    "**Instrução 3/3**\n",
    "* Obter o quadrado de um número inteiro qualquer."
   ]
  },
  {
   "cell_type": "code",
   "execution_count": null,
   "id": "9af4f837",
   "metadata": {},
   "outputs": [],
   "source": []
  },
  {
   "cell_type": "markdown",
   "id": "6bc0e758",
   "metadata": {},
   "source": [
    "## 5 Operadores de Comparação em R"
   ]
  },
  {
   "cell_type": "markdown",
   "id": "d6a49174",
   "metadata": {},
   "source": [
    "| Operador | Significado |\n",
    "|:--------:|:-----------:|\n",
    "| == | igual a |\n",
    "| != | diferente de |\n",
    "| >  | maior que |\n",
    "| <  | menor que |\n",
    "| >= | maior ou igual a |\n",
    "| <= |menor ou igual a |"
   ]
  },
  {
   "cell_type": "markdown",
   "id": "514c5f66",
   "metadata": {},
   "source": [
    "## 6 Objeto em R\n",
    "Um objeto é simplesmente qualquer variável que armaneza um caractere numérico, alfabético ou uma cadeia de carateres (_string_). Em R temos objetos especiais para manipulação de grande volume de dados, a exemplo de vetores, listas e dataframes.\n",
    "Para criação de um objeto se utiliza o operador de atribuição `<-`. Nos exemplos a seguir são criados os objetos `x`, `y` e `z` para armazenar um número inteiro, uma letra e uma frase."
   ]
  },
  {
   "cell_type": "code",
   "execution_count": 10,
   "id": "cc9d02b6",
   "metadata": {},
   "outputs": [],
   "source": [
    "# definição de um objeto do tipo inteiro\n",
    "int <- 42\n",
    "\n",
    "# definição de um objeto do tipo caractere\n",
    "letra <- \"R\"\n",
    "\n",
    "# # definição de um objeto do tipo string (cadeia de caracteres)\n",
    "string <- \"R é massa\""
   ]
  },
  {
   "cell_type": "markdown",
   "id": "f6550824",
   "metadata": {},
   "source": [
    "<p style=\"text-align:justify\">Em ambos os trechos de código acima se observa o uso do caractere `#`, em R e python este caractere é utilizado para fazer comentário no código, portanto, toda linha que contém este caractere é ignorada na execução do programa.</p>\n",
    "A seguir é mostrado como fazer comentário com várias linhas."
   ]
  },
  {
   "cell_type": "code",
   "execution_count": null,
   "id": "2321966d",
   "metadata": {},
   "outputs": [],
   "source": [
    "\"\n",
    "Este é um comentário em R utilizando \n",
    "várias linhas para documentação de\n",
    "códigos.\n",
    "\""
   ]
  },
  {
   "cell_type": "markdown",
   "id": "e06550ff",
   "metadata": {},
   "source": [
    "## 6.1 Conferindo o contéudo de um objeto\n",
    "Para conferir o conteúdo de um objeto em R, fazemos uma chamada diretamento pelo nome do objeto de interesse ou através do uso da função _`print()`_"
   ]
  },
  {
   "cell_type": "code",
   "execution_count": 11,
   "id": "8badf767",
   "metadata": {},
   "outputs": [
    {
     "data": {
      "text/html": [
       "42"
      ],
      "text/latex": [
       "42"
      ],
      "text/markdown": [
       "42"
      ],
      "text/plain": [
       "[1] 42"
      ]
     },
     "metadata": {},
     "output_type": "display_data"
    },
    {
     "name": "stdout",
     "output_type": "stream",
     "text": [
      "[1] 42\n",
      "42"
     ]
    }
   ],
   "source": [
    "int\n",
    "print(int)\n",
    "cat(int)"
   ]
  },
  {
   "cell_type": "markdown",
   "id": "7ce78d2f",
   "metadata": {},
   "source": [
    "## 6.2 Descobrindo o tipo de dados armazenado em um objeto R\n",
    "Para descobrir o tipo de dados armazenado em um objeto, podemos utilizar a função _`class`_"
   ]
  },
  {
   "cell_type": "code",
   "execution_count": 12,
   "id": "28ee1e4b",
   "metadata": {},
   "outputs": [
    {
     "data": {
      "text/html": [
       "'numeric'"
      ],
      "text/latex": [
       "'numeric'"
      ],
      "text/markdown": [
       "'numeric'"
      ],
      "text/plain": [
       "[1] \"numeric\""
      ]
     },
     "metadata": {},
     "output_type": "display_data"
    },
    {
     "data": {
      "text/html": [
       "'character'"
      ],
      "text/latex": [
       "'character'"
      ],
      "text/markdown": [
       "'character'"
      ],
      "text/plain": [
       "[1] \"character\""
      ]
     },
     "metadata": {},
     "output_type": "display_data"
    },
    {
     "data": {
      "text/html": [
       "'character'"
      ],
      "text/latex": [
       "'character'"
      ],
      "text/markdown": [
       "'character'"
      ],
      "text/plain": [
       "[1] \"character\""
      ]
     },
     "metadata": {},
     "output_type": "display_data"
    }
   ],
   "source": [
    "class(int)\n",
    "class(letra)\n",
    "class(string)"
   ]
  },
  {
   "cell_type": "markdown",
   "id": "d24ef17e",
   "metadata": {},
   "source": [
    "## 7 Estrutura de Dados em R\n",
    "### 7.1 Vetores\n",
    "Vetor em R é um objeto R que armazena um ou mais elementos de valores indexados, ou seja, cada elemento dentro do vetor possui uma posição específica. Para criação de um vetor basta colocar os valores dentro de `c()`. Vetor é uma estrutura de dados especialmente importante em análise de dados. A seguir temos um exemplo de como criar um vetor de inteiros."
   ]
  },
  {
   "cell_type": "code",
   "execution_count": 13,
   "id": "4fedd6c5",
   "metadata": {},
   "outputs": [],
   "source": [
    "inteiros <- c(42, 33, 0, -1, 5)"
   ]
  },
  {
   "cell_type": "markdown",
   "id": "a0d8cddb",
   "metadata": {},
   "source": [
    "Para acessar o primeiro elemento do vetor `inteiros` usamos o comando _`vetor[x]`_, onde _vetor_ é nome atribuido ao vetor e _x_ é o índice do elemento a ser buscado no vetor. Se quisermos mostrar apenas o elemento de índice 1 do vetor `inteiros`, ou seja: filtar apenas o primeiro elemento, basta usar _`inteiros[1]`_"
   ]
  },
  {
   "cell_type": "code",
   "execution_count": 14,
   "id": "43cbb782",
   "metadata": {},
   "outputs": [
    {
     "data": {
      "text/html": [
       "42"
      ],
      "text/latex": [
       "42"
      ],
      "text/markdown": [
       "42"
      ],
      "text/plain": [
       "[1] 42"
      ]
     },
     "metadata": {},
     "output_type": "display_data"
    }
   ],
   "source": [
    "# acessar o primeiro elemento de um vetor\n",
    "inteiros[1]"
   ]
  },
  {
   "cell_type": "markdown",
   "id": "30c43955",
   "metadata": {},
   "source": [
    "Ao usar um índice negativo para filtrar um vetor estamos pedindo que a saída dos daos do vetor não mostre o elemte relativo ao índice negativo. No código a seguir vamos mostrar todos os elementos do vetor `inteiros`, exceto o quarto elemento (elemento de índice 4)."
   ]
  },
  {
   "cell_type": "code",
   "execution_count": 15,
   "id": "539daf6c",
   "metadata": {},
   "outputs": [
    {
     "data": {
      "text/html": [
       "<style>\n",
       ".list-inline {list-style: none; margin:0; padding: 0}\n",
       ".list-inline>li {display: inline-block}\n",
       ".list-inline>li:not(:last-child)::after {content: \"\\00b7\"; padding: 0 .5ex}\n",
       "</style>\n",
       "<ol class=list-inline><li>42</li><li>33</li><li>0</li><li>5</li></ol>\n"
      ],
      "text/latex": [
       "\\begin{enumerate*}\n",
       "\\item 42\n",
       "\\item 33\n",
       "\\item 0\n",
       "\\item 5\n",
       "\\end{enumerate*}\n"
      ],
      "text/markdown": [
       "1. 42\n",
       "2. 33\n",
       "3. 0\n",
       "4. 5\n",
       "\n",
       "\n"
      ],
      "text/plain": [
       "[1] 42 33  0  5"
      ]
     },
     "metadata": {},
     "output_type": "display_data"
    }
   ],
   "source": [
    "# mostrar todos os elementos do vetor com exeção do elemento de índice 4\n",
    "inteiros[-4]"
   ]
  },
  {
   "cell_type": "markdown",
   "id": "cfd6d2f0",
   "metadata": {},
   "source": [
    "## 7.1.2 Substituição de elementos de um vetor"
   ]
  },
  {
   "cell_type": "code",
   "execution_count": 16,
   "id": "298bfb6f",
   "metadata": {},
   "outputs": [
    {
     "data": {
      "text/html": [
       "<style>\n",
       ".list-inline {list-style: none; margin:0; padding: 0}\n",
       ".list-inline>li {display: inline-block}\n",
       ".list-inline>li:not(:last-child)::after {content: \"\\00b7\"; padding: 0 .5ex}\n",
       "</style>\n",
       "<ol class=list-inline><li>2</li><li>33</li><li>0</li><li>-1</li><li>5</li></ol>\n"
      ],
      "text/latex": [
       "\\begin{enumerate*}\n",
       "\\item 2\n",
       "\\item 33\n",
       "\\item 0\n",
       "\\item -1\n",
       "\\item 5\n",
       "\\end{enumerate*}\n"
      ],
      "text/markdown": [
       "1. 2\n",
       "2. 33\n",
       "3. 0\n",
       "4. -1\n",
       "5. 5\n",
       "\n",
       "\n"
      ],
      "text/plain": [
       "[1]  2 33  0 -1  5"
      ]
     },
     "metadata": {},
     "output_type": "display_data"
    }
   ],
   "source": [
    "# Substituir o primeiro elemento do vetor \"inteiros\" por 2\n",
    "inteiros[1] <- 2\n",
    "inteiros"
   ]
  },
  {
   "cell_type": "markdown",
   "id": "ec071739",
   "metadata": {},
   "source": [
    "## 7.2 Funções básicas aplicadas a vetores\n",
    "\n",
    "* _`length()`_ Retorna o tamanho de um vetor, ou seja, o número de elementos armazenados no vetor."
   ]
  },
  {
   "cell_type": "code",
   "execution_count": 17,
   "id": "c7415430",
   "metadata": {},
   "outputs": [
    {
     "data": {
      "text/html": [
       "5"
      ],
      "text/latex": [
       "5"
      ],
      "text/markdown": [
       "5"
      ],
      "text/plain": [
       "[1] 5"
      ]
     },
     "metadata": {},
     "output_type": "display_data"
    }
   ],
   "source": [
    "length(inteiros)"
   ]
  },
  {
   "cell_type": "markdown",
   "id": "9eeb44c3",
   "metadata": {},
   "source": [
    "* _`names()`_ Retorna os nomes atribuídos a cada elemento de um vetor"
   ]
  },
  {
   "cell_type": "code",
   "execution_count": 20,
   "id": "5e207013",
   "metadata": {},
   "outputs": [
    {
     "data": {
      "text/html": [
       "<style>\n",
       ".list-inline {list-style: none; margin:0; padding: 0}\n",
       ".list-inline>li {display: inline-block}\n",
       ".list-inline>li:not(:last-child)::after {content: \"\\00b7\"; padding: 0 .5ex}\n",
       "</style>\n",
       "<ol class=list-inline><li>1</li><li>2</li><li>3</li><li>4</li><li>5</li><li>6</li><li>7</li></ol>\n"
      ],
      "text/latex": [
       "\\begin{enumerate*}\n",
       "\\item 1\n",
       "\\item 2\n",
       "\\item 3\n",
       "\\item 4\n",
       "\\item 5\n",
       "\\item 6\n",
       "\\item 7\n",
       "\\end{enumerate*}\n"
      ],
      "text/markdown": [
       "1. 1\n",
       "2. 2\n",
       "3. 3\n",
       "4. 4\n",
       "5. 5\n",
       "6. 6\n",
       "7. 7\n",
       "\n",
       "\n"
      ],
      "text/plain": [
       "[1] 1 2 3 4 5 6 7"
      ]
     },
     "metadata": {},
     "output_type": "display_data"
    },
    {
     "data": {
      "text/plain": [
       "NULL"
      ]
     },
     "metadata": {},
     "output_type": "display_data"
    }
   ],
   "source": [
    "# Defini um vetor de números inteiros chamado \"dias_semana\"\n",
    "dias_semana <- c(1:7)\n",
    "\n",
    "# Mostrar na tela do console os dados do vetor\n",
    "dias_semana\n",
    "\n",
    "# Checar se o vetor possui nomes associados aos seus elementos\n",
    "names(dias_semana)"
   ]
  },
  {
   "cell_type": "code",
   "execution_count": 21,
   "id": "9e8e25cd",
   "metadata": {},
   "outputs": [],
   "source": [
    "# Atribuir nomes aos elementos do vetor utilizando a função names()\n",
    "names(dias_semana) <- c('Domingo', 'Segunda', 'Terça', 'Quarta',\n",
    "                        'Quinta', 'Sexta', 'Sábado')"
   ]
  },
  {
   "cell_type": "code",
   "execution_count": 22,
   "id": "d11469c1",
   "metadata": {},
   "outputs": [
    {
     "data": {
      "text/html": [
       "<style>\n",
       ".list-inline {list-style: none; margin:0; padding: 0}\n",
       ".list-inline>li {display: inline-block}\n",
       ".list-inline>li:not(:last-child)::after {content: \"\\00b7\"; padding: 0 .5ex}\n",
       "</style>\n",
       "<ol class=list-inline><li>'Domingo'</li><li>'Segunda'</li><li>'Terça'</li><li>'Quarta'</li><li>'Quinta'</li><li>'Sexta'</li><li>'Sábado'</li></ol>\n"
      ],
      "text/latex": [
       "\\begin{enumerate*}\n",
       "\\item 'Domingo'\n",
       "\\item 'Segunda'\n",
       "\\item 'Terça'\n",
       "\\item 'Quarta'\n",
       "\\item 'Quinta'\n",
       "\\item 'Sexta'\n",
       "\\item 'Sábado'\n",
       "\\end{enumerate*}\n"
      ],
      "text/markdown": [
       "1. 'Domingo'\n",
       "2. 'Segunda'\n",
       "3. 'Terça'\n",
       "4. 'Quarta'\n",
       "5. 'Quinta'\n",
       "6. 'Sexta'\n",
       "7. 'Sábado'\n",
       "\n",
       "\n"
      ],
      "text/plain": [
       "[1] \"Domingo\" \"Segunda\" \"Terça\"   \"Quarta\"  \"Quinta\"  \"Sexta\"   \"Sábado\" "
      ]
     },
     "metadata": {},
     "output_type": "display_data"
    }
   ],
   "source": [
    "# Checar se o vetor possui nomes associados aos seus elementos\n",
    "names(dias_semana)"
   ]
  },
  {
   "cell_type": "code",
   "execution_count": 23,
   "id": "773b8499",
   "metadata": {},
   "outputs": [
    {
     "data": {
      "text/html": [
       "<style>\n",
       ".dl-inline {width: auto; margin:0; padding: 0}\n",
       ".dl-inline>dt, .dl-inline>dd {float: none; width: auto; display: inline-block}\n",
       ".dl-inline>dt::after {content: \":\\0020\"; padding-right: .5ex}\n",
       ".dl-inline>dt:not(:first-of-type) {padding-left: .5ex}\n",
       "</style><dl class=dl-inline><dt>Domingo</dt><dd>1</dd><dt>Segunda</dt><dd>2</dd><dt>Terça</dt><dd>3</dd><dt>Quarta</dt><dd>4</dd><dt>Quinta</dt><dd>5</dd><dt>Sexta</dt><dd>6</dd><dt>Sábado</dt><dd>7</dd></dl>\n"
      ],
      "text/latex": [
       "\\begin{description*}\n",
       "\\item[Domingo] 1\n",
       "\\item[Segunda] 2\n",
       "\\item[Terça] 3\n",
       "\\item[Quarta] 4\n",
       "\\item[Quinta] 5\n",
       "\\item[Sexta] 6\n",
       "\\item[Sábado] 7\n",
       "\\end{description*}\n"
      ],
      "text/markdown": [
       "Domingo\n",
       ":   1Segunda\n",
       ":   2Terça\n",
       ":   3Quarta\n",
       ":   4Quinta\n",
       ":   5Sexta\n",
       ":   6Sábado\n",
       ":   7\n",
       "\n"
      ],
      "text/plain": [
       "Domingo Segunda   Terça  Quarta  Quinta   Sexta  Sábado \n",
       "      1       2       3       4       5       6       7 "
      ]
     },
     "metadata": {},
     "output_type": "display_data"
    }
   ],
   "source": [
    "# Mostrar na tela do console os dados do vetor\n",
    "dias_semana"
   ]
  },
  {
   "cell_type": "markdown",
   "id": "4fb5fcae",
   "metadata": {},
   "source": [
    "* _`attributes()`_ Retorna uma lista com os atributos associados a um vetor."
   ]
  },
  {
   "cell_type": "code",
   "execution_count": 24,
   "id": "3d8effbd",
   "metadata": {},
   "outputs": [
    {
     "data": {
      "text/plain": [
       "NULL"
      ]
     },
     "metadata": {},
     "output_type": "display_data"
    },
    {
     "data": {
      "text/html": [
       "<strong>$names</strong> = <style>\n",
       ".list-inline {list-style: none; margin:0; padding: 0}\n",
       ".list-inline>li {display: inline-block}\n",
       ".list-inline>li:not(:last-child)::after {content: \"\\00b7\"; padding: 0 .5ex}\n",
       "</style>\n",
       "<ol class=list-inline><li>'Domingo'</li><li>'Segunda'</li><li>'Terça'</li><li>'Quarta'</li><li>'Quinta'</li><li>'Sexta'</li><li>'Sábado'</li></ol>\n"
      ],
      "text/latex": [
       "\\textbf{\\$names} = \\begin{enumerate*}\n",
       "\\item 'Domingo'\n",
       "\\item 'Segunda'\n",
       "\\item 'Terça'\n",
       "\\item 'Quarta'\n",
       "\\item 'Quinta'\n",
       "\\item 'Sexta'\n",
       "\\item 'Sábado'\n",
       "\\end{enumerate*}\n"
      ],
      "text/markdown": [
       "**$names** = 1. 'Domingo'\n",
       "2. 'Segunda'\n",
       "3. 'Terça'\n",
       "4. 'Quarta'\n",
       "5. 'Quinta'\n",
       "6. 'Sexta'\n",
       "7. 'Sábado'\n",
       "\n",
       "\n"
      ],
      "text/plain": [
       "$names\n",
       "[1] \"Domingo\" \"Segunda\" \"Terça\"   \"Quarta\"  \"Quinta\"  \"Sexta\"   \"Sábado\" \n"
      ]
     },
     "metadata": {},
     "output_type": "display_data"
    }
   ],
   "source": [
    "# Verificar se os vetores \"inteiros\" e \"dias_semana\"\n",
    "# possuem algum atributo\n",
    "attributes(inteiros)\n",
    "attributes(dias_semana)"
   ]
  },
  {
   "cell_type": "code",
   "execution_count": null,
   "id": "c6f8c64d",
   "metadata": {},
   "outputs": [],
   "source": []
  },
  {
   "cell_type": "markdown",
   "id": "4365f079",
   "metadata": {},
   "source": [
    "* _`seq()`_ Cria uma sequência dentro de um vetor\n"
   ]
  },
  {
   "cell_type": "code",
   "execution_count": 25,
   "id": "249cbb31",
   "metadata": {},
   "outputs": [
    {
     "name": "stdout",
     "output_type": "stream",
     "text": [
      "[1]  0  2  4  6  8 10\n"
     ]
    }
   ],
   "source": [
    "# gerar uma sequência de 1 a 10, saltando 2 números\n",
    "sequencia <- seq(0, 10, 2)\n",
    "print(sequencia)"
   ]
  },
  {
   "cell_type": "markdown",
   "id": "20cd8276",
   "metadata": {},
   "source": [
    "* _`rep()`_ Cria uma repetição de um vetor"
   ]
  },
  {
   "cell_type": "code",
   "execution_count": 26,
   "id": "4dd83fa7",
   "metadata": {},
   "outputs": [
    {
     "data": {
      "text/html": [
       "<style>\n",
       ".list-inline {list-style: none; margin:0; padding: 0}\n",
       ".list-inline>li {display: inline-block}\n",
       ".list-inline>li:not(:last-child)::after {content: \"\\00b7\"; padding: 0 .5ex}\n",
       "</style>\n",
       "<ol class=list-inline><li>1</li><li>2</li><li>3</li><li>4</li><li>1</li><li>2</li><li>3</li><li>4</li><li>1</li><li>2</li><li>3</li><li>4</li></ol>\n"
      ],
      "text/latex": [
       "\\begin{enumerate*}\n",
       "\\item 1\n",
       "\\item 2\n",
       "\\item 3\n",
       "\\item 4\n",
       "\\item 1\n",
       "\\item 2\n",
       "\\item 3\n",
       "\\item 4\n",
       "\\item 1\n",
       "\\item 2\n",
       "\\item 3\n",
       "\\item 4\n",
       "\\end{enumerate*}\n"
      ],
      "text/markdown": [
       "1. 1\n",
       "2. 2\n",
       "3. 3\n",
       "4. 4\n",
       "5. 1\n",
       "6. 2\n",
       "7. 3\n",
       "8. 4\n",
       "9. 1\n",
       "10. 2\n",
       "11. 3\n",
       "12. 4\n",
       "\n",
       "\n"
      ],
      "text/plain": [
       " [1] 1 2 3 4 1 2 3 4 1 2 3 4"
      ]
     },
     "metadata": {},
     "output_type": "display_data"
    }
   ],
   "source": [
    "# Gerar uma repetição de três vezes o vetor formado pelos número de 1 a 4\n",
    "rep(1:4, 3)"
   ]
  },
  {
   "cell_type": "markdown",
   "id": "002ea6b0",
   "metadata": {},
   "source": [
    "* `duplicated()` Mostra a localização de elementos duplicados."
   ]
  },
  {
   "cell_type": "code",
   "execution_count": 27,
   "id": "14904cd1",
   "metadata": {},
   "outputs": [
    {
     "data": {
      "text/html": [
       "<style>\n",
       ".list-inline {list-style: none; margin:0; padding: 0}\n",
       ".list-inline>li {display: inline-block}\n",
       ".list-inline>li:not(:last-child)::after {content: \"\\00b7\"; padding: 0 .5ex}\n",
       "</style>\n",
       "<ol class=list-inline><li>FALSE</li><li>FALSE</li><li>TRUE</li><li>FALSE</li><li>FALSE</li><li>FALSE</li><li>TRUE</li></ol>\n"
      ],
      "text/latex": [
       "\\begin{enumerate*}\n",
       "\\item FALSE\n",
       "\\item FALSE\n",
       "\\item TRUE\n",
       "\\item FALSE\n",
       "\\item FALSE\n",
       "\\item FALSE\n",
       "\\item TRUE\n",
       "\\end{enumerate*}\n"
      ],
      "text/markdown": [
       "1. FALSE\n",
       "2. FALSE\n",
       "3. TRUE\n",
       "4. FALSE\n",
       "5. FALSE\n",
       "6. FALSE\n",
       "7. TRUE\n",
       "\n",
       "\n"
      ],
      "text/plain": [
       "[1] FALSE FALSE  TRUE FALSE FALSE FALSE  TRUE"
      ]
     },
     "metadata": {},
     "output_type": "display_data"
    }
   ],
   "source": [
    "# Vetor com números inteiros duplicados\n",
    "vetor <- c(1, 2, 1, 3, 4, 5, 4)\n",
    "\n",
    "# Mostrar os números duplicados\n",
    "duplicated(vetor)"
   ]
  },
  {
   "cell_type": "markdown",
   "id": "5e53c5a0",
   "metadata": {},
   "source": [
    "Por padrão a saída da função `duplicated()` é um vetor lógico. O código abaixo mostra com seria a saída em forma de vetorial para os dados acima."
   ]
  },
  {
   "cell_type": "code",
   "execution_count": 28,
   "id": "1e53cff8",
   "metadata": {},
   "outputs": [
    {
     "data": {
      "text/html": [
       "<style>\n",
       ".list-inline {list-style: none; margin:0; padding: 0}\n",
       ".list-inline>li {display: inline-block}\n",
       ".list-inline>li:not(:last-child)::after {content: \"\\00b7\"; padding: 0 .5ex}\n",
       "</style>\n",
       "<ol class=list-inline><li>1</li><li>4</li></ol>\n"
      ],
      "text/latex": [
       "\\begin{enumerate*}\n",
       "\\item 1\n",
       "\\item 4\n",
       "\\end{enumerate*}\n"
      ],
      "text/markdown": [
       "1. 1\n",
       "2. 4\n",
       "\n",
       "\n"
      ],
      "text/plain": [
       "[1] 1 4"
      ]
     },
     "metadata": {},
     "output_type": "display_data"
    }
   ],
   "source": [
    "# Mostrar apenas os números repetidos\n",
    "vetor[duplicated(vetor)]"
   ]
  },
  {
   "cell_type": "code",
   "execution_count": 33,
   "id": "42102d25",
   "metadata": {},
   "outputs": [],
   "source": []
  },
  {
   "cell_type": "markdown",
   "id": "3479b43b",
   "metadata": {},
   "source": [
    "* `unique()` Retorna apenas os valores distintos."
   ]
  },
  {
   "cell_type": "markdown",
   "id": "d0838f6e",
   "metadata": {},
   "source": [
    "A seguir utilizaremos os dados dos vetores `dap` (diâmetro a altura do peito), categoria, altura e nomes_cientifocos, os quais são parte de um inventário florestal realizado na Unidade de Manejo Florestal 4 da Floresta Nacional de Altamira."
   ]
  },
  {
   "cell_type": "code",
   "execution_count": 34,
   "id": "3666ccc0",
   "metadata": {},
   "outputs": [
    {
     "data": {
      "text/html": [
       "<style>\n",
       ".list-inline {list-style: none; margin:0; padding: 0}\n",
       ".list-inline>li {display: inline-block}\n",
       ".list-inline>li:not(:last-child)::after {content: \"\\00b7\"; padding: 0 .5ex}\n",
       "</style>\n",
       "<ol class=list-inline><li>'altura'</li><li>'categoria'</li><li>'dap'</li><li>'dias_semana'</li><li>'int'</li><li>'inteiros'</li><li>'letra'</li><li>'nomes_cientificos'</li><li>'sequencia'</li><li>'string'</li><li>'vetor'</li></ol>\n"
      ],
      "text/latex": [
       "\\begin{enumerate*}\n",
       "\\item 'altura'\n",
       "\\item 'categoria'\n",
       "\\item 'dap'\n",
       "\\item 'dias\\_semana'\n",
       "\\item 'int'\n",
       "\\item 'inteiros'\n",
       "\\item 'letra'\n",
       "\\item 'nomes\\_cientificos'\n",
       "\\item 'sequencia'\n",
       "\\item 'string'\n",
       "\\item 'vetor'\n",
       "\\end{enumerate*}\n"
      ],
      "text/markdown": [
       "1. 'altura'\n",
       "2. 'categoria'\n",
       "3. 'dap'\n",
       "4. 'dias_semana'\n",
       "5. 'int'\n",
       "6. 'inteiros'\n",
       "7. 'letra'\n",
       "8. 'nomes_cientificos'\n",
       "9. 'sequencia'\n",
       "10. 'string'\n",
       "11. 'vetor'\n",
       "\n",
       "\n"
      ],
      "text/plain": [
       " [1] \"altura\"            \"categoria\"         \"dap\"              \n",
       " [4] \"dias_semana\"       \"int\"               \"inteiros\"         \n",
       " [7] \"letra\"             \"nomes_cientificos\" \"sequencia\"        \n",
       "[10] \"string\"            \"vetor\"            "
      ]
     },
     "metadata": {},
     "output_type": "display_data"
    }
   ],
   "source": [
    "# Leitura de vetores de um inventário florestal\n",
    "load('./data/dados_modulo_1.rda')\n",
    "\n",
    "# Mostrar os objetos atualmente disponíveis no ambiente R\n",
    "ls()"
   ]
  },
  {
   "cell_type": "code",
   "execution_count": null,
   "id": "081697f3",
   "metadata": {},
   "outputs": [],
   "source": []
  },
  {
   "cell_type": "markdown",
   "id": "d20dafb6",
   "metadata": {},
   "source": [
    "A seguir mostraremos quantas árvores foram inventariadas, ou seja, o tamnaho do nosso vetor."
   ]
  },
  {
   "cell_type": "code",
   "execution_count": 35,
   "id": "2c84dc3d",
   "metadata": {},
   "outputs": [
    {
     "data": {
      "text/html": [
       "18406"
      ],
      "text/latex": [
       "18406"
      ],
      "text/markdown": [
       "18406"
      ],
      "text/plain": [
       "[1] 18406"
      ]
     },
     "metadata": {},
     "output_type": "display_data"
    }
   ],
   "source": [
    "length(nomes_cientificos)"
   ]
  },
  {
   "cell_type": "markdown",
   "id": "d17cc3b5",
   "metadata": {},
   "source": [
    "O a saída código acima mostrar que foram inventariadas 18.406 árvores."
   ]
  },
  {
   "cell_type": "markdown",
   "id": "9353349e",
   "metadata": {},
   "source": [
    "A seguir mostraremos a quantas espécies estas árvores pertencem, e para tal as funções `length()` e `unique()`."
   ]
  },
  {
   "cell_type": "code",
   "execution_count": 41,
   "id": "19b1f7b7",
   "metadata": {},
   "outputs": [
    {
     "data": {
      "text/html": [
       "67"
      ],
      "text/latex": [
       "67"
      ],
      "text/markdown": [
       "67"
      ],
      "text/plain": [
       "[1] 67"
      ]
     },
     "metadata": {},
     "output_type": "display_data"
    }
   ],
   "source": [
    "# Vetor apenas com a relação distinta de espécies inventariadas\n",
    "especies <- unique(nomes_cientificos)\n",
    "\n",
    "# somar o vetor especies\n",
    "length(especies)"
   ]
  },
  {
   "cell_type": "markdown",
   "id": "ba3ba44c",
   "metadata": {},
   "source": [
    "Portanto, temos a que para a área do inventário ocorrem 67 espécies de interesse comercial. O código acima poderia ser resumido em apenas uma linha, vejamos o exemplo a seguir:"
   ]
  },
  {
   "cell_type": "code",
   "execution_count": 42,
   "id": "f3300040",
   "metadata": {},
   "outputs": [
    {
     "data": {
      "text/html": [
       "67"
      ],
      "text/latex": [
       "67"
      ],
      "text/markdown": [
       "67"
      ],
      "text/plain": [
       "[1] 67"
      ]
     },
     "metadata": {},
     "output_type": "display_data"
    }
   ],
   "source": [
    "length(unique(nomes_cientificos))"
   ]
  },
  {
   "cell_type": "markdown",
   "id": "ff279966",
   "metadata": {},
   "source": [
    "## 7.3 Funções Estatísticas Aplicadas a Vetores"
   ]
  },
  {
   "cell_type": "markdown",
   "id": "b06ae377",
   "metadata": {},
   "source": [
    "* _`mean( )`_ Retorna a média aritmética\n",
    "\n",
    "* _`median( )`_ Retorna a mediana\n",
    "\n",
    "* _`min( )`_ Retorna o menor valor\n",
    "\n",
    "* _`max( )`_ Retorna o maior valor\n",
    "\n",
    "* _`sd( )`_ Retorna o desvio padrão\n",
    "\n",
    "* _`summary( )`_ Retorna a estatístiva descritiva.\n",
    "\n",
    "* _`cor( )`_ Retorna a correlação entre dois vetores."
   ]
  },
  {
   "cell_type": "markdown",
   "id": "c3be5ff4",
   "metadata": {},
   "source": [
    "### Calcular a média do vetor _dap_ (diâmetro médio das árvores)"
   ]
  },
  {
   "cell_type": "code",
   "execution_count": 43,
   "id": "b7eb97e9",
   "metadata": {},
   "outputs": [
    {
     "data": {
      "text/html": [
       "72.2728159295882"
      ],
      "text/latex": [
       "72.2728159295882"
      ],
      "text/markdown": [
       "72.2728159295882"
      ],
      "text/plain": [
       "[1] 72.27282"
      ]
     },
     "metadata": {},
     "output_type": "display_data"
    }
   ],
   "source": [
    "# média do vetor dap (diânetro médio das árvores)\n",
    "mean(dap)"
   ]
  },
  {
   "cell_type": "markdown",
   "id": "9495e5f5",
   "metadata": {},
   "source": [
    "### Calcular a mediana do vetor _altura_ (altura comercial das árvores)"
   ]
  },
  {
   "cell_type": "code",
   "execution_count": 44,
   "id": "2967404d",
   "metadata": {},
   "outputs": [
    {
     "data": {
      "text/html": [
       "18"
      ],
      "text/latex": [
       "18"
      ],
      "text/markdown": [
       "18"
      ],
      "text/plain": [
       "[1] 18"
      ]
     },
     "metadata": {},
     "output_type": "display_data"
    }
   ],
   "source": [
    "### Calcular a mediana do vetor _altura_ (altura comercial das árvores)\n",
    "median(altura)"
   ]
  },
  {
   "cell_type": "markdown",
   "id": "49911d98",
   "metadata": {},
   "source": [
    "### Mostrar os valores mínimo e máximo do vetor dap"
   ]
  },
  {
   "cell_type": "code",
   "execution_count": 45,
   "id": "0d858b5c",
   "metadata": {},
   "outputs": [
    {
     "data": {
      "text/html": [
       "40"
      ],
      "text/latex": [
       "40"
      ],
      "text/markdown": [
       "40"
      ],
      "text/plain": [
       "[1] 40"
      ]
     },
     "metadata": {},
     "output_type": "display_data"
    }
   ],
   "source": [
    "# valor mínimo de dap\n",
    "min(dap)"
   ]
  },
  {
   "cell_type": "code",
   "execution_count": 46,
   "id": "57eaaf36",
   "metadata": {},
   "outputs": [
    {
     "data": {
      "text/html": [
       "312.26"
      ],
      "text/latex": [
       "312.26"
      ],
      "text/markdown": [
       "312.26"
      ],
      "text/plain": [
       "[1] 312.26"
      ]
     },
     "metadata": {},
     "output_type": "display_data"
    }
   ],
   "source": [
    "# dap Máximo\n",
    "max(dap)"
   ]
  },
  {
   "cell_type": "markdown",
   "id": "7a05d17a",
   "metadata": {},
   "source": [
    "### Calcular o desvio padrão do vetor dap"
   ]
  },
  {
   "cell_type": "code",
   "execution_count": 47,
   "id": "f3601ade",
   "metadata": {},
   "outputs": [
    {
     "data": {
      "text/html": [
       "24.0258756077791"
      ],
      "text/latex": [
       "24.0258756077791"
      ],
      "text/markdown": [
       "24.0258756077791"
      ],
      "text/plain": [
       "[1] 24.02588"
      ]
     },
     "metadata": {},
     "output_type": "display_data"
    }
   ],
   "source": [
    "# desvio padrão para o vetor dap\n",
    "sd(dap)"
   ]
  },
  {
   "cell_type": "markdown",
   "id": "6f7515dd",
   "metadata": {},
   "source": [
    "### Mostrar a estatística Descritiva do Vetor altura"
   ]
  },
  {
   "cell_type": "code",
   "execution_count": 48,
   "id": "d3692356",
   "metadata": {
    "scrolled": true
   },
   "outputs": [
    {
     "data": {
      "text/plain": [
       "   Min. 1st Qu.  Median    Mean 3rd Qu.    Max. \n",
       "   7.00   16.00   18.00   18.14   20.00   40.00 "
      ]
     },
     "metadata": {},
     "output_type": "display_data"
    }
   ],
   "source": [
    "summary(altura)"
   ]
  },
  {
   "cell_type": "markdown",
   "id": "0e19e3a4",
   "metadata": {},
   "source": [
    "## Calcular a correlação linear entre diâmetro e altura das árvores"
   ]
  },
  {
   "cell_type": "code",
   "execution_count": 49,
   "id": "ffb6308d",
   "metadata": {},
   "outputs": [
    {
     "data": {
      "text/html": [
       "0.273168903939106"
      ],
      "text/latex": [
       "0.273168903939106"
      ],
      "text/markdown": [
       "0.273168903939106"
      ],
      "text/plain": [
       "[1] 0.2731689"
      ]
     },
     "metadata": {},
     "output_type": "display_data"
    }
   ],
   "source": [
    "cor(dap, altura)"
   ]
  },
  {
   "cell_type": "markdown",
   "id": "45347704",
   "metadata": {},
   "source": [
    "## 7.4 Função `lapply()` aplicada a vetores\n",
    "A função lapply, parte do pacote base do R, no caso específico de vetores, recebe 2 argumentos como parâmetro: o vetor contendo de dados e uma função a ser aplicada aos elementos do vetor."
   ]
  },
  {
   "cell_type": "code",
   "execution_count": 51,
   "id": "a8b85fbb",
   "metadata": {},
   "outputs": [
    {
     "data": {
      "text/html": [
       "<style>\n",
       ".list-inline {list-style: none; margin:0; padding: 0}\n",
       ".list-inline>li {display: inline-block}\n",
       ".list-inline>li:not(:last-child)::after {content: \"\\00b7\"; padding: 0 .5ex}\n",
       "</style>\n",
       "<ol class=list-inline><li>'MASSARANDUBA'</li><li>'IPÊ'</li><li>'GARAPEIRA'</li><li>'JATOBÁ'</li></ol>\n"
      ],
      "text/latex": [
       "\\begin{enumerate*}\n",
       "\\item 'MASSARANDUBA'\n",
       "\\item 'IPÊ'\n",
       "\\item 'GARAPEIRA'\n",
       "\\item 'JATOBÁ'\n",
       "\\end{enumerate*}\n"
      ],
      "text/markdown": [
       "1. 'MASSARANDUBA'\n",
       "2. 'IPÊ'\n",
       "3. 'GARAPEIRA'\n",
       "4. 'JATOBÁ'\n",
       "\n",
       "\n"
      ],
      "text/plain": [
       "[1] \"MASSARANDUBA\" \"IPÊ\"          \"GARAPEIRA\"    \"JATOBÁ\"      "
      ]
     },
     "metadata": {},
     "output_type": "display_data"
    }
   ],
   "source": [
    "nomes <- c('MASSARANDUBA', 'IPÊ', 'GARAPEIRA', 'JATOBÁ')\n",
    "nomes"
   ]
  },
  {
   "cell_type": "code",
   "execution_count": 52,
   "id": "99c8357a",
   "metadata": {},
   "outputs": [
    {
     "data": {
      "text/html": [
       "<ol>\n",
       "\t<li>'massaranduba'</li>\n",
       "\t<li>'ipê'</li>\n",
       "\t<li>'garapeira'</li>\n",
       "\t<li>'jatobá'</li>\n",
       "</ol>\n"
      ],
      "text/latex": [
       "\\begin{enumerate}\n",
       "\\item 'massaranduba'\n",
       "\\item 'ipê'\n",
       "\\item 'garapeira'\n",
       "\\item 'jatobá'\n",
       "\\end{enumerate}\n"
      ],
      "text/markdown": [
       "1. 'massaranduba'\n",
       "2. 'ipê'\n",
       "3. 'garapeira'\n",
       "4. 'jatobá'\n",
       "\n",
       "\n"
      ],
      "text/plain": [
       "[[1]]\n",
       "[1] \"massaranduba\"\n",
       "\n",
       "[[2]]\n",
       "[1] \"ipê\"\n",
       "\n",
       "[[3]]\n",
       "[1] \"garapeira\"\n",
       "\n",
       "[[4]]\n",
       "[1] \"jatobá\"\n"
      ]
     },
     "metadata": {},
     "output_type": "display_data"
    }
   ],
   "source": [
    "lapply(nomes, tolower)"
   ]
  },
  {
   "cell_type": "markdown",
   "id": "8f66ca3a",
   "metadata": {},
   "source": [
    "## 7.5 Função `sapply()`"
   ]
  },
  {
   "cell_type": "code",
   "execution_count": 53,
   "id": "63e89ced",
   "metadata": {},
   "outputs": [
    {
     "data": {
      "text/html": [
       "<style>\n",
       ".dl-inline {width: auto; margin:0; padding: 0}\n",
       ".dl-inline>dt, .dl-inline>dd {float: none; width: auto; display: inline-block}\n",
       ".dl-inline>dt::after {content: \":\\0020\"; padding-right: .5ex}\n",
       ".dl-inline>dt:not(:first-of-type) {padding-left: .5ex}\n",
       "</style><dl class=dl-inline><dt>MASSARANDUBA</dt><dd>'massaranduba'</dd><dt>IPÊ</dt><dd>'ipê'</dd><dt>GARAPEIRA</dt><dd>'garapeira'</dd><dt>JATOBÁ</dt><dd>'jatobá'</dd></dl>\n"
      ],
      "text/latex": [
       "\\begin{description*}\n",
       "\\item[MASSARANDUBA] 'massaranduba'\n",
       "\\item[IPÊ] 'ipê'\n",
       "\\item[GARAPEIRA] 'garapeira'\n",
       "\\item[JATOBÁ] 'jatobá'\n",
       "\\end{description*}\n"
      ],
      "text/markdown": [
       "MASSARANDUBA\n",
       ":   'massaranduba'IPÊ\n",
       ":   'ipê'GARAPEIRA\n",
       ":   'garapeira'JATOBÁ\n",
       ":   'jatobá'\n",
       "\n"
      ],
      "text/plain": [
       "  MASSARANDUBA            IPÊ      GARAPEIRA         JATOBÁ \n",
       "\"massaranduba\"          \"ipê\"    \"garapeira\"       \"jatobá\" "
      ]
     },
     "metadata": {},
     "output_type": "display_data"
    }
   ],
   "source": [
    "sapply(nomes, tolower)"
   ]
  },
  {
   "cell_type": "markdown",
   "id": "0f5a3b88",
   "metadata": {},
   "source": [
    "## 7.6 Função `mapply()`\n",
    "Versão multivariada das funções lapply e sapply, utilizada para iterar entre elementos de vetores ou listas."
   ]
  },
  {
   "cell_type": "code",
   "execution_count": 56,
   "id": "d4eb29f8",
   "metadata": {},
   "outputs": [
    {
     "data": {
      "text/html": [
       "<style>\n",
       ".dl-inline {width: auto; margin:0; padding: 0}\n",
       ".dl-inline>dt, .dl-inline>dd {float: none; width: auto; display: inline-block}\n",
       ".dl-inline>dt::after {content: \":\\0020\"; padding-right: .5ex}\n",
       ".dl-inline>dt:not(:first-of-type) {padding-left: .5ex}\n",
       "</style><dl class=dl-inline><dt>Segunda</dt><dd>7</dd><dt>Terça</dt><dd>12</dd><dt>Quarta</dt><dd>5</dd><dt>Quinta</dt><dd>5</dd><dt>Sexta</dt><dd>1</dd></dl>\n"
      ],
      "text/latex": [
       "\\begin{description*}\n",
       "\\item[Segunda] 7\n",
       "\\item[Terça] 12\n",
       "\\item[Quarta] 5\n",
       "\\item[Quinta] 5\n",
       "\\item[Sexta] 1\n",
       "\\end{description*}\n"
      ],
      "text/markdown": [
       "Segunda\n",
       ":   7Terça\n",
       ":   12Quarta\n",
       ":   5Quinta\n",
       ":   5Sexta\n",
       ":   1\n",
       "\n"
      ],
      "text/plain": [
       "Segunda   Terça  Quarta  Quinta   Sexta \n",
       "      7      12       5       5       1 "
      ]
     },
     "metadata": {},
     "output_type": "display_data"
    }
   ],
   "source": [
    "# Definição dos Vetores a e b\n",
    "a <- c(7, 12, 5, 2, 1) \n",
    "b <- c(4, 2, 3, 5, 1)\n",
    "\n",
    "# Nomes para os vetores\n",
    "dias_semana <- c('Segunda', 'Terça', 'Quarta', 'Quinta', 'Sexta')\n",
    "\n",
    "# Atribuir nome aos vetores\n",
    "names(a) <- dias_semana\n",
    "names(b) <- dias_semana\n",
    "\n",
    "# Uso da função mapply() para retornar a soma\n",
    "# entre os elementos dos vetores a e b\n",
    "mapply(max, a, b)"
   ]
  },
  {
   "cell_type": "markdown",
   "id": "e537ef0a",
   "metadata": {},
   "source": [
    "## 7.7 Função _`tapply()`_\n",
    "Aplica uma função sobre um vetor com agrupamento em outro vetor categórico. Recebe como parâmetros: um vetor numérico, um vetor categórico e uma função.\n",
    "O código a seguir aplica a função média sobre o vetor `volume` agrupado ao vetor `ut` (unidades de trabalho)"
   ]
  },
  {
   "cell_type": "code",
   "execution_count": 57,
   "id": "943f8d8b",
   "metadata": {},
   "outputs": [
    {
     "data": {
      "text/html": [
       "<style>\n",
       ".dl-inline {width: auto; margin:0; padding: 0}\n",
       ".dl-inline>dt, .dl-inline>dd {float: none; width: auto; display: inline-block}\n",
       ".dl-inline>dt::after {content: \":\\0020\"; padding-right: .5ex}\n",
       ".dl-inline>dt:not(:first-of-type) {padding-left: .5ex}\n",
       "</style><dl class=dl-inline><dt>Explorar</dt><dd>76.8872521591047</dd><dt>Remanescente</dt><dd>67.9580670429674</dd><dt>Substituta</dt><dd>71.9543683510638</dd></dl>\n"
      ],
      "text/latex": [
       "\\begin{description*}\n",
       "\\item[Explorar] 76.8872521591047\n",
       "\\item[Remanescente] 67.9580670429674\n",
       "\\item[Substituta] 71.9543683510638\n",
       "\\end{description*}\n"
      ],
      "text/markdown": [
       "Explorar\n",
       ":   76.8872521591047Remanescente\n",
       ":   67.9580670429674Substituta\n",
       ":   71.9543683510638\n",
       "\n"
      ],
      "text/plain": [
       "    Explorar Remanescente   Substituta \n",
       "    76.88725     67.95807     71.95437 "
      ]
     },
     "metadata": {},
     "output_type": "display_data"
    }
   ],
   "source": [
    "# Calcular o volume médio por unidade de trabalho\n",
    "tapply(dap, categoria, mean)"
   ]
  },
  {
   "cell_type": "markdown",
   "id": "ff91ff40",
   "metadata": {},
   "source": [
    "## 8 Valores Ausentes (NA)\n",
    "Em R valores ausentes são conhecidos como `NA`, uma sigla em inglês que significa _Not Available_, ou seja, valores nãop disponíceis. Na literatura técnica e também em outras linguagens de programação esta sigla é definida como `Nan` (_Not available number_)"
   ]
  },
  {
   "cell_type": "code",
   "execution_count": 58,
   "id": "b1ec848c",
   "metadata": {},
   "outputs": [],
   "source": [
    "# Definição do Vetor \"num\" com elemento \"NA\"\n",
    "num <- c(2, 11, 25, NA, 45)"
   ]
  },
  {
   "cell_type": "markdown",
   "id": "f7a982bf",
   "metadata": {},
   "source": [
    "Para o caso do vetor acima se utilizarmos a função `mean` para calcular a média aritimética do vetor `num`, teriamos que dizer a função para desconsiderar o valor NA, o que se faz definindo o parâmetro `na.rm = TRUE`, vejamos o exemplo a seguir:"
   ]
  },
  {
   "cell_type": "code",
   "execution_count": 59,
   "id": "d09e5696",
   "metadata": {},
   "outputs": [
    {
     "data": {
      "text/html": [
       "&lt;NA&gt;"
      ],
      "text/latex": [
       "<NA>"
      ],
      "text/markdown": [
       "&lt;NA&gt;"
      ],
      "text/plain": [
       "[1] NA"
      ]
     },
     "metadata": {},
     "output_type": "display_data"
    }
   ],
   "source": [
    "# Uso da função mean() sem desconsiderar valor ausente (NA).\n",
    "mean(num)"
   ]
  },
  {
   "cell_type": "code",
   "execution_count": 60,
   "id": "fc5af9a6",
   "metadata": {},
   "outputs": [
    {
     "data": {
      "text/html": [
       "20.75"
      ],
      "text/latex": [
       "20.75"
      ],
      "text/markdown": [
       "20.75"
      ],
      "text/plain": [
       "[1] 20.75"
      ]
     },
     "metadata": {},
     "output_type": "display_data"
    }
   ],
   "source": [
    "# Desconsiderar valores NA\n",
    "mean(num, na.rm = TRUE)"
   ]
  },
  {
   "cell_type": "markdown",
   "id": "c752b487",
   "metadata": {},
   "source": [
    "## Como Saber se Há Valores Ausentes (NA) nos Dados?\n",
    "Para conferir a presença de valores NA nos dados utilizamos a função `is.na()`, a qual recebe como parâmetro de entrada apenas o vetor de dados."
   ]
  },
  {
   "cell_type": "markdown",
   "id": "cd1c8b17",
   "metadata": {},
   "source": [
    "* `is.na( )` Testa se o vetor contém valores ausentes (_Not Availables_)"
   ]
  },
  {
   "cell_type": "code",
   "execution_count": 63,
   "id": "8fce6a0b",
   "metadata": {},
   "outputs": [
    {
     "data": {
      "text/html": [
       "<style>\n",
       ".list-inline {list-style: none; margin:0; padding: 0}\n",
       ".list-inline>li {display: inline-block}\n",
       ".list-inline>li:not(:last-child)::after {content: \"\\00b7\"; padding: 0 .5ex}\n",
       "</style>\n",
       "<ol class=list-inline><li>TRUE</li><li>FALSE</li><li>FALSE</li><li>FALSE</li></ol>\n"
      ],
      "text/latex": [
       "\\begin{enumerate*}\n",
       "\\item TRUE\n",
       "\\item FALSE\n",
       "\\item FALSE\n",
       "\\item FALSE\n",
       "\\end{enumerate*}\n"
      ],
      "text/markdown": [
       "1. TRUE\n",
       "2. FALSE\n",
       "3. FALSE\n",
       "4. FALSE\n",
       "\n",
       "\n"
      ],
      "text/plain": [
       "[1]  TRUE FALSE FALSE FALSE"
      ]
     },
     "metadata": {},
     "output_type": "display_data"
    }
   ],
   "source": [
    "vetor <- c(NA, 2, 3, 6)\n",
    "is.na(vetor)"
   ]
  },
  {
   "cell_type": "markdown",
   "id": "47ccd59d",
   "metadata": {},
   "source": [
    "Vemos acima que o retorno da função `is.na()` retorna um vetor lógico, mostrando _TRUE_ sempre que o elemento do vetor é do tipo `NA`. Podemos melhor a saida acima para uma forma tabular através do uso da função `summary`"
   ]
  },
  {
   "cell_type": "code",
   "execution_count": 64,
   "id": "05d8ddaa",
   "metadata": {},
   "outputs": [
    {
     "data": {
      "text/plain": [
       "   Mode   FALSE    TRUE \n",
       "logical       3       1 "
      ]
     },
     "metadata": {},
     "output_type": "display_data"
    }
   ],
   "source": [
    "summary(is.na(vetor))"
   ]
  },
  {
   "cell_type": "markdown",
   "id": "51287cb4",
   "metadata": {},
   "source": [
    "Poderiamos ainda filtar o vetor de forma a não mostrar valores ausentes, usando o perador de negação ou \"diferente\", qual seja `!`. Este operador tem a mesma função da negação utilizada em lógica matématica porém nesta área utiliza-se os caracteres `⌐` e `~`"
   ]
  },
  {
   "cell_type": "code",
   "execution_count": 65,
   "id": "db7b48a2",
   "metadata": {},
   "outputs": [
    {
     "data": {
      "text/html": [
       "<style>\n",
       ".list-inline {list-style: none; margin:0; padding: 0}\n",
       ".list-inline>li {display: inline-block}\n",
       ".list-inline>li:not(:last-child)::after {content: \"\\00b7\"; padding: 0 .5ex}\n",
       "</style>\n",
       "<ol class=list-inline><li>2</li><li>3</li><li>6</li></ol>\n"
      ],
      "text/latex": [
       "\\begin{enumerate*}\n",
       "\\item 2\n",
       "\\item 3\n",
       "\\item 6\n",
       "\\end{enumerate*}\n"
      ],
      "text/markdown": [
       "1. 2\n",
       "2. 3\n",
       "3. 6\n",
       "\n",
       "\n"
      ],
      "text/plain": [
       "[1] 2 3 6"
      ]
     },
     "metadata": {},
     "output_type": "display_data"
    }
   ],
   "source": [
    "vetor[!is.na(vetor)]"
   ]
  },
  {
   "cell_type": "markdown",
   "id": "e1bfcd57",
   "metadata": {},
   "source": [
    "## Exercício Prático - Vetores e Operadores de Comparação\n",
    "<p style=\"text-align:justify\">Para este exercício, considere o vetor <mark style=\"background-color:#F4F4F4\">temperatura</mark>. Esse vetor possui dados de temperatura média mensal da Estação Meteorológica Manual INMET 82861, localizada no município de Conceição do Araguaia.</p>"
   ]
  },
  {
   "cell_type": "code",
   "execution_count": null,
   "id": "1f64eb17",
   "metadata": {},
   "outputs": [],
   "source": [
    "temperatura <- c(26.38452, 26.90357, 27.04064, 27.42467, \n",
    "                 28.53548, 28.90000, NA, 29.73818, \n",
    "                 30.54667, 27.21652, 27.28800, 27.84000)"
   ]
  },
  {
   "cell_type": "markdown",
   "id": "b426ef38",
   "metadata": {},
   "source": [
    "**Instrução 1/4**\n",
    "* Obter a temperatura média do vetor `temperatura`"
   ]
  },
  {
   "cell_type": "code",
   "execution_count": null,
   "id": "c19a9295",
   "metadata": {},
   "outputs": [],
   "source": []
  },
  {
   "cell_type": "markdown",
   "id": "28b6f024",
   "metadata": {},
   "source": [
    "**Instrução 2/4**\n",
    "* Obter as temperaturas que estão acima da média do vetor `temperatura`"
   ]
  },
  {
   "cell_type": "code",
   "execution_count": null,
   "id": "3f26d784",
   "metadata": {},
   "outputs": [],
   "source": []
  },
  {
   "cell_type": "markdown",
   "id": "1c1ff4de",
   "metadata": {},
   "source": [
    "**Instrução 3/4**\n",
    "* Mostre quanto dos dados do vetor de temperaturas apresentam valores `NA`"
   ]
  },
  {
   "cell_type": "code",
   "execution_count": null,
   "id": "dbf51a18",
   "metadata": {},
   "outputs": [],
   "source": []
  },
  {
   "cell_type": "markdown",
   "id": "b7fa6de3",
   "metadata": {},
   "source": [
    "**Instrução 4/4**\n",
    "* Mostre onde os dados do vetor de temperaturas apresenta valores `NA`"
   ]
  },
  {
   "cell_type": "code",
   "execution_count": null,
   "id": "ac4eeea8",
   "metadata": {},
   "outputs": [],
   "source": []
  }
 ],
 "metadata": {
  "kernelspec": {
   "display_name": "R",
   "language": "R",
   "name": "ir"
  },
  "language_info": {
   "codemirror_mode": "r",
   "file_extension": ".r",
   "mimetype": "text/x-r-source",
   "name": "R",
   "pygments_lexer": "r",
   "version": "4.2.0"
  }
 },
 "nbformat": 4,
 "nbformat_minor": 5
}
