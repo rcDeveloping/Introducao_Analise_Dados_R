{
 "cells": [
  {
   "cell_type": "markdown",
   "id": "d3658bae",
   "metadata": {},
   "source": [
    "<h1 style=\"text-align:center;\">Gabarito Avaliação Prática - Módulo 1</h1>"
   ]
  },
  {
   "cell_type": "markdown",
   "id": "a6aa753f",
   "metadata": {},
   "source": [
    "|Questão|Resposta|\n",
    "|:-----:|:-------|\n",
    "1| d\n",
    "2| a\n",
    "3| b\n",
    "4| c\n",
    "5| c\n",
    "6| b\n",
    "7| d\n",
    "8| b\n",
    "9| d\n",
    "10| c\n",
    "11| b"
   ]
  },
  {
   "cell_type": "code",
   "execution_count": null,
   "id": "a2c1caa3",
   "metadata": {},
   "outputs": [],
   "source": []
  },
  {
   "cell_type": "code",
   "execution_count": null,
   "id": "27613be9",
   "metadata": {},
   "outputs": [],
   "source": []
  }
 ],
 "metadata": {
  "kernelspec": {
   "display_name": "R",
   "language": "R",
   "name": "ir"
  },
  "language_info": {
   "codemirror_mode": "r",
   "file_extension": ".r",
   "mimetype": "text/x-r-source",
   "name": "R",
   "pygments_lexer": "r",
   "version": "4.2.0"
  }
 },
 "nbformat": 4,
 "nbformat_minor": 5
}
