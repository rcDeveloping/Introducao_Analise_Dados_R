{
 "cells": [
  {
   "cell_type": "markdown",
   "id": "f61c2141",
   "metadata": {},
   "source": [
    "<h1 align=\"center\">Introdução à Análise de Dados com Linguagem R</h1>"
   ]
  },
  {
   "cell_type": "markdown",
   "id": "c6f6c448",
   "metadata": {},
   "source": [
    "## 1 Instalação do R\n",
    "<p style=\"text-align:justify\">A instalação padrão da linguagem R é feita a partir do <a href=\"https://cran.r-project.org/\">CRAN</a>, uma rede formada de servidores espalhadod pelo mundo que armazena versões atualizadas do código fonte e executável (Windows), assim como a documentação da linguagem R.</p>"
   ]
  },
  {
   "cell_type": "markdown",
   "id": "895753de",
   "metadata": {},
   "source": [
    "## 2 Instalação do RStudio\n",
    "<p style=\"text-align:justify;\">RStudio é um ambiente de desenvolvimento integrado para linguagem R (IDE - <i>integrated development environment</i>), porém pode rodar <i>scripts</i> SQL, C, C++ e Python. A vantagem se se poder trabalhar com IDE é que ela disponibiliza ferramentas de apoio ao desenvolvimento de códigos em linguagem de programção. Para <i>download</i> do RStudio acesse o endereço <a href=\"https://www.rstudio.com/products/rstudio/download/#download\">https://www.rstudio.com/,</a> e escolha a opção <i>RStudio Desktop</i></p>"
   ]
  },
  {
   "cell_type": "markdown",
   "id": "1eef1e00",
   "metadata": {},
   "source": [
    "## Conhecendo a Interface Gráfica do RStudio"
   ]
  },
  {
   "cell_type": "markdown",
   "id": "d6455fcb",
   "metadata": {},
   "source": [
    "![](./output/RStudio.PNG)"
   ]
  },
  {
   "cell_type": "markdown",
   "id": "26ed39a4",
   "metadata": {},
   "source": [
    "A interface do RStudio é divida em 4 painés, e duas barras:\n",
    "* 1 - Barra de _menu_\n",
    "* 2 - Barra de ferramentas\n",
    "* 3 - Painel de _scripts_ e arquivos\n",
    "* 4 - Painel de variáveis de Ambiente/Histórico/Conexões/Tutorial\n",
    "* 5 - Painel de _Console/Terminal_ \n",
    "* 6 - Painel de Árvore de Arquivos/Gráficos/Pacotes/Ajuda/Visualizador"
   ]
  },
  {
   "cell_type": "markdown",
   "id": "e0ada827",
   "metadata": {},
   "source": [
    "## 3 Pacotes\n",
    "<p style=\"text-align:justify\">Para instalar um determinado pacote (biblioteca) em R, utilizamos a função <i><mark style=\"background-color:Gainsboro\">install.packages(\"nome_do_pacote\")</mark></i>, a qual recebe como parâmetro o nome do pacote a ser instalado. Utilizaremos como exemplo a instalação do pacote <mark style=\"background-color:Gainsboro\">dplyr</mark>, o mais importante pacote para manipulação e transformação de <i>dataframes</i> em R.</p>\n",
    "<p style=\"text-align:justify;\">Para carregar um pacote em R fazemos uso da função <mark style=\"background-color:lightgray;\">library()</mark>, fornecendo como parâmetro o nome do pacote</p>"
   ]
  },
  {
   "cell_type": "markdown",
   "id": "3c0c8f62",
   "metadata": {},
   "source": [
    "## 3.1 Instalar e Carregar Pacotes\n",
    "### Exercício Prático\n",
    "**Instrução 1/3**\n",
    "* Instale o pacote `dplyr` utilizando a janela do console"
   ]
  },
  {
   "cell_type": "code",
   "execution_count": null,
   "id": "0c462a80",
   "metadata": {},
   "outputs": [],
   "source": []
  },
  {
   "cell_type": "markdown",
   "id": "164f2385",
   "metadata": {},
   "source": [
    "**Instrução 2/3**\n",
    "* Instale o pacote `readr` utilizando a janela Packages."
   ]
  },
  {
   "cell_type": "markdown",
   "id": "abebfb2d",
   "metadata": {},
   "source": [
    "**Instrução 3/3**\n",
    "* Carregue o pacote `dplyr`"
   ]
  },
  {
   "cell_type": "code",
   "execution_count": null,
   "id": "7404cbae",
   "metadata": {},
   "outputs": [],
   "source": []
  },
  {
   "cell_type": "markdown",
   "id": "8123d853",
   "metadata": {},
   "source": [
    "Em ambos os trechos de código acima se observa o uso do caractere `#`, em R e python este caractere é utilizado para fazer comentário no código, portanto, toda linha que contém este caractere é ignorada na execução do programa."
   ]
  },
  {
   "cell_type": "markdown",
   "id": "f4ac5d9a",
   "metadata": {},
   "source": [
    "## 3.3 Listar todos os Pacotes instalados"
   ]
  },
  {
   "cell_type": "code",
   "execution_count": null,
   "id": "e12b863a",
   "metadata": {},
   "outputs": [],
   "source": [
    "available.packages()"
   ]
  },
  {
   "cell_type": "markdown",
   "id": "b26342a4",
   "metadata": {},
   "source": [
    "## 3.4 Mostrar os pacotes carregados na sessão atual"
   ]
  },
  {
   "cell_type": "code",
   "execution_count": null,
   "id": "f1878b02",
   "metadata": {},
   "outputs": [],
   "source": [
    "search()"
   ]
  },
  {
   "cell_type": "markdown",
   "id": "6c47be6a",
   "metadata": {},
   "source": [
    "## 3.5 Obter e Configurar o ambiente de trabalho"
   ]
  },
  {
   "cell_type": "markdown",
   "id": "0316acdd",
   "metadata": {},
   "source": [
    "<p style=\"text-align:justify\">Para obter o ambiente de trabalho atualmente em uso pelo RStudio utilizamos a função <mark style=\"background-color:lightgray;\">getwd()</mark>; esta função vem do termo em inglês: <i>Get Working Directory</i>, traduzido para o portugês como \"Obter Ambiente de Trabalho\". No sistema operacional Windows, por padrão, o RStudio configura o ambiente de trabalho em \"C:/Usuários/Nome_do_Usuário/Documentos\"</p>.\n",
    "<p style=\"text-align:justify\">Para configurar um ambiente de trabalho diferente do padrão utilizamos a função <mark style=\"background-color:lightgrey\">setwd()</mark>. Esta função tem nome bem sugestivo na lingua inglesa, a saber: <i>Set Working Directory</i>, \"Configurar Ambiente de Trabalho\".</p>"
   ]
  },
  {
   "cell_type": "markdown",
   "id": "0416b9f6",
   "metadata": {},
   "source": [
    "### Exercício Prático - Ambiente de trabalho\n",
    "**Instrução 1/2**\n",
    "* Use a janela console dp RStudio para obter o atual diretório de trabalho em uso no seu computador."
   ]
  },
  {
   "cell_type": "code",
   "execution_count": null,
   "id": "97c91fe7",
   "metadata": {},
   "outputs": [],
   "source": []
  },
  {
   "cell_type": "markdown",
   "id": "555ab1e2",
   "metadata": {},
   "source": [
    "**Instrução 2/2**\n",
    "* Configure seu ambiente de trabalho para `'C:/Users/Downloads'`"
   ]
  },
  {
   "cell_type": "code",
   "execution_count": null,
   "id": "5064407a",
   "metadata": {},
   "outputs": [],
   "source": []
  },
  {
   "cell_type": "markdown",
   "id": "786785c3",
   "metadata": {},
   "source": [
    "## 4 Operadores Aritméticos e de Atribuição em R"
   ]
  },
  {
   "cell_type": "markdown",
   "id": "0cc1b425",
   "metadata": {},
   "source": [
    "|Operador|Função|\n",
    "|:------:|:----:|\n",
    "| +      | Soma |\n",
    "| -      | Subtração |\n",
    "| /      | Divisão |\n",
    "| *      | Multiplicação |\n",
    "|   %%   | Resto da divisão |\n",
    "| %/%    | Parte inteira divisão |\n",
    "| ^      | Potenciação |\n",
    "| **     | Potenciação |\n",
    "| <-     | Atribuição |\n",
    "| =      | Atribuição |"
   ]
  },
  {
   "cell_type": "markdown",
   "id": "ea30bd84",
   "metadata": {},
   "source": [
    "### Exercício Prático - Operadores Aritméticos e de Atribuição\n",
    "\n",
    "**Instrução 1/3**\n",
    "* Obter o resto da divisão entre os números inteiros 10 e 3."
   ]
  },
  {
   "cell_type": "code",
   "execution_count": null,
   "id": "b3f71f79",
   "metadata": {},
   "outputs": [],
   "source": []
  },
  {
   "cell_type": "markdown",
   "id": "3cfa9b60",
   "metadata": {},
   "source": [
    "**Instrução 2/3**\n",
    "* Obter a parte interira da divisão de 10 por 3."
   ]
  },
  {
   "cell_type": "markdown",
   "id": "959b7c1a",
   "metadata": {},
   "source": [
    "**Instrução 3/3**\n",
    "* Obter o quadrado de um número inteiro qualquer."
   ]
  },
  {
   "cell_type": "code",
   "execution_count": null,
   "id": "9af4f837",
   "metadata": {},
   "outputs": [],
   "source": []
  },
  {
   "cell_type": "markdown",
   "id": "6bc0e758",
   "metadata": {},
   "source": [
    "## 5 Operadores de Comparação em R"
   ]
  },
  {
   "cell_type": "markdown",
   "id": "d6a49174",
   "metadata": {},
   "source": [
    "| Operador | Significado |\n",
    "|:--------:|:-----------:|\n",
    "| == | igual a |\n",
    "| != | diferente de |\n",
    "| >  | maior que |\n",
    "| <  | menor que |\n",
    "| >= | maior ou igual a |\n",
    "| <= |menor ou igual a |"
   ]
  },
  {
   "cell_type": "markdown",
   "id": "3084a19d",
   "metadata": {},
   "source": [
    "## 6 Operadores Lógicos em R"
   ]
  },
  {
   "cell_type": "markdown",
   "id": "3289b6bc",
   "metadata": {},
   "source": [
    "| Operador | Descrição | Explicação |\n",
    "|:--------:|:---------:|:------:|\n",
    "| & |AND lógico| Comparação pareada de todos os elementos de dois ou mais vetores | \n",
    "| && |AND lógico| Compara apenas os doi primeiros elemetos de vetores |\n",
    "| \\| | OR lógico | |\n",
    "| \\|\\| | OR lógico |\n",
    "| ! | NOT lógico | Negação lógica.  |\n",
    "| xor | OR exclusivo | Ou Exclusivo. Retorna valor lógico TRUE se ambos os valores de entrada forem diferentes entre si, e retorna FALSE se os valores forem iguais. |"
   ]
  },
  {
   "cell_type": "markdown",
   "id": "514c5f66",
   "metadata": {},
   "source": [
    "## 7 Objeto em R\n",
    "Um objeto é simplesmente qualquer variável que armaneza um caractere numérico, alfabético ou uma cadeia de carateres (_string_). Em R temos objetos especiais para manipulação de grande volume de dados, a exemplo de vetores, listas e dataframes.\n",
    "Para criação de um objeto se utiliza o operador de atribuição `<-`. Nos exemplos a seguir são criados os objetos `x`, `y` e `z` para armazenar um número inteiro, uma letra e uma frase."
   ]
  },
  {
   "cell_type": "code",
   "execution_count": null,
   "id": "cc9d02b6",
   "metadata": {},
   "outputs": [],
   "source": [
    "x <- 42\n",
    "y <- \"R\"\n",
    "z <- \"R é massa\""
   ]
  },
  {
   "cell_type": "markdown",
   "id": "e06550ff",
   "metadata": {},
   "source": [
    "### 7.1 Conferindo o contéudo de um objeto\n",
    "Para conferir o conteúdo de um objeto em R, fazemos uma chamada diretamento pelo nome do objeto de interesse ou através do uso da função _`print()`_"
   ]
  },
  {
   "cell_type": "code",
   "execution_count": null,
   "id": "8badf767",
   "metadata": {},
   "outputs": [],
   "source": [
    "x\n",
    "print(x)\n",
    "cat(y)"
   ]
  },
  {
   "cell_type": "markdown",
   "id": "7ce78d2f",
   "metadata": {},
   "source": [
    "### 7.2 Descobrindo o tipo de dados armazenado em um objeto R\n",
    "Para descobrir o tipo de dados armazenado em um objeto, podemos utilizar a função _`class`_"
   ]
  },
  {
   "cell_type": "code",
   "execution_count": null,
   "id": "28ee1e4b",
   "metadata": {},
   "outputs": [],
   "source": [
    "class(x)\n",
    "class(y)\n",
    "class(z)"
   ]
  },
  {
   "cell_type": "markdown",
   "id": "d24ef17e",
   "metadata": {},
   "source": [
    "## 8 Estrutura de Dados em R\n",
    "### 8.1 Vetores\n",
    "Vetor em R é um objeto R que armazena um ou mais elementos de valores indexados, ou seja, cada elemento dentro do vetor possui uma posição específica. Para criação de um vetor basta colocar os valores dentro de `c()`. Vetor é uma estrutura de dados especialmente importante em análise de dados. A seguir temos um exemplo de como criar um vetor de inteiros."
   ]
  },
  {
   "cell_type": "code",
   "execution_count": null,
   "id": "4fedd6c5",
   "metadata": {},
   "outputs": [],
   "source": [
    "inteiros <- c(42, 33, 0, -1, 5)"
   ]
  },
  {
   "cell_type": "markdown",
   "id": "a0d8cddb",
   "metadata": {},
   "source": [
    "Para acessar o primeiro elemento do vetor `inteiros` usamos o comando _`vetor[x]`_, onde _vetor_ é nome atribuido ao vetor e _x_ é o índice do elemento a ser buscado no vetor. Se quisermos mostrar apenas o elemento de índice 1 do vetor `inteiros`, ou seja o primeiro elemento, basta usar _`inteiros[1]`_"
   ]
  },
  {
   "cell_type": "code",
   "execution_count": null,
   "id": "43cbb782",
   "metadata": {},
   "outputs": [],
   "source": [
    "inteiros[1]"
   ]
  },
  {
   "cell_type": "markdown",
   "id": "cfd6d2f0",
   "metadata": {},
   "source": [
    "### 8.1.2 Substituição de elementos de um vetor"
   ]
  },
  {
   "cell_type": "code",
   "execution_count": null,
   "id": "298bfb6f",
   "metadata": {},
   "outputs": [],
   "source": [
    "inteiros[1] <- 2\n",
    "inteiros"
   ]
  },
  {
   "cell_type": "markdown",
   "id": "ec071739",
   "metadata": {},
   "source": [
    "### 8.1.3 Funções básicas aplicadas a vetores\n",
    "\n",
    "* _`length()`_ Retorna o tamanho de um vetor, ou seja, o núemro de elementos armazenados no vetor."
   ]
  },
  {
   "cell_type": "code",
   "execution_count": null,
   "id": "c7415430",
   "metadata": {},
   "outputs": [],
   "source": [
    "length(inteiros)"
   ]
  },
  {
   "cell_type": "markdown",
   "id": "9eeb44c3",
   "metadata": {},
   "source": [
    "* _`names()`_ Retorna os nomes atribuídos a cada elemento de um vetor"
   ]
  },
  {
   "cell_type": "code",
   "execution_count": null,
   "id": "5e207013",
   "metadata": {},
   "outputs": [],
   "source": [
    "dias_semana <- c(1:7)\n",
    "names(dias_semana)"
   ]
  },
  {
   "cell_type": "code",
   "execution_count": null,
   "id": "9e8e25cd",
   "metadata": {},
   "outputs": [],
   "source": [
    "names(dias_semana) <- c('Domingo', 'Segunda', 'Terça', 'Quarta', 'Quinta', 'Sexta', 'Sábado')"
   ]
  },
  {
   "cell_type": "code",
   "execution_count": null,
   "id": "d11469c1",
   "metadata": {},
   "outputs": [],
   "source": [
    "names(dias_semana)"
   ]
  },
  {
   "cell_type": "markdown",
   "id": "4fb5fcae",
   "metadata": {},
   "source": [
    "* _`attributes()`_ Retorna uma lista com os atributos associados a um vetor."
   ]
  },
  {
   "cell_type": "code",
   "execution_count": null,
   "id": "3d8effbd",
   "metadata": {},
   "outputs": [],
   "source": [
    "attributes(inteiros)\n",
    "attributes(dias_semana)"
   ]
  },
  {
   "cell_type": "markdown",
   "id": "4365f079",
   "metadata": {},
   "source": [
    "* _`seq()`_ Cria uma sequência dentro de um vetor\n"
   ]
  },
  {
   "cell_type": "code",
   "execution_count": null,
   "id": "249cbb31",
   "metadata": {},
   "outputs": [],
   "source": [
    "sequencia <- seq(0, 10, 2)\n",
    "print(sequencia)"
   ]
  },
  {
   "cell_type": "markdown",
   "id": "20cd8276",
   "metadata": {},
   "source": [
    "* _`rep()`_ Cria uma repetição de um vetor"
   ]
  },
  {
   "cell_type": "code",
   "execution_count": null,
   "id": "4dd83fa7",
   "metadata": {},
   "outputs": [],
   "source": [
    "rep(1:4, 3)"
   ]
  },
  {
   "cell_type": "markdown",
   "id": "45347704",
   "metadata": {},
   "source": [
    "### Função `lapply( )` aplicada a vetores\n",
    "A função lapply, parte do pacote base do R, no caso específico de vetores, recebe 2 argumentos como parâmetro: o vetor contendo de dados e uma função a ser aplicada aos elementos do vetor."
   ]
  },
  {
   "cell_type": "code",
   "execution_count": null,
   "id": "a8b85fbb",
   "metadata": {},
   "outputs": [],
   "source": []
  },
  {
   "cell_type": "markdown",
   "id": "5e2b4973",
   "metadata": {},
   "source": [
    "* `mapply()` versão multivariada das funções lapply e sapply, utilizada para iterar entre elementos de vetores ou listas."
   ]
  },
  {
   "cell_type": "code",
   "execution_count": null,
   "id": "d4eb29f8",
   "metadata": {},
   "outputs": [],
   "source": [
    "a <- c(42, 1, 5, 7)\n",
    "b <- c(4, 2, 3, 5)\n",
    "\n",
    "mapply(sum, a, b)"
   ]
  },
  {
   "cell_type": "markdown",
   "id": "e1bfcd57",
   "metadata": {},
   "source": [
    "## Exercício Prático - Vetores e Operadores de Comparação\n",
    "Para este exercício, considere os vetores `temperatura` e `nome_cientifico`. O primeiro vetor possui dados de temperatura média mensal da Estação Manual INMET 82861, localizada no município de Cocneição do Araguaia. O segundo vetor é formado com nomes científicos de árvores inventariadas na Floresta Nacional de Altamira."
   ]
  },
  {
   "cell_type": "code",
   "execution_count": null,
   "id": "1f64eb17",
   "metadata": {},
   "outputs": [],
   "source": [
    "temperatura <- c(26.38452, 26.90357, 27.04064, 27.42467, 28.53548, 28.90000,\n",
    "                 NA, 29.73818, 30.54667, 27.21652, 27.28800, 27.84000)\n",
    "\n",
    "nome_cientifico <- read.csv('C:/Users/67147020278/Documents/Introducao_Analise_Dados_R/data/vetor_nomes_cientificos.csv')"
   ]
  },
  {
   "cell_type": "markdown",
   "id": "b426ef38",
   "metadata": {},
   "source": [
    "**Instrução 1/5**\n",
    "* Obter as temperaturas que estão acima da média do vetor `temperatura`"
   ]
  },
  {
   "cell_type": "code",
   "execution_count": null,
   "id": "c19a9295",
   "metadata": {},
   "outputs": [],
   "source": []
  },
  {
   "cell_type": "markdown",
   "id": "28b6f024",
   "metadata": {},
   "source": [
    "**Instrução 2/5**\n",
    "* Obter as temperaturas que estão abaixo da média do vetor `temperatura`"
   ]
  },
  {
   "cell_type": "code",
   "execution_count": null,
   "id": "3f26d784",
   "metadata": {},
   "outputs": [],
   "source": []
  },
  {
   "cell_type": "markdown",
   "id": "0a9c81cb",
   "metadata": {},
   "source": [
    "**Instrução 3/5**\n",
    "* Contar quantas árvores da espécie `Parkia gigantocarpa` ocorrem na área do inventaário florestal."
   ]
  },
  {
   "cell_type": "code",
   "execution_count": null,
   "id": "a5e4da21",
   "metadata": {},
   "outputs": [],
   "source": []
  },
  {
   "cell_type": "markdown",
   "id": "1c1ff4de",
   "metadata": {},
   "source": [
    "**Instrução 4/5**\n",
    "* Mostre onde os valores do vetor de temperaturas não apresenta `NA`"
   ]
  },
  {
   "cell_type": "code",
   "execution_count": null,
   "id": "dbf51a18",
   "metadata": {},
   "outputs": [],
   "source": []
  },
  {
   "cell_type": "markdown",
   "id": "b7fa6de3",
   "metadata": {},
   "source": [
    "**Instrução5/5**\n",
    "* Mostre onde os valores do vetor de temperaturas apresenta `NA`"
   ]
  },
  {
   "cell_type": "code",
   "execution_count": null,
   "id": "ac4eeea8",
   "metadata": {},
   "outputs": [],
   "source": []
  },
  {
   "cell_type": "markdown",
   "id": "ff279966",
   "metadata": {},
   "source": [
    "### 8.1.4 Funções Estatísticas Aplicadas a Vetores"
   ]
  },
  {
   "cell_type": "markdown",
   "id": "b06ae377",
   "metadata": {},
   "source": [
    "* _`mean()`_ Retorna a média aritmética de um vetor\n",
    "* _`median()`_ Retorna a mediana de um vetor\n",
    "* _`min()`_ Retorna o menor valor dentre os elementos de um vetor\n",
    "* _`max()`_ Retorna o maior valor dentre os elementos de um vetor\n",
    "* _`sd()`_ Retorna o desvio padrão de um vetor"
   ]
  },
  {
   "cell_type": "markdown",
   "id": "8cfab8d8",
   "metadata": {},
   "source": [
    "### 8.1.5 Testes Lógicos com Vetores\n",
    "* _`any()`_ Testa se algum elemento do vetor atende a uma condição específica\n",
    "\n",
    "**Exemplo**: Dado o vetor de nome `dap`, o qual armaneza dados de mensuração de diâmetro de milhares de árvores na Floresta Nacional de Altamira, teste se algum elemento é menor ou igual a 40."
   ]
  },
  {
   "cell_type": "code",
   "execution_count": null,
   "id": "3666ccc0",
   "metadata": {},
   "outputs": [],
   "source": [
    "dap <- inventario$DAP_cm"
   ]
  },
  {
   "cell_type": "code",
   "execution_count": null,
   "id": "eb90010e",
   "metadata": {},
   "outputs": [],
   "source": [
    "any(dap >= 40)"
   ]
  },
  {
   "cell_type": "markdown",
   "id": "f67a598c",
   "metadata": {},
   "source": [
    "* _`all()`_ Testa se todos os elementos de um vetor atendem a uma condição.\n",
    "\n",
    "**Exemplo:** Dado o vetor de nome `dap`, testar se alguma elemento é menor do que 0:"
   ]
  },
  {
   "cell_type": "code",
   "execution_count": null,
   "id": "975cdf7c",
   "metadata": {},
   "outputs": [],
   "source": [
    "all(dap < 0)"
   ]
  },
  {
   "cell_type": "markdown",
   "id": "d1a270c8",
   "metadata": {},
   "source": [
    "## Exercício Prático - Índice de Vetor"
   ]
  },
  {
   "cell_type": "markdown",
   "id": "302d63b9",
   "metadata": {},
   "source": [
    "Considerando o vetor de nome `dap`, o qual armaneza dados de mensuração de diâmetro de milhares de árvores na Floresta Nacional de Altamira, mostre: \n",
    "\n",
    "**Instrução 1/3**\n",
    "* **Apenas** os dados do penúltimo elemento desse vetor (127.32)."
   ]
  },
  {
   "cell_type": "code",
   "execution_count": null,
   "id": "1073d3aa",
   "metadata": {},
   "outputs": [],
   "source": []
  },
  {
   "cell_type": "markdown",
   "id": "1b5973f1",
   "metadata": {},
   "source": [
    "**Instrução 2/3**\n",
    "* O diâmetro mínimo de medição"
   ]
  },
  {
   "cell_type": "code",
   "execution_count": null,
   "id": "d6a8b52c",
   "metadata": {},
   "outputs": [],
   "source": []
  },
  {
   "cell_type": "markdown",
   "id": "4f074428",
   "metadata": {},
   "source": [
    "**Instrução 3/3**\n",
    "* O diâmetro médio mensurado"
   ]
  },
  {
   "cell_type": "code",
   "execution_count": null,
   "id": "198808b3",
   "metadata": {},
   "outputs": [],
   "source": []
  },
  {
   "cell_type": "markdown",
   "id": "31f9a99e",
   "metadata": {},
   "source": [
    "### 8.2 Matriz"
   ]
  },
  {
   "cell_type": "code",
   "execution_count": null,
   "id": "a31269bf",
   "metadata": {},
   "outputs": [],
   "source": [
    "matriz = matrix(1:6, nrow = 3, byrow = TRUE)\n",
    "matriz"
   ]
  },
  {
   "cell_type": "markdown",
   "id": "402829d5",
   "metadata": {},
   "source": [
    "A função `apply`, parte do pacote `base` do R, recebe 3 argumentos como parâmetro: a matriz ou _data frame_ contendo os dados, a indicação do sentido de aplicação da função, representado pelos números 1 (linha) ou 2 (coluna) e a função a ser aplicada."
   ]
  },
  {
   "cell_type": "markdown",
   "id": "f66936a0",
   "metadata": {},
   "source": [
    "Somar as linhas de uma matriz:"
   ]
  },
  {
   "cell_type": "code",
   "execution_count": null,
   "id": "f85413c8",
   "metadata": {},
   "outputs": [],
   "source": [
    "apply(matriz, 1, sum)"
   ]
  },
  {
   "cell_type": "markdown",
   "id": "0d2c11d6",
   "metadata": {},
   "source": [
    "Somar os valores das colunas de uma matriz:"
   ]
  },
  {
   "cell_type": "code",
   "execution_count": null,
   "id": "0c4225d7",
   "metadata": {},
   "outputs": [],
   "source": [
    "apply(matriz, 2, sum)"
   ]
  },
  {
   "cell_type": "markdown",
   "id": "db90ad74",
   "metadata": {},
   "source": [
    "### 8.3 Listas"
   ]
  },
  {
   "cell_type": "code",
   "execution_count": null,
   "id": "70fc76c6",
   "metadata": {},
   "outputs": [],
   "source": [
    "lista <- list(inventario$Vol, inventario$g)\n",
    "lista2 <- list(fi$Vol, fi$g, fi$Nome_Cientifico)"
   ]
  },
  {
   "cell_type": "markdown",
   "id": "3334fd7e",
   "metadata": {},
   "source": [
    "### 8.3.1 Funções lapply e sapply\n",
    "As funções `lapply` e `sapply` são uma variação da função `apply` para iterar sobre aos elementos de uma lista. Esta funções diferem somente na forma como os resultados são mostrados na tela. Para a função `lapply` a saída é na forma de lista, enquanto `sapply` apresenta uma saída vetorial."
   ]
  },
  {
   "cell_type": "code",
   "execution_count": null,
   "id": "a840773d",
   "metadata": {},
   "outputs": [],
   "source": [
    "lapply(lista, mean)"
   ]
  },
  {
   "cell_type": "code",
   "execution_count": null,
   "id": "539e160f",
   "metadata": {},
   "outputs": [],
   "source": [
    "sapply(lista, mean)"
   ]
  },
  {
   "cell_type": "markdown",
   "id": "8c627171",
   "metadata": {},
   "source": [
    "### Exercío Prático - Listas\n",
    "**Instrução**\n",
    "* Obter a médias dos vetores numéricos da `lista2`"
   ]
  },
  {
   "cell_type": "code",
   "execution_count": null,
   "id": "f6fd010b",
   "metadata": {},
   "outputs": [],
   "source": []
  },
  {
   "cell_type": "markdown",
   "id": "e72a31b9",
   "metadata": {},
   "source": [
    "### 8.4 Fatores\n",
    "<p style=\"text-align:justify;\">Em R as variáveis categóricas são classificadas e ordenadas através da função <mark style=\"background-color:lightgrey\">factor( )</mark>. o vetor contém dados da variável categórica sexo.</p> "
   ]
  },
  {
   "cell_type": "code",
   "execution_count": 2,
   "id": "c8609fa0",
   "metadata": {},
   "outputs": [],
   "source": [
    "sexo <- c(\"macho\", \"femea\", \"femea\", \"macho\", \"macho\", \"macho\", \"femea\", \"macho\")"
   ]
  },
  {
   "cell_type": "markdown",
   "id": "b6017e48",
   "metadata": {},
   "source": [
    "<p style=\"text-align:justify;\">O trecho de código a seguir mostra a estrutura do vetor <mark style=\"background-color:lightgrey\">sexo</mark>, obtida através da função <mark style=\"background-color:lightgrey\">str( )</mark>, o retorno desta função nos diz que o tipo de vetor em questão é caracteres e possui oito elementos.</p>\n",
    "<p style=\"text-align:justify;\">A função <mark style=\"background-color:lightgrey\">levels( )</mark> é utilizada para inspecionar os níveis de um fator, como nosso vetor não foi definido como fator retorna <mark style=\"background-color:lightgrey\">NULL,</mark>.</p>"
   ]
  },
  {
   "cell_type": "code",
   "execution_count": 3,
   "id": "ee34e078",
   "metadata": {},
   "outputs": [
    {
     "name": "stdout",
     "output_type": "stream",
     "text": [
      " chr [1:8] \"macho\" \"femea\" \"femea\" \"macho\" \"macho\" \"macho\" \"femea\" \"macho\"\n"
     ]
    },
    {
     "data": {
      "text/plain": [
       "NULL"
      ]
     },
     "metadata": {},
     "output_type": "display_data"
    }
   ],
   "source": [
    "str(sexo)\n",
    "levels(sexo)"
   ]
  },
  {
   "cell_type": "markdown",
   "id": "a742cc90",
   "metadata": {},
   "source": [
    "<p style=\"text-align:justify;\">Outra forma de verificar se um vetor de variáveis categóricas possui fatores é através da função <mark style=\"background-color:lightgrey\">is.factor( )</mark>. Esta função retorna TRUE em caso do vetor possuir fatores definidos, caso contrário retorna FALSE.</p>"
   ]
  },
  {
   "cell_type": "code",
   "execution_count": 5,
   "id": "7a143bd7",
   "metadata": {},
   "outputs": [
    {
     "data": {
      "text/html": [
       "FALSE"
      ],
      "text/latex": [
       "FALSE"
      ],
      "text/markdown": [
       "FALSE"
      ],
      "text/plain": [
       "[1] FALSE"
      ]
     },
     "metadata": {},
     "output_type": "display_data"
    }
   ],
   "source": [
    "is.factor(sexo)"
   ]
  },
  {
   "cell_type": "markdown",
   "id": "a88b26d1",
   "metadata": {},
   "source": [
    "A seguir definimos o vetor sexo como fator"
   ]
  },
  {
   "cell_type": "code",
   "execution_count": 6,
   "id": "5b0904b5",
   "metadata": {},
   "outputs": [
    {
     "name": "stdout",
     "output_type": "stream",
     "text": [
      " Factor w/ 2 levels \"macho\",\"femea\": 1 2 2 1 1 1 2 1\n"
     ]
    },
    {
     "data": {
      "text/html": [
       "<style>\n",
       ".list-inline {list-style: none; margin:0; padding: 0}\n",
       ".list-inline>li {display: inline-block}\n",
       ".list-inline>li:not(:last-child)::after {content: \"\\00b7\"; padding: 0 .5ex}\n",
       "</style>\n",
       "<ol class=list-inline><li>'macho'</li><li>'femea'</li></ol>\n"
      ],
      "text/latex": [
       "\\begin{enumerate*}\n",
       "\\item 'macho'\n",
       "\\item 'femea'\n",
       "\\end{enumerate*}\n"
      ],
      "text/markdown": [
       "1. 'macho'\n",
       "2. 'femea'\n",
       "\n",
       "\n"
      ],
      "text/plain": [
       "[1] \"macho\" \"femea\""
      ]
     },
     "metadata": {},
     "output_type": "display_data"
    }
   ],
   "source": [
    "sexo_fator <- factor(sexo, levels = c(\"macho\", \"femea\"))\n",
    "str(sexo_fator)\n",
    "levels(sexo_fator)"
   ]
  },
  {
   "cell_type": "markdown",
   "id": "e4b0323e",
   "metadata": {},
   "source": [
    "O código abaixo mostra como atribuir rótulos ao níveis do fatores:"
   ]
  },
  {
   "cell_type": "code",
   "execution_count": 8,
   "id": "f9dea4e4",
   "metadata": {},
   "outputs": [
    {
     "name": "stdout",
     "output_type": "stream",
     "text": [
      " Factor w/ 2 levels \"M\",\"F\": 1 2 2 1 1 1 2 1\n"
     ]
    },
    {
     "data": {
      "text/html": [
       "<style>\n",
       ".list-inline {list-style: none; margin:0; padding: 0}\n",
       ".list-inline>li {display: inline-block}\n",
       ".list-inline>li:not(:last-child)::after {content: \"\\00b7\"; padding: 0 .5ex}\n",
       "</style>\n",
       "<ol class=list-inline><li>'M'</li><li>'F'</li></ol>\n"
      ],
      "text/latex": [
       "\\begin{enumerate*}\n",
       "\\item 'M'\n",
       "\\item 'F'\n",
       "\\end{enumerate*}\n"
      ],
      "text/markdown": [
       "1. 'M'\n",
       "2. 'F'\n",
       "\n",
       "\n"
      ],
      "text/plain": [
       "[1] \"M\" \"F\""
      ]
     },
     "metadata": {},
     "output_type": "display_data"
    }
   ],
   "source": [
    "sexo_fator <- factor(sexo, levels = c(\"macho\", \"femea\"), labels = c(\"M\", \"F\"))\n",
    "str(sexo_fator)\n",
    "levels(sexo_fator)"
   ]
  },
  {
   "cell_type": "markdown",
   "id": "633c476d",
   "metadata": {},
   "source": [
    "### 8.5 Data Frames"
   ]
  },
  {
   "cell_type": "markdown",
   "id": "62a85bbb",
   "metadata": {},
   "source": [
    "<p style=\"text-align:justify\">O trecho de código a seguir faz a leitura de uma planilha em formato .csv, a qual é atribuída ao objeto R denominado <mark style=\"background-color:lightgrey\">inventario</mark>, o qual após leitura dos dados passa a ser um dataframe, pois as colunas da planilha são importadas como vetores. Assim, podemos definir dataframe como um conjunto de vetores, mas pode também armazenar listas.</p>"
   ]
  },
  {
   "cell_type": "code",
   "execution_count": 9,
   "id": "97e925c7",
   "metadata": {},
   "outputs": [],
   "source": [
    "# Lê uma planilha csv com dados de inventário florestal\n",
    "inventario <- read.csv2('./data/UMF_IV_UPA_4F_SINAFLOR_03.csv',\n",
    "                encoding = 'latin1')"
   ]
  },
  {
   "cell_type": "markdown",
   "id": "8af48524",
   "metadata": {},
   "source": [
    "<p style=\"text-align:justify\">A seguir usamos a função <mark style=\"background-color:lightgrey\">head( )</mark> para mostrar as linhas iniciais do dataframe<mark style=\"background-color:lightgrey\">inventario</mark>. Por padrão esta função mostra apenas as seis primeiras linhas do dataframe, caso queiramos ler as dez primeiras linhas, devemos especificar este número após o nome do dataframe: <mark style=\"background-color:lightgrey\">head(inventario, 10)</mark></p> "
   ]
  },
  {
   "cell_type": "code",
   "execution_count": 10,
   "id": "509c09d4",
   "metadata": {},
   "outputs": [
    {
     "data": {
      "text/html": [
       "<table class=\"dataframe\">\n",
       "<caption>A data.frame: 6 × 13</caption>\n",
       "<thead>\n",
       "\t<tr><th></th><th scope=col>N_arv</th><th scope=col>UPA</th><th scope=col>UT</th><th scope=col>Nome_Cientifico</th><th scope=col>Nome_Popular</th><th scope=col>DAP_cm</th><th scope=col>Alt</th><th scope=col>Categoria</th><th scope=col>QF</th><th scope=col>Vol</th><th scope=col>g</th><th scope=col>lat</th><th scope=col>lon</th></tr>\n",
       "\t<tr><th></th><th scope=col>&lt;int&gt;</th><th scope=col>&lt;int&gt;</th><th scope=col>&lt;int&gt;</th><th scope=col>&lt;chr&gt;</th><th scope=col>&lt;chr&gt;</th><th scope=col>&lt;dbl&gt;</th><th scope=col>&lt;int&gt;</th><th scope=col>&lt;chr&gt;</th><th scope=col>&lt;int&gt;</th><th scope=col>&lt;dbl&gt;</th><th scope=col>&lt;dbl&gt;</th><th scope=col>&lt;dbl&gt;</th><th scope=col>&lt;dbl&gt;</th></tr>\n",
       "</thead>\n",
       "<tbody>\n",
       "\t<tr><th scope=row>1</th><td>10001</td><td>6</td><td>1</td><td>Parkia gigantocarpa</td><td>Fava-atanã</td><td>114.59</td><td>19</td><td>Remanescente</td><td>1</td><td>12.4891</td><td>1.0313</td><td>-5.907904</td><td>-54.96910</td></tr>\n",
       "\t<tr><th scope=row>2</th><td>10002</td><td>6</td><td>1</td><td>Bagassa guianensis </td><td>Tatajuba  </td><td> 67.48</td><td>17</td><td>Remanescente</td><td>1</td><td> 4.3893</td><td>0.3577</td><td>-5.907938</td><td>-54.96912</td></tr>\n",
       "\t<tr><th scope=row>3</th><td>10003</td><td>6</td><td>1</td><td>Castilla ulei      </td><td>Caucho    </td><td> 52.52</td><td>11</td><td>Explorar    </td><td>1</td><td> 1.8263</td><td>0.2166</td><td>-5.907999</td><td>-54.96991</td></tr>\n",
       "\t<tr><th scope=row>4</th><td>10004</td><td>6</td><td>1</td><td>Castilla ulei      </td><td>Caucho    </td><td> 40.74</td><td>13</td><td>Remanescente</td><td>1</td><td> 1.1068</td><td>0.1304</td><td>-5.906353</td><td>-54.96999</td></tr>\n",
       "\t<tr><th scope=row>5</th><td>10005</td><td>6</td><td>1</td><td>Vochysia maxima    </td><td>Quaruba   </td><td> 47.75</td><td>15</td><td>Remanescente</td><td>2</td><td> 1.8325</td><td>0.1790</td><td>-5.906086</td><td>-54.97024</td></tr>\n",
       "\t<tr><th scope=row>6</th><td>10006</td><td>6</td><td>1</td><td>Copaifera duckei   </td><td>Copaíba   </td><td> 43.93</td><td>18</td><td>Remanescente</td><td>1</td><td> 1.7038</td><td>0.1515</td><td>-5.905871</td><td>-54.97024</td></tr>\n",
       "</tbody>\n",
       "</table>\n"
      ],
      "text/latex": [
       "A data.frame: 6 × 13\n",
       "\\begin{tabular}{r|lllllllllllll}\n",
       "  & N\\_arv & UPA & UT & Nome\\_Cientifico & Nome\\_Popular & DAP\\_cm & Alt & Categoria & QF & Vol & g & lat & lon\\\\\n",
       "  & <int> & <int> & <int> & <chr> & <chr> & <dbl> & <int> & <chr> & <int> & <dbl> & <dbl> & <dbl> & <dbl>\\\\\n",
       "\\hline\n",
       "\t1 & 10001 & 6 & 1 & Parkia gigantocarpa & Fava-atanã & 114.59 & 19 & Remanescente & 1 & 12.4891 & 1.0313 & -5.907904 & -54.96910\\\\\n",
       "\t2 & 10002 & 6 & 1 & Bagassa guianensis  & Tatajuba   &  67.48 & 17 & Remanescente & 1 &  4.3893 & 0.3577 & -5.907938 & -54.96912\\\\\n",
       "\t3 & 10003 & 6 & 1 & Castilla ulei       & Caucho     &  52.52 & 11 & Explorar     & 1 &  1.8263 & 0.2166 & -5.907999 & -54.96991\\\\\n",
       "\t4 & 10004 & 6 & 1 & Castilla ulei       & Caucho     &  40.74 & 13 & Remanescente & 1 &  1.1068 & 0.1304 & -5.906353 & -54.96999\\\\\n",
       "\t5 & 10005 & 6 & 1 & Vochysia maxima     & Quaruba    &  47.75 & 15 & Remanescente & 2 &  1.8325 & 0.1790 & -5.906086 & -54.97024\\\\\n",
       "\t6 & 10006 & 6 & 1 & Copaifera duckei    & Copaíba    &  43.93 & 18 & Remanescente & 1 &  1.7038 & 0.1515 & -5.905871 & -54.97024\\\\\n",
       "\\end{tabular}\n"
      ],
      "text/markdown": [
       "\n",
       "A data.frame: 6 × 13\n",
       "\n",
       "| <!--/--> | N_arv &lt;int&gt; | UPA &lt;int&gt; | UT &lt;int&gt; | Nome_Cientifico &lt;chr&gt; | Nome_Popular &lt;chr&gt; | DAP_cm &lt;dbl&gt; | Alt &lt;int&gt; | Categoria &lt;chr&gt; | QF &lt;int&gt; | Vol &lt;dbl&gt; | g &lt;dbl&gt; | lat &lt;dbl&gt; | lon &lt;dbl&gt; |\n",
       "|---|---|---|---|---|---|---|---|---|---|---|---|---|---|\n",
       "| 1 | 10001 | 6 | 1 | Parkia gigantocarpa | Fava-atanã | 114.59 | 19 | Remanescente | 1 | 12.4891 | 1.0313 | -5.907904 | -54.96910 |\n",
       "| 2 | 10002 | 6 | 1 | Bagassa guianensis  | Tatajuba   |  67.48 | 17 | Remanescente | 1 |  4.3893 | 0.3577 | -5.907938 | -54.96912 |\n",
       "| 3 | 10003 | 6 | 1 | Castilla ulei       | Caucho     |  52.52 | 11 | Explorar     | 1 |  1.8263 | 0.2166 | -5.907999 | -54.96991 |\n",
       "| 4 | 10004 | 6 | 1 | Castilla ulei       | Caucho     |  40.74 | 13 | Remanescente | 1 |  1.1068 | 0.1304 | -5.906353 | -54.96999 |\n",
       "| 5 | 10005 | 6 | 1 | Vochysia maxima     | Quaruba    |  47.75 | 15 | Remanescente | 2 |  1.8325 | 0.1790 | -5.906086 | -54.97024 |\n",
       "| 6 | 10006 | 6 | 1 | Copaifera duckei    | Copaíba    |  43.93 | 18 | Remanescente | 1 |  1.7038 | 0.1515 | -5.905871 | -54.97024 |\n",
       "\n"
      ],
      "text/plain": [
       "  N_arv UPA UT Nome_Cientifico     Nome_Popular DAP_cm Alt Categoria    QF\n",
       "1 10001 6   1  Parkia gigantocarpa Fava-atanã   114.59 19  Remanescente 1 \n",
       "2 10002 6   1  Bagassa guianensis  Tatajuba      67.48 17  Remanescente 1 \n",
       "3 10003 6   1  Castilla ulei       Caucho        52.52 11  Explorar     1 \n",
       "4 10004 6   1  Castilla ulei       Caucho        40.74 13  Remanescente 1 \n",
       "5 10005 6   1  Vochysia maxima     Quaruba       47.75 15  Remanescente 2 \n",
       "6 10006 6   1  Copaifera duckei    Copaíba       43.93 18  Remanescente 1 \n",
       "  Vol     g      lat       lon      \n",
       "1 12.4891 1.0313 -5.907904 -54.96910\n",
       "2  4.3893 0.3577 -5.907938 -54.96912\n",
       "3  1.8263 0.2166 -5.907999 -54.96991\n",
       "4  1.1068 0.1304 -5.906353 -54.96999\n",
       "5  1.8325 0.1790 -5.906086 -54.97024\n",
       "6  1.7038 0.1515 -5.905871 -54.97024"
      ]
     },
     "metadata": {},
     "output_type": "display_data"
    }
   ],
   "source": [
    "head(inventario)"
   ]
  },
  {
   "cell_type": "markdown",
   "id": "fe0e9e37",
   "metadata": {},
   "source": [
    "<p style=\"text-align:justify\">A seguir usamos a função <mark style=\"background-color:lightgrey\">tail( )</mark> para mostrar as últimas linhas do dataframe<mark style=\"background-color:lightgrey\">inventario</mark>. Por padrão esta função mostra apenas as seis últimas linhas do dataframe, caso queiramos ler as dez últimas linhas, devemos especificar este número após o nome do dataframe: <mark style=\"background-color:lightgrey\">tail(inventario, 10)</mark></p> "
   ]
  },
  {
   "cell_type": "code",
   "execution_count": 11,
   "id": "04b2debd",
   "metadata": {},
   "outputs": [
    {
     "data": {
      "text/html": [
       "<table class=\"dataframe\">\n",
       "<caption>A data.frame: 6 × 13</caption>\n",
       "<thead>\n",
       "\t<tr><th></th><th scope=col>N_arv</th><th scope=col>UPA</th><th scope=col>UT</th><th scope=col>Nome_Cientifico</th><th scope=col>Nome_Popular</th><th scope=col>DAP_cm</th><th scope=col>Alt</th><th scope=col>Categoria</th><th scope=col>QF</th><th scope=col>Vol</th><th scope=col>g</th><th scope=col>lat</th><th scope=col>lon</th></tr>\n",
       "\t<tr><th></th><th scope=col>&lt;int&gt;</th><th scope=col>&lt;int&gt;</th><th scope=col>&lt;int&gt;</th><th scope=col>&lt;chr&gt;</th><th scope=col>&lt;chr&gt;</th><th scope=col>&lt;dbl&gt;</th><th scope=col>&lt;int&gt;</th><th scope=col>&lt;chr&gt;</th><th scope=col>&lt;int&gt;</th><th scope=col>&lt;dbl&gt;</th><th scope=col>&lt;dbl&gt;</th><th scope=col>&lt;dbl&gt;</th><th scope=col>&lt;dbl&gt;</th></tr>\n",
       "</thead>\n",
       "<tbody>\n",
       "\t<tr><th scope=row>18583</th><td>290695</td><td>6</td><td>29</td><td>Parkia multijuga    </td><td>Fava-benguê</td><td> 52.52</td><td>15</td><td>Remanescente</td><td>2</td><td> 2.3001</td><td>0.2166</td><td>-5.853998</td><td>-54.97232</td></tr>\n",
       "\t<tr><th scope=row>18584</th><td>290696</td><td>6</td><td>29</td><td>Couratari guianensis</td><td>Tauari     </td><td> 92.95</td><td>24</td><td>Explorar    </td><td>1</td><td>10.4347</td><td>0.6785</td><td>-5.853668</td><td>-54.97245</td></tr>\n",
       "\t<tr><th scope=row>18585</th><td>290697</td><td>6</td><td>29</td><td>Vochysia maxima     </td><td>Quaruba    </td><td>112.68</td><td>20</td><td>Remanescente</td><td>2</td><td>12.6251</td><td>0.9972</td><td>-5.853556</td><td>-54.97230</td></tr>\n",
       "\t<tr><th scope=row>18586</th><td>290698</td><td>6</td><td>29</td><td>Hymenaea parvifolia </td><td>Jutaí-mirim</td><td> 66.53</td><td>18</td><td>Remanescente</td><td>2</td><td> 4.4416</td><td>0.3476</td><td>-5.853985</td><td>-54.96238</td></tr>\n",
       "\t<tr><th scope=row>18587</th><td>290699</td><td>6</td><td>29</td><td>Vochysia maxima     </td><td>Quaruba    </td><td>127.32</td><td>19</td><td>Explorar    </td><td>1</td><td>14.6343</td><td>1.2732</td><td>-5.854445</td><td>-54.96315</td></tr>\n",
       "\t<tr><th scope=row>18588</th><td>290700</td><td>6</td><td>29</td><td>Vochysia maxima     </td><td>Quaruba    </td><td> 54.75</td><td>17</td><td>Remanescente</td><td>2</td><td> 2.7760</td><td>0.2354</td><td>-5.854735</td><td>-54.96475</td></tr>\n",
       "</tbody>\n",
       "</table>\n"
      ],
      "text/latex": [
       "A data.frame: 6 × 13\n",
       "\\begin{tabular}{r|lllllllllllll}\n",
       "  & N\\_arv & UPA & UT & Nome\\_Cientifico & Nome\\_Popular & DAP\\_cm & Alt & Categoria & QF & Vol & g & lat & lon\\\\\n",
       "  & <int> & <int> & <int> & <chr> & <chr> & <dbl> & <int> & <chr> & <int> & <dbl> & <dbl> & <dbl> & <dbl>\\\\\n",
       "\\hline\n",
       "\t18583 & 290695 & 6 & 29 & Parkia multijuga     & Fava-benguê &  52.52 & 15 & Remanescente & 2 &  2.3001 & 0.2166 & -5.853998 & -54.97232\\\\\n",
       "\t18584 & 290696 & 6 & 29 & Couratari guianensis & Tauari      &  92.95 & 24 & Explorar     & 1 & 10.4347 & 0.6785 & -5.853668 & -54.97245\\\\\n",
       "\t18585 & 290697 & 6 & 29 & Vochysia maxima      & Quaruba     & 112.68 & 20 & Remanescente & 2 & 12.6251 & 0.9972 & -5.853556 & -54.97230\\\\\n",
       "\t18586 & 290698 & 6 & 29 & Hymenaea parvifolia  & Jutaí-mirim &  66.53 & 18 & Remanescente & 2 &  4.4416 & 0.3476 & -5.853985 & -54.96238\\\\\n",
       "\t18587 & 290699 & 6 & 29 & Vochysia maxima      & Quaruba     & 127.32 & 19 & Explorar     & 1 & 14.6343 & 1.2732 & -5.854445 & -54.96315\\\\\n",
       "\t18588 & 290700 & 6 & 29 & Vochysia maxima      & Quaruba     &  54.75 & 17 & Remanescente & 2 &  2.7760 & 0.2354 & -5.854735 & -54.96475\\\\\n",
       "\\end{tabular}\n"
      ],
      "text/markdown": [
       "\n",
       "A data.frame: 6 × 13\n",
       "\n",
       "| <!--/--> | N_arv &lt;int&gt; | UPA &lt;int&gt; | UT &lt;int&gt; | Nome_Cientifico &lt;chr&gt; | Nome_Popular &lt;chr&gt; | DAP_cm &lt;dbl&gt; | Alt &lt;int&gt; | Categoria &lt;chr&gt; | QF &lt;int&gt; | Vol &lt;dbl&gt; | g &lt;dbl&gt; | lat &lt;dbl&gt; | lon &lt;dbl&gt; |\n",
       "|---|---|---|---|---|---|---|---|---|---|---|---|---|---|\n",
       "| 18583 | 290695 | 6 | 29 | Parkia multijuga     | Fava-benguê |  52.52 | 15 | Remanescente | 2 |  2.3001 | 0.2166 | -5.853998 | -54.97232 |\n",
       "| 18584 | 290696 | 6 | 29 | Couratari guianensis | Tauari      |  92.95 | 24 | Explorar     | 1 | 10.4347 | 0.6785 | -5.853668 | -54.97245 |\n",
       "| 18585 | 290697 | 6 | 29 | Vochysia maxima      | Quaruba     | 112.68 | 20 | Remanescente | 2 | 12.6251 | 0.9972 | -5.853556 | -54.97230 |\n",
       "| 18586 | 290698 | 6 | 29 | Hymenaea parvifolia  | Jutaí-mirim |  66.53 | 18 | Remanescente | 2 |  4.4416 | 0.3476 | -5.853985 | -54.96238 |\n",
       "| 18587 | 290699 | 6 | 29 | Vochysia maxima      | Quaruba     | 127.32 | 19 | Explorar     | 1 | 14.6343 | 1.2732 | -5.854445 | -54.96315 |\n",
       "| 18588 | 290700 | 6 | 29 | Vochysia maxima      | Quaruba     |  54.75 | 17 | Remanescente | 2 |  2.7760 | 0.2354 | -5.854735 | -54.96475 |\n",
       "\n"
      ],
      "text/plain": [
       "      N_arv  UPA UT Nome_Cientifico      Nome_Popular DAP_cm Alt Categoria   \n",
       "18583 290695 6   29 Parkia multijuga     Fava-benguê   52.52 15  Remanescente\n",
       "18584 290696 6   29 Couratari guianensis Tauari        92.95 24  Explorar    \n",
       "18585 290697 6   29 Vochysia maxima      Quaruba      112.68 20  Remanescente\n",
       "18586 290698 6   29 Hymenaea parvifolia  Jutaí-mirim   66.53 18  Remanescente\n",
       "18587 290699 6   29 Vochysia maxima      Quaruba      127.32 19  Explorar    \n",
       "18588 290700 6   29 Vochysia maxima      Quaruba       54.75 17  Remanescente\n",
       "      QF Vol     g      lat       lon      \n",
       "18583 2   2.3001 0.2166 -5.853998 -54.97232\n",
       "18584 1  10.4347 0.6785 -5.853668 -54.97245\n",
       "18585 2  12.6251 0.9972 -5.853556 -54.97230\n",
       "18586 2   4.4416 0.3476 -5.853985 -54.96238\n",
       "18587 1  14.6343 1.2732 -5.854445 -54.96315\n",
       "18588 2   2.7760 0.2354 -5.854735 -54.96475"
      ]
     },
     "metadata": {},
     "output_type": "display_data"
    }
   ],
   "source": [
    "tail(inventario)"
   ]
  },
  {
   "cell_type": "markdown",
   "id": "e537ef0a",
   "metadata": {},
   "source": [
    "* Função _`tapply()`_: Aplica uma função sobre um vetor com agrupamento em outro vetor categórico. Recebe como parâmetros: um vetor numérico, um vetor categórico e uma função.\n",
    "O código a seguir aplica a função média sobre o vetor `volume` agrupado ao vetor `ut` (unidades de trabalho)"
   ]
  },
  {
   "cell_type": "code",
   "execution_count": 39,
   "id": "943f8d8b",
   "metadata": {},
   "outputs": [
    {
     "data": {
      "text/html": [
       "<style>\n",
       ".dl-inline {width: auto; margin:0; padding: 0}\n",
       ".dl-inline>dt, .dl-inline>dd {float: none; width: auto; display: inline-block}\n",
       ".dl-inline>dt::after {content: \":\\0020\"; padding-right: .5ex}\n",
       ".dl-inline>dt:not(:first-of-type) {padding-left: .5ex}\n",
       "</style><dl class=dl-inline><dt>Explorar</dt><dd>6.35797304464177</dd><dt>Remanescente</dt><dd>4.95961039151529</dd><dt>Substituta</dt><dd>5.13839102393617</dd></dl>\n"
      ],
      "text/latex": [
       "\\begin{description*}\n",
       "\\item[Explorar] 6.35797304464177\n",
       "\\item[Remanescente] 4.95961039151529\n",
       "\\item[Substituta] 5.13839102393617\n",
       "\\end{description*}\n"
      ],
      "text/markdown": [
       "Explorar\n",
       ":   6.35797304464177Remanescente\n",
       ":   4.95961039151529Substituta\n",
       ":   5.13839102393617\n",
       "\n"
      ],
      "text/plain": [
       "    Explorar Remanescente   Substituta \n",
       "    6.357973     4.959610     5.138391 "
      ]
     },
     "metadata": {},
     "output_type": "display_data"
    }
   ],
   "source": [
    "# Calcular o volume médio por unidade de trabalho\n",
    "tapply(inventario$Vol, inventario$Categoria, mean)"
   ]
  },
  {
   "cell_type": "markdown",
   "id": "e4dcfc11",
   "metadata": {},
   "source": [
    "## 9 Funções em R\n",
    "<p style=\"text-align:justify;\">A definição de uma função em R segue a seguinte sintaxe:"
   ]
  },
  {
   "cell_type": "code",
   "execution_count": 29,
   "id": "ab89ffd3",
   "metadata": {},
   "outputs": [],
   "source": [
    "nome_da_função <- function (parâmetros) {\n",
    "    return() \n",
    "}"
   ]
  },
  {
   "cell_type": "markdown",
   "id": "c6d1e5a7",
   "metadata": {},
   "source": [
    "A função definida a seguir, denominada como `duplicar_valor`, recebe como parâmetro um valor `x`, definido por padrão como 2, e retorna o quadrado deste valor."
   ]
  },
  {
   "cell_type": "code",
   "execution_count": 30,
   "id": "39977dcc",
   "metadata": {},
   "outputs": [],
   "source": [
    "duplicar_valor <- function(x = 2) {\n",
    "        return(x ^ 2)\n",
    "}"
   ]
  },
  {
   "cell_type": "markdown",
   "id": "145c9084",
   "metadata": {},
   "source": [
    "Após a criação da função devemos invocá-la fornecendo o valor de seu parâmetro para recebermos seu retorno."
   ]
  },
  {
   "cell_type": "code",
   "execution_count": 31,
   "id": "cdd7afa2",
   "metadata": {},
   "outputs": [
    {
     "data": {
      "text/html": [
       "4"
      ],
      "text/latex": [
       "4"
      ],
      "text/markdown": [
       "4"
      ],
      "text/plain": [
       "[1] 4"
      ]
     },
     "metadata": {},
     "output_type": "display_data"
    }
   ],
   "source": [
    "duplicar_valor()"
   ]
  },
  {
   "cell_type": "code",
   "execution_count": 32,
   "id": "4a49ec9e",
   "metadata": {},
   "outputs": [
    {
     "data": {
      "text/html": [
       "4"
      ],
      "text/latex": [
       "4"
      ],
      "text/markdown": [
       "4"
      ],
      "text/plain": [
       "[1] 4"
      ]
     },
     "metadata": {},
     "output_type": "display_data"
    }
   ],
   "source": [
    "duplicar_valor(2)"
   ]
  },
  {
   "cell_type": "markdown",
   "id": "560ad47f",
   "metadata": {},
   "source": [
    "### Exercício Prático 1 - Funções\n",
    "O índice de massa corporal (IMC) é uma medida internacional usada para calcular se uma pessoa está no peso ideal. Neste exercício você deverá criar uma função para calcular o IMC e modificá-la para dizer ao usuário de ele está com o peso normal (entre 18,5 e 24,9), sobre peso (25,0 e 29,9), obeso (30,0 e 39,9) ou magro demais (menor que 18,5). O IMC é calculado a partir da seguinte fórmula:\n",
    "\n",
    "$$ IMC = {Peso \\over (Altura) ^ 2} $$\n",
    "\n",
    "**Instrução 1/2**\n",
    "* Crie uma função chamada `imc` para calcular o índice de massa corporal. Esta função deve receber como parâmetros: `peso` (kg) e `altura` (m)."
   ]
  },
  {
   "cell_type": "code",
   "execution_count": null,
   "id": "a8f3f46c",
   "metadata": {},
   "outputs": [],
   "source": []
  },
  {
   "cell_type": "markdown",
   "id": "6b8634bf",
   "metadata": {},
   "source": [
    "**Instrução 2/2**\n",
    "* Agora melhore a função de forma a informar ao usuário sua situação de acordo com o IMC calculado."
   ]
  },
  {
   "cell_type": "code",
   "execution_count": null,
   "id": "7c5b9bb6",
   "metadata": {},
   "outputs": [],
   "source": []
  },
  {
   "cell_type": "markdown",
   "id": "7ef02190",
   "metadata": {},
   "source": [
    "### Exercício Prático 2 - Funções\n",
    "O diâmetro de árvores calculado a partir da circunferência do caule. utilizando-se da seguinte fórmula:\n",
    "$$ diametro = { circumferencia \\times \\pi } $$"
   ]
  },
  {
   "cell_type": "markdown",
   "id": "3a5b2f95",
   "metadata": {},
   "source": [
    "**Instrução**\n",
    "* Crie uma função chamada `d` que recebe como parâmetro a circunferência de uma árovre e retorna o seu diâmetro."
   ]
  },
  {
   "cell_type": "code",
   "execution_count": null,
   "id": "c8be2e81",
   "metadata": {},
   "outputs": [],
   "source": []
  },
  {
   "cell_type": "markdown",
   "id": "1f0433f8",
   "metadata": {},
   "source": [
    "### 9.1 Escopo de variáveis"
   ]
  },
  {
   "cell_type": "markdown",
   "id": "e3368c5a",
   "metadata": {},
   "source": [
    "No código a seguir temos a definição da variável `x` recebendo o valor inteiro `4`"
   ]
  },
  {
   "cell_type": "code",
   "execution_count": null,
   "id": "e7ea9ddb",
   "metadata": {},
   "outputs": [],
   "source": [
    "x <- 4"
   ]
  },
  {
   "cell_type": "markdown",
   "id": "1d16f972",
   "metadata": {},
   "source": [
    "Agora ao chamarmos a função `duplicar_valor()`, que valor deverá nos retornar, 4 ou 16?"
   ]
  },
  {
   "cell_type": "code",
   "execution_count": null,
   "id": "121fb2a1",
   "metadata": {},
   "outputs": [],
   "source": [
    "duplicar_valor()"
   ]
  },
  {
   "cell_type": "markdown",
   "id": "6666302d",
   "metadata": {},
   "source": [
    "A função retorna 4, pois o valor da variável `x` definida na função é uma variável local e com o valor padrão 2, a qual é restrita ao escopo da função em questão, apesar de ´x´ definido fora da função ser uma variável global.\n",
    "O conceito de variável global fica melhor compreedido com o uso da seguinte função:"
   ]
  },
  {
   "cell_type": "code",
   "execution_count": 33,
   "id": "c7e990a6",
   "metadata": {},
   "outputs": [],
   "source": [
    "txt <- 'Olá R'\n",
    "\n",
    "saida_txt <- function () {\n",
    "    return(txt)\n",
    "}"
   ]
  },
  {
   "cell_type": "markdown",
   "id": "67f965e7",
   "metadata": {},
   "source": [
    "<p style=\"text-align:justify\">Como a função acima não tem a variável <mark style=\"background-color:lightgrey;\">txt</mark> localmente definida em seu escopo, retorna a variável global <mark style=\"background-color:lightgrey;\">txt</mark> definida fora de seu escopo, pois esta é uma variável global a qual está disponível em todo o ambiente de variáveis do R.\n",
    "Podemos definir uma variável local de uma função como global, a qual passará a ser global após a chamada da função. Para tal devemos utilizar o operador de atribuição <mark style=\"background-color:lightgrey;\"> <<- </mark></p>"
   ]
  },
  {
   "cell_type": "code",
   "execution_count": 34,
   "id": "a67c3e1f",
   "metadata": {},
   "outputs": [],
   "source": [
    "# variavel global fora da funcao\n",
    "msg <- 'Eu sou global fora e estou fora de função!!'\n",
    "\n",
    "# Funcao com variavel local definida como global\n",
    "f <- function () {\n",
    "        msg <<- 'Eu sou uma variável local e global!! kkkkk'\n",
    "        return(msg)\n",
    "}"
   ]
  },
  {
   "cell_type": "code",
   "execution_count": 35,
   "id": "af99e56d",
   "metadata": {},
   "outputs": [
    {
     "data": {
      "text/html": [
       "'Eu sou global fora e estou fora de função!!'"
      ],
      "text/latex": [
       "'Eu sou global fora e estou fora de função!!'"
      ],
      "text/markdown": [
       "'Eu sou global fora e estou fora de função!!'"
      ],
      "text/plain": [
       "[1] \"Eu sou global fora e estou fora de função!!\""
      ]
     },
     "metadata": {},
     "output_type": "display_data"
    }
   ],
   "source": [
    "msg"
   ]
  },
  {
   "cell_type": "code",
   "execution_count": 36,
   "id": "eb655427",
   "metadata": {},
   "outputs": [
    {
     "data": {
      "text/html": [
       "'Eu sou uma variável local e global!! kkkkk'"
      ],
      "text/latex": [
       "'Eu sou uma variável local e global!! kkkkk'"
      ],
      "text/markdown": [
       "'Eu sou uma variável local e global!! kkkkk'"
      ],
      "text/plain": [
       "[1] \"Eu sou uma variável local e global!! kkkkk\""
      ]
     },
     "metadata": {},
     "output_type": "display_data"
    }
   ],
   "source": [
    "f()"
   ]
  },
  {
   "cell_type": "code",
   "execution_count": 37,
   "id": "d578ad02",
   "metadata": {},
   "outputs": [
    {
     "data": {
      "text/html": [
       "'Eu sou uma variável local e global!! kkkkk'"
      ],
      "text/latex": [
       "'Eu sou uma variável local e global!! kkkkk'"
      ],
      "text/markdown": [
       "'Eu sou uma variável local e global!! kkkkk'"
      ],
      "text/plain": [
       "[1] \"Eu sou uma variável local e global!! kkkkk\""
      ]
     },
     "metadata": {},
     "output_type": "display_data"
    }
   ],
   "source": [
    "msg"
   ]
  },
  {
   "cell_type": "code",
   "execution_count": null,
   "id": "d30781d9",
   "metadata": {},
   "outputs": [],
   "source": []
  }
 ],
 "metadata": {
  "kernelspec": {
   "display_name": "R",
   "language": "R",
   "name": "ir"
  },
  "language_info": {
   "codemirror_mode": "r",
   "file_extension": ".r",
   "mimetype": "text/x-r-source",
   "name": "R",
   "pygments_lexer": "r",
   "version": "4.2.0"
  }
 },
 "nbformat": 4,
 "nbformat_minor": 5
}
