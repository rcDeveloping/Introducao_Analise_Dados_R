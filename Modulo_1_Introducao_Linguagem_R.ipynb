{
 "cells": [
  {
   "cell_type": "markdown",
   "id": "f61c2141",
   "metadata": {},
   "source": [
    "<h1 align=\"center\">Introdução à Análise de Dados com Linguagem R</h1>"
   ]
  },
  {
   "cell_type": "markdown",
   "id": "c6f6c448",
   "metadata": {},
   "source": [
    "## 1 Instalação do R\n",
    "<p style=\"text-align:justify\">A instalação padrão da linguagem R é feita a partir do <a href=\"https://cran.r-project.org/\">CRAN</a>, uma rede formada de servidores espalhadod pelo mundo que armazena versões atualizadas do código fonte e executável (Windows), assim como a documentação da linguagem R.</p>"
   ]
  },
  {
   "cell_type": "markdown",
   "id": "895753de",
   "metadata": {},
   "source": [
    "## 2 Instalação do RStudio\n",
    "<p style=\"text-align:justify;\">RStudio é um ambiente de desenvolvimento integrado para linguagem R (IDE - <i>integrated development environment</i>), porém pode rodar <i>scripts</i> SQL, C, C++ e Python. A vantagem se se poder trabalhar com IDE é que ela disponibiliza ferramentas de apoio ao desenvolvimento de códigos em linguagem de programção. Para <i>download</i> do RStudio acesse o endereço <a href=\"https://www.rstudio.com/products/rstudio/download/#download\">https://www.rstudio.com/,</a> e escolha a opção <i>RStudio Desktop</i></p>"
   ]
  },
  {
   "cell_type": "markdown",
   "id": "1eef1e00",
   "metadata": {},
   "source": [
    "## Conhecendo a Interface Gráfica do RStudio"
   ]
  },
  {
   "cell_type": "markdown",
   "id": "d6455fcb",
   "metadata": {},
   "source": [
    "![](./output/RStudio.PNG)"
   ]
  },
  {
   "cell_type": "markdown",
   "id": "26ed39a4",
   "metadata": {},
   "source": [
    "A interface do RStudio é divida em 4 painés, e duas barras:\n",
    "* 1 - Barra de _menu_\n",
    "* 2 - Barra de ferramentas\n",
    "* 3 - Painel de _scripts_ e arquivos\n",
    "* 4 - Painel de variáveis de Ambiente/Histórico/Conexões/Tutorial\n",
    "* 5 - Painel de _Console/Terminal_ \n",
    "* 6 - Painel de Árvore de Arquivos/Gráficos/Pacotes/Ajuda/Visualizador"
   ]
  },
  {
   "cell_type": "markdown",
   "id": "e0ada827",
   "metadata": {},
   "source": [
    "## 3 Pacotes\n",
    "<p style=\"text-align:justify\">Para instalar um determinado pacote (biblioteca) em R, utilizamos a função <i><mark style=\"background-color:Gainsboro\">install.packages(\"nome_do_pacote\")</mark></i>, a qual recebe como parâmetro o nome do pacote a ser instalado. Utilizaremos como exemplo a instalação do pacote <mark style=\"background-color:Gainsboro\">dplyr</mark>, o mais importante pacote para manipulação e transformação de <i>dataframes</i> em R.</p>\n",
    "<p style=\"text-align:justify;\">Para carregar um pacote em R fazemos uso da função <mark style=\"background-color:lightgray;\">library()</mark>, fornecendo como parâmetro o nome do pacote</p>"
   ]
  },
  {
   "cell_type": "markdown",
   "id": "3c0c8f62",
   "metadata": {},
   "source": [
    "## 3.1 Instalar e Carregar Pacotes\n",
    "### Exercício Prático\n",
    "**Instrução 1/3**\n",
    "* Instale o pacote `dplyr` utilizando a janela do console"
   ]
  },
  {
   "cell_type": "code",
   "execution_count": null,
   "id": "0c462a80",
   "metadata": {},
   "outputs": [],
   "source": []
  },
  {
   "cell_type": "markdown",
   "id": "164f2385",
   "metadata": {},
   "source": [
    "**Instrução 2/3**\n",
    "* Instale o pacote `readr` utilizando a janela Packages."
   ]
  },
  {
   "cell_type": "markdown",
   "id": "abebfb2d",
   "metadata": {},
   "source": [
    "**Instrução 3/3**\n",
    "* Carregue o pacote `dplyr`"
   ]
  },
  {
   "cell_type": "code",
   "execution_count": null,
   "id": "7404cbae",
   "metadata": {},
   "outputs": [],
   "source": []
  },
  {
   "cell_type": "markdown",
   "id": "8123d853",
   "metadata": {},
   "source": [
    "Em ambos os trechos de código acima se observa o uso do caractere `#`, em R e python este caractere é utilizado para fazer comentário no código, portanto, toda linha que contém este caractere é ignorada na execução do programa."
   ]
  },
  {
   "cell_type": "markdown",
   "id": "f4ac5d9a",
   "metadata": {},
   "source": [
    "## 3.3 Listar todos os Pacotes instalados"
   ]
  },
  {
   "cell_type": "code",
   "execution_count": null,
   "id": "e12b863a",
   "metadata": {},
   "outputs": [],
   "source": [
    "available.packages()"
   ]
  },
  {
   "cell_type": "markdown",
   "id": "b26342a4",
   "metadata": {},
   "source": [
    "## 3.4 Mostrar os pacotes carregados na sessão atual"
   ]
  },
  {
   "cell_type": "code",
   "execution_count": null,
   "id": "f1878b02",
   "metadata": {},
   "outputs": [],
   "source": [
    "search()"
   ]
  },
  {
   "cell_type": "markdown",
   "id": "6c47be6a",
   "metadata": {},
   "source": [
    "## 3.5 Obter e Configurar o ambiente de trabalho"
   ]
  },
  {
   "cell_type": "markdown",
   "id": "0316acdd",
   "metadata": {},
   "source": [
    "<p style=\"text-align:justify\">Para obter o ambiente de trabalho atualmente em uso pelo RStudio utilizamos a função <mark style=\"background-color:lightgray;\">getwd()</mark>; esta função vem do termo em inglês: <i>Get Working Directory</i>, traduzido para o portugês como \"Obter Ambiente de Trabalho\". No sistema operacional Windows, por padrão, o RStudio configura o ambiente de trabalho em \"C:/Usuários/Nome_do_Usuário/Documentos\"</p>.\n",
    "<p style=\"text-align:justify\">Para configurar um ambiente de trabalho diferente do padrão utilizamos a função <mark style=\"background-color:lightgrey\">setwd()</mark>. Esta função tem nome bem sugestivo na lingua inglesa, a saber: <i>Set Working Directory</i>, \"Configurar Ambiente de Trabalho\".</p>"
   ]
  },
  {
   "cell_type": "markdown",
   "id": "0416b9f6",
   "metadata": {},
   "source": [
    "### Exercício Prático - Ambiente de trabalho\n",
    "**Instrução 1/2**\n",
    "* Use a janela console dp RStudio para obter o atual diretório de trabalho em uso no seu computador."
   ]
  },
  {
   "cell_type": "code",
   "execution_count": null,
   "id": "97c91fe7",
   "metadata": {},
   "outputs": [],
   "source": []
  },
  {
   "cell_type": "markdown",
   "id": "555ab1e2",
   "metadata": {},
   "source": [
    "**Instrução 2/2**\n",
    "* Configure seu ambiente de trabalho para `'C:/Users/Downloads'`"
   ]
  },
  {
   "cell_type": "code",
   "execution_count": null,
   "id": "5064407a",
   "metadata": {},
   "outputs": [],
   "source": []
  },
  {
   "cell_type": "markdown",
   "id": "786785c3",
   "metadata": {},
   "source": [
    "## 4 Operadores Aritméticos e de Atribuição em R"
   ]
  },
  {
   "cell_type": "markdown",
   "id": "0cc1b425",
   "metadata": {},
   "source": [
    "|Operador|Função|\n",
    "|:------:|:----:|\n",
    "| +      | Soma |\n",
    "| -      | Subtração |\n",
    "| /      | Divisão |\n",
    "| *      | Multiplicação |\n",
    "|   %%   | Resto da divisão |\n",
    "| %/%    | Parte inteira divisão |\n",
    "| ^      | Potenciação |\n",
    "| **     | Potenciação |\n",
    "| <-     | Atribuição |\n",
    "| =      | Atribuição |"
   ]
  },
  {
   "cell_type": "markdown",
   "id": "ea30bd84",
   "metadata": {},
   "source": [
    "### Exercício Prático - Operadores Aritméticos e de Atribuição\n",
    "\n",
    "**Instrução 1/3**\n",
    "* Obter o resto da divisão entre os números inteiros 10 e 3."
   ]
  },
  {
   "cell_type": "code",
   "execution_count": null,
   "id": "b3f71f79",
   "metadata": {},
   "outputs": [],
   "source": []
  },
  {
   "cell_type": "markdown",
   "id": "3cfa9b60",
   "metadata": {},
   "source": [
    "**Instrução 2/3**\n",
    "* Obter a parte interira da divisão de 10 por 3."
   ]
  },
  {
   "cell_type": "markdown",
   "id": "959b7c1a",
   "metadata": {},
   "source": [
    "**Instrução 3/3**\n",
    "* Obter o quadrado de um número inteiro qualquer."
   ]
  },
  {
   "cell_type": "code",
   "execution_count": null,
   "id": "9af4f837",
   "metadata": {},
   "outputs": [],
   "source": []
  },
  {
   "cell_type": "markdown",
   "id": "6bc0e758",
   "metadata": {},
   "source": [
    "## 5 Operadores de Comparação em R"
   ]
  },
  {
   "cell_type": "markdown",
   "id": "d6a49174",
   "metadata": {},
   "source": [
    "| Operador | Significado |\n",
    "|:--------:|:-----------:|\n",
    "| == | igual a |\n",
    "| != | diferente de |\n",
    "| >  | maior que |\n",
    "| <  | menor que |\n",
    "| >= | maior ou igual a |\n",
    "| <= |menor ou igual a |"
   ]
  },
  {
   "cell_type": "markdown",
   "id": "963bbd26",
   "metadata": {},
   "source": [
    "### Exercício Prático - Operadores de Comparação"
   ]
  },
  {
   "cell_type": "code",
   "execution_count": null,
   "id": "d430251b",
   "metadata": {},
   "outputs": [],
   "source": []
  },
  {
   "cell_type": "code",
   "execution_count": null,
   "id": "a065f386",
   "metadata": {},
   "outputs": [],
   "source": []
  },
  {
   "cell_type": "code",
   "execution_count": null,
   "id": "aa7a370c",
   "metadata": {},
   "outputs": [],
   "source": []
  },
  {
   "cell_type": "code",
   "execution_count": null,
   "id": "f031858f",
   "metadata": {},
   "outputs": [],
   "source": []
  },
  {
   "cell_type": "code",
   "execution_count": null,
   "id": "f43a745d",
   "metadata": {},
   "outputs": [],
   "source": []
  },
  {
   "cell_type": "code",
   "execution_count": null,
   "id": "92dd5da3",
   "metadata": {},
   "outputs": [],
   "source": []
  },
  {
   "cell_type": "code",
   "execution_count": null,
   "id": "0a6d6b11",
   "metadata": {},
   "outputs": [],
   "source": []
  },
  {
   "cell_type": "markdown",
   "id": "3084a19d",
   "metadata": {},
   "source": [
    "## 6 Operadores Lógicos em R"
   ]
  },
  {
   "cell_type": "markdown",
   "id": "3289b6bc",
   "metadata": {},
   "source": [
    "| Operador | Descrição | Explicação |\n",
    "|:--------:|:---------:|:------:|\n",
    "| & |AND lógico| Comparação pareada de todos os elementos de dois ou mais vetores | \n",
    "| && |AND lógico| Compara apenas os doi primeiros elemetos de vetores |\n",
    "| \\| | OR lógico | |\n",
    "| \\|\\| | OR lógico |\n",
    "| ! | NOT lógico | Negação lógica.  |\n",
    "| xor | OR exclusivo | Ou Exclusivo. Retorna valor lógico TRUE se ambos os valores de entrada forem diferentes entre si, e retorna FALSE se os valores forem iguais. |"
   ]
  },
  {
   "cell_type": "markdown",
   "id": "514c5f66",
   "metadata": {},
   "source": [
    "## 7 Objeto em R\n",
    "Um objeto é simplesmente uma variável que armaneza um caractere numérico, alfabético ou uma cadeia de carateres (_string_).\n",
    "Para criação de um objeto se utiliza o operador de atribuição `<-`. Nos exemplos a seguir são criados os objetos `x`, `y` e `z` para armazenar um número inteiro, uma letra e uma frase."
   ]
  },
  {
   "cell_type": "code",
   "execution_count": 4,
   "id": "cc9d02b6",
   "metadata": {},
   "outputs": [],
   "source": [
    "x <- 42\n",
    "y <- \"R\"\n",
    "z <- \"R é massa\""
   ]
  },
  {
   "cell_type": "markdown",
   "id": "e06550ff",
   "metadata": {},
   "source": [
    "### 7.1 Conferindo o contéudo de um objeto\n",
    "Para conferir o conteúdo de um objeto em R, fazemos uma chamada diretamento pelo nome do objeto de interesse ou através do uso da função _`print()`_"
   ]
  },
  {
   "cell_type": "code",
   "execution_count": 5,
   "id": "8badf767",
   "metadata": {},
   "outputs": [
    {
     "data": {
      "text/html": [
       "42"
      ],
      "text/latex": [
       "42"
      ],
      "text/markdown": [
       "42"
      ],
      "text/plain": [
       "[1] 42"
      ]
     },
     "metadata": {},
     "output_type": "display_data"
    },
    {
     "name": "stdout",
     "output_type": "stream",
     "text": [
      "[1] 42\n"
     ]
    }
   ],
   "source": [
    "x\n",
    "print(x)\n",
    "cat(y)"
   ]
  },
  {
   "cell_type": "markdown",
   "id": "7ce78d2f",
   "metadata": {},
   "source": [
    "### 7.2 Descobrindo o tipo de dados armazenado em um objeto R\n",
    "Para descobrir o tipo de dados armazenado em um objeto, podemos utilizar a função _`class`_"
   ]
  },
  {
   "cell_type": "code",
   "execution_count": 15,
   "id": "28ee1e4b",
   "metadata": {},
   "outputs": [
    {
     "data": {
      "text/html": [
       "'numeric'"
      ],
      "text/latex": [
       "'numeric'"
      ],
      "text/markdown": [
       "'numeric'"
      ],
      "text/plain": [
       "[1] \"numeric\""
      ]
     },
     "metadata": {},
     "output_type": "display_data"
    },
    {
     "data": {
      "text/html": [
       "'character'"
      ],
      "text/latex": [
       "'character'"
      ],
      "text/markdown": [
       "'character'"
      ],
      "text/plain": [
       "[1] \"character\""
      ]
     },
     "metadata": {},
     "output_type": "display_data"
    },
    {
     "data": {
      "text/html": [
       "'character'"
      ],
      "text/latex": [
       "'character'"
      ],
      "text/markdown": [
       "'character'"
      ],
      "text/plain": [
       "[1] \"character\""
      ]
     },
     "metadata": {},
     "output_type": "display_data"
    }
   ],
   "source": [
    "class(x)\n",
    "class(y)\n",
    "class(z)"
   ]
  },
  {
   "cell_type": "markdown",
   "id": "d24ef17e",
   "metadata": {},
   "source": [
    "## 8 Estrutura de Dados em R\n",
    "### 8.1 Vetores\n",
    "Vetor em R é um conjuto de valores indexados, ou seja, cada elemento dentro do vetor possui uma posição específica. Para criação de um vetor basta colocar os valores dentro de `c()`. Vetor é uma estrutura de dados especialmente importante em análise de dados, pois cada coluna de um _data frame_ é representada como um vetor. A seguir temos um exemplo de como criar um vetor de inteiros."
   ]
  },
  {
   "cell_type": "code",
   "execution_count": 18,
   "id": "4fedd6c5",
   "metadata": {},
   "outputs": [],
   "source": [
    "inteiros <- c(42, 33, 0, -1, 5)"
   ]
  },
  {
   "cell_type": "markdown",
   "id": "a0d8cddb",
   "metadata": {},
   "source": [
    "Para acessar o primeiro elemento do vetor `inteiros` usamos o comando _`vetor[x]`_, onde _vetor_ é nome atribuido ao vetor e _x_ é o índice do elemento a ser buscado no vetor. Se quisermos mostrar apenas o elemento de índice 1 do vetor `inteiros`, ou seja o primeiro elemento, basta usar _`inteiros[1]`_"
   ]
  },
  {
   "cell_type": "code",
   "execution_count": 23,
   "id": "43cbb782",
   "metadata": {},
   "outputs": [
    {
     "data": {
      "text/html": [
       "42"
      ],
      "text/latex": [
       "42"
      ],
      "text/markdown": [
       "42"
      ],
      "text/plain": [
       "[1] 42"
      ]
     },
     "metadata": {},
     "output_type": "display_data"
    }
   ],
   "source": [
    "inteiros[1]"
   ]
  },
  {
   "cell_type": "markdown",
   "id": "cfd6d2f0",
   "metadata": {},
   "source": [
    "### 8.1.2 Substituição de elementos de um vetor"
   ]
  },
  {
   "cell_type": "code",
   "execution_count": 62,
   "id": "298bfb6f",
   "metadata": {},
   "outputs": [
    {
     "data": {
      "text/html": [
       "<style>\n",
       ".list-inline {list-style: none; margin:0; padding: 0}\n",
       ".list-inline>li {display: inline-block}\n",
       ".list-inline>li:not(:last-child)::after {content: \"\\00b7\"; padding: 0 .5ex}\n",
       "</style>\n",
       "<ol class=list-inline><li>2</li><li>33</li><li>0</li><li>-1</li><li>5</li></ol>\n"
      ],
      "text/latex": [
       "\\begin{enumerate*}\n",
       "\\item 2\n",
       "\\item 33\n",
       "\\item 0\n",
       "\\item -1\n",
       "\\item 5\n",
       "\\end{enumerate*}\n"
      ],
      "text/markdown": [
       "1. 2\n",
       "2. 33\n",
       "3. 0\n",
       "4. -1\n",
       "5. 5\n",
       "\n",
       "\n"
      ],
      "text/plain": [
       "[1]  2 33  0 -1  5"
      ]
     },
     "metadata": {},
     "output_type": "display_data"
    }
   ],
   "source": [
    "inteiros[1] <- 2\n",
    "inteiros"
   ]
  },
  {
   "cell_type": "markdown",
   "id": "ec071739",
   "metadata": {},
   "source": [
    "### 8.1.3 Funções básicas aplicadas a vetores\n",
    "\n",
    "* _`length()`_ Retorna o tamanho de um vetor"
   ]
  },
  {
   "cell_type": "code",
   "execution_count": 49,
   "id": "c7415430",
   "metadata": {},
   "outputs": [
    {
     "data": {
      "text/html": [
       "5"
      ],
      "text/latex": [
       "5"
      ],
      "text/markdown": [
       "5"
      ],
      "text/plain": [
       "[1] 5"
      ]
     },
     "metadata": {},
     "output_type": "display_data"
    }
   ],
   "source": [
    "length(inteiros)"
   ]
  },
  {
   "cell_type": "markdown",
   "id": "9eeb44c3",
   "metadata": {},
   "source": [
    "* _`names()`_ Retorna os nomes atribuídos a cada elemento de um vetor"
   ]
  },
  {
   "cell_type": "code",
   "execution_count": 51,
   "id": "5e207013",
   "metadata": {},
   "outputs": [
    {
     "data": {
      "text/plain": [
       "NULL"
      ]
     },
     "metadata": {},
     "output_type": "display_data"
    }
   ],
   "source": [
    "dias_semana <- c(1:7)\n",
    "names(dias_semana)"
   ]
  },
  {
   "cell_type": "code",
   "execution_count": 52,
   "id": "9e8e25cd",
   "metadata": {},
   "outputs": [],
   "source": [
    "names(dias_semana) <- c('Domingo', 'Segunda', 'Terça', 'Quarta', 'Quinta', 'Sexta', 'Sábado')"
   ]
  },
  {
   "cell_type": "code",
   "execution_count": 53,
   "id": "d11469c1",
   "metadata": {},
   "outputs": [
    {
     "data": {
      "text/html": [
       "<style>\n",
       ".list-inline {list-style: none; margin:0; padding: 0}\n",
       ".list-inline>li {display: inline-block}\n",
       ".list-inline>li:not(:last-child)::after {content: \"\\00b7\"; padding: 0 .5ex}\n",
       "</style>\n",
       "<ol class=list-inline><li>'Domingo'</li><li>'Segunda'</li><li>'Terça'</li><li>'Quarta'</li><li>'Quinta'</li><li>'Sexta'</li><li>'Sábado'</li></ol>\n"
      ],
      "text/latex": [
       "\\begin{enumerate*}\n",
       "\\item 'Domingo'\n",
       "\\item 'Segunda'\n",
       "\\item 'Terça'\n",
       "\\item 'Quarta'\n",
       "\\item 'Quinta'\n",
       "\\item 'Sexta'\n",
       "\\item 'Sábado'\n",
       "\\end{enumerate*}\n"
      ],
      "text/markdown": [
       "1. 'Domingo'\n",
       "2. 'Segunda'\n",
       "3. 'Terça'\n",
       "4. 'Quarta'\n",
       "5. 'Quinta'\n",
       "6. 'Sexta'\n",
       "7. 'Sábado'\n",
       "\n",
       "\n"
      ],
      "text/plain": [
       "[1] \"Domingo\" \"Segunda\" \"Terça\"   \"Quarta\"  \"Quinta\"  \"Sexta\"   \"Sábado\" "
      ]
     },
     "metadata": {},
     "output_type": "display_data"
    }
   ],
   "source": [
    "names(dias_semana)"
   ]
  },
  {
   "cell_type": "markdown",
   "id": "4fb5fcae",
   "metadata": {},
   "source": [
    "* _`attributes()`_ Retorna o atributo associado a um vetor"
   ]
  },
  {
   "cell_type": "code",
   "execution_count": 54,
   "id": "3d8effbd",
   "metadata": {},
   "outputs": [
    {
     "data": {
      "text/plain": [
       "NULL"
      ]
     },
     "metadata": {},
     "output_type": "display_data"
    },
    {
     "data": {
      "text/html": [
       "<strong>$names</strong> = <style>\n",
       ".list-inline {list-style: none; margin:0; padding: 0}\n",
       ".list-inline>li {display: inline-block}\n",
       ".list-inline>li:not(:last-child)::after {content: \"\\00b7\"; padding: 0 .5ex}\n",
       "</style>\n",
       "<ol class=list-inline><li>'Domingo'</li><li>'Segunda'</li><li>'Terça'</li><li>'Quarta'</li><li>'Quinta'</li><li>'Sexta'</li><li>'Sábado'</li></ol>\n"
      ],
      "text/latex": [
       "\\textbf{\\$names} = \\begin{enumerate*}\n",
       "\\item 'Domingo'\n",
       "\\item 'Segunda'\n",
       "\\item 'Terça'\n",
       "\\item 'Quarta'\n",
       "\\item 'Quinta'\n",
       "\\item 'Sexta'\n",
       "\\item 'Sábado'\n",
       "\\end{enumerate*}\n"
      ],
      "text/markdown": [
       "**$names** = 1. 'Domingo'\n",
       "2. 'Segunda'\n",
       "3. 'Terça'\n",
       "4. 'Quarta'\n",
       "5. 'Quinta'\n",
       "6. 'Sexta'\n",
       "7. 'Sábado'\n",
       "\n",
       "\n"
      ],
      "text/plain": [
       "$names\n",
       "[1] \"Domingo\" \"Segunda\" \"Terça\"   \"Quarta\"  \"Quinta\"  \"Sexta\"   \"Sábado\" \n"
      ]
     },
     "metadata": {},
     "output_type": "display_data"
    }
   ],
   "source": [
    "attributes(inteiros)\n",
    "attributes(dias_semana)"
   ]
  },
  {
   "cell_type": "markdown",
   "id": "4365f079",
   "metadata": {},
   "source": [
    "* _`seq()`_ Cria uma sequência dentro de um vetor\n"
   ]
  },
  {
   "cell_type": "code",
   "execution_count": 60,
   "id": "249cbb31",
   "metadata": {},
   "outputs": [
    {
     "data": {
      "text/html": [
       "<style>\n",
       ".list-inline {list-style: none; margin:0; padding: 0}\n",
       ".list-inline>li {display: inline-block}\n",
       ".list-inline>li:not(:last-child)::after {content: \"\\00b7\"; padding: 0 .5ex}\n",
       "</style>\n",
       "<ol class=list-inline><li>0</li><li>2</li><li>4</li><li>6</li><li>8</li><li>10</li></ol>\n"
      ],
      "text/latex": [
       "\\begin{enumerate*}\n",
       "\\item 0\n",
       "\\item 2\n",
       "\\item 4\n",
       "\\item 6\n",
       "\\item 8\n",
       "\\item 10\n",
       "\\end{enumerate*}\n"
      ],
      "text/markdown": [
       "1. 0\n",
       "2. 2\n",
       "3. 4\n",
       "4. 6\n",
       "5. 8\n",
       "6. 10\n",
       "\n",
       "\n"
      ],
      "text/plain": [
       "[1]  0  2  4  6  8 10"
      ]
     },
     "metadata": {},
     "output_type": "display_data"
    }
   ],
   "source": [
    "seq(0, 10, 2)"
   ]
  },
  {
   "cell_type": "markdown",
   "id": "20cd8276",
   "metadata": {},
   "source": [
    "* _`rep()`_ Cria uma repitição de um vetor"
   ]
  },
  {
   "cell_type": "code",
   "execution_count": 61,
   "id": "4dd83fa7",
   "metadata": {},
   "outputs": [
    {
     "data": {
      "text/html": [
       "<style>\n",
       ".list-inline {list-style: none; margin:0; padding: 0}\n",
       ".list-inline>li {display: inline-block}\n",
       ".list-inline>li:not(:last-child)::after {content: \"\\00b7\"; padding: 0 .5ex}\n",
       "</style>\n",
       "<ol class=list-inline><li>1</li><li>2</li><li>3</li><li>4</li><li>1</li><li>2</li><li>3</li><li>4</li><li>1</li><li>2</li><li>3</li><li>4</li></ol>\n"
      ],
      "text/latex": [
       "\\begin{enumerate*}\n",
       "\\item 1\n",
       "\\item 2\n",
       "\\item 3\n",
       "\\item 4\n",
       "\\item 1\n",
       "\\item 2\n",
       "\\item 3\n",
       "\\item 4\n",
       "\\item 1\n",
       "\\item 2\n",
       "\\item 3\n",
       "\\item 4\n",
       "\\end{enumerate*}\n"
      ],
      "text/markdown": [
       "1. 1\n",
       "2. 2\n",
       "3. 3\n",
       "4. 4\n",
       "5. 1\n",
       "6. 2\n",
       "7. 3\n",
       "8. 4\n",
       "9. 1\n",
       "10. 2\n",
       "11. 3\n",
       "12. 4\n",
       "\n",
       "\n"
      ],
      "text/plain": [
       " [1] 1 2 3 4 1 2 3 4 1 2 3 4"
      ]
     },
     "metadata": {},
     "output_type": "display_data"
    }
   ],
   "source": [
    "rep(1:4, 3)"
   ]
  },
  {
   "cell_type": "markdown",
   "id": "f2aad38b",
   "metadata": {},
   "source": [
    "* _`tapply()`_: Aplica uma função sobre um vetor com agrupamento em outro vetor categórico. Recebe como parâmetros: um vetor numérico, um vetor categórico e uma função."
   ]
  },
  {
   "cell_type": "code",
   "execution_count": 7,
   "id": "a8b85fbb",
   "metadata": {},
   "outputs": [
    {
     "data": {
      "text/html": [
       "<dl class=dl-horizontal>\n",
       "\t<dt>1</dt>\n",
       "\t\t<dd>4.84412580645161</dd>\n",
       "\t<dt>2</dt>\n",
       "\t\t<dd>4.16378071748879</dd>\n",
       "\t<dt>3</dt>\n",
       "\t\t<dd>5.77211012461059</dd>\n",
       "\t<dt>4</dt>\n",
       "\t\t<dd>6.36429702194357</dd>\n",
       "\t<dt>5</dt>\n",
       "\t\t<dd>4.74788266871166</dd>\n",
       "\t<dt>6</dt>\n",
       "\t\t<dd>6.84498349834984</dd>\n",
       "\t<dt>7</dt>\n",
       "\t\t<dd>6.09875846153846</dd>\n",
       "\t<dt>8</dt>\n",
       "\t\t<dd>6.26136303448276</dd>\n",
       "\t<dt>9</dt>\n",
       "\t\t<dd>4.97676953528399</dd>\n",
       "\t<dt>10</dt>\n",
       "\t\t<dd>4.70530149625935</dd>\n",
       "\t<dt>11</dt>\n",
       "\t\t<dd>6.40755466237942</dd>\n",
       "\t<dt>12</dt>\n",
       "\t\t<dd>4.47412123015873</dd>\n",
       "\t<dt>13</dt>\n",
       "\t\t<dd>5.66626116504854</dd>\n",
       "\t<dt>14</dt>\n",
       "\t\t<dd>5.8846949197861</dd>\n",
       "\t<dt>15</dt>\n",
       "\t\t<dd>3.98347286652079</dd>\n",
       "\t<dt>16</dt>\n",
       "\t\t<dd>6.19931277955272</dd>\n",
       "\t<dt>17</dt>\n",
       "\t\t<dd>6.17004719687093</dd>\n",
       "\t<dt>18</dt>\n",
       "\t\t<dd>4.34589215686275</dd>\n",
       "\t<dt>19</dt>\n",
       "\t\t<dd>6.44625035360679</dd>\n",
       "\t<dt>20</dt>\n",
       "\t\t<dd>7.06688520408163</dd>\n",
       "\t<dt>21</dt>\n",
       "\t\t<dd>5.14585890183028</dd>\n",
       "\t<dt>22</dt>\n",
       "\t\t<dd>5.84662552870091</dd>\n",
       "\t<dt>23</dt>\n",
       "\t\t<dd>5.4534273458445</dd>\n",
       "\t<dt>24</dt>\n",
       "\t\t<dd>5.11622781289507</dd>\n",
       "\t<dt>25</dt>\n",
       "\t\t<dd>4.30465513866232</dd>\n",
       "\t<dt>26</dt>\n",
       "\t\t<dd>7.10625938697318</dd>\n",
       "\t<dt>27</dt>\n",
       "\t\t<dd>5.06525859649123</dd>\n",
       "\t<dt>28</dt>\n",
       "\t\t<dd>5.08560755980861</dd>\n",
       "\t<dt>29</dt>\n",
       "\t\t<dd>6.130182</dd>\n",
       "</dl>\n"
      ],
      "text/latex": [
       "\\begin{description*}\n",
       "\\item[1] 4.84412580645161\n",
       "\\item[2] 4.16378071748879\n",
       "\\item[3] 5.77211012461059\n",
       "\\item[4] 6.36429702194357\n",
       "\\item[5] 4.74788266871166\n",
       "\\item[6] 6.84498349834984\n",
       "\\item[7] 6.09875846153846\n",
       "\\item[8] 6.26136303448276\n",
       "\\item[9] 4.97676953528399\n",
       "\\item[10] 4.70530149625935\n",
       "\\item[11] 6.40755466237942\n",
       "\\item[12] 4.47412123015873\n",
       "\\item[13] 5.66626116504854\n",
       "\\item[14] 5.8846949197861\n",
       "\\item[15] 3.98347286652079\n",
       "\\item[16] 6.19931277955272\n",
       "\\item[17] 6.17004719687093\n",
       "\\item[18] 4.34589215686275\n",
       "\\item[19] 6.44625035360679\n",
       "\\item[20] 7.06688520408163\n",
       "\\item[21] 5.14585890183028\n",
       "\\item[22] 5.84662552870091\n",
       "\\item[23] 5.4534273458445\n",
       "\\item[24] 5.11622781289507\n",
       "\\item[25] 4.30465513866232\n",
       "\\item[26] 7.10625938697318\n",
       "\\item[27] 5.06525859649123\n",
       "\\item[28] 5.08560755980861\n",
       "\\item[29] 6.130182\n",
       "\\end{description*}\n"
      ],
      "text/markdown": [
       "1\n",
       ":   4.844125806451612\n",
       ":   4.163780717488793\n",
       ":   5.772110124610594\n",
       ":   6.364297021943575\n",
       ":   4.747882668711666\n",
       ":   6.844983498349847\n",
       ":   6.098758461538468\n",
       ":   6.261363034482769\n",
       ":   4.9767695352839910\n",
       ":   4.7053014962593511\n",
       ":   6.4075546623794212\n",
       ":   4.4741212301587313\n",
       ":   5.6662611650485414\n",
       ":   5.884694919786115\n",
       ":   3.9834728665207916\n",
       ":   6.1993127795527217\n",
       ":   6.1700471968709318\n",
       ":   4.3458921568627519\n",
       ":   6.4462503536067920\n",
       ":   7.0668852040816321\n",
       ":   5.1458589018302822\n",
       ":   5.8466255287009123\n",
       ":   5.453427345844524\n",
       ":   5.1162278128950725\n",
       ":   4.3046551386623226\n",
       ":   7.1062593869731827\n",
       ":   5.0652585964912328\n",
       ":   5.0856075598086129\n",
       ":   6.130182\n",
       "\n"
      ],
      "text/plain": [
       "       1        2        3        4        5        6        7        8 \n",
       "4.844126 4.163781 5.772110 6.364297 4.747883 6.844983 6.098758 6.261363 \n",
       "       9       10       11       12       13       14       15       16 \n",
       "4.976770 4.705301 6.407555 4.474121 5.666261 5.884695 3.983473 6.199313 \n",
       "      17       18       19       20       21       22       23       24 \n",
       "6.170047 4.345892 6.446250 7.066885 5.145859 5.846626 5.453427 5.116228 \n",
       "      25       26       27       28       29 \n",
       "4.304655 7.106259 5.065259 5.085608 6.130182 "
      ]
     },
     "metadata": {},
     "output_type": "display_data"
    }
   ],
   "source": [
    "# Lê uma planilha csv com dados de inventário florestal\n",
    "fi <- read.csv2('./data/UMF_IV_UPA_4F_SINAFLOR_03.csv',\n",
    "                encoding = 'latin1')\n",
    "\n",
    "\n",
    "# Defini o vetor \"volume\" com os volumes comerciais de cada árvore\n",
    "volume <- as.vector(fi$Vol)\n",
    "\n",
    "# Defini o vetor ut (unidade de trabalho)\n",
    "ut <- as.vector(fi$UT)\n",
    "\n",
    "# Calcular o volume médio por unidade de trabalho\n",
    "tapply(volume, ut, mean)"
   ]
  },
  {
   "cell_type": "markdown",
   "id": "5e2b4973",
   "metadata": {},
   "source": [
    "* `mapply()` versão multivariada das funções lapply e sapply, utilizada para iterar entre elementos de vetores ou linhas."
   ]
  },
  {
   "cell_type": "code",
   "execution_count": 22,
   "id": "d4eb29f8",
   "metadata": {},
   "outputs": [
    {
     "data": {
      "text/html": [
       "<ol class=list-inline>\n",
       "\t<li>46</li>\n",
       "\t<li>3</li>\n",
       "\t<li>8</li>\n",
       "\t<li>12</li>\n",
       "</ol>\n"
      ],
      "text/latex": [
       "\\begin{enumerate*}\n",
       "\\item 46\n",
       "\\item 3\n",
       "\\item 8\n",
       "\\item 12\n",
       "\\end{enumerate*}\n"
      ],
      "text/markdown": [
       "1. 46\n",
       "2. 3\n",
       "3. 8\n",
       "4. 12\n",
       "\n",
       "\n"
      ],
      "text/plain": [
       "[1] 46  3  8 12"
      ]
     },
     "metadata": {},
     "output_type": "display_data"
    }
   ],
   "source": [
    "a <- c(42, 1, 5, 7)\n",
    "b <- c(4, 2, 3, 5)\n",
    "\n",
    "mapply(sum, a, b)"
   ]
  },
  {
   "cell_type": "markdown",
   "id": "ff279966",
   "metadata": {},
   "source": [
    "### 8.1.4 Funções Estatísticas Aplicadas a Vetores"
   ]
  },
  {
   "cell_type": "markdown",
   "id": "b06ae377",
   "metadata": {},
   "source": [
    "* _`mean()`_ Retorna a média aritmética de um vetor\n",
    "* _`median()`_ Retorna a mediana de um vetor\n",
    "* _`min()`_ Retorna o menor valor dentre os elementos de um vetor\n",
    "* _`max()`_ Retorna o maior valor dentre os elementos de um vetor\n",
    "* _`sd()`_ Retorna o desvio padrão de um vetor"
   ]
  },
  {
   "cell_type": "markdown",
   "id": "8cfab8d8",
   "metadata": {},
   "source": [
    "### 8.1.5 Testes Lógicos com Vetores\n",
    "* _`any()`_ Testa se algum elemento do vetor atende a uma condição específica\n",
    "\n",
    "**Exemplo**: Dado o vetor de nome `dap`, o qual armaneza dados de mensuração de diâmetro de milhares de árvores na Floresta Nacional de Altamira, teste se algum elemento é menor ou igual a 40."
   ]
  },
  {
   "cell_type": "code",
   "execution_count": 18,
   "id": "3666ccc0",
   "metadata": {},
   "outputs": [],
   "source": [
    "dap <- fi$DAP_cm"
   ]
  },
  {
   "cell_type": "code",
   "execution_count": 19,
   "id": "eb90010e",
   "metadata": {},
   "outputs": [
    {
     "data": {
      "text/html": [
       "TRUE"
      ],
      "text/latex": [
       "TRUE"
      ],
      "text/markdown": [
       "TRUE"
      ],
      "text/plain": [
       "[1] TRUE"
      ]
     },
     "metadata": {},
     "output_type": "display_data"
    }
   ],
   "source": [
    "any(dap >= 40)"
   ]
  },
  {
   "cell_type": "markdown",
   "id": "f67a598c",
   "metadata": {},
   "source": [
    "* _`all()`_ Testa se todos os elementos de um vetor atendem a uma condição.\n",
    "\n",
    "**Exemplo:** Dado o vetor de nome `dap`, testar se alguma elemento é menor do que 0:"
   ]
  },
  {
   "cell_type": "code",
   "execution_count": 48,
   "id": "975cdf7c",
   "metadata": {},
   "outputs": [
    {
     "data": {
      "text/html": [
       "FALSE"
      ],
      "text/latex": [
       "FALSE"
      ],
      "text/markdown": [
       "FALSE"
      ],
      "text/plain": [
       "[1] FALSE"
      ]
     },
     "metadata": {},
     "output_type": "display_data"
    }
   ],
   "source": [
    "all(dap < 0)"
   ]
  },
  {
   "cell_type": "markdown",
   "id": "d1a270c8",
   "metadata": {},
   "source": [
    "## Exercício Prático - Vetor"
   ]
  },
  {
   "cell_type": "markdown",
   "id": "302d63b9",
   "metadata": {},
   "source": [
    "Considerando o vetor de nome `dap`, o qual armaneza dados de mensuração de diâmetro de milhares de árvores na Floresta Nacional de Altamira, mostre: \n",
    "1. Mostre **apenas** o penúltimo elemento desse vetor.\n",
    "2. O diâmetro mínimo de medição\n",
    "3. O diâmetro médio mensurado"
   ]
  },
  {
   "cell_type": "markdown",
   "id": "3a30b652",
   "metadata": {},
   "source": [
    "### 8.1.6 Análise de Dados Meteorológicos\n",
    "O vetor a seguir contém dados de precipitação total mensal obtidos da estação meteorológica convencional do [INMENT](https://bdmep.inmet.gov.br/#) 82861, localizada no município de Conceição do Araguia, estado do Pará. Os dados são referentes ao ano de 2019."
   ]
  },
  {
   "cell_type": "code",
   "execution_count": 1,
   "id": "7f4d2958",
   "metadata": {},
   "outputs": [],
   "source": [
    "precipitacao <- c(185.6, 153.9, 244.6, 319.6, 59.6, 6.5, 0, 0, 42.2, 182.7, 136.2, 128.9)"
   ]
  },
  {
   "cell_type": "code",
   "execution_count": null,
   "id": "05583646",
   "metadata": {},
   "outputs": [],
   "source": []
  },
  {
   "cell_type": "markdown",
   "id": "31f9a99e",
   "metadata": {},
   "source": [
    "### 8.2 Matriz"
   ]
  },
  {
   "cell_type": "code",
   "execution_count": 10,
   "id": "a31269bf",
   "metadata": {},
   "outputs": [
    {
     "data": {
      "text/html": [
       "<table>\n",
       "<tbody>\n",
       "\t<tr><td>1</td><td>2</td></tr>\n",
       "\t<tr><td>3</td><td>4</td></tr>\n",
       "\t<tr><td>5</td><td>6</td></tr>\n",
       "</tbody>\n",
       "</table>\n"
      ],
      "text/latex": [
       "\\begin{tabular}{ll}\n",
       "\t 1 & 2\\\\\n",
       "\t 3 & 4\\\\\n",
       "\t 5 & 6\\\\\n",
       "\\end{tabular}\n"
      ],
      "text/markdown": [
       "\n",
       "| 1 | 2 |\n",
       "| 3 | 4 |\n",
       "| 5 | 6 |\n",
       "\n"
      ],
      "text/plain": [
       "     [,1] [,2]\n",
       "[1,] 1    2   \n",
       "[2,] 3    4   \n",
       "[3,] 5    6   "
      ]
     },
     "metadata": {},
     "output_type": "display_data"
    }
   ],
   "source": [
    "matriz = matrix(1:6, nrow = 3, byrow = TRUE)\n",
    "matriz"
   ]
  },
  {
   "cell_type": "markdown",
   "id": "402829d5",
   "metadata": {},
   "source": [
    "A função `apply`, parte do pacote base do R, recebe 3 argumentos como parâmetro: a matriz ou _data frame_ contendo os dados, a indicação do sentido de aplicação da função, representado pelos números 1 (linha) ou 2 (coluna) e a função a ser aplicada."
   ]
  },
  {
   "cell_type": "markdown",
   "id": "f66936a0",
   "metadata": {},
   "source": [
    "Somar as linhas de uma matriz:"
   ]
  },
  {
   "cell_type": "code",
   "execution_count": 11,
   "id": "f85413c8",
   "metadata": {},
   "outputs": [
    {
     "data": {
      "text/html": [
       "<ol class=list-inline>\n",
       "\t<li>3</li>\n",
       "\t<li>7</li>\n",
       "\t<li>11</li>\n",
       "</ol>\n"
      ],
      "text/latex": [
       "\\begin{enumerate*}\n",
       "\\item 3\n",
       "\\item 7\n",
       "\\item 11\n",
       "\\end{enumerate*}\n"
      ],
      "text/markdown": [
       "1. 3\n",
       "2. 7\n",
       "3. 11\n",
       "\n",
       "\n"
      ],
      "text/plain": [
       "[1]  3  7 11"
      ]
     },
     "metadata": {},
     "output_type": "display_data"
    }
   ],
   "source": [
    "apply(matriz, 1, sum)"
   ]
  },
  {
   "cell_type": "markdown",
   "id": "0d2c11d6",
   "metadata": {},
   "source": [
    "Somar os valores das colunas de uma matriz:"
   ]
  },
  {
   "cell_type": "code",
   "execution_count": 12,
   "id": "0c4225d7",
   "metadata": {},
   "outputs": [
    {
     "data": {
      "text/html": [
       "<ol class=list-inline>\n",
       "\t<li>9</li>\n",
       "\t<li>12</li>\n",
       "</ol>\n"
      ],
      "text/latex": [
       "\\begin{enumerate*}\n",
       "\\item 9\n",
       "\\item 12\n",
       "\\end{enumerate*}\n"
      ],
      "text/markdown": [
       "1. 9\n",
       "2. 12\n",
       "\n",
       "\n"
      ],
      "text/plain": [
       "[1]  9 12"
      ]
     },
     "metadata": {},
     "output_type": "display_data"
    }
   ],
   "source": [
    "apply(matriz, 2, sum)"
   ]
  },
  {
   "cell_type": "markdown",
   "id": "db90ad74",
   "metadata": {},
   "source": [
    "### 8.3 Listas"
   ]
  },
  {
   "cell_type": "code",
   "execution_count": 17,
   "id": "70fc76c6",
   "metadata": {},
   "outputs": [],
   "source": [
    "lista = list(volume, ut)"
   ]
  },
  {
   "cell_type": "markdown",
   "id": "3334fd7e",
   "metadata": {},
   "source": [
    "### 8.3.1 Funções lapply e sapply\n",
    "As funções `lapply` e `sapply` são uma variação da função `apply` para iterar sobre aos elementos de uma lista. Esta funções diferem somente na forma como os resultados são mostrados na tela. Para a função `lapply` a saída é na forma de lista, enquanto `sapply` apresenta uma saída vetorial."
   ]
  },
  {
   "cell_type": "code",
   "execution_count": 14,
   "id": "a840773d",
   "metadata": {},
   "outputs": [
    {
     "data": {
      "text/html": [
       "<ol>\n",
       "\t<li>5.59253622767377</li>\n",
       "\t<li>16.1329890251775</li>\n",
       "</ol>\n"
      ],
      "text/latex": [
       "\\begin{enumerate}\n",
       "\\item 5.59253622767377\n",
       "\\item 16.1329890251775\n",
       "\\end{enumerate}\n"
      ],
      "text/markdown": [
       "1. 5.59253622767377\n",
       "2. 16.1329890251775\n",
       "\n",
       "\n"
      ],
      "text/plain": [
       "[[1]]\n",
       "[1] 5.592536\n",
       "\n",
       "[[2]]\n",
       "[1] 16.13299\n"
      ]
     },
     "metadata": {},
     "output_type": "display_data"
    }
   ],
   "source": [
    "lapply(lista, mean)"
   ]
  },
  {
   "cell_type": "code",
   "execution_count": 15,
   "id": "539e160f",
   "metadata": {},
   "outputs": [
    {
     "data": {
      "text/html": [
       "<ol class=list-inline>\n",
       "\t<li>5.59253622767377</li>\n",
       "\t<li>16.1329890251775</li>\n",
       "</ol>\n"
      ],
      "text/latex": [
       "\\begin{enumerate*}\n",
       "\\item 5.59253622767377\n",
       "\\item 16.1329890251775\n",
       "\\end{enumerate*}\n"
      ],
      "text/markdown": [
       "1. 5.59253622767377\n",
       "2. 16.1329890251775\n",
       "\n",
       "\n"
      ],
      "text/plain": [
       "[1]  5.592536 16.132989"
      ]
     },
     "metadata": {},
     "output_type": "display_data"
    }
   ],
   "source": [
    "sapply(lista, mean)"
   ]
  },
  {
   "cell_type": "markdown",
   "id": "e72a31b9",
   "metadata": {},
   "source": [
    "### 8.4 Fatores"
   ]
  },
  {
   "cell_type": "code",
   "execution_count": null,
   "id": "c8609fa0",
   "metadata": {},
   "outputs": [],
   "source": []
  },
  {
   "cell_type": "code",
   "execution_count": null,
   "id": "ee34e078",
   "metadata": {},
   "outputs": [],
   "source": []
  },
  {
   "cell_type": "markdown",
   "id": "633c476d",
   "metadata": {},
   "source": [
    "### 8.5 Data Frames"
   ]
  },
  {
   "cell_type": "markdown",
   "id": "05416d22",
   "metadata": {},
   "source": [
    "## 9 Estruturas de Repetição"
   ]
  },
  {
   "cell_type": "markdown",
   "id": "e4dcfc11",
   "metadata": {},
   "source": [
    "## 10 Funções em R\n",
    "<p style=\"text-align:justify;\">A definição de uma função em R segue a seguinte sintaxe:"
   ]
  },
  {
   "cell_type": "code",
   "execution_count": null,
   "id": "ab89ffd3",
   "metadata": {},
   "outputs": [],
   "source": [
    "nome_da_função <- function (parâmetros) {\n",
    "    return() \n",
    "}"
   ]
  },
  {
   "cell_type": "markdown",
   "id": "c6d1e5a7",
   "metadata": {},
   "source": [
    "A função definida a seguir, denominada como `duplicar_valor`, recebe como parâmetro um valor `x`, definido por padrão como 2, e retorna o quadrado deste valor."
   ]
  },
  {
   "cell_type": "code",
   "execution_count": null,
   "id": "39977dcc",
   "metadata": {},
   "outputs": [],
   "source": [
    "duplicar_valor <- function(x = 2) {\n",
    "        return(x ^ 2)\n",
    "}"
   ]
  },
  {
   "cell_type": "markdown",
   "id": "145c9084",
   "metadata": {},
   "source": [
    "Após a criação da função devemos invocá-la fornecendo o valor de seu parâmetro para recebermos seu retorno."
   ]
  },
  {
   "cell_type": "code",
   "execution_count": null,
   "id": "cdd7afa2",
   "metadata": {},
   "outputs": [],
   "source": [
    "duplicar_valor()"
   ]
  },
  {
   "cell_type": "code",
   "execution_count": null,
   "id": "4a49ec9e",
   "metadata": {},
   "outputs": [],
   "source": [
    "duplicar_valor(2)"
   ]
  },
  {
   "cell_type": "markdown",
   "id": "560ad47f",
   "metadata": {},
   "source": [
    "### Exercício Prático 1 - Funções\n",
    "O índice de massa corporal (IMC) é uma medida internacional usada para calcular se uma pessoa está no peso ideal. Neste exercício você deverá criar uma função para calcular o IMC e modificá-la para dizer ao usuário de ele está com o peso normal (entre 18,5 e 24,9), sobre peso (25,0 e 29,9), obeso (30,0 e 39,9) ou magro demais (menor que 18,5). O IMC é calculado a partir da seguinte fórmula:\n",
    "\n",
    "$$ IMC = {Peso \\over (Altura) ^ 2} $$\n",
    "\n",
    "**Instrução 1/2**\n",
    "* Crie uma função chamada `imc` para calcular o índice de massa corporal. Esta função deve receber como parâmetros: `peso` (kg) e `altura` (m)."
   ]
  },
  {
   "cell_type": "code",
   "execution_count": null,
   "id": "a8f3f46c",
   "metadata": {},
   "outputs": [],
   "source": []
  },
  {
   "cell_type": "markdown",
   "id": "6b8634bf",
   "metadata": {},
   "source": [
    "**Instrução 2/2**\n",
    "* Agora melhore a função de forma a informar ao usuário sua situação de acordo com o IMC calculado."
   ]
  },
  {
   "cell_type": "code",
   "execution_count": null,
   "id": "7c5b9bb6",
   "metadata": {},
   "outputs": [],
   "source": []
  },
  {
   "cell_type": "markdown",
   "id": "7ef02190",
   "metadata": {},
   "source": [
    "### Exercício Prático 2 - Funções\n",
    "O diâmetro de árvores calculado a partir da circunferência do caule. utilizando-se da seguinte fórmula:\n",
    "$$ diametro = { circumferencia \\times \\pi } $$"
   ]
  },
  {
   "cell_type": "markdown",
   "id": "3a5b2f95",
   "metadata": {},
   "source": [
    "**Instrução**\n",
    "* Crie uma função chamada `d` que recebe como parâmetro a circunferência de uma árovre e retorna o seu diâmetro."
   ]
  },
  {
   "cell_type": "code",
   "execution_count": null,
   "id": "c8be2e81",
   "metadata": {},
   "outputs": [],
   "source": []
  },
  {
   "cell_type": "markdown",
   "id": "1f0433f8",
   "metadata": {},
   "source": [
    "### 10.1 Escopo de variáveis"
   ]
  },
  {
   "cell_type": "markdown",
   "id": "e3368c5a",
   "metadata": {},
   "source": [
    "No código a seguir temos a definição da variável `x` recebendo o valor inteiro `4`"
   ]
  },
  {
   "cell_type": "code",
   "execution_count": null,
   "id": "e7ea9ddb",
   "metadata": {},
   "outputs": [],
   "source": [
    "x <- 4"
   ]
  },
  {
   "cell_type": "markdown",
   "id": "1d16f972",
   "metadata": {},
   "source": [
    "Agora ao chamarmos a função `duplicar_valor()`, que valor deverá nos retornar, 4 ou 16?"
   ]
  },
  {
   "cell_type": "code",
   "execution_count": null,
   "id": "121fb2a1",
   "metadata": {},
   "outputs": [],
   "source": [
    "duplicar_valor()"
   ]
  },
  {
   "cell_type": "markdown",
   "id": "6666302d",
   "metadata": {},
   "source": [
    "A função retorna 4, pois o valor da variável `x` definida na função é uma variável local e com o valor padrão 2, a qual é restrita ao escopo da função em questão, apesar de ´x´ definido fora da função ser uma variável global.\n",
    "O conceito de variável global fica melhor compreedido com o uso da seguinte função:"
   ]
  },
  {
   "cell_type": "code",
   "execution_count": null,
   "id": "c7e990a6",
   "metadata": {},
   "outputs": [],
   "source": [
    "txt <- 'Olá R'\n",
    "\n",
    "saida_txt <- function () {\n",
    "    return(txt)\n",
    "}"
   ]
  },
  {
   "cell_type": "markdown",
   "id": "67f965e7",
   "metadata": {},
   "source": [
    "<p style=\"text-align:justify\">Como a função acima não tem a variável <mark style=\"background-color:lightgrey;\">txt</mark> localmente definida em seu escopo, retorna a variável global <mark style=\"background-color:lightgrey;\">txt</mark> definida fora de seu escopo, pois esta é uma variável global a qual está disponível em todo o ambiente de variáveis do R.\n",
    "Podemos definir uma variável local de uma função como global, a qual passará a ser global após a chamada da função. Para tal devemos utilizar o operador de atribuição <mark style=\"background-color:lightgrey;\"> <<- </mark></p>"
   ]
  },
  {
   "cell_type": "code",
   "execution_count": null,
   "id": "a67c3e1f",
   "metadata": {},
   "outputs": [],
   "source": [
    "# variavel global fora da funcao\n",
    "msg <- 'Eu sou global fora e estou fora de função!!'\n",
    "\n",
    "# Funcao com variavel local definida como global\n",
    "f <- function () {\n",
    "        msg <<- 'Eu sou uma variável local e global!! kkkkk'\n",
    "        return(msg)\n",
    "}"
   ]
  },
  {
   "cell_type": "code",
   "execution_count": null,
   "id": "af99e56d",
   "metadata": {},
   "outputs": [],
   "source": [
    "msg"
   ]
  },
  {
   "cell_type": "code",
   "execution_count": null,
   "id": "eb655427",
   "metadata": {},
   "outputs": [],
   "source": [
    "f()"
   ]
  },
  {
   "cell_type": "code",
   "execution_count": null,
   "id": "d578ad02",
   "metadata": {},
   "outputs": [],
   "source": [
    "msg"
   ]
  }
 ],
 "metadata": {
  "kernelspec": {
   "display_name": "R",
   "language": "R",
   "name": "ir"
  },
  "language_info": {
   "codemirror_mode": "r",
   "file_extension": ".r",
   "mimetype": "text/x-r-source",
   "name": "R",
   "pygments_lexer": "r",
   "version": "3.6.1"
  }
 },
 "nbformat": 4,
 "nbformat_minor": 5
}
