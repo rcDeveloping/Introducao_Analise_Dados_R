{
 "cells": [
  {
   "cell_type": "markdown",
   "id": "f61c2141",
   "metadata": {},
   "source": [
    "<h1 align=\"center\">Introdução à Análise de Dados com Linguagem R</h1>"
   ]
  },
  {
   "cell_type": "markdown",
   "id": "c6f6c448",
   "metadata": {},
   "source": [
    "## 1 Instalação do R\n",
    "<p style=\"text-align:justify\">A instalação padrão da linguagem R é feita a partir do <a href=\"https://cran.r-project.org/\">CRAN</a>, uma rede formada de servidores espalhadod pelo mundo que armazena versões atualizadas do código fonte e executável (Windows), assim como a documentação da linguagem R.</p>"
   ]
  },
  {
   "cell_type": "markdown",
   "id": "895753de",
   "metadata": {},
   "source": [
    "## 2 Instalação do RStudio\n",
    "<p style=\"text-align:justify\">RStudio é um ambiente de desenvolvimento integrado para linguagem R (IDE - <i>integrated development environment</i>), porém pode rodar <i>scripts</i> SQL, C, C++ e Python. A vantagem se se poder trabalhar com IDE é que ela disponibiliza ferramentas de apoio ao desenvolvimento de códigos em linguagem de programção. Para <i>download</i> do RStudio acesse o endereço <a href=\"https://www.rstudio.com/products/rstudio/download/#download\">https://www.rstudio.com/,</a> e escolha a opção <i>RStudio Desktop</i></p>"
   ]
  },
  {
   "cell_type": "markdown",
   "id": "1eef1e00",
   "metadata": {},
   "source": [
    "## 2.1 Conhecendo a Interface Gráfica do RStudio"
   ]
  },
  {
   "cell_type": "markdown",
   "id": "d6455fcb",
   "metadata": {},
   "source": [
    "![](./output/RStudio.PNG)"
   ]
  },
  {
   "cell_type": "markdown",
   "id": "26ed39a4",
   "metadata": {},
   "source": [
    "A interface do RStudio é divida em 4 painés, e duas barras:\n",
    "* 1 - Barra de _menu_\n",
    "* 2 - Barra de ferramentas\n",
    "* 3 - Painel de _scripts_ e arquivos\n",
    "* 4 - Painel de variáveis de Ambiente/Histórico/Conexões/Tutorial\n",
    "* 5 - Painel de _Console/Terminal_ \n",
    "* 6 - Painel de Árvore de Arquivos/Gráficos/Pacotes/Ajuda/Visualizador"
   ]
  },
  {
   "cell_type": "markdown",
   "id": "6c47be6a",
   "metadata": {},
   "source": [
    "## 3. Obter e Configurar o ambiente de trabalho"
   ]
  },
  {
   "cell_type": "markdown",
   "id": "0316acdd",
   "metadata": {},
   "source": [
    "<p style=\"text-align:justify\">Para obter o ambiente de trabalho atualmente em uso pelo RStudio utilizamos a função <mark style=\"background-color:#F4F4F4;\">getwd()</mark>; esta função vem do termo em inglês: <i>Get Working Directory</i>, traduzido para o portugês como \"Obter Ambiente de Trabalho\". No sistema operacional Windows, por padrão, o RStudio configura o ambiente de trabalho em \"C:/Usuários/Nome_do_Usuário/Documentos\"</p>.\n",
    "<p style=\"text-align:justify\">Para configurar um ambiente de trabalho diferente do padrão utilizamos a função <mark style=\"background-color:#F4F4F4\">setwd()</mark>. Esta função tem nome bem sugestivo na lingua inglesa, a saber: <i>Set Working Directory</i>, \"Configurar Ambiente de Trabalho\".</p>"
   ]
  },
  {
   "cell_type": "code",
   "execution_count": null,
   "id": "1defdf28",
   "metadata": {},
   "outputs": [],
   "source": []
  },
  {
   "cell_type": "markdown",
   "id": "0416b9f6",
   "metadata": {},
   "source": [
    "### Exercício Prático - Ambiente de trabalho\n",
    "**Instrução 1/2**\n",
    "* Use a janela console do RStudio para obter o atual diretório de trabalho em uso no seu computador."
   ]
  },
  {
   "cell_type": "code",
   "execution_count": null,
   "id": "97c91fe7",
   "metadata": {},
   "outputs": [],
   "source": []
  },
  {
   "cell_type": "markdown",
   "id": "555ab1e2",
   "metadata": {},
   "source": [
    "**Instrução 2/2**\n",
    "* Configure seu ambiente de trabalho para `'C:/Users/Downloads'`"
   ]
  },
  {
   "cell_type": "code",
   "execution_count": null,
   "id": "5064407a",
   "metadata": {},
   "outputs": [],
   "source": []
  },
  {
   "cell_type": "markdown",
   "id": "786785c3",
   "metadata": {},
   "source": [
    "## 4 Operadores Aritméticos e de Atribuição em R"
   ]
  },
  {
   "cell_type": "markdown",
   "id": "0cc1b425",
   "metadata": {},
   "source": [
    "|Operador|Função|\n",
    "|:------:|:----:|\n",
    "| +      | Soma |\n",
    "| -      | Subtração |\n",
    "| /      | Divisão |\n",
    "| *      | Multiplicação |\n",
    "|   %%   | Resto da divisão |\n",
    "| %/%    | Parte inteira divisão |\n",
    "| ^      | Potenciação |\n",
    "| **     | Potenciação |\n",
    "| <-     | Atribuição |\n",
    "| =      | Atribuição |"
   ]
  },
  {
   "cell_type": "markdown",
   "id": "ea30bd84",
   "metadata": {},
   "source": [
    "### Exercício Prático - Operadores Aritméticos e de Atribuição\n",
    "\n",
    "**Instrução 1/3**\n",
    "* Obter o resto da divisão entre os números inteiros 10 e 3."
   ]
  },
  {
   "cell_type": "code",
   "execution_count": null,
   "id": "b3f71f79",
   "metadata": {},
   "outputs": [],
   "source": []
  },
  {
   "cell_type": "markdown",
   "id": "3cfa9b60",
   "metadata": {},
   "source": [
    "**Instrução 2/3**\n",
    "* Obter a parte interira da divisão de 10 por 3."
   ]
  },
  {
   "cell_type": "code",
   "execution_count": null,
   "id": "6270dc4c",
   "metadata": {},
   "outputs": [],
   "source": []
  },
  {
   "cell_type": "markdown",
   "id": "959b7c1a",
   "metadata": {},
   "source": [
    "**Instrução 3/3**\n",
    "* Obter o quadrado de um número inteiro qualquer."
   ]
  },
  {
   "cell_type": "code",
   "execution_count": null,
   "id": "9af4f837",
   "metadata": {},
   "outputs": [],
   "source": []
  },
  {
   "cell_type": "markdown",
   "id": "6bc0e758",
   "metadata": {},
   "source": [
    "## 5 Operadores de Comparação em R"
   ]
  },
  {
   "cell_type": "markdown",
   "id": "d6a49174",
   "metadata": {},
   "source": [
    "| Operador | Significado |\n",
    "|:--------:|:-----------:|\n",
    "| == | igual a |\n",
    "| != | diferente de |\n",
    "| >  | maior que |\n",
    "| <  | menor que |\n",
    "| >= | maior ou igual a |\n",
    "| <= |menor ou igual a |"
   ]
  },
  {
   "cell_type": "markdown",
   "id": "514c5f66",
   "metadata": {},
   "source": [
    "## 6 Objeto em R\n",
    "Um objeto é simplesmente qualquer variável que armaneza um caractere numérico, alfabético ou uma cadeia de carateres (_string_). Em R temos objetos especiais para manipulação de grande volume de dados, a exemplo de vetores, listas e dataframes.\n",
    "Para criação de um objeto se utiliza o operador de atribuição `<-`. Nos exemplos a seguir são criados os objetos `x`, `y` e `z` para armazenar um número inteiro, uma letra e uma frase."
   ]
  },
  {
   "cell_type": "code",
   "execution_count": null,
   "id": "cc9d02b6",
   "metadata": {},
   "outputs": [],
   "source": [
    "# definição de um objeto do tipo inteiro\n",
    "int <- 42\n",
    "\n",
    "# definição de um objeto do tipo caractere\n",
    "letra <- \"R\"\n",
    "\n",
    "# # definição de um objeto do tipo string (cadeia de caracteres)\n",
    "string <- \"R é massa\""
   ]
  },
  {
   "cell_type": "markdown",
   "id": "f6550824",
   "metadata": {},
   "source": [
    "<p style=\"text-align:justify\">Em ambos os trechos de código acima se observa o uso do caractere `#`, em R e python este caractere é utilizado para fazer comentário no código, portanto, toda linha que contém este caractere é ignorada na execução do programa.</p>\n",
    "A seguir é mostrado como fazer comentário com várias linhas."
   ]
  },
  {
   "cell_type": "code",
   "execution_count": null,
   "id": "2321966d",
   "metadata": {},
   "outputs": [],
   "source": [
    "\"\n",
    "Este é um comentário em R utilizando \n",
    "várias linhas para documentação de\n",
    "códigos.\n",
    "\""
   ]
  },
  {
   "cell_type": "markdown",
   "id": "e06550ff",
   "metadata": {},
   "source": [
    "## 6.1 Conferindo o contéudo de um objeto\n",
    "Para conferir o conteúdo de um objeto em R, fazemos uma chamada diretamento pelo nome do objeto de interesse ou através do uso da função _`print()`_"
   ]
  },
  {
   "cell_type": "code",
   "execution_count": null,
   "id": "8badf767",
   "metadata": {},
   "outputs": [],
   "source": [
    "int\n",
    "print(int)\n",
    "cat(int)"
   ]
  },
  {
   "cell_type": "markdown",
   "id": "7ce78d2f",
   "metadata": {},
   "source": [
    "## 6.2 Descobrindo o tipo de dados armazenado em um objeto R\n",
    "Para descobrir o tipo de dados armazenado em um objeto, podemos utilizar a função _`class`_"
   ]
  },
  {
   "cell_type": "code",
   "execution_count": null,
   "id": "28ee1e4b",
   "metadata": {},
   "outputs": [],
   "source": [
    "class(int)\n",
    "class(letra)\n",
    "class(string)"
   ]
  },
  {
   "cell_type": "markdown",
   "id": "d24ef17e",
   "metadata": {},
   "source": [
    "## 7 Estrutura de Dados em R\n",
    "### 7.1 Vetores\n",
    "Vetor em R é um objeto R que armazena um ou mais elementos de valores indexados, ou seja, cada elemento dentro do vetor possui uma posição específica. Para criação de um vetor basta colocar os valores dentro de `c()`. Vetor é uma estrutura de dados especialmente importante em análise de dados. A seguir temos um exemplo de como criar um vetor de inteiros."
   ]
  },
  {
   "cell_type": "code",
   "execution_count": null,
   "id": "4fedd6c5",
   "metadata": {},
   "outputs": [],
   "source": [
    "inteiros <- c(42, 33, 0, -1, 5)"
   ]
  },
  {
   "cell_type": "markdown",
   "id": "a0d8cddb",
   "metadata": {},
   "source": [
    "Para acessar o primeiro elemento do vetor `inteiros` usamos o comando _`vetor[x]`_, onde _vetor_ é nome atribuido ao vetor e _x_ é o índice do elemento a ser buscado no vetor. Se quisermos mostrar apenas o elemento de índice 1 do vetor `inteiros`, ou seja o primeiro elemento, basta usar _`inteiros[1]`_"
   ]
  },
  {
   "cell_type": "code",
   "execution_count": null,
   "id": "43cbb782",
   "metadata": {},
   "outputs": [],
   "source": []
  },
  {
   "cell_type": "markdown",
   "id": "cfd6d2f0",
   "metadata": {},
   "source": [
    "## 7.1.2 Substituição de elementos de um vetor"
   ]
  },
  {
   "cell_type": "code",
   "execution_count": null,
   "id": "298bfb6f",
   "metadata": {},
   "outputs": [],
   "source": [
    "inteiros[1] <- 2\n",
    "inteiros"
   ]
  },
  {
   "cell_type": "markdown",
   "id": "ec071739",
   "metadata": {},
   "source": [
    "## 7.2 Funções básicas aplicadas a vetores\n",
    "\n",
    "* _`length()`_ Retorna o tamanho de um vetor, ou seja, o núemro de elementos armazenados no vetor."
   ]
  },
  {
   "cell_type": "code",
   "execution_count": null,
   "id": "c7415430",
   "metadata": {},
   "outputs": [],
   "source": [
    "length(inteiros)"
   ]
  },
  {
   "cell_type": "markdown",
   "id": "9eeb44c3",
   "metadata": {},
   "source": [
    "* _`names()`_ Retorna os nomes atribuídos a cada elemento de um vetor"
   ]
  },
  {
   "cell_type": "code",
   "execution_count": null,
   "id": "5e207013",
   "metadata": {},
   "outputs": [],
   "source": [
    "dias_semana <- c(1:7)\n",
    "names(dias_semana)"
   ]
  },
  {
   "cell_type": "code",
   "execution_count": 41,
   "id": "9e8e25cd",
   "metadata": {},
   "outputs": [],
   "source": [
    "names(dias_semana) <- c('Domingo', 'Segunda', 'Terça', 'Quarta', 'Quinta', 'Sexta', 'Sábado')"
   ]
  },
  {
   "cell_type": "code",
   "execution_count": 42,
   "id": "d11469c1",
   "metadata": {},
   "outputs": [
    {
     "data": {
      "text/html": [
       "<style>\n",
       ".list-inline {list-style: none; margin:0; padding: 0}\n",
       ".list-inline>li {display: inline-block}\n",
       ".list-inline>li:not(:last-child)::after {content: \"\\00b7\"; padding: 0 .5ex}\n",
       "</style>\n",
       "<ol class=list-inline><li>'Domingo'</li><li>'Segunda'</li><li>'Terça'</li><li>'Quarta'</li><li>'Quinta'</li><li>'Sexta'</li><li>'Sábado'</li></ol>\n"
      ],
      "text/latex": [
       "\\begin{enumerate*}\n",
       "\\item 'Domingo'\n",
       "\\item 'Segunda'\n",
       "\\item 'Terça'\n",
       "\\item 'Quarta'\n",
       "\\item 'Quinta'\n",
       "\\item 'Sexta'\n",
       "\\item 'Sábado'\n",
       "\\end{enumerate*}\n"
      ],
      "text/markdown": [
       "1. 'Domingo'\n",
       "2. 'Segunda'\n",
       "3. 'Terça'\n",
       "4. 'Quarta'\n",
       "5. 'Quinta'\n",
       "6. 'Sexta'\n",
       "7. 'Sábado'\n",
       "\n",
       "\n"
      ],
      "text/plain": [
       "[1] \"Domingo\" \"Segunda\" \"Terça\"   \"Quarta\"  \"Quinta\"  \"Sexta\"   \"Sábado\" "
      ]
     },
     "metadata": {},
     "output_type": "display_data"
    }
   ],
   "source": [
    "names(dias_semana)"
   ]
  },
  {
   "cell_type": "code",
   "execution_count": null,
   "id": "773b8499",
   "metadata": {},
   "outputs": [],
   "source": [
    "dias_semana"
   ]
  },
  {
   "cell_type": "markdown",
   "id": "4fb5fcae",
   "metadata": {},
   "source": [
    "* _`attributes()`_ Retorna uma lista com os atributos associados a um vetor."
   ]
  },
  {
   "cell_type": "code",
   "execution_count": null,
   "id": "3d8effbd",
   "metadata": {},
   "outputs": [],
   "source": [
    "attributes(inteiros)\n",
    "attributes(dias_semana)"
   ]
  },
  {
   "cell_type": "markdown",
   "id": "4365f079",
   "metadata": {},
   "source": [
    "* _`seq()`_ Cria uma sequência dentro de um vetor\n"
   ]
  },
  {
   "cell_type": "code",
   "execution_count": null,
   "id": "249cbb31",
   "metadata": {},
   "outputs": [],
   "source": [
    "sequencia <- seq(0, 10, 2)\n",
    "print(sequencia)"
   ]
  },
  {
   "cell_type": "markdown",
   "id": "20cd8276",
   "metadata": {},
   "source": [
    "* _`rep()`_ Cria uma repetição de um vetor"
   ]
  },
  {
   "cell_type": "code",
   "execution_count": null,
   "id": "4dd83fa7",
   "metadata": {},
   "outputs": [],
   "source": [
    "rep(1:4, 3)"
   ]
  },
  {
   "cell_type": "markdown",
   "id": "7cfbd525",
   "metadata": {},
   "source": [
    "* `duplicated()` Remove elementos duplicados."
   ]
  },
  {
   "cell_type": "code",
   "execution_count": null,
   "id": "e56db322",
   "metadata": {},
   "outputs": [],
   "source": []
  },
  {
   "cell_type": "markdown",
   "id": "eb0e031a",
   "metadata": {},
   "source": [
    "* `unique()` Retorna apenas os valores distintos."
   ]
  },
  {
   "cell_type": "code",
   "execution_count": null,
   "id": "3666ccc0",
   "metadata": {},
   "outputs": [],
   "source": [
    "# Leitura de vetores de um inventário florestal\n",
    "load('./data/dados_modulo_1.rda')\n",
    "\n",
    "# Mostrar os objetos atualmente disponíveis no ambiente R\n",
    "ls()"
   ]
  },
  {
   "cell_type": "code",
   "execution_count": null,
   "id": "1fe3ac72",
   "metadata": {},
   "outputs": [],
   "source": []
  },
  {
   "cell_type": "markdown",
   "id": "ff279966",
   "metadata": {},
   "source": [
    "## 7.3 Funções Estatísticas Aplicadas a Vetores"
   ]
  },
  {
   "cell_type": "markdown",
   "id": "b06ae377",
   "metadata": {},
   "source": [
    "* _`mean( )`_ Retorna a média aritmética\n",
    "\n",
    "* _`median( )`_ Retorna a mediana\n",
    "\n",
    "* _`min( )`_ Retorna o menor valor\n",
    "\n",
    "* _`max( )`_ Retorna o maior valor\n",
    "\n",
    "* _`sd( )`_ Retorna o desvio padrão\n",
    "\n",
    "* _`summary( )`_ Retorna a estatístiva descritiva.\n",
    "\n",
    "* _`cor( )`_ Retorna a correlação entre dois vetores."
   ]
  },
  {
   "cell_type": "markdown",
   "id": "c3be5ff4",
   "metadata": {},
   "source": [
    "### Calcular a média do vetor _dap_ (diâmetro médio das árvores)"
   ]
  },
  {
   "cell_type": "code",
   "execution_count": null,
   "id": "b7eb97e9",
   "metadata": {},
   "outputs": [],
   "source": [
    "# média do vetor dap (diânetro médio das árvores)\n",
    "mean(dap)"
   ]
  },
  {
   "cell_type": "markdown",
   "id": "9495e5f5",
   "metadata": {},
   "source": [
    "### Calcular a mediana do vetor _altura_ (altura comercial das árvores)"
   ]
  },
  {
   "cell_type": "code",
   "execution_count": null,
   "id": "2967404d",
   "metadata": {},
   "outputs": [],
   "source": [
    "### Calcular a mediana do vetor _altura_ (altura comercial das árvores)\n",
    "median(altura)"
   ]
  },
  {
   "cell_type": "markdown",
   "id": "49911d98",
   "metadata": {},
   "source": [
    "### Mostrar os valores mínimo e máximo do vetor dap"
   ]
  },
  {
   "cell_type": "code",
   "execution_count": null,
   "id": "0d858b5c",
   "metadata": {},
   "outputs": [],
   "source": [
    "# valor mínimo de dap\n",
    "min(dap)"
   ]
  },
  {
   "cell_type": "code",
   "execution_count": null,
   "id": "57eaaf36",
   "metadata": {},
   "outputs": [],
   "source": [
    "# dap Máximo\n",
    "max(dap)"
   ]
  },
  {
   "cell_type": "markdown",
   "id": "7a05d17a",
   "metadata": {},
   "source": [
    "### Calcular o desvio padrão do vetor dap"
   ]
  },
  {
   "cell_type": "code",
   "execution_count": null,
   "id": "f3601ade",
   "metadata": {},
   "outputs": [],
   "source": [
    "# desvio padrão para o vetor dap\n",
    "sd(dap)"
   ]
  },
  {
   "cell_type": "markdown",
   "id": "6f7515dd",
   "metadata": {},
   "source": [
    "### Mostrar a estatística Descritiva do Vetor altura"
   ]
  },
  {
   "cell_type": "code",
   "execution_count": null,
   "id": "d3692356",
   "metadata": {
    "scrolled": true
   },
   "outputs": [],
   "source": [
    "summary(altura)"
   ]
  },
  {
   "cell_type": "markdown",
   "id": "0e19e3a4",
   "metadata": {},
   "source": [
    "## Calcular a correlação linear entre diâmetro e altura das árvores"
   ]
  },
  {
   "cell_type": "code",
   "execution_count": null,
   "id": "ffb6308d",
   "metadata": {},
   "outputs": [],
   "source": [
    "cor(dap, altura)"
   ]
  },
  {
   "cell_type": "markdown",
   "id": "45347704",
   "metadata": {},
   "source": [
    "## 7.4 Função `lapply()` aplicada a vetores\n",
    "A função lapply, parte do pacote base do R, no caso específico de vetores, recebe 2 argumentos como parâmetro: o vetor contendo de dados e uma função a ser aplicada aos elementos do vetor."
   ]
  },
  {
   "cell_type": "code",
   "execution_count": 73,
   "id": "a8b85fbb",
   "metadata": {},
   "outputs": [
    {
     "data": {
      "text/html": [
       "<style>\n",
       ".list-inline {list-style: none; margin:0; padding: 0}\n",
       ".list-inline>li {display: inline-block}\n",
       ".list-inline>li:not(:last-child)::after {content: \"\\00b7\"; padding: 0 .5ex}\n",
       "</style>\n",
       "<ol class=list-inline><li>'MASSARANDUBA'</li><li>'IPÊ'</li><li>'GARAPEIRA'</li><li>'JATOBÁ'</li></ol>\n"
      ],
      "text/latex": [
       "\\begin{enumerate*}\n",
       "\\item 'MASSARANDUBA'\n",
       "\\item 'IPÊ'\n",
       "\\item 'GARAPEIRA'\n",
       "\\item 'JATOBÁ'\n",
       "\\end{enumerate*}\n"
      ],
      "text/markdown": [
       "1. 'MASSARANDUBA'\n",
       "2. 'IPÊ'\n",
       "3. 'GARAPEIRA'\n",
       "4. 'JATOBÁ'\n",
       "\n",
       "\n"
      ],
      "text/plain": [
       "[1] \"MASSARANDUBA\" \"IPÊ\"          \"GARAPEIRA\"    \"JATOBÁ\"      "
      ]
     },
     "metadata": {},
     "output_type": "display_data"
    }
   ],
   "source": [
    "nomes <- c('MASSARANDUBA', 'IPÊ', 'GARAPEIRA', 'JATOBÁ')\n",
    "nomes"
   ]
  },
  {
   "cell_type": "code",
   "execution_count": null,
   "id": "99c8357a",
   "metadata": {},
   "outputs": [],
   "source": [
    "lapply(nomes, tolower)"
   ]
  },
  {
   "cell_type": "markdown",
   "id": "8f66ca3a",
   "metadata": {},
   "source": [
    "## 7.5 Função `sapply()`"
   ]
  },
  {
   "cell_type": "code",
   "execution_count": null,
   "id": "63e89ced",
   "metadata": {},
   "outputs": [],
   "source": [
    "sapply(nomes, tolower)"
   ]
  },
  {
   "cell_type": "markdown",
   "id": "0f5a3b88",
   "metadata": {},
   "source": [
    "## 7.6 Função `mapply()`\n",
    "Versão multivariada das funções lapply e sapply, utilizada para iterar entre elementos de vetores ou listas."
   ]
  },
  {
   "cell_type": "code",
   "execution_count": null,
   "id": "d4eb29f8",
   "metadata": {},
   "outputs": [],
   "source": [
    "# Definição dos Vetores a e b\n",
    "a <- c(7, 12, 5, 2, 1) \n",
    "b <- c(4, 2, 3, 5, 1)\n",
    "\n",
    "# Nomes para os vetores\n",
    "dias_semana <- c('Segunda', 'Terça', 'Quarta', 'Quinta', 'Sexta')\n",
    "\n",
    "# Atribuir nome aos vetores\n",
    "names(a) <- dias_semana\n",
    "names(b) <- dias_semana\n",
    "\n",
    "# Uso da função mapply() para retornar a soma\n",
    "# entre os elementos dos vetores a e b\n",
    "mapply(max, a, b)"
   ]
  },
  {
   "cell_type": "markdown",
   "id": "e537ef0a",
   "metadata": {},
   "source": [
    "## 7.7 Função _`tapply()`_\n",
    "Aplica uma função sobre um vetor com agrupamento em outro vetor categórico. Recebe como parâmetros: um vetor numérico, um vetor categórico e uma função.\n",
    "O código a seguir aplica a função média sobre o vetor `volume` agrupado ao vetor `ut` (unidades de trabalho)"
   ]
  },
  {
   "cell_type": "code",
   "execution_count": null,
   "id": "943f8d8b",
   "metadata": {},
   "outputs": [],
   "source": [
    "# Calcular o volume médio por unidade de trabalho\n",
    "tapply(dap, categoria, mean)"
   ]
  },
  {
   "cell_type": "markdown",
   "id": "ff91ff40",
   "metadata": {},
   "source": [
    "## 8 Valores Ausentes (NA)\n",
    "Em R valores ausentes são conhecidos como `NA`, uma sigla em inglês que significa _Not Available_, ou seja, valores nãop disponíceis. Na literatura técnica e também em outras linguagens de programação esta sigla é definida como `Nan` (_Not available number_)"
   ]
  },
  {
   "cell_type": "code",
   "execution_count": null,
   "id": "b1ec848c",
   "metadata": {},
   "outputs": [],
   "source": []
  },
  {
   "cell_type": "code",
   "execution_count": null,
   "id": "7f5adb7f",
   "metadata": {},
   "outputs": [],
   "source": []
  },
  {
   "cell_type": "markdown",
   "id": "c752b487",
   "metadata": {},
   "source": [
    "## Como Saber se Há Valores Ausentes (NA) nos Dados?\n",
    "Para conferir a presença de valores NA nos dados utilizamos a função `is.na()`, a qual recebe como parâmetro de entrada apenas o vetor de dados."
   ]
  },
  {
   "cell_type": "code",
   "execution_count": null,
   "id": "fc5af9a6",
   "metadata": {},
   "outputs": [],
   "source": []
  },
  {
   "cell_type": "markdown",
   "id": "e1bfcd57",
   "metadata": {},
   "source": [
    "## Exercício Prático - Vetores e Operadores de Comparação\n",
    "<p style=\"text-align:justify\">Para este exercício, considere o vetor <mark style=\"background-color:#F4F4F4\">temperatura</mark>. Esse vetor possui dados de temperatura média mensal da Estação Meteorológica Manual INMET 82861, localizada no município de Conceição do Araguaia.</p>"
   ]
  },
  {
   "cell_type": "code",
   "execution_count": null,
   "id": "1f64eb17",
   "metadata": {},
   "outputs": [],
   "source": [
    "temperatura <- c(26.38452, 26.90357, 27.04064, 27.42467, 28.53548, 28.90000,\n",
    "                 NA, 29.73818, 30.54667, 27.21652, 27.28800, 27.84000)"
   ]
  },
  {
   "cell_type": "markdown",
   "id": "b426ef38",
   "metadata": {},
   "source": [
    "**Instrução 1/4**\n",
    "* Obter a temperatura média do vetor `temperatura`"
   ]
  },
  {
   "cell_type": "code",
   "execution_count": null,
   "id": "c19a9295",
   "metadata": {},
   "outputs": [],
   "source": []
  },
  {
   "cell_type": "markdown",
   "id": "28b6f024",
   "metadata": {},
   "source": [
    "**Instrução 2/4**\n",
    "* Obter as temperaturas que estão acima da média do vetor `temperatura`"
   ]
  },
  {
   "cell_type": "code",
   "execution_count": null,
   "id": "3f26d784",
   "metadata": {},
   "outputs": [],
   "source": []
  },
  {
   "cell_type": "markdown",
   "id": "1c1ff4de",
   "metadata": {},
   "source": [
    "**Instrução 3/4**\n",
    "* Mostre quanto dos dados do vetor de temperaturas apresentam valores `NA`"
   ]
  },
  {
   "cell_type": "code",
   "execution_count": null,
   "id": "dbf51a18",
   "metadata": {},
   "outputs": [],
   "source": []
  },
  {
   "cell_type": "markdown",
   "id": "b7fa6de3",
   "metadata": {},
   "source": [
    "**Instrução 4/4**\n",
    "* Mostre onde os dados do vetor de temperaturas apresenta valores `NA`"
   ]
  },
  {
   "cell_type": "code",
   "execution_count": null,
   "id": "ac4eeea8",
   "metadata": {},
   "outputs": [],
   "source": []
  },
  {
   "cell_type": "markdown",
   "id": "8cfab8d8",
   "metadata": {},
   "source": [
    "## 9 Testes Lógicos com Vetores\n",
    "* _`any()`_ Testa se algum elemento do vetor atende a uma condição específica\n",
    "\n",
    "**Exemplo**: Dado o vetor de nome `dap`, o qual armaneza dados de mensuração de diâmetro de milhares de árvores na Floresta Nacional de Altamira, teste se algum elemento é menor ou igual a 40."
   ]
  },
  {
   "cell_type": "code",
   "execution_count": null,
   "id": "eb90010e",
   "metadata": {},
   "outputs": [],
   "source": [
    "any(dap >= 40)"
   ]
  },
  {
   "cell_type": "markdown",
   "id": "f67a598c",
   "metadata": {},
   "source": [
    "* _`all()`_ Testa se todos os elementos de um vetor atendem a uma condição.\n",
    "\n",
    "**Exemplo:** Dado o vetor de nome `dap`, testar se algum elemento é menor do que 0:"
   ]
  },
  {
   "cell_type": "code",
   "execution_count": null,
   "id": "975cdf7c",
   "metadata": {},
   "outputs": [],
   "source": [
    "all(dap < 40)"
   ]
  },
  {
   "cell_type": "markdown",
   "id": "cd1c8b17",
   "metadata": {},
   "source": [
    "* `is.na( )` Testa se o vetor contém valores ausentes (_Not Availables_)"
   ]
  },
  {
   "cell_type": "code",
   "execution_count": null,
   "id": "8fce6a0b",
   "metadata": {},
   "outputs": [],
   "source": [
    "vetor <- c(NA, 2, 3, 6)\n",
    "is.na(vetor)"
   ]
  },
  {
   "cell_type": "markdown",
   "id": "d1a270c8",
   "metadata": {},
   "source": [
    "## Exercício Prático - Índice de Vetor"
   ]
  },
  {
   "cell_type": "markdown",
   "id": "302d63b9",
   "metadata": {},
   "source": [
    "Considerando o vetor de nome `dap`, o qual armaneza dados de mensuração de diâmetro de milhares de árvores na Floresta Nacional de Altamira, mostre: \n",
    "\n",
    "**Instrução 1/5**\n",
    "* Quantas árvores foram inventariadas."
   ]
  },
  {
   "cell_type": "code",
   "execution_count": null,
   "id": "1073d3aa",
   "metadata": {},
   "outputs": [],
   "source": []
  },
  {
   "cell_type": "markdown",
   "id": "2b4bdf4e",
   "metadata": {},
   "source": [
    "**Instrução 2/5**\n",
    "* **Apenas** o penúltimo elemento desse vetor."
   ]
  },
  {
   "cell_type": "markdown",
   "id": "1b5973f1",
   "metadata": {},
   "source": [
    "**Instrução 3/5**\n",
    "* O diâmetro mínimo de medição"
   ]
  },
  {
   "cell_type": "code",
   "execution_count": null,
   "id": "d6a8b52c",
   "metadata": {},
   "outputs": [],
   "source": []
  },
  {
   "cell_type": "markdown",
   "id": "7e3443d5",
   "metadata": {},
   "source": [
    "**Instrução 4/5**\n",
    "* O diâmetro máximo mensurado"
   ]
  },
  {
   "cell_type": "code",
   "execution_count": null,
   "id": "486d2e67",
   "metadata": {},
   "outputs": [],
   "source": []
  },
  {
   "cell_type": "markdown",
   "id": "4f074428",
   "metadata": {},
   "source": [
    "**Instrução 5/5**\n",
    "* O diâmetro médio mensurado"
   ]
  },
  {
   "cell_type": "code",
   "execution_count": null,
   "id": "198808b3",
   "metadata": {},
   "outputs": [],
   "source": []
  },
  {
   "cell_type": "markdown",
   "id": "49325529",
   "metadata": {},
   "source": [
    "## 10 Visualização Gráfica de Vetores"
   ]
  },
  {
   "cell_type": "markdown",
   "id": "977e3a0b",
   "metadata": {},
   "source": [
    "<p style=\"text-align:justify\">Hora de tentar algo um pouco diferente. Até agora, você programou <i>script</i> e observou seus dados imprimindo-os. Para uma visualização mais informativa de dados, experimente uma saída gráfica.</p>\n",
    "\n",
    "<p style=\"text-align:justify\">Para este exercício, você irá trabalhar com dados de inventário florestal realizado em uma unidade de produção anual da Floresta Nacional de Altamira. Para tal utilizaremos apenas duas variáveis, a saber: diâmetro a altura do peito (DAP) e altura comercial.</p>"
   ]
  },
  {
   "cell_type": "markdown",
   "id": "1dfdca5d",
   "metadata": {},
   "source": [
    "## 10.1 Boxplot\n",
    "O _boxplot_ ou diagrama de caixa é uma ferramenta gráfica da estatística que nos permite visualizar a distribuição e valores discrepantes (outliers) de dados."
   ]
  },
  {
   "cell_type": "markdown",
   "id": "ecb70f10",
   "metadata": {},
   "source": [
    "![](./data/boxplot.png)"
   ]
  },
  {
   "cell_type": "code",
   "execution_count": null,
   "id": "4a2563bc",
   "metadata": {},
   "outputs": [],
   "source": [
    "boxplot(altura)"
   ]
  },
  {
   "cell_type": "markdown",
   "id": "edebc732",
   "metadata": {},
   "source": [
    "## 10.2 Histograma\n",
    "Utilziamos histogramas para visualizar a distribuição de uma variável contínua. Em R o pacote \"base\" nos fornece a função `hist( )`.\n",
    "\n",
    "**Exercício Prático**\n",
    "\n",
    "* Mostrar o histograma para os dados da variável DAP disponível no vetor `dap`"
   ]
  },
  {
   "cell_type": "code",
   "execution_count": null,
   "id": "4a487fe9",
   "metadata": {},
   "outputs": [],
   "source": [
    "hist(dap)"
   ]
  },
  {
   "cell_type": "markdown",
   "id": "0259eca8",
   "metadata": {},
   "source": [
    "## 10.3 Gráfico Dispersão\n",
    "O gráfico de dispersão é utilizado para visualizar a relação entre duas variáveis contínuas.\n",
    "Para gerar um gráfico de dispersão em R devemos utilizar a função `plot` do pacote \"base\".\n",
    "\n",
    "**Exercício Prático**\n",
    "\n",
    "Visualizar a relação entre a varíavel altura e diâmetro."
   ]
  },
  {
   "cell_type": "code",
   "execution_count": null,
   "id": "a53a7989",
   "metadata": {},
   "outputs": [],
   "source": [
    "plot(altura, dap)"
   ]
  },
  {
   "cell_type": "markdown",
   "id": "3cc29919",
   "metadata": {},
   "source": [
    "## 10.4 Modificar a Aparência dos Gráficos\n",
    "<p style=\"text-align:justify\">A configuração dos parâmetros de estilo, tamanho e agrupamento dos gráficos pode ser obtida digitando o comando <mark style=\"background-color:#F4F4F4\">?\n",
    "    par</mark>. Para este curso introdutório utilizaremos apenas o básico da configuração da aparecência de gráficos no pacote \"base\" do R.</p>"
   ]
  },
  {
   "cell_type": "markdown",
   "id": "e38c41e5",
   "metadata": {},
   "source": [
    "## 10.4.1 Personalizando Histogramas"
   ]
  },
  {
   "cell_type": "markdown",
   "id": "b863727b",
   "metadata": {},
   "source": [
    "* `main` Utilizado para atribuir ou modificar um título do gráfico"
   ]
  },
  {
   "cell_type": "code",
   "execution_count": null,
   "id": "8e0fecc0",
   "metadata": {},
   "outputs": [],
   "source": [
    "hist(dap, main = 'Distribuição da variável DAP (cm)')"
   ]
  },
  {
   "cell_type": "markdown",
   "id": "65e2e4df",
   "metadata": {},
   "source": [
    "* `xlab` e `ylab` - Modificar os nomes dos eixos x e y."
   ]
  },
  {
   "cell_type": "code",
   "execution_count": null,
   "id": "14423dad",
   "metadata": {},
   "outputs": [],
   "source": [
    "hist(dap, \n",
    "     main = 'Distribuição da variável DAP',\n",
    "    xlab = 'DAP (cm)',\n",
    "    ylab = 'Frequência')"
   ]
  },
  {
   "cell_type": "markdown",
   "id": "eac37651",
   "metadata": {},
   "source": [
    "* `labels` - Mostra os valores de cada barra do histograma. "
   ]
  },
  {
   "cell_type": "code",
   "execution_count": null,
   "id": "8f503299",
   "metadata": {},
   "outputs": [],
   "source": [
    "hist(dap, \n",
    "     main = 'Distribuição da variável DAP',\n",
    "    xlab = 'DAP (cm)',\n",
    "    ylab = 'Frequência',\n",
    "    labels = TRUE)"
   ]
  },
  {
   "cell_type": "markdown",
   "id": "cb14e65b",
   "metadata": {},
   "source": [
    "* `col` - Muda a cor das barras do histograma."
   ]
  },
  {
   "cell_type": "code",
   "execution_count": null,
   "id": "a9dca831",
   "metadata": {},
   "outputs": [],
   "source": [
    "hist(dap, \n",
    "     main = 'Distribuição da variável DAP',\n",
    "    xlab = 'DAP (cm)',\n",
    "    ylab = 'Frequência',\n",
    "    labels = TRUE,\n",
    "    col = 'steelblue')"
   ]
  },
  {
   "cell_type": "markdown",
   "id": "c1d213e0",
   "metadata": {},
   "source": [
    "* `density` e `angle` - Mostram as barras do histograma hachuradas"
   ]
  },
  {
   "cell_type": "code",
   "execution_count": null,
   "id": "882d8006",
   "metadata": {},
   "outputs": [],
   "source": [
    "hist(dap, \n",
    "     main = 'Distribuição da variável DAP',\n",
    "    xlab = 'DAP (cm)',\n",
    "    ylab = 'Frequência',\n",
    "    labels = TRUE,\n",
    "    col = 'steelblue',\n",
    "    density = 15,\n",
    "    angle = 60)"
   ]
  },
  {
   "cell_type": "markdown",
   "id": "f905162e",
   "metadata": {},
   "source": [
    "* `Abline( )` - Função para adicionar uma linha reta ao histograma. Para adicionar uma linha vertical deve-se utilizar o argumento `v` e para linha horizontal `h`. O tipo de linha é modificado através do argumento `lty` (_line type_) e a espessura da linha através do argumento `lwd` (_line width_).\n",
    "\n",
    "O exemplo a seguir mostra como adicionar uma linha ao histograma para representar a média dos diâmetros."
   ]
  },
  {
   "cell_type": "code",
   "execution_count": null,
   "id": "85125cfd",
   "metadata": {},
   "outputs": [],
   "source": [
    "hist(dap, \n",
    "     main = 'Distribuição da variável DAP',\n",
    "    xlab = 'DAP (cm)',\n",
    "    ylab = 'Frequência',\n",
    "    labels = TRUE,\n",
    "    col = 'steelblue',\n",
    "    density = 15,\n",
    "    angle = 60)\n",
    "\n",
    "abline(v = mean(dap),\n",
    "       col = 'red', \n",
    "       lty = 2, \n",
    "       lwd = 2)"
   ]
  },
  {
   "cell_type": "markdown",
   "id": "93e71dfa",
   "metadata": {},
   "source": [
    "## 10.4.2 Personalizando Gráficos de Dispersão"
   ]
  },
  {
   "cell_type": "markdown",
   "id": "be37c2a4",
   "metadata": {},
   "source": [
    "* `pch` - Altera o tipo de caractere dos pontos"
   ]
  },
  {
   "cell_type": "markdown",
   "id": "6763d96f",
   "metadata": {},
   "source": [
    "![](./data/pch-symbols.png)"
   ]
  },
  {
   "cell_type": "markdown",
   "id": "200c161c",
   "metadata": {},
   "source": [
    "* Forma, Tamanho e Cor dos Pontos"
   ]
  },
  {
   "cell_type": "markdown",
   "id": "e2773d64",
   "metadata": {},
   "source": [
    "Argumento | Saída\n",
    ":--------:|:------:\n",
    "`col` | Cor da borda do ponto.\n",
    "`bg` | Cor do Fundo do ponto.\n",
    "`cex` | Tamanho do ponto.\n",
    "`lwd` | Espessura da Borda do Ponto."
   ]
  },
  {
   "cell_type": "code",
   "execution_count": null,
   "id": "6f4880fd",
   "metadata": {
    "scrolled": false
   },
   "outputs": [],
   "source": [
    "# Alterar o tipo de caractere dos pontos\n",
    "plot(altura, dap, pch = 21)"
   ]
  },
  {
   "cell_type": "markdown",
   "id": "7c351e13",
   "metadata": {},
   "source": [
    "* `las` (_label style_) - Rotação dos rótulos dos eixos x e y.\n",
    "\n",
    "`las` | Rótulo\n",
    ":----:|:------:\n",
    "0     | Paralelo aos eixos\n",
    "1     | Sempre na Horizontal\n",
    "2     | Sempre na Perpendicular\n",
    "3     | Sempre na Vertical"
   ]
  },
  {
   "cell_type": "code",
   "execution_count": null,
   "id": "7461591e",
   "metadata": {
    "scrolled": false
   },
   "outputs": [],
   "source": [
    "plot(altura, dap, pch = 21, las = 0)"
   ]
  },
  {
   "cell_type": "code",
   "execution_count": null,
   "id": "ded250dc",
   "metadata": {},
   "outputs": [],
   "source": [
    "plot(altura, dap, pch = 21, las = 2)"
   ]
  },
  {
   "cell_type": "markdown",
   "id": "ba1eded9",
   "metadata": {},
   "source": [
    "## 10.4.3 Agrupar Gráficos em uma Única Figura"
   ]
  },
  {
   "cell_type": "code",
   "execution_count": 91,
   "id": "9b0dc034",
   "metadata": {},
   "outputs": [
    {
     "data": {
      "image/png": "[encoded data removed]",
      "text/plain": [
       "Plot with title \"Histogram of altura\""
      ]
     },
     "metadata": {
      "image/png": {
       "height": 480,
       "width": 720
      }
     },
     "output_type": "display_data"
    }
   ],
   "source": [
    "par(mfcol = c(2, 2))\n",
    "hist(dap, pin = c(12, 8))\n",
    "hist(altura)\n",
    "plot(altura, dap, pch = 20)\n",
    "boxplot(dap)"
   ]
  },
  {
   "cell_type": "markdown",
   "id": "31f9a99e",
   "metadata": {},
   "source": [
    "## 11 Matriz"
   ]
  },
  {
   "cell_type": "code",
   "execution_count": null,
   "id": "a31269bf",
   "metadata": {},
   "outputs": [],
   "source": [
    "matriz = matrix(1:6, nrow = 3, byrow = TRUE)\n",
    "matriz"
   ]
  },
  {
   "cell_type": "markdown",
   "id": "402829d5",
   "metadata": {},
   "source": [
    "A função `apply`, parte do pacote `base` do R, recebe 3 argumentos como parâmetro: a matriz ou _data frame_ contendo os dados, a indicação do sentido de aplicação da função, representado pelos números 1 (linha) ou 2 (coluna) e a função a ser aplicada."
   ]
  },
  {
   "cell_type": "markdown",
   "id": "f66936a0",
   "metadata": {},
   "source": [
    "Somar as linhas de uma matriz:"
   ]
  },
  {
   "cell_type": "code",
   "execution_count": null,
   "id": "f85413c8",
   "metadata": {},
   "outputs": [],
   "source": [
    "apply(matriz, 1, sum)"
   ]
  },
  {
   "cell_type": "markdown",
   "id": "0d2c11d6",
   "metadata": {},
   "source": [
    "Somar os valores das colunas de uma matriz:"
   ]
  },
  {
   "cell_type": "code",
   "execution_count": null,
   "id": "0c4225d7",
   "metadata": {},
   "outputs": [],
   "source": [
    "apply(matriz, 2, sum)"
   ]
  },
  {
   "cell_type": "markdown",
   "id": "db90ad74",
   "metadata": {},
   "source": [
    "## 12 Listas"
   ]
  },
  {
   "cell_type": "code",
   "execution_count": null,
   "id": "70fc76c6",
   "metadata": {},
   "outputs": [],
   "source": [
    "lista <- list(num_cardinais <- c('um', 'dois', 'três'), num <- c(1, 2, 3))\n",
    "lista"
   ]
  },
  {
   "cell_type": "markdown",
   "id": "54ea1498",
   "metadata": {},
   "source": [
    "## 12.1 Acessando elementos em uma lista"
   ]
  },
  {
   "cell_type": "code",
   "execution_count": null,
   "id": "dff311de",
   "metadata": {},
   "outputs": [],
   "source": [
    "# Primeiro valor do primeiro objeto da lista (vetor)\n",
    "lista[[1]][[1]]"
   ]
  },
  {
   "cell_type": "code",
   "execution_count": null,
   "id": "f8ae5658",
   "metadata": {},
   "outputs": [],
   "source": [
    "# Primeiro valor do segundo vetor da lista\n",
    "lista[[2]][[1]]"
   ]
  },
  {
   "cell_type": "code",
   "execution_count": null,
   "id": "accb5ba2",
   "metadata": {},
   "outputs": [],
   "source": [
    "# Todos os elementos do primeiro vetor da lista\n",
    "lista[1]"
   ]
  },
  {
   "cell_type": "markdown",
   "id": "3334fd7e",
   "metadata": {},
   "source": [
    "## 12.2 Funções lapply e sapply\n",
    "As funções `lapply` e `sapply` são uma variação da função `apply` para iterar sobre aos elementos de uma lista. Esta funções diferem somente na forma como os resultados são mostrados na tela. Para a função `lapply` a saída é na forma de lista, enquanto `sapply` apresenta uma saída vetorial."
   ]
  },
  {
   "cell_type": "code",
   "execution_count": null,
   "id": "a840773d",
   "metadata": {},
   "outputs": [],
   "source": [
    "lista = list(x <- c(1.55, 1.15, 1.71, 1.89, 1.65, 1.44), \n",
    "             y <- c(12.51, 9.89, 21.22, 22.11, 9.98))\n",
    "\n",
    "names(lista) <- c('x', 'y')\n",
    "\n",
    "lapply(lista, mean)"
   ]
  },
  {
   "cell_type": "code",
   "execution_count": null,
   "id": "539e160f",
   "metadata": {},
   "outputs": [],
   "source": [
    "sapply(lista, mean)"
   ]
  },
  {
   "cell_type": "markdown",
   "id": "8c627171",
   "metadata": {},
   "source": [
    "### Exercío Prático - Listas\n",
    "**Instrução**\n",
    "* Obter a médias dos vetores numéricos da `lista2`"
   ]
  },
  {
   "cell_type": "code",
   "execution_count": null,
   "id": "f6fd010b",
   "metadata": {},
   "outputs": [],
   "source": []
  },
  {
   "cell_type": "markdown",
   "id": "633c476d",
   "metadata": {},
   "source": [
    "## 13 Data Frames"
   ]
  },
  {
   "cell_type": "markdown",
   "id": "62a85bbb",
   "metadata": {},
   "source": [
    "<p style=\"text-align:justify\">O trecho de código a seguir faz a leitura de uma planilha em formato .csv, a qual é atribuída ao objeto R denominado <mark style=\"background-color:#F4F4F4\">inventario</mark>, o qual após leitura dos dados passa a ser um dataframe, pois as colunas da planilha são importadas como vetores. Assim, podemos definir dataframe como um conjunto de vetores, mas pode também armazenar listas.</p>"
   ]
  },
  {
   "cell_type": "code",
   "execution_count": null,
   "id": "97e925c7",
   "metadata": {},
   "outputs": [],
   "source": [
    "# Lê uma planilha csv com dados de inventário florestal\n",
    "inventario <- read.csv2('./data/UMF_IV_UPA_4F_SINAFLOR_03.csv',\n",
    "                encoding = 'latin1')"
   ]
  },
  {
   "cell_type": "markdown",
   "id": "8af48524",
   "metadata": {},
   "source": [
    "<p style=\"text-align:justify\">A seguir usamos a função <mark style=\"background-color:#F4F4F4\">head( )</mark> para mostrar as linhas iniciais do dataframe<mark style=\"background-color:#F4F4F4\">inventario</mark>. Por padrão esta função mostra apenas as seis primeiras linhas do dataframe, caso queiramos ler as dez primeiras linhas, devemos especificar este número após o nome do dataframe: <mark style=\"background-color:#F4F4F4\">head(inventario, 10)</mark></p> "
   ]
  },
  {
   "cell_type": "code",
   "execution_count": null,
   "id": "509c09d4",
   "metadata": {},
   "outputs": [],
   "source": [
    "head(inventario)"
   ]
  },
  {
   "cell_type": "markdown",
   "id": "fe0e9e37",
   "metadata": {},
   "source": [
    "<p style=\"text-align:justify\">A seguir usamos a função <mark style=\"background-color:#F4F4F4\">tail( )</mark> para mostrar as últimas linhas do dataframe<mark style=\"background-color:#F4F4F4\">inventario</mark>. Por padrão esta função mostra apenas as seis últimas linhas do dataframe, caso queiramos ler as dez últimas linhas, devemos especificar este número após o nome do dataframe: <mark style=\"background-color:#F4F4F4\">tail(inventario, 10)</mark></p> "
   ]
  },
  {
   "cell_type": "code",
   "execution_count": null,
   "id": "04b2debd",
   "metadata": {
    "scrolled": true
   },
   "outputs": [],
   "source": [
    "tail(inventario)"
   ]
  },
  {
   "cell_type": "markdown",
   "id": "c04734e0",
   "metadata": {},
   "source": [
    "## 13.1 Obter os nomes das colunas de um Dataframe\n",
    "<p style=\"text-align:justify;\">Alguns Dataframes contém um número muito grande de colunas e precisamos atribuir os mesmos nomes a outros dataframes que formos criando, para evitar ter que digitar estes nomes outras vezes, podemos usar as função <mark style=\"background-color:#F4F4F4\">names( )</mark> e <mark style=\"background-color:#F4F4F4\">attributes( )</mark>.</p>\n",
    "<p style=\"text-align:justify;\">A primeira retornará um saída vetorial ao passo que a segunda uma lista com três elementos, o primeiro é <mark style=\"background-color:#F4F4F4\">names</mark>: nomes das colunas; <mark style=\"background-color:#F4F4F4\">class</mark>: mostra a estrutura de dados, no caso data.frame; <mark style=\"background-color:#F4F4F4\">row.names</mark>: referente ao nomes dos rótulos das linhas, se houver. Para acessarmos somente os nomes das colunas usando a função attributes() devemos chamá-la da seguinte forma: <mark style=\"background-color:#F4F4F4\">attributes(dataframe)[1]</mark></p>"
   ]
  },
  {
   "cell_type": "code",
   "execution_count": null,
   "id": "82613981",
   "metadata": {},
   "outputs": [],
   "source": [
    "names(inventario)"
   ]
  },
  {
   "cell_type": "code",
   "execution_count": null,
   "id": "f29ba753",
   "metadata": {},
   "outputs": [],
   "source": [
    "attributes(inventario)"
   ]
  },
  {
   "cell_type": "code",
   "execution_count": null,
   "id": "67c677b4",
   "metadata": {},
   "outputs": [],
   "source": [
    "attributes(inventario)[1]"
   ]
  },
  {
   "cell_type": "markdown",
   "id": "696f50eb",
   "metadata": {},
   "source": [
    "## 13.2 Obter número de linhas e colunas de uma Dataframe\n",
    "<p style=\"text-align:justify\">A função <mark style=\"background-color:#F4F4F4\">dim( )</mark> recebe como parâmetro um dataframe e retorna o número de linhas e colunas.</p>"
   ]
  },
  {
   "cell_type": "code",
   "execution_count": null,
   "id": "b1325c0e",
   "metadata": {},
   "outputs": [],
   "source": [
    "dim(inventario)"
   ]
  },
  {
   "cell_type": "code",
   "execution_count": null,
   "id": "65329929",
   "metadata": {},
   "outputs": [],
   "source": [
    "Podemos acessar receber apenas o número de linhas ou de colunas: dim(inventario)[1] e dim(inventario)[2], respetivamente."
   ]
  },
  {
   "cell_type": "code",
   "execution_count": null,
   "id": "b9918c9f",
   "metadata": {},
   "outputs": [],
   "source": [
    "dim(inventario)[1]\n",
    "dim(inventario)[2]"
   ]
  },
  {
   "cell_type": "markdown",
   "id": "b99b01f9",
   "metadata": {},
   "source": [
    "Os comando acima podem ser simplificados com o uso apenas das funções nrow( ) e ncol( ). veja os exemplos a seguir:"
   ]
  },
  {
   "cell_type": "code",
   "execution_count": null,
   "id": "803d8aab",
   "metadata": {},
   "outputs": [],
   "source": [
    "nrow(inventario)\n",
    "ncol(inventario)"
   ]
  },
  {
   "cell_type": "code",
   "execution_count": null,
   "id": "8f673330",
   "metadata": {},
   "outputs": [],
   "source": [
    "Dos exemplos acima podemos observar que foram inventariadas 18.588 árvores."
   ]
  },
  {
   "cell_type": "markdown",
   "id": "b071ed7e",
   "metadata": {},
   "source": [
    "## 13.3 Obter a Estrutura dos Dados de um DataFrame"
   ]
  },
  {
   "cell_type": "code",
   "execution_count": null,
   "id": "5c2dd966",
   "metadata": {},
   "outputs": [],
   "source": [
    "str(DataFrame)"
   ]
  },
  {
   "cell_type": "code",
   "execution_count": null,
   "id": "ad1b4b90",
   "metadata": {
    "scrolled": true
   },
   "outputs": [],
   "source": [
    "df <- datasets::airquality\n",
    "str(df)"
   ]
  },
  {
   "cell_type": "markdown",
   "id": "e72a31b9",
   "metadata": {},
   "source": [
    "## 13.4 Fatores\n",
    "<p style=\"text-align:justify;\">Em R as variáveis categóricas são classificadas e ordenadas através da função <mark style=\"background-color:#F4F4F4\">factor( )</mark>. o vetor contém dados da variável categórica sexo.</p> "
   ]
  },
  {
   "cell_type": "code",
   "execution_count": null,
   "id": "c8609fa0",
   "metadata": {},
   "outputs": [],
   "source": [
    "sexo <- c(\"macho\", \"femea\", \"femea\", \"macho\", \"macho\", \"macho\", \"femea\", \"macho\")"
   ]
  },
  {
   "cell_type": "markdown",
   "id": "b6017e48",
   "metadata": {},
   "source": [
    "<p style=\"text-align:justify;\">O trecho de código a seguir mostra a estrutura do vetor <mark style=\"background-color:#F4F4F4\">sexo</mark>, obtida através da função <mark style=\"background-color:#F4F4F4\">str( )</mark>, o retorno desta função nos diz que o tipo de vetor em questão é caracteres e possui oito elementos.</p>\n",
    "<p style=\"text-align:justify;\">A função <mark style=\"background-color:#F4F4F4\">levels( )</mark> é utilizada para inspecionar os níveis de um fator, como nosso vetor não foi definido como fator retorna <mark style=\"background-color:#F4F4F4\">NULL,</mark>.</p>"
   ]
  },
  {
   "cell_type": "code",
   "execution_count": null,
   "id": "ee34e078",
   "metadata": {},
   "outputs": [],
   "source": [
    "str(sexo)\n",
    "levels(sexo)"
   ]
  },
  {
   "cell_type": "markdown",
   "id": "a742cc90",
   "metadata": {},
   "source": [
    "<p style=\"text-align:justify;\">Outra forma de verificar se um vetor de variáveis categóricas possui fatores é através da função <mark style=\"background-color:#F4F4F4\">is.factor( )</mark>. Esta função retorna TRUE em caso do vetor possuir fatores definidos, caso contrário retorna FALSE.</p>"
   ]
  },
  {
   "cell_type": "code",
   "execution_count": null,
   "id": "7a143bd7",
   "metadata": {},
   "outputs": [],
   "source": [
    "is.factor(sexo)"
   ]
  },
  {
   "cell_type": "markdown",
   "id": "a88b26d1",
   "metadata": {},
   "source": [
    "A seguir definimos o vetor sexo como fator"
   ]
  },
  {
   "cell_type": "code",
   "execution_count": null,
   "id": "5b0904b5",
   "metadata": {},
   "outputs": [],
   "source": [
    "sexo_fator <- factor(sexo, levels = c(\"macho\", \"femea\"))\n",
    "str(sexo_fator)\n",
    "levels(sexo_fator)"
   ]
  },
  {
   "cell_type": "markdown",
   "id": "e4b0323e",
   "metadata": {},
   "source": [
    "O código abaixo mostra como atribuir rótulos ao níveis do fatores:"
   ]
  },
  {
   "cell_type": "code",
   "execution_count": null,
   "id": "f9dea4e4",
   "metadata": {},
   "outputs": [],
   "source": [
    "sexo_fator <- factor(sexo, levels = c(\"macho\", \"femea\"), labels = c(\"M\", \"F\"))\n",
    "str(sexo_fator)\n",
    "levels(sexo_fator)"
   ]
  },
  {
   "cell_type": "code",
   "execution_count": 90,
   "id": "10893fbd",
   "metadata": {},
   "outputs": [],
   "source": [
    "# Change plot size to 6 x 4\n",
    "options(repr.plot.width=12, repr.plot.height=8)"
   ]
  },
  {
   "cell_type": "code",
   "execution_count": null,
   "id": "e9720072",
   "metadata": {},
   "outputs": [],
   "source": []
  }
 ],
 "metadata": {
  "kernelspec": {
   "display_name": "R",
   "language": "R",
   "name": "ir"
  },
  "language_info": {
   "codemirror_mode": "r",
   "file_extension": ".r",
   "mimetype": "text/x-r-source",
   "name": "R",
   "pygments_lexer": "r",
   "version": "4.2.0"
  }
 },
 "nbformat": 4,
 "nbformat_minor": 5
}
