{
 "cells": [
  {
   "cell_type": "markdown",
   "id": "39e382ca",
   "metadata": {},
   "source": [
    "## Exercício Prático - Operadores Aritméticos e de Atribuição"
   ]
  },
  {
   "cell_type": "code",
   "execution_count": null,
   "id": "2baf680e",
   "metadata": {},
   "outputs": [],
   "source": [
    "# Obter o resto da divisão entre os números inteiros 10 e 3.\n",
    "10 %% 3"
   ]
  },
  {
   "cell_type": "code",
   "execution_count": null,
   "id": "2df4d95c",
   "metadata": {},
   "outputs": [],
   "source": [
    "# Obter a parte interira da divisão de 10 por 3.\n",
    "10 %/% 3"
   ]
  },
  {
   "cell_type": "code",
   "execution_count": null,
   "id": "89379935",
   "metadata": {},
   "outputs": [],
   "source": [
    "# Obter o quadrado de um número inteiro qualquer.\n",
    "4 ^^ 2\n",
    "# 4 ** 2"
   ]
  },
  {
   "cell_type": "markdown",
   "id": "089e1210",
   "metadata": {},
   "source": [
    "## Exercício Prático - Índice de Vetor"
   ]
  },
  {
   "cell_type": "code",
   "execution_count": null,
   "id": "e5809ca5",
   "metadata": {},
   "outputs": [],
   "source": [
    "# Quantas árvores foram inventariadas.\n",
    "length(dap)"
   ]
  },
  {
   "cell_type": "code",
   "execution_count": null,
   "id": "731f8eab",
   "metadata": {},
   "outputs": [],
   "source": [
    "# Penúltimo elemento do vetor.\n",
    "dap[length(dap) - 1]"
   ]
  },
  {
   "cell_type": "code",
   "execution_count": null,
   "id": "e943371f",
   "metadata": {},
   "outputs": [],
   "source": [
    "# diâmetro mínimo de medição\n",
    "min(dap)"
   ]
  },
  {
   "cell_type": "code",
   "execution_count": null,
   "id": "30063914",
   "metadata": {},
   "outputs": [],
   "source": [
    "# diâmetro máximo mensurado\n",
    "max(dap)"
   ]
  },
  {
   "cell_type": "code",
   "execution_count": null,
   "id": "551f99d9",
   "metadata": {},
   "outputs": [],
   "source": [
    "# diâmetro médio mensurado\n",
    "mean(dap)"
   ]
  },
  {
   "cell_type": "code",
   "execution_count": null,
   "id": "2147c221",
   "metadata": {},
   "outputs": [],
   "source": []
  }
 ],
 "metadata": {
  "kernelspec": {
   "display_name": "R",
   "language": "R",
   "name": "ir"
  },
  "language_info": {
   "codemirror_mode": "r",
   "file_extension": ".r",
   "mimetype": "text/x-r-source",
   "name": "R",
   "pygments_lexer": "r",
   "version": "4.2.0"
  }
 },
 "nbformat": 4,
 "nbformat_minor": 5
}
