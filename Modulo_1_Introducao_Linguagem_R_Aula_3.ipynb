{
 "cells": [
  {
   "cell_type": "markdown",
   "id": "f61c2141",
   "metadata": {},
   "source": [
    "<h1 align=\"center\">Introdução à Análise de Dados com Linguagem R</h1>"
   ]
  },
  {
   "cell_type": "markdown",
   "id": "7988d566",
   "metadata": {},
   "source": [
    "## Aula 3"
   ]
  },
  {
   "cell_type": "markdown",
   "id": "31f9a99e",
   "metadata": {},
   "source": [
    "## 1. Matriz\n",
    "Matriz é uma estrutura de dados semelhante a vetor, exceto que na matriz temos 2 dimensões, uma para as linhas e outra para as colunas. O código a seguir mostra a criação de uma matriz 3x3."
   ]
  },
  {
   "cell_type": "code",
   "execution_count": 113,
   "id": "a31269bf",
   "metadata": {},
   "outputs": [
    {
     "data": {
      "text/html": [
       "<table>\n",
       "<tbody>\n",
       "\t<tr><td>1</td><td>4</td><td>7</td></tr>\n",
       "\t<tr><td>2</td><td>5</td><td>8</td></tr>\n",
       "\t<tr><td>3</td><td>6</td><td>9</td></tr>\n",
       "</tbody>\n",
       "</table>\n"
      ],
      "text/latex": [
       "\\begin{tabular}{lll}\n",
       "\t 1 & 4 & 7\\\\\n",
       "\t 2 & 5 & 8\\\\\n",
       "\t 3 & 6 & 9\\\\\n",
       "\\end{tabular}\n"
      ],
      "text/markdown": [
       "\n",
       "| 1 | 4 | 7 |\n",
       "| 2 | 5 | 8 |\n",
       "| 3 | 6 | 9 |\n",
       "\n"
      ],
      "text/plain": [
       "     [,1] [,2] [,3]\n",
       "[1,] 1    4    7   \n",
       "[2,] 2    5    8   \n",
       "[3,] 3    6    9   "
      ]
     },
     "metadata": {},
     "output_type": "display_data"
    }
   ],
   "source": [
    "matriz <- matrix(1:9, nrow = 3, ncol = 3)\n",
    "print(matriz)"
   ]
  },
  {
   "cell_type": "markdown",
   "id": "eb1c0dd3",
   "metadata": {},
   "source": [
    "## Somar linhas e Colunas de uma Matriz"
   ]
  },
  {
   "cell_type": "markdown",
   "id": "402829d5",
   "metadata": {},
   "source": [
    "A função `apply`, parte do pacote `base` do R, pode ser usada para aplicar uma determinada função a uma matriz, e recebe 3 argumentos como parâmetro: a matriz contendo os dados, a indicação do sentido de aplicação da função, representado pelos números 1 (linha) ou 2 (coluna) e a função a ser aplicada."
   ]
  },
  {
   "cell_type": "markdown",
   "id": "f66936a0",
   "metadata": {},
   "source": [
    "Somar as linhas de uma matriz:"
   ]
  },
  {
   "cell_type": "code",
   "execution_count": 64,
   "id": "f85413c8",
   "metadata": {},
   "outputs": [
    {
     "name": "stdout",
     "output_type": "stream",
     "text": [
      "[1] 12 15 18\n"
     ]
    }
   ],
   "source": [
    "print(apply(matriz, 1, sum))"
   ]
  },
  {
   "cell_type": "markdown",
   "id": "0d2c11d6",
   "metadata": {},
   "source": [
    "Somar os valores das colunas de uma matriz:"
   ]
  },
  {
   "cell_type": "code",
   "execution_count": 65,
   "id": "0c4225d7",
   "metadata": {},
   "outputs": [
    {
     "name": "stdout",
     "output_type": "stream",
     "text": [
      "[1]  6 15 24\n"
     ]
    }
   ],
   "source": [
    "print(apply(matriz, 2, sum))"
   ]
  },
  {
   "cell_type": "markdown",
   "id": "9c6f7ce7",
   "metadata": {},
   "source": [
    "## Somar os Elementos da Diagonal de uma Matriz"
   ]
  },
  {
   "cell_type": "code",
   "execution_count": 117,
   "id": "4d9a54be",
   "metadata": {},
   "outputs": [
    {
     "name": "stdout",
     "output_type": "stream",
     "text": [
      "     [,1] [,2] [,3]\n",
      "[1,]    1    4    7\n",
      "[2,]    2    5    8\n",
      "[3,]    3    6    9\n"
     ]
    }
   ],
   "source": [
    "m <- matrix(1:9, nrow = 3, ncol = 3)\n",
    "print(m)"
   ]
  },
  {
   "cell_type": "code",
   "execution_count": 115,
   "id": "a47c89de",
   "metadata": {},
   "outputs": [
    {
     "data": {
      "text/html": [
       "15"
      ],
      "text/latex": [
       "15"
      ],
      "text/markdown": [
       "15"
      ],
      "text/plain": [
       "[1] 15"
      ]
     },
     "metadata": {},
     "output_type": "display_data"
    }
   ],
   "source": [
    "sum(diag(m))"
   ]
  },
  {
   "cell_type": "markdown",
   "id": "24d285e1",
   "metadata": {},
   "source": [
    "## Sentido de Preenchimento dos Dados em uma Matriz\n",
    "A função `matrix()` tem por padrão o preenchimento no sentido das colunas, porém, em alguns casos podemos necessitar preencher uma matriz no sentido das linhas, para isso devemos definir o valor do argumento `byrow = TRUE`"
   ]
  },
  {
   "cell_type": "code",
   "execution_count": 130,
   "id": "fdd871b5",
   "metadata": {},
   "outputs": [
    {
     "name": "stdout",
     "output_type": "stream",
     "text": [
      "     [,1] [,2] [,3]\n",
      "[1,]    1    2    3\n",
      "[2,]    4    5    6\n",
      "[3,]    7    8    9\n"
     ]
    }
   ],
   "source": [
    "matriz <- matrix(1:9, nrow = 3, ncol = 3, byrow = TRUE)\n",
    "print(matriz)"
   ]
  },
  {
   "cell_type": "markdown",
   "id": "9925dd3f",
   "metadata": {},
   "source": [
    "## Atribuir Nomes as Linhas e Colunas de uma Matriz "
   ]
  },
  {
   "cell_type": "code",
   "execution_count": 135,
   "id": "3269cd96",
   "metadata": {},
   "outputs": [
    {
     "name": "stdout",
     "output_type": "stream",
     "text": [
      "     [,1] [,2] [,3]\n",
      "[1,]    1    2    3\n",
      "[2,]    4    5    6\n",
      "[3,]    7    8    9\n"
     ]
    }
   ],
   "source": [
    "matriz <- matrix(1:9, nrow = 3, ncol = 3, byrow = TRUE)\n",
    "print(matriz)"
   ]
  },
  {
   "cell_type": "code",
   "execution_count": 137,
   "id": "96812a6b",
   "metadata": {},
   "outputs": [],
   "source": [
    "# Atribuir Nomes as Linhas da matriz\n",
    "rownames(matriz) <- c('Linha 1', 'Linha 2', 'Linha 3')"
   ]
  },
  {
   "cell_type": "code",
   "execution_count": 139,
   "id": "9a90be7b",
   "metadata": {},
   "outputs": [
    {
     "name": "stdout",
     "output_type": "stream",
     "text": [
      "        [,1] [,2] [,3]\n",
      "Linha 1    1    2    3\n",
      "Linha 2    4    5    6\n",
      "Linha 3    7    8    9\n"
     ]
    }
   ],
   "source": [
    "print(matriz)"
   ]
  },
  {
   "cell_type": "code",
   "execution_count": 140,
   "id": "4d1696f5",
   "metadata": {},
   "outputs": [],
   "source": [
    "# Atribuir Nomes as colunas da matriz\n",
    "colnames(matriz) <- c('Coluna 1', 'Coluna 2', 'Coluna 3')"
   ]
  },
  {
   "cell_type": "code",
   "execution_count": 141,
   "id": "4f518845",
   "metadata": {
    "scrolled": true
   },
   "outputs": [
    {
     "data": {
      "text/html": [
       "<table>\n",
       "<thead><tr><th></th><th scope=col>Coluna 1</th><th scope=col>Coluna 2</th><th scope=col>Coluna 3</th></tr></thead>\n",
       "<tbody>\n",
       "\t<tr><th scope=row>Linha 1</th><td>1</td><td>2</td><td>3</td></tr>\n",
       "\t<tr><th scope=row>Linha 2</th><td>4</td><td>5</td><td>6</td></tr>\n",
       "\t<tr><th scope=row>Linha 3</th><td>7</td><td>8</td><td>9</td></tr>\n",
       "</tbody>\n",
       "</table>\n"
      ],
      "text/latex": [
       "\\begin{tabular}{r|lll}\n",
       "  & Coluna 1 & Coluna 2 & Coluna 3\\\\\n",
       "\\hline\n",
       "\tLinha 1 & 1 & 2 & 3\\\\\n",
       "\tLinha 2 & 4 & 5 & 6\\\\\n",
       "\tLinha 3 & 7 & 8 & 9\\\\\n",
       "\\end{tabular}\n"
      ],
      "text/markdown": [
       "\n",
       "| <!--/--> | Coluna 1 | Coluna 2 | Coluna 3 |\n",
       "|---|---|---|---|\n",
       "| Linha 1 | 1 | 2 | 3 |\n",
       "| Linha 2 | 4 | 5 | 6 |\n",
       "| Linha 3 | 7 | 8 | 9 |\n",
       "\n"
      ],
      "text/plain": [
       "        Coluna 1 Coluna 2 Coluna 3\n",
       "Linha 1 1        2        3       \n",
       "Linha 2 4        5        6       \n",
       "Linha 3 7        8        9       "
      ]
     },
     "metadata": {},
     "output_type": "display_data"
    }
   ],
   "source": [
    "matriz"
   ]
  },
  {
   "cell_type": "markdown",
   "id": "07e8d82a",
   "metadata": {},
   "source": [
    "## Obter os nomes das Linhas e Colunas de uma Matriz"
   ]
  },
  {
   "cell_type": "markdown",
   "id": "09437e19",
   "metadata": {},
   "source": [
    "**Somente os Nomes das Linhas**"
   ]
  },
  {
   "cell_type": "code",
   "execution_count": 128,
   "id": "3bd85973",
   "metadata": {},
   "outputs": [
    {
     "data": {
      "text/html": [
       "<ol class=list-inline>\n",
       "\t<li>'Linha 1'</li>\n",
       "\t<li>'Linha 2'</li>\n",
       "\t<li>'Linha 3'</li>\n",
       "</ol>\n"
      ],
      "text/latex": [
       "\\begin{enumerate*}\n",
       "\\item 'Linha 1'\n",
       "\\item 'Linha 2'\n",
       "\\item 'Linha 3'\n",
       "\\end{enumerate*}\n"
      ],
      "text/markdown": [
       "1. 'Linha 1'\n",
       "2. 'Linha 2'\n",
       "3. 'Linha 3'\n",
       "\n",
       "\n"
      ],
      "text/plain": [
       "[1] \"Linha 1\" \"Linha 2\" \"Linha 3\""
      ]
     },
     "metadata": {},
     "output_type": "display_data"
    }
   ],
   "source": [
    "rownames(matriz)"
   ]
  },
  {
   "cell_type": "markdown",
   "id": "743a9b19",
   "metadata": {},
   "source": [
    "**Somente os Nomes das Colunas**"
   ]
  },
  {
   "cell_type": "code",
   "execution_count": 129,
   "id": "79def24d",
   "metadata": {},
   "outputs": [
    {
     "data": {
      "text/html": [
       "<ol class=list-inline>\n",
       "\t<li>'Coluna 1'</li>\n",
       "\t<li>'Coluna 2'</li>\n",
       "\t<li>'Coluna 3'</li>\n",
       "</ol>\n"
      ],
      "text/latex": [
       "\\begin{enumerate*}\n",
       "\\item 'Coluna 1'\n",
       "\\item 'Coluna 2'\n",
       "\\item 'Coluna 3'\n",
       "\\end{enumerate*}\n"
      ],
      "text/markdown": [
       "1. 'Coluna 1'\n",
       "2. 'Coluna 2'\n",
       "3. 'Coluna 3'\n",
       "\n",
       "\n"
      ],
      "text/plain": [
       "[1] \"Coluna 1\" \"Coluna 2\" \"Coluna 3\""
      ]
     },
     "metadata": {},
     "output_type": "display_data"
    }
   ],
   "source": [
    "colnames(matriz)"
   ]
  },
  {
   "cell_type": "markdown",
   "id": "b307699d",
   "metadata": {},
   "source": [
    "**Nomes das Linhas e Colunas**"
   ]
  },
  {
   "cell_type": "code",
   "execution_count": 142,
   "id": "6811f1e8",
   "metadata": {},
   "outputs": [
    {
     "data": {
      "text/html": [
       "<ol>\n",
       "\t<li><ol class=list-inline>\n",
       "\t<li>'Linha 1'</li>\n",
       "\t<li>'Linha 2'</li>\n",
       "\t<li>'Linha 3'</li>\n",
       "</ol>\n",
       "</li>\n",
       "\t<li><ol class=list-inline>\n",
       "\t<li>'Coluna 1'</li>\n",
       "\t<li>'Coluna 2'</li>\n",
       "\t<li>'Coluna 3'</li>\n",
       "</ol>\n",
       "</li>\n",
       "</ol>\n"
      ],
      "text/latex": [
       "\\begin{enumerate}\n",
       "\\item \\begin{enumerate*}\n",
       "\\item 'Linha 1'\n",
       "\\item 'Linha 2'\n",
       "\\item 'Linha 3'\n",
       "\\end{enumerate*}\n",
       "\n",
       "\\item \\begin{enumerate*}\n",
       "\\item 'Coluna 1'\n",
       "\\item 'Coluna 2'\n",
       "\\item 'Coluna 3'\n",
       "\\end{enumerate*}\n",
       "\n",
       "\\end{enumerate}\n"
      ],
      "text/markdown": [
       "1. 1. 'Linha 1'\n",
       "2. 'Linha 2'\n",
       "3. 'Linha 3'\n",
       "\n",
       "\n",
       "\n",
       "2. 1. 'Coluna 1'\n",
       "2. 'Coluna 2'\n",
       "3. 'Coluna 3'\n",
       "\n",
       "\n",
       "\n",
       "\n",
       "\n"
      ],
      "text/plain": [
       "[[1]]\n",
       "[1] \"Linha 1\" \"Linha 2\" \"Linha 3\"\n",
       "\n",
       "[[2]]\n",
       "[1] \"Coluna 1\" \"Coluna 2\" \"Coluna 3\"\n"
      ]
     },
     "metadata": {},
     "output_type": "display_data"
    }
   ],
   "source": [
    "dimnames(matriz)"
   ]
  },
  {
   "cell_type": "markdown",
   "id": "ed61cd52",
   "metadata": {},
   "source": [
    "## Acessar Linhas e Colunas da Matriz"
   ]
  },
  {
   "cell_type": "code",
   "execution_count": 81,
   "id": "32d280e7",
   "metadata": {},
   "outputs": [
    {
     "name": "stdout",
     "output_type": "stream",
     "text": [
      "[1] 1 2 3\n"
     ]
    }
   ],
   "source": [
    "# mostrar a primeira linha da matriz\n",
    "print(matriz[1, ])"
   ]
  },
  {
   "cell_type": "code",
   "execution_count": 82,
   "id": "b1cfcda3",
   "metadata": {},
   "outputs": [
    {
     "name": "stdout",
     "output_type": "stream",
     "text": [
      "[1] 2 5 8\n"
     ]
    }
   ],
   "source": [
    "# mostrar a segunda Coluna da matriz\n",
    "print(matriz[, 2])"
   ]
  },
  {
   "cell_type": "markdown",
   "id": "b0213a20",
   "metadata": {},
   "source": [
    "## Acessar Elementos da Matriz"
   ]
  },
  {
   "cell_type": "code",
   "execution_count": 84,
   "id": "91987ed1",
   "metadata": {},
   "outputs": [
    {
     "name": "stdout",
     "output_type": "stream",
     "text": [
      "[1] 5\n"
     ]
    }
   ],
   "source": [
    "# Mostrar o elemento pertencente a segunda linha e segunda coluna\n",
    "print(matriz[2, 2])"
   ]
  },
  {
   "cell_type": "markdown",
   "id": "d4ae76fd",
   "metadata": {},
   "source": [
    "## Alterar os Elementos de uma Matriz"
   ]
  },
  {
   "cell_type": "code",
   "execution_count": 87,
   "id": "63fce40e",
   "metadata": {
    "scrolled": true
   },
   "outputs": [
    {
     "name": "stdout",
     "output_type": "stream",
     "text": [
      "     [,1] [,2] [,3]\n",
      "[1,]    1    2    3\n",
      "[2,]    4    0    6\n",
      "[3,]    7    8    9\n"
     ]
    }
   ],
   "source": [
    "# alterar o elemento da linha 2 coluna 2, número 5, para 0\n",
    "matriz[2, 2] <- 0\n",
    "print(matriz)"
   ]
  },
  {
   "cell_type": "markdown",
   "id": "9162e0ac",
   "metadata": {},
   "source": [
    "## Operações com Matrizes"
   ]
  },
  {
   "cell_type": "markdown",
   "id": "fb18dbd3",
   "metadata": {},
   "source": [
    "* **Maior e menor valor entre os elementos da matriz**"
   ]
  },
  {
   "cell_type": "code",
   "execution_count": 104,
   "id": "824ce65f",
   "metadata": {},
   "outputs": [
    {
     "data": {
      "text/html": [
       "9"
      ],
      "text/latex": [
       "9"
      ],
      "text/markdown": [
       "9"
      ],
      "text/plain": [
       "[1] 9"
      ]
     },
     "metadata": {},
     "output_type": "display_data"
    }
   ],
   "source": [
    "# maior valor entre os elementos da matriz\n",
    "max(matriz)"
   ]
  },
  {
   "cell_type": "code",
   "execution_count": 105,
   "id": "ac645d94",
   "metadata": {},
   "outputs": [
    {
     "data": {
      "text/html": [
       "0"
      ],
      "text/latex": [
       "0"
      ],
      "text/markdown": [
       "0"
      ],
      "text/plain": [
       "[1] 0"
      ]
     },
     "metadata": {},
     "output_type": "display_data"
    }
   ],
   "source": [
    "# menor valor entre os elementos da matriz\n",
    "min(matriz)"
   ]
  },
  {
   "cell_type": "markdown",
   "id": "ad638c37",
   "metadata": {},
   "source": [
    "* **Maior e menor valor de uma linha ou coluna da matriz**"
   ]
  },
  {
   "cell_type": "code",
   "execution_count": 99,
   "id": "d5354e0e",
   "metadata": {},
   "outputs": [
    {
     "data": {
      "text/html": [
       "3"
      ],
      "text/latex": [
       "3"
      ],
      "text/markdown": [
       "3"
      ],
      "text/plain": [
       "[1] 3"
      ]
     },
     "metadata": {},
     "output_type": "display_data"
    }
   ],
   "source": [
    "# maior valor entre os elementos da primeira linha\n",
    "max(matriz[1,])"
   ]
  },
  {
   "cell_type": "code",
   "execution_count": 102,
   "id": "2afe5798",
   "metadata": {},
   "outputs": [
    {
     "data": {
      "text/html": [
       "3"
      ],
      "text/latex": [
       "3"
      ],
      "text/markdown": [
       "3"
      ],
      "text/plain": [
       "[1] 3"
      ]
     },
     "metadata": {},
     "output_type": "display_data"
    }
   ],
   "source": [
    "# menor valor entre os elementos da terceira coluna\n",
    "min(matriz[,3])"
   ]
  },
  {
   "cell_type": "markdown",
   "id": "0c7a3b93",
   "metadata": {},
   "source": [
    "* **Média dos elementos da matriz**"
   ]
  },
  {
   "cell_type": "code",
   "execution_count": 103,
   "id": "c553fc7a",
   "metadata": {},
   "outputs": [
    {
     "data": {
      "text/html": [
       "4.44444444444444"
      ],
      "text/latex": [
       "4.44444444444444"
      ],
      "text/markdown": [
       "4.44444444444444"
      ],
      "text/plain": [
       "[1] 4.444444"
      ]
     },
     "metadata": {},
     "output_type": "display_data"
    }
   ],
   "source": [
    "mean(matriz)"
   ]
  },
  {
   "cell_type": "markdown",
   "id": "5e583eec",
   "metadata": {},
   "source": [
    "* **Somar os valores das linhas e colunas**"
   ]
  },
  {
   "cell_type": "markdown",
   "id": "36d8db48",
   "metadata": {},
   "source": [
    "* **Soma de elementos da matriz**"
   ]
  },
  {
   "cell_type": "code",
   "execution_count": 106,
   "id": "450eaca0",
   "metadata": {},
   "outputs": [
    {
     "data": {
      "text/html": [
       "6"
      ],
      "text/latex": [
       "6"
      ],
      "text/markdown": [
       "6"
      ],
      "text/plain": [
       "[1] 6"
      ]
     },
     "metadata": {},
     "output_type": "display_data"
    }
   ],
   "source": [
    "# somar os valores da primeira linha\n",
    "sum(matriz[1, ])"
   ]
  },
  {
   "cell_type": "code",
   "execution_count": 107,
   "id": "2ee6258f",
   "metadata": {},
   "outputs": [
    {
     "data": {
      "text/html": [
       "18"
      ],
      "text/latex": [
       "18"
      ],
      "text/markdown": [
       "18"
      ],
      "text/plain": [
       "[1] 18"
      ]
     },
     "metadata": {},
     "output_type": "display_data"
    }
   ],
   "source": [
    "# somar os valores da terceira coluna\n",
    "sum(matriz[, 3])"
   ]
  },
  {
   "cell_type": "code",
   "execution_count": 88,
   "id": "a177854a",
   "metadata": {},
   "outputs": [
    {
     "data": {
      "text/html": [
       "10"
      ],
      "text/latex": [
       "10"
      ],
      "text/markdown": [
       "10"
      ],
      "text/plain": [
       "[1] 10"
      ]
     },
     "metadata": {},
     "output_type": "display_data"
    }
   ],
   "source": [
    "# somar os elementos da segunda linha da matriz\n",
    "sum(matriz[2, ])"
   ]
  },
  {
   "cell_type": "markdown",
   "id": "ea1881d0",
   "metadata": {},
   "source": [
    "* **Diagonal da matriz**"
   ]
  },
  {
   "cell_type": "code",
   "execution_count": 89,
   "id": "04bc0c76",
   "metadata": {
    "scrolled": true
   },
   "outputs": [
    {
     "data": {
      "text/html": [
       "<ol class=list-inline>\n",
       "\t<li>1</li>\n",
       "\t<li>0</li>\n",
       "\t<li>9</li>\n",
       "</ol>\n"
      ],
      "text/latex": [
       "\\begin{enumerate*}\n",
       "\\item 1\n",
       "\\item 0\n",
       "\\item 9\n",
       "\\end{enumerate*}\n"
      ],
      "text/markdown": [
       "1. 1\n",
       "2. 0\n",
       "3. 9\n",
       "\n",
       "\n"
      ],
      "text/plain": [
       "[1] 1 0 9"
      ]
     },
     "metadata": {},
     "output_type": "display_data"
    }
   ],
   "source": [
    "# Obter a diagonal da matriz\n",
    "diag(matriz)"
   ]
  },
  {
   "cell_type": "code",
   "execution_count": 90,
   "id": "ff5b942f",
   "metadata": {
    "scrolled": true
   },
   "outputs": [
    {
     "data": {
      "text/html": [
       "10"
      ],
      "text/latex": [
       "10"
      ],
      "text/markdown": [
       "10"
      ],
      "text/plain": [
       "[1] 10"
      ]
     },
     "metadata": {},
     "output_type": "display_data"
    }
   ],
   "source": [
    "# Obter a soma entre os elementos da diagonal da matriz\n",
    "sum(diag(matriz))"
   ]
  },
  {
   "cell_type": "markdown",
   "id": "bd2bfbfe",
   "metadata": {},
   "source": [
    "* **Transposição de Matriz**"
   ]
  },
  {
   "cell_type": "code",
   "execution_count": 91,
   "id": "91eca81c",
   "metadata": {},
   "outputs": [
    {
     "data": {
      "text/html": [
       "<table>\n",
       "<tbody>\n",
       "\t<tr><td>1</td><td>4</td><td>7</td></tr>\n",
       "\t<tr><td>2</td><td>0</td><td>8</td></tr>\n",
       "\t<tr><td>3</td><td>6</td><td>9</td></tr>\n",
       "</tbody>\n",
       "</table>\n"
      ],
      "text/latex": [
       "\\begin{tabular}{lll}\n",
       "\t 1 & 4 & 7\\\\\n",
       "\t 2 & 0 & 8\\\\\n",
       "\t 3 & 6 & 9\\\\\n",
       "\\end{tabular}\n"
      ],
      "text/markdown": [
       "\n",
       "| 1 | 4 | 7 |\n",
       "| 2 | 0 | 8 |\n",
       "| 3 | 6 | 9 |\n",
       "\n"
      ],
      "text/plain": [
       "     [,1] [,2] [,3]\n",
       "[1,] 1    4    7   \n",
       "[2,] 2    0    8   \n",
       "[3,] 3    6    9   "
      ]
     },
     "metadata": {},
     "output_type": "display_data"
    }
   ],
   "source": [
    "# Transpor a matriz\n",
    "t(matriz)"
   ]
  },
  {
   "cell_type": "markdown",
   "id": "24ac2194",
   "metadata": {},
   "source": [
    "* **Soma entre matrizes**"
   ]
  },
  {
   "cell_type": "code",
   "execution_count": 95,
   "id": "0dee7a1a",
   "metadata": {},
   "outputs": [
    {
     "name": "stdout",
     "output_type": "stream",
     "text": [
      "     [,1] [,2]\n",
      "[1,]    1    2\n",
      "[2,]    3    4\n",
      "[3,]    5    6\n",
      "     [,1] [,2]\n",
      "[1,]    1    2\n",
      "[2,]    3    4\n",
      "[3,]    5    6\n"
     ]
    }
   ],
   "source": [
    "# Definição das matrizes \"a\" e \"b\"\n",
    "a <- matrix(1:6, nrow = 3, byrow = TRUE)\n",
    "b <- matrix(1:6, nrow = 3, byrow = TRUE)\n",
    "\n",
    "print(a)\n",
    "print(b)"
   ]
  },
  {
   "cell_type": "code",
   "execution_count": 97,
   "id": "640f135e",
   "metadata": {},
   "outputs": [
    {
     "data": {
      "text/html": [
       "<table>\n",
       "<tbody>\n",
       "\t<tr><td> 2</td><td> 4</td></tr>\n",
       "\t<tr><td> 6</td><td> 8</td></tr>\n",
       "\t<tr><td>10</td><td>12</td></tr>\n",
       "</tbody>\n",
       "</table>\n"
      ],
      "text/latex": [
       "\\begin{tabular}{ll}\n",
       "\t  2 &  4\\\\\n",
       "\t  6 &  8\\\\\n",
       "\t 10 & 12\\\\\n",
       "\\end{tabular}\n"
      ],
      "text/markdown": [
       "\n",
       "|  2 |  4 |\n",
       "|  6 |  8 |\n",
       "| 10 | 12 |\n",
       "\n"
      ],
      "text/plain": [
       "     [,1] [,2]\n",
       "[1,]  2    4  \n",
       "[2,]  6    8  \n",
       "[3,] 10   12  "
      ]
     },
     "metadata": {},
     "output_type": "display_data"
    }
   ],
   "source": [
    "# soma das matrizes a e b\n",
    "a + b"
   ]
  },
  {
   "cell_type": "markdown",
   "id": "86cb5d0c",
   "metadata": {},
   "source": [
    "## Combinar Vetores em Matriz\n",
    "Em R podemos combinar vetores para formar uma matriz em que cada vetor fará parte de uma coluna ou linha da matriz. Para combinar vetores em linhas matriciais usamos a função `rbind()`, e para combinar vetores em colunas da matriz usamos a função `cbind()`.\n",
    "O exemplo a seguir mostra como combinas três vetores com orientação nas linhas de uma matriz."
   ]
  },
  {
   "cell_type": "code",
   "execution_count": 30,
   "id": "cc9d461e",
   "metadata": {},
   "outputs": [
    {
     "data": {
      "text/html": [
       "<table>\n",
       "<tbody>\n",
       "\t<tr><th scope=row>apple</th><td>109.49</td><td>109.90</td><td>109.11</td><td>109.95</td><td>111.03</td></tr>\n",
       "\t<tr><th scope=row>ibm</th><td>159.82</td><td>160.02</td><td>159.84</td><td>160.35</td><td>164.79</td></tr>\n",
       "\t<tr><th scope=row>microsoft</th><td> 59.20</td><td> 59.25</td><td> 60.22</td><td> 59.95</td><td> 61.37</td></tr>\n",
       "</tbody>\n",
       "</table>\n"
      ],
      "text/latex": [
       "\\begin{tabular}{r|lllll}\n",
       "\tapple & 109.49 & 109.90 & 109.11 & 109.95 & 111.03\\\\\n",
       "\tibm & 159.82 & 160.02 & 159.84 & 160.35 & 164.79\\\\\n",
       "\tmicrosoft &  59.20 &  59.25 &  60.22 &  59.95 &  61.37\\\\\n",
       "\\end{tabular}\n"
      ],
      "text/markdown": [
       "\n",
       "| apple | 109.49 | 109.90 | 109.11 | 109.95 | 111.03 |\n",
       "| ibm | 159.82 | 160.02 | 159.84 | 160.35 | 164.79 |\n",
       "| microsoft |  59.20 |  59.25 |  60.22 |  59.95 |  61.37 |\n",
       "\n"
      ],
      "text/plain": [
       "          [,1]   [,2]   [,3]   [,4]   [,5]  \n",
       "apple     109.49 109.90 109.11 109.95 111.03\n",
       "ibm       159.82 160.02 159.84 160.35 164.79\n",
       "microsoft  59.20  59.25  60.22  59.95  61.37"
      ]
     },
     "metadata": {},
     "output_type": "display_data"
    }
   ],
   "source": [
    "# Vetor referente a uma amostra de valores de ações da Apple\n",
    "apple <- c(109.49, 109.90, 109.11, 109.95, 111.03)\n",
    "\n",
    "# Vetor referente a uma amostra de valores de ações da IBM\n",
    "ibm <- c(159.82, 160.02, 159.84, 160.35, 164.79)\n",
    "\n",
    "# Vetor referente a uma amostra de valores de ações da Microsoft\n",
    "microsoft <- c(59.20, 59.25, 60.22, 59.95, 61.37)\n",
    "\n",
    "# combinar os vetores em uma matriz onde cada linha receberá os valores dos vetores\n",
    "rbind(apple, ibm, microsoft)"
   ]
  },
  {
   "cell_type": "markdown",
   "id": "c7c730ea",
   "metadata": {},
   "source": [
    "A seguir é demonstrado como combinar os elementos de vetores em colunas de uma matriz."
   ]
  },
  {
   "cell_type": "code",
   "execution_count": 31,
   "id": "69d0e0e4",
   "metadata": {},
   "outputs": [
    {
     "data": {
      "text/html": [
       "<table>\n",
       "<thead><tr><th scope=col>apple</th><th scope=col>ibm</th><th scope=col>microsoft</th></tr></thead>\n",
       "<tbody>\n",
       "\t<tr><td>109.49</td><td>159.82</td><td>59.20 </td></tr>\n",
       "\t<tr><td>109.90</td><td>160.02</td><td>59.25 </td></tr>\n",
       "\t<tr><td>109.11</td><td>159.84</td><td>60.22 </td></tr>\n",
       "\t<tr><td>109.95</td><td>160.35</td><td>59.95 </td></tr>\n",
       "\t<tr><td>111.03</td><td>164.79</td><td>61.37 </td></tr>\n",
       "</tbody>\n",
       "</table>\n"
      ],
      "text/latex": [
       "\\begin{tabular}{lll}\n",
       " apple & ibm & microsoft\\\\\n",
       "\\hline\n",
       "\t 109.49 & 159.82 & 59.20 \\\\\n",
       "\t 109.90 & 160.02 & 59.25 \\\\\n",
       "\t 109.11 & 159.84 & 60.22 \\\\\n",
       "\t 109.95 & 160.35 & 59.95 \\\\\n",
       "\t 111.03 & 164.79 & 61.37 \\\\\n",
       "\\end{tabular}\n"
      ],
      "text/markdown": [
       "\n",
       "| apple | ibm | microsoft |\n",
       "|---|---|---|\n",
       "| 109.49 | 159.82 | 59.20  |\n",
       "| 109.90 | 160.02 | 59.25  |\n",
       "| 109.11 | 159.84 | 60.22  |\n",
       "| 109.95 | 160.35 | 59.95  |\n",
       "| 111.03 | 164.79 | 61.37  |\n",
       "\n"
      ],
      "text/plain": [
       "     apple  ibm    microsoft\n",
       "[1,] 109.49 159.82 59.20    \n",
       "[2,] 109.90 160.02 59.25    \n",
       "[3,] 109.11 159.84 60.22    \n",
       "[4,] 109.95 160.35 59.95    \n",
       "[5,] 111.03 164.79 61.37    "
      ]
     },
     "metadata": {},
     "output_type": "display_data"
    }
   ],
   "source": [
    "# combinar os vetores em uma matriz onde cada coluna receberá os valores dos vetores\n",
    "cbind(apple, ibm, microsoft)"
   ]
  },
  {
   "cell_type": "markdown",
   "id": "8532fa56",
   "metadata": {},
   "source": [
    "## Matriz de Correlação\n",
    "Como exemplo prático para demonstrar o uso de matriz para cálcular a correlação entre variáveis, usaremos os dados referente a publicação:\n",
    "\n",
    "Ramsey, F.L. and Schafer, D.W. (2013). _The Statistical Sleuth_: A Course in Methods of Data Analysis (3rd ed), Cengage Learning.\n",
    "\n",
    "Os dados são os valores médios de peso cerebral (g), peso corporal (g), duração da gestação (dias) e tamanho da prole de 96 espécies de mamíferos."
   ]
  },
  {
   "cell_type": "code",
   "execution_count": 1,
   "id": "38c7caa8",
   "metadata": {},
   "outputs": [
    {
     "data": {
      "text/html": [
       "<ol class=list-inline>\n",
       "\t<li>'cerebro'</li>\n",
       "\t<li>'corpo'</li>\n",
       "\t<li>'especies'</li>\n",
       "\t<li>'gestacao'</li>\n",
       "\t<li>'prole'</li>\n",
       "</ol>\n"
      ],
      "text/latex": [
       "\\begin{enumerate*}\n",
       "\\item 'cerebro'\n",
       "\\item 'corpo'\n",
       "\\item 'especies'\n",
       "\\item 'gestacao'\n",
       "\\item 'prole'\n",
       "\\end{enumerate*}\n"
      ],
      "text/markdown": [
       "1. 'cerebro'\n",
       "2. 'corpo'\n",
       "3. 'especies'\n",
       "4. 'gestacao'\n",
       "5. 'prole'\n",
       "\n",
       "\n"
      ],
      "text/plain": [
       "[1] \"cerebro\"  \"corpo\"    \"especies\" \"gestacao\" \"prole\"   "
      ]
     },
     "metadata": {},
     "output_type": "display_data"
    }
   ],
   "source": [
    "# Carregar os dados vetoriais\n",
    "load('./data/dados_modulo_1_aula_3.rda')\n",
    "\n",
    "# listar os objetos no ambiente R\n",
    "ls()"
   ]
  },
  {
   "cell_type": "code",
   "execution_count": 2,
   "id": "21183d4a",
   "metadata": {},
   "outputs": [
    {
     "data": {
      "text/html": [
       "<table>\n",
       "<thead><tr><th scope=col>cerebro</th><th scope=col>corpo</th><th scope=col>gestacao</th><th scope=col>prole</th></tr></thead>\n",
       "<tbody>\n",
       "\t<tr><td>   9.6 </td><td>   2.20</td><td> 31    </td><td>5.0    </td></tr>\n",
       "\t<tr><td>   9.9 </td><td>   0.78</td><td> 98    </td><td>1.2    </td></tr>\n",
       "\t<tr><td>4480.0 </td><td>2800.00</td><td>655    </td><td>1.0    </td></tr>\n",
       "\t<tr><td>  20.3 </td><td>   2.80</td><td>104    </td><td>1.3    </td></tr>\n",
       "\t<tr><td> 219.0 </td><td>  89.00</td><td>218    </td><td>1.0    </td></tr>\n",
       "\t<tr><td>  53.0 </td><td>   6.00</td><td> 60    </td><td>2.2    </td></tr>\n",
       "</tbody>\n",
       "</table>\n"
      ],
      "text/latex": [
       "\\begin{tabular}{llll}\n",
       " cerebro & corpo & gestacao & prole\\\\\n",
       "\\hline\n",
       "\t    9.6  &    2.20 &  31     & 5.0    \\\\\n",
       "\t    9.9  &    0.78 &  98     & 1.2    \\\\\n",
       "\t 4480.0  & 2800.00 & 655     & 1.0    \\\\\n",
       "\t   20.3  &    2.80 & 104     & 1.3    \\\\\n",
       "\t  219.0  &   89.00 & 218     & 1.0    \\\\\n",
       "\t   53.0  &    6.00 &  60     & 2.2    \\\\\n",
       "\\end{tabular}\n"
      ],
      "text/markdown": [
       "\n",
       "| cerebro | corpo | gestacao | prole |\n",
       "|---|---|---|---|\n",
       "|    9.6  |    2.20 |  31     | 5.0     |\n",
       "|    9.9  |    0.78 |  98     | 1.2     |\n",
       "| 4480.0  | 2800.00 | 655     | 1.0     |\n",
       "|   20.3  |    2.80 | 104     | 1.3     |\n",
       "|  219.0  |   89.00 | 218     | 1.0     |\n",
       "|   53.0  |    6.00 |  60     | 2.2     |\n",
       "\n"
      ],
      "text/plain": [
       "     cerebro corpo   gestacao prole\n",
       "[1,]    9.6     2.20  31      5.0  \n",
       "[2,]    9.9     0.78  98      1.2  \n",
       "[3,] 4480.0  2800.00 655      1.0  \n",
       "[4,]   20.3     2.80 104      1.3  \n",
       "[5,]  219.0    89.00 218      1.0  \n",
       "[6,]   53.0     6.00  60      2.2  "
      ]
     },
     "metadata": {},
     "output_type": "display_data"
    },
    {
     "data": {
      "text/html": [
       "<table>\n",
       "<thead><tr><th></th><th scope=col>cerebro</th><th scope=col>corpo</th><th scope=col>gestacao</th><th scope=col>prole</th></tr></thead>\n",
       "<tbody>\n",
       "\t<tr><th scope=row>[91,]</th><td>198  </td><td> 45.0</td><td>300  </td><td>1.1  </td></tr>\n",
       "\t<tr><th scope=row>[92,]</th><td>550  </td><td>400.0</td><td>310  </td><td>1.0  </td></tr>\n",
       "\t<tr><th scope=row>[93,]</th><td>179  </td><td> 32.0</td><td>180  </td><td>1.0  </td></tr>\n",
       "\t<tr><th scope=row>[94,]</th><td>102  </td><td>  5.5</td><td>210  </td><td>1.0  </td></tr>\n",
       "\t<tr><th scope=row>[95,]</th><td>185  </td><td>150.0</td><td>120  </td><td>4.0  </td></tr>\n",
       "\t<tr><th scope=row>[96,]</th><td>334  </td><td>250.0</td><td>255  </td><td>1.0  </td></tr>\n",
       "</tbody>\n",
       "</table>\n"
      ],
      "text/latex": [
       "\\begin{tabular}{r|llll}\n",
       "  & cerebro & corpo & gestacao & prole\\\\\n",
       "\\hline\n",
       "\t{[}91,{]} & 198   &  45.0 & 300   & 1.1  \\\\\n",
       "\t{[}92,{]} & 550   & 400.0 & 310   & 1.0  \\\\\n",
       "\t{[}93,{]} & 179   &  32.0 & 180   & 1.0  \\\\\n",
       "\t{[}94,{]} & 102   &   5.5 & 210   & 1.0  \\\\\n",
       "\t{[}95,{]} & 185   & 150.0 & 120   & 4.0  \\\\\n",
       "\t{[}96,{]} & 334   & 250.0 & 255   & 1.0  \\\\\n",
       "\\end{tabular}\n"
      ],
      "text/markdown": [
       "\n",
       "| <!--/--> | cerebro | corpo | gestacao | prole |\n",
       "|---|---|---|---|---|\n",
       "| [91,] | 198   |  45.0 | 300   | 1.1   |\n",
       "| [92,] | 550   | 400.0 | 310   | 1.0   |\n",
       "| [93,] | 179   |  32.0 | 180   | 1.0   |\n",
       "| [94,] | 102   |   5.5 | 210   | 1.0   |\n",
       "| [95,] | 185   | 150.0 | 120   | 4.0   |\n",
       "| [96,] | 334   | 250.0 | 255   | 1.0   |\n",
       "\n"
      ],
      "text/plain": [
       "      cerebro corpo gestacao prole\n",
       "[91,] 198      45.0 300      1.1  \n",
       "[92,] 550     400.0 310      1.0  \n",
       "[93,] 179      32.0 180      1.0  \n",
       "[94,] 102       5.5 210      1.0  \n",
       "[95,] 185     150.0 120      4.0  \n",
       "[96,] 334     250.0 255      1.0  "
      ]
     },
     "metadata": {},
     "output_type": "display_data"
    }
   ],
   "source": [
    "# Combinar os vetores em uma matriz\n",
    "m <- cbind(cerebro, corpo, gestacao, prole)\n",
    "\n",
    "# Mostrar as primeiras 6 linhas da matriz\n",
    "head(m)\n",
    "\n",
    "# Mostrar as últimas 6 linhas da matriz\n",
    "tail(m)"
   ]
  },
  {
   "cell_type": "markdown",
   "id": "8f482d0a",
   "metadata": {},
   "source": [
    "## Atribuir um Atributo a uma Matriz\n",
    "Para inserir um atributo a matriz utilizamos a função `attr()`, passando como argumentos a matriz e um rótulo para nomear o atributo. Como demonstração iremos inserir um atributo a nossa matriz definida anteriormente, este atributo será a referência bibliográfica dos dados."
   ]
  },
  {
   "cell_type": "code",
   "execution_count": 3,
   "id": "f026f601",
   "metadata": {},
   "outputs": [
    {
     "data": {
      "text/html": [
       "<dl>\n",
       "\t<dt>$dim</dt>\n",
       "\t\t<dd><ol class=list-inline>\n",
       "\t<li>96</li>\n",
       "\t<li>4</li>\n",
       "</ol>\n",
       "</dd>\n",
       "\t<dt>$dimnames</dt>\n",
       "\t\t<dd><ol>\n",
       "\t<li>NULL</li>\n",
       "\t<li><ol class=list-inline>\n",
       "\t<li>'cerebro'</li>\n",
       "\t<li>'corpo'</li>\n",
       "\t<li>'gestacao'</li>\n",
       "\t<li>'prole'</li>\n",
       "</ol>\n",
       "</li>\n",
       "</ol>\n",
       "</dd>\n",
       "</dl>\n"
      ],
      "text/latex": [
       "\\begin{description}\n",
       "\\item[\\$dim] \\begin{enumerate*}\n",
       "\\item 96\n",
       "\\item 4\n",
       "\\end{enumerate*}\n",
       "\n",
       "\\item[\\$dimnames] \\begin{enumerate}\n",
       "\\item NULL\n",
       "\\item \\begin{enumerate*}\n",
       "\\item 'cerebro'\n",
       "\\item 'corpo'\n",
       "\\item 'gestacao'\n",
       "\\item 'prole'\n",
       "\\end{enumerate*}\n",
       "\n",
       "\\end{enumerate}\n",
       "\n",
       "\\end{description}\n"
      ],
      "text/markdown": [
       "$dim\n",
       ":   1. 96\n",
       "2. 4\n",
       "\n",
       "\n",
       "\n",
       "$dimnames\n",
       ":   1. NULL\n",
       "2. 1. 'cerebro'\n",
       "2. 'corpo'\n",
       "3. 'gestacao'\n",
       "4. 'prole'\n",
       "\n",
       "\n",
       "\n",
       "\n",
       "\n",
       "\n",
       "\n",
       "\n"
      ],
      "text/plain": [
       "$dim\n",
       "[1] 96  4\n",
       "\n",
       "$dimnames\n",
       "$dimnames[[1]]\n",
       "NULL\n",
       "\n",
       "$dimnames[[2]]\n",
       "[1] \"cerebro\"  \"corpo\"    \"gestacao\" \"prole\"   \n",
       "\n"
      ]
     },
     "metadata": {},
     "output_type": "display_data"
    }
   ],
   "source": [
    "# Obter os atributos da matriz\n",
    "attributes(m)"
   ]
  },
  {
   "cell_type": "code",
   "execution_count": 4,
   "id": "ec643b00",
   "metadata": {},
   "outputs": [],
   "source": [
    "# Inserir o atributo\n",
    "attr(m, 'Fonte') <- 'Ramsey, F.L. and Schafer, D.W. (2013). The Statistical Sleuth: A Course in Methods of Data Analysis (3rd ed), Cengage Learning.'"
   ]
  },
  {
   "cell_type": "code",
   "execution_count": 5,
   "id": "aa92bcd0",
   "metadata": {
    "scrolled": true
   },
   "outputs": [
    {
     "data": {
      "text/html": [
       "<dl>\n",
       "\t<dt>$dim</dt>\n",
       "\t\t<dd><ol class=list-inline>\n",
       "\t<li>96</li>\n",
       "\t<li>4</li>\n",
       "</ol>\n",
       "</dd>\n",
       "\t<dt>$dimnames</dt>\n",
       "\t\t<dd><ol>\n",
       "\t<li>NULL</li>\n",
       "\t<li><ol class=list-inline>\n",
       "\t<li>'cerebro'</li>\n",
       "\t<li>'corpo'</li>\n",
       "\t<li>'gestacao'</li>\n",
       "\t<li>'prole'</li>\n",
       "</ol>\n",
       "</li>\n",
       "</ol>\n",
       "</dd>\n",
       "\t<dt>$Fonte</dt>\n",
       "\t\t<dd>'Ramsey, F.L. and Schafer, D.W. (2013). The Statistical Sleuth: A Course in Methods of Data Analysis (3rd ed), Cengage Learning.'</dd>\n",
       "</dl>\n"
      ],
      "text/latex": [
       "\\begin{description}\n",
       "\\item[\\$dim] \\begin{enumerate*}\n",
       "\\item 96\n",
       "\\item 4\n",
       "\\end{enumerate*}\n",
       "\n",
       "\\item[\\$dimnames] \\begin{enumerate}\n",
       "\\item NULL\n",
       "\\item \\begin{enumerate*}\n",
       "\\item 'cerebro'\n",
       "\\item 'corpo'\n",
       "\\item 'gestacao'\n",
       "\\item 'prole'\n",
       "\\end{enumerate*}\n",
       "\n",
       "\\end{enumerate}\n",
       "\n",
       "\\item[\\$Fonte] 'Ramsey, F.L. and Schafer, D.W. (2013). The Statistical Sleuth: A Course in Methods of Data Analysis (3rd ed), Cengage Learning.'\n",
       "\\end{description}\n"
      ],
      "text/markdown": [
       "$dim\n",
       ":   1. 96\n",
       "2. 4\n",
       "\n",
       "\n",
       "\n",
       "$dimnames\n",
       ":   1. NULL\n",
       "2. 1. 'cerebro'\n",
       "2. 'corpo'\n",
       "3. 'gestacao'\n",
       "4. 'prole'\n",
       "\n",
       "\n",
       "\n",
       "\n",
       "\n",
       "\n",
       "$Fonte\n",
       ":   'Ramsey, F.L. and Schafer, D.W. (2013). The Statistical Sleuth: A Course in Methods of Data Analysis (3rd ed), Cengage Learning.'\n",
       "\n",
       "\n"
      ],
      "text/plain": [
       "$dim\n",
       "[1] 96  4\n",
       "\n",
       "$dimnames\n",
       "$dimnames[[1]]\n",
       "NULL\n",
       "\n",
       "$dimnames[[2]]\n",
       "[1] \"cerebro\"  \"corpo\"    \"gestacao\" \"prole\"   \n",
       "\n",
       "\n",
       "$Fonte\n",
       "[1] \"Ramsey, F.L. and Schafer, D.W. (2013). The Statistical Sleuth: A Course in Methods of Data Analysis (3rd ed), Cengage Learning.\"\n"
      ]
     },
     "metadata": {},
     "output_type": "display_data"
    }
   ],
   "source": [
    "# conferir os atributos da matriz\n",
    "attributes(m)"
   ]
  },
  {
   "cell_type": "markdown",
   "id": "bb39cbb9",
   "metadata": {},
   "source": [
    "## Gerar Gráficos a partir dos Dados de uma Matriz"
   ]
  },
  {
   "cell_type": "code",
   "execution_count": 49,
   "id": "21b37163",
   "metadata": {},
   "outputs": [
    {
     "data": {
      "image/png": "[encoded data removed]",
      "text/plain": [
       "plot without title"
      ]
     },
     "metadata": {},
     "output_type": "display_data"
    }
   ],
   "source": [
    "# gráfico da relação entre as duas primeiras colunas (cerebro e corpo)\n",
    "plot(m)"
   ]
  },
  {
   "cell_type": "code",
   "execution_count": 54,
   "id": "84905fbd",
   "metadata": {},
   "outputs": [
    {
     "data": {
      "image/png": "[encoded data removed]",
      "text/plain": [
       "plot without title"
      ]
     },
     "metadata": {},
     "output_type": "display_data"
    }
   ],
   "source": [
    "# gráfico da relação entre as duas primeiras colunas (gestacao e prole) \n",
    "# plot(m[, 3], m[, 4])\n",
    "plot(m[,'gestacao'], m[,'prole'])"
   ]
  },
  {
   "cell_type": "markdown",
   "id": "f8063f45",
   "metadata": {},
   "source": [
    "## 2. Array\n",
    "Em R array é uma estrutura de dados tridimensional. Criamos um array através da função `array(x, dim)`, onde o parâmetros `x` é um vetor e `dim` são as dimensões do array."
   ]
  },
  {
   "cell_type": "code",
   "execution_count": 58,
   "id": "69b028ac",
   "metadata": {},
   "outputs": [],
   "source": [
    "a <- array(c(1:24), dim = c(3, 3, 2))"
   ]
  },
  {
   "cell_type": "code",
   "execution_count": 59,
   "id": "69d36416",
   "metadata": {},
   "outputs": [
    {
     "name": "stdout",
     "output_type": "stream",
     "text": [
      ", , 1\n",
      "\n",
      "     [,1] [,2] [,3]\n",
      "[1,]    1    4    7\n",
      "[2,]    2    5    8\n",
      "[3,]    3    6    9\n",
      "\n",
      ", , 2\n",
      "\n",
      "     [,1] [,2] [,3]\n",
      "[1,]   10   13   16\n",
      "[2,]   11   14   17\n",
      "[3,]   12   15   18\n",
      "\n"
     ]
    }
   ],
   "source": [
    "print(a)"
   ]
  },
  {
   "cell_type": "markdown",
   "id": "7a0edf46",
   "metadata": {},
   "source": [
    "## Acessar Elementos do Array"
   ]
  },
  {
   "cell_type": "code",
   "execution_count": 60,
   "id": "b2308e6b",
   "metadata": {},
   "outputs": [
    {
     "data": {
      "text/html": [
       "<table>\n",
       "<tbody>\n",
       "\t<tr><td>1</td><td>4</td><td>7</td></tr>\n",
       "\t<tr><td>2</td><td>5</td><td>8</td></tr>\n",
       "\t<tr><td>3</td><td>6</td><td>9</td></tr>\n",
       "</tbody>\n",
       "</table>\n"
      ],
      "text/latex": [
       "\\begin{tabular}{lll}\n",
       "\t 1 & 4 & 7\\\\\n",
       "\t 2 & 5 & 8\\\\\n",
       "\t 3 & 6 & 9\\\\\n",
       "\\end{tabular}\n"
      ],
      "text/markdown": [
       "\n",
       "| 1 | 4 | 7 |\n",
       "| 2 | 5 | 8 |\n",
       "| 3 | 6 | 9 |\n",
       "\n"
      ],
      "text/plain": [
       "     [,1] [,2] [,3]\n",
       "[1,] 1    4    7   \n",
       "[2,] 2    5    8   \n",
       "[3,] 3    6    9   "
      ]
     },
     "metadata": {},
     "output_type": "display_data"
    }
   ],
   "source": [
    "# Acessar a primeira tabela\n",
    "a[, , 1]"
   ]
  },
  {
   "cell_type": "code",
   "execution_count": 62,
   "id": "8412155b",
   "metadata": {},
   "outputs": [
    {
     "name": "stdout",
     "output_type": "stream",
     "text": [
      "[1] 1 4 7\n"
     ]
    }
   ],
   "source": [
    "# Acessar a primeira linha da tabela 1\n",
    "print(a[1, , 1])"
   ]
  },
  {
   "cell_type": "code",
   "execution_count": 69,
   "id": "13b26a3d",
   "metadata": {},
   "outputs": [
    {
     "name": "stdout",
     "output_type": "stream",
     "text": [
      "[1] 10 11 12\n"
     ]
    }
   ],
   "source": [
    "# Acessar a primeira coluna da segunda tabela\n",
    "print(a[, 1, 2])"
   ]
  },
  {
   "cell_type": "markdown",
   "id": "0ef9d84a",
   "metadata": {},
   "source": [
    "## Operações com Arrays"
   ]
  },
  {
   "cell_type": "code",
   "execution_count": 70,
   "id": "da57f920",
   "metadata": {},
   "outputs": [
    {
     "data": {
      "text/html": [
       "9"
      ],
      "text/latex": [
       "9"
      ],
      "text/markdown": [
       "9"
      ],
      "text/plain": [
       "[1] 9"
      ]
     },
     "metadata": {},
     "output_type": "display_data"
    }
   ],
   "source": [
    "# Obter o maior valor da primeira tabela\n",
    "max(a[, , 1])"
   ]
  },
  {
   "cell_type": "code",
   "execution_count": 71,
   "id": "68654171",
   "metadata": {},
   "outputs": [
    {
     "data": {
      "text/html": [
       "6"
      ],
      "text/latex": [
       "6"
      ],
      "text/markdown": [
       "6"
      ],
      "text/plain": [
       "[1] 6"
      ]
     },
     "metadata": {},
     "output_type": "display_data"
    }
   ],
   "source": [
    "# Obter a soma da primeira coluna da tabela 1\n",
    "sum(a[, 1, 1])"
   ]
  },
  {
   "cell_type": "code",
   "execution_count": 72,
   "id": "3008d531",
   "metadata": {},
   "outputs": [
    {
     "data": {
      "text/html": [
       "14"
      ],
      "text/latex": [
       "14"
      ],
      "text/markdown": [
       "14"
      ],
      "text/plain": [
       "[1] 14"
      ]
     },
     "metadata": {},
     "output_type": "display_data"
    }
   ],
   "source": [
    "# obter a média dos valores da segunda linha da segunda tabela\n",
    "mean(a[, 2, 2])"
   ]
  },
  {
   "cell_type": "code",
   "execution_count": 75,
   "id": "a742e395",
   "metadata": {},
   "outputs": [
    {
     "data": {
      "text/html": [
       "39"
      ],
      "text/latex": [
       "39"
      ],
      "text/markdown": [
       "39"
      ],
      "text/plain": [
       "[1] 39"
      ]
     },
     "metadata": {},
     "output_type": "display_data"
    }
   ],
   "source": [
    "# Obter a soma entre os valores da primeira coluna da table 1 com os da\n",
    "# primeira coluna da tabela 2\n",
    "sum(a[, 1, 1], a[, 1, 2])"
   ]
  },
  {
   "cell_type": "code",
   "execution_count": 74,
   "id": "a1c06663",
   "metadata": {},
   "outputs": [
    {
     "data": {
      "text/html": [
       "15"
      ],
      "text/latex": [
       "15"
      ],
      "text/markdown": [
       "15"
      ],
      "text/plain": [
       "[1] 15"
      ]
     },
     "metadata": {},
     "output_type": "display_data"
    }
   ],
   "source": [
    "# obter a soma dos valores da diagonal da primeira tabele\n",
    "sum(diag(a[, , 1]))"
   ]
  },
  {
   "cell_type": "markdown",
   "id": "c0a0eb81",
   "metadata": {},
   "source": [
    "## Atribuir Nomes as Dimensões do Array"
   ]
  },
  {
   "cell_type": "markdown",
   "id": "b698d46c",
   "metadata": {},
   "source": [
    "Assim como podemos atribuir nomes aos elementos de um vetor e as duas dimensões de uma matriz, também é possível o fazer para arrays. Para tal utilizamos a função `dimnames()`, passando como parâmetros três vetores com os nomes das linhas da matriz, nomes das colunas e nomes das matrizes."
   ]
  },
  {
   "cell_type": "code",
   "execution_count": 76,
   "id": "ad8295e0",
   "metadata": {},
   "outputs": [
    {
     "name": "stdout",
     "output_type": "stream",
     "text": [
      ", , Matriz 1\n",
      "\n",
      "   C1 C2 C3\n",
      "L1  1  4  7\n",
      "L2  2  5  8\n",
      "L3  3  6  9\n",
      "\n",
      ", , Matriz 2\n",
      "\n",
      "   C1 C2 C3\n",
      "L1 10 13 16\n",
      "L2 11 14 17\n",
      "L3 12 15 18\n",
      "\n"
     ]
    }
   ],
   "source": [
    "a <- array(c(1:24),  # Vetor\n",
    "           dim = c(3, 3, 2),  # Dimensões do array \n",
    "           dimnames = list(c('L1', 'L2', 'L3'),  # Nome das linhas das matrizes\n",
    "                           c('C1', 'C2', 'C3'),  # Nome das colunas das matrizes\n",
    "                           c('Matriz 1', 'Matriz 2')))  # Nomes das Matrizes\n",
    "\n",
    "print(a)"
   ]
  },
  {
   "cell_type": "markdown",
   "id": "c1f951c4",
   "metadata": {},
   "source": [
    "## Inserir Atributo em um Array"
   ]
  },
  {
   "cell_type": "code",
   "execution_count": 77,
   "id": "36682e16",
   "metadata": {},
   "outputs": [],
   "source": [
    "# inserir um atributo ao array \"a\"\n",
    "attr(a, 'Observação') <- 'Meu primeiro array em R!!'"
   ]
  },
  {
   "cell_type": "code",
   "execution_count": 79,
   "id": "2dfdec4a",
   "metadata": {},
   "outputs": [
    {
     "name": "stdout",
     "output_type": "stream",
     "text": [
      "$dim\n",
      "[1] 3 3 2\n",
      "\n",
      "$dimnames\n",
      "$dimnames[[1]]\n",
      "[1] \"L1\" \"L2\" \"L3\"\n",
      "\n",
      "$dimnames[[2]]\n",
      "[1] \"C1\" \"C2\" \"C3\"\n",
      "\n",
      "$dimnames[[3]]\n",
      "[1] \"Matriz 1\" \"Matriz 2\"\n",
      "\n",
      "\n",
      "$Observação\n",
      "[1] \"Meu primeiro array em R!!\"\n",
      "\n"
     ]
    }
   ],
   "source": [
    "# checar os atributos do array\n",
    "print(attributes(a))"
   ]
  },
  {
   "cell_type": "code",
   "execution_count": null,
   "id": "2668cd0b",
   "metadata": {},
   "outputs": [],
   "source": []
  }
 ],
 "metadata": {
  "kernelspec": {
   "display_name": "R",
   "language": "R",
   "name": "ir"
  },
  "language_info": {
   "codemirror_mode": "r",
   "file_extension": ".r",
   "mimetype": "text/x-r-source",
   "name": "R",
   "pygments_lexer": "r",
   "version": "3.6.1"
  }
 },
 "nbformat": 4,
 "nbformat_minor": 5
}
